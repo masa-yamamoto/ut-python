{
 "cells": [
  {
   "cell_type": "markdown",
   "metadata": {},
   "source": [
    "# 第4回本課題"
   ]
  },
  {
   "cell_type": "markdown",
   "metadata": {},
   "source": [
    "太宰治の作品と宮沢賢治の作品について、以下の情報が`novels_ex4.json`の中に保存されています。\n",
    "\n",
    "各小説データにはキー`author`の値として著者名、キー`title`の値として題名、キー`teihon`の値として底本情報、キー`text`の値として本文が記録されています。  \n",
    "もしその小説が太宰治によって書かれているならば、そのキー`author`の値は`太宰治`、\n",
    "もしその小説が宮沢賢治によって書かれているならば、そのキー`author`の値は`宮沢賢治`となっています。\n",
    "\n",
    "The bibliographic information and texts of the novels by 太宰治, 宮沢賢治 are recorded in the file named `novels_ex4.json`.  \n",
    "Each record includes the author's name in Japanese as the value of the key `author`,\n",
    "the title as the value of the key `title`,\n",
    "the information about the original novel as the value of the key `teihon`\n",
    "and the text as the value of the key `text`.  \n",
    "The value of the key `author` is `太宰治` if it was by 太宰治 (Osamu Dazai),\n",
    "and the value of the key `author` is `宮沢賢治` if it was by 宮沢賢治 (Kenji Miyazawa)."
   ]
  },
  {
   "cell_type": "markdown",
   "metadata": {},
   "source": [
    "`novels_ex4.json`:\n",
    "\n",
    "```json\n",
    "[\n",
    "    {\n",
    "        \"author\": \"著者名（author's name)\",\n",
    "        \"title\": \"題名（title)\",\n",
    "        \"teihon\": \"底本情報（information about original novel）\",\n",
    "        \"text\": \"本文（text）\"\n",
    "    },\n",
    "    ...\n",
    "]\n",
    "```"
   ]
  },
  {
   "cell_type": "markdown",
   "metadata": {},
   "source": [
    "csvファイル `nouns.csv` には、宮沢賢治と太宰治の小説について、3文字以上の文字列からなる名詞のうち、出現回数の高い上位10単語が記録されています。   \n",
    "フォーマットは以下のように、単語とその単語の出現回数がコンマ区切りで、 出現回数の降順に1行ずつリストされています。\n",
    "\n",
    "The list of the words that are the top 10 most frequently appearing nouns with eqaul to or more than three letters in the novels by 太宰治（Osamu Dazai) or 宮沢賢治 (Kenji Miyazawa) is recorded in the csv file named `nouns.csv`.  \n",
    "In the file, pairs of a word and the number of its occurrences, which are separated by a comma, are listed in descending order of the number of occurrences as follows:"
   ]
  },
  {
   "cell_type": "markdown",
   "metadata": {},
   "source": [
    "`nouns.csv`:\n",
    "\n",
    "```\n",
    "みんな,2250\n",
    "あなた,2175\n",
    "ところ,2022\n",
    "ひとり,1247\n",
    "あたし,784\n",
    "わたくし,778\n",
    "みたい,770\n",
    "兄さん,593\n",
    "きょう,559\n",
    "こんど,557\n",
    "```"
   ]
  },
  {
   "cell_type": "markdown",
   "metadata": {},
   "source": [
    "この頻出単語リストが記録されているcsvファイル `nouns.csv` と、小説に関する情報が記録されているjsonファイル `novels_ex4.json` を使って、 以下の関数 `dump_noun_counts` を作成してください。\n",
    "\n",
    "関数 `dump_noun_counts`は、太宰治か宮沢賢治のいずれかの小説家名を引数として受け取ります。  \n",
    "そして、その小説家の書いた小説集に対し、頻出単語リスト中の各単語について、その単語を一度でも文字列として本文に含む小説の数を集計します。   \n",
    "最後に、`nouns.csv` と同じ形式で、単語とその単語を含む小説の数をコンマ区切りで、\n",
    "csvファイル `output.csv` に出力します。 \n",
    "なお、csvファイルやjsonファイルの読み出し・書き出しには文字コードとして `encoding='utf-8'`を指定し、また書き出しの際にはさらに改行コードとして`newline=''` を指定してください。   \n",
    "\n",
    "- csv/jsonファイルの読み出し：`open('[ファイル名]', 'r', encoding='utf-8')`    \n",
    "- csvファイルの書き出し：`open('[ファイル名]', 'w', encoding='utf-8', newline='')`    \n",
    "\n",
    "小説家名、本文は、それぞれ、jsonファイル `novels_ex4.json` の `author` キーの値、`text` キーの値を使用してください。 関数 `dump_noun_counts` は、たとえば、以下のように呼び出します。\n",
    "\n",
    "`dump_noun_counts('太宰治')`\n",
    "\n",
    "---\n",
    "\n",
    "Define a function named `dump_noun_counts` using both of the csv file named `nouns.csv` that contains high-frequency words and the json file named `novels_ex4.json` that contains information on novels.\n",
    "\n",
    "The function `dump_noun_counts` takes either of the author's names, 太宰治 (Osamu Dazai) or 宮沢賢治 (Kenji Miyazawa), as an argument, and for each high-frequency word `word`, counts the number of novels by the author each of which includes `word` at least once in its text.   \n",
    "Finally, it outputs the list of the pairs of a word and its counted number separated by a comma in the same format as the `nouns.csv` as a csv file named `output.csv`.   \n",
    "Note that `encoding='utf-8'` is required to be specified when reading (writing) a csv or json file, and also `newline=''` is required for specifying the line code character when writing as follows:   \n",
    "\n",
    "- For reading a csv/json file: `open('[file name]', 'r', encoding='utf-8')`\n",
    "- For writing a csv file: `open('[file name]', 'w', encoding='utf-8', newline='')`\n",
    "\n",
    "Author's name and text are recorded as the values of the key `author` and `text` in `novels_ex4.json`, respectively.   \n",
    "For example, the function `dump_noun_counts` is called as follows:\n",
    "\n",
    "`dump_noun_counts('太宰治')`"
   ]
  },
  {
   "cell_type": "code",
   "execution_count": 62,
   "metadata": {},
   "outputs": [],
   "source": [
    "import csv\n",
    "import json\n",
    "\n",
    "def dump_noun_counts(author):\n",
    "    c = open('nouns.csv', 'r', encoding='utf-8')\n",
    "    c_reader = csv.reader(c)\n",
    "    f = open('novels_ex4.json', 'r', encoding='utf-8')\n",
    "    j = json.load(f)\n",
    "    o = open('output.csv', 'w', encoding='utf-8', newline='')\n",
    "    o_writer = csv.writer(o)\n",
    "    \n",
    "    for row in c_reader:\n",
    "        count = 0\n",
    "        for i in range(len(j)):\n",
    "            if j[i]['author'] == author:\n",
    "                if j[i]['text'].count(row[0]) > 0:\n",
    "                    count += 1\n",
    "        o_writer.writerow([row[0], int(count)])\n",
    "\n",
    "    c.close()\n",
    "    o.close()\n",
    "    return"
   ]
  },
  {
   "cell_type": "markdown",
   "metadata": {},
   "source": [
    "以下のセルによってテストしてください。\n",
    "\n",
    "Check if only 'True' is printed by running the following cell."
   ]
  },
  {
   "cell_type": "code",
   "execution_count": 63,
   "metadata": {},
   "outputs": [
    {
     "name": "stdout",
     "output_type": "stream",
     "text": [
      "True\n",
      "True\n",
      "True\n",
      "True\n",
      "True\n",
      "True\n"
     ]
    }
   ],
   "source": [
    "dump_noun_counts('太宰治')\n",
    "with open('output.csv', 'r', encoding='utf-8') as f:\n",
    "    wdict = {row[0]:int(row[1]) for row in csv.reader(f)}\n",
    "print(wdict['みんな'] == 47)\n",
    "print(wdict['あなた'] == 48)\n",
    "print(wdict['わたくし'] == 6)\n",
    "\n",
    "dump_noun_counts('宮沢賢治')\n",
    "with open('output.csv', 'r', encoding='utf-8') as f:\n",
    "    wdict = {row[0]:int(row[1]) for row in csv.reader(f)}\n",
    "print(wdict['みんな'] == 106)\n",
    "print(wdict['あなた'] == 58)\n",
    "print(wdict['わたくし'] == 22)"
   ]
  },
  {
   "cell_type": "code",
   "execution_count": 64,
   "metadata": {},
   "outputs": [
    {
     "name": "stdout",
     "output_type": "stream",
     "text": [
      "['みんな', '47']\n",
      "['あなた', '48']\n",
      "['ところ', '70']\n",
      "['ひとり', '59']\n",
      "['あたし', '18']\n",
      "['わたくし', '6']\n",
      "['みたい', '54']\n",
      "['兄さん', '14']\n",
      "['きょう', '37']\n",
      "['こんど', '44']\n"
     ]
    }
   ],
   "source": [
    "dump_noun_counts('太宰治')\n",
    "f = open('output.csv', 'r', encoding='utf-8')\n",
    "dataReader = csv.reader(f)\n",
    "for row in dataReader:\n",
    "    print(row)\n",
    "f.close()"
   ]
  },
  {
   "cell_type": "code",
   "execution_count": null,
   "metadata": {},
   "outputs": [],
   "source": []
  }
 ],
 "metadata": {
  "kernelspec": {
   "display_name": "Python 3",
   "language": "python",
   "name": "python3"
  },
  "language_info": {
   "codemirror_mode": {
    "name": "ipython",
    "version": 3
   },
   "file_extension": ".py",
   "mimetype": "text/x-python",
   "name": "python",
   "nbconvert_exporter": "python",
   "pygments_lexer": "ipython3",
   "version": "3.7.3"
  }
 },
 "nbformat": 4,
 "nbformat_minor": 2
}
