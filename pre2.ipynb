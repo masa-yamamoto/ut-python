{
 "cells": [
  {
   "cell_type": "markdown",
   "metadata": {},
   "source": [
    "# 第2回予習課題"
   ]
  },
  {
   "cell_type": "markdown",
   "metadata": {},
   "source": [
    "## 1. リストの処理\n",
    "\n",
    "同じ値の要素を含まないリスト ln とそれに含まれる要素 x と y が与えられたとき、 ln の中で x と y の間に挟まれた要素から成るリストを返す関数 `between(ln, x, y)` を作成して下さい。ただし、返すリストに x と y は含めます。また、 ln の中で y が x よりも先に出現する場合にも対応して下さい。\n",
    "\n",
    "以下のセルの `...` のところを書き換えて `between(ln, x, y)` を作成して下さい。"
   ]
  },
  {
   "cell_type": "code",
   "execution_count": 6,
   "metadata": {},
   "outputs": [],
   "source": [
    "def between(ln, x, y):\n",
    "    x_index = ln.index(x)\n",
    "    y_index = ln.index(y)\n",
    "    if x_index < y_index:\n",
    "        ln1 = ln[x_index : y_index+1]\n",
    "    else:\n",
    "        ln1 = ln[y_index:x_index+1]\n",
    "    return ln1"
   ]
  },
  {
   "cell_type": "markdown",
   "metadata": {},
   "source": [
    "上のセルで解答を作成した後、以下のセルを実行し、実行結果が全て True になることを確認して下さい。"
   ]
  },
  {
   "cell_type": "code",
   "execution_count": 8,
   "metadata": {},
   "outputs": [
    {
     "name": "stdout",
     "output_type": "stream",
     "text": [
      "True\n",
      "True\n",
      "[10, 50, 30]\n",
      "['c', 'd', 'e']\n"
     ]
    }
   ],
   "source": [
    "print(between([20, 10, 50, 30, 40], 10, 30) == [10, 50, 30])\n",
    "print(between([\"a\", \"b\", \"c\", \"d\", \"e\"], \"e\", \"c\") == [\"c\", \"d\", \"e\"])\n",
    "\n",
    "print(between([20, 10, 50, 30, 40], 10, 30))\n",
    "print(between([\"a\", \"b\", \"c\", \"d\", \"e\"], \"e\", \"c\"))"
   ]
  },
  {
   "cell_type": "markdown",
   "metadata": {},
   "source": [
    "## 2. 文字列と辞書\n",
    "\n",
    "与えられた英文に含まれる主要母音文字 A E I O および U の文字をそれぞれ数え、文字をキーに出現頻度を値とする、辞書を返す関数、`vowels_count`を定義してください。英文として `Is this a pen?` が与えられると、これには \"I\" が 2 回, \"A\", \"E\" が 1 回、\"U\", \"O\" が 0 回含まれており、`vowels_count` は `{'I':2, 'A':1, 'E':1, 'U':0, 'O':0}` を返します。`vowels_count` は大文字小文字を区別しない関数とします。"
   ]
  },
  {
   "cell_type": "code",
   "execution_count": 10,
   "metadata": {},
   "outputs": [],
   "source": [
    "def vowels_count(s):\n",
    "    s1 = s.upper()\n",
    "    a = s1.count(\"A\")\n",
    "    e = s1.count(\"E\")\n",
    "    i = s1.count(\"I\")\n",
    "    o = s1.count(\"O\")\n",
    "    u = s1.count(\"U\")\n",
    "    dic = {}\n",
    "    dic[\"A\"] = a\n",
    "    dic[\"E\"] = e\n",
    "    dic[\"I\"] = i\n",
    "    dic[\"O\"] = o\n",
    "    dic[\"U\"] = u\n",
    "    return dic"
   ]
  },
  {
   "cell_type": "markdown",
   "metadata": {},
   "source": [
    "上のセルで解答を作成した後、以下のセルを実行し、実行結果が True になることを確認して下さい。"
   ]
  },
  {
   "cell_type": "code",
   "execution_count": 12,
   "metadata": {},
   "outputs": [
    {
     "name": "stdout",
     "output_type": "stream",
     "text": [
      "True\n",
      "{'A': 1, 'E': 1, 'I': 2, 'O': 0, 'U': 0}\n"
     ]
    }
   ],
   "source": [
    "print(vowels_count(\"Is this a pen?\") == {'I':2, 'A':1, 'E':1, 'U':0, 'O':0})\n",
    "\n",
    "print(vowels_count(\"Is this a pen?\"))"
   ]
  }
 ],
 "metadata": {
  "kernelspec": {
   "display_name": "Python 3",
   "language": "python",
   "name": "python3"
  },
  "language_info": {
   "codemirror_mode": {
    "name": "ipython",
    "version": 3
   },
   "file_extension": ".py",
   "mimetype": "text/x-python",
   "name": "python",
   "nbconvert_exporter": "python",
   "pygments_lexer": "ipython3",
   "version": "3.7.0"
  }
 },
 "nbformat": 4,
 "nbformat_minor": 2
}
