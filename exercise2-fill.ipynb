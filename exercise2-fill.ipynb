{
 "cells": [
  {
   "cell_type": "markdown",
   "metadata": {},
   "source": [
    "# 第2回本課題\n",
    "\n",
    "与えられた英文に含まれる主要母音文字 A E I O および U の文字をそれぞれ数え、出現頻度の大きな順に大文字の文字が並べられた、tuple を返す関数、`vowels_sort` を定義してください。  \n",
    "英文として `Is this a pen?` が与えられると、これには \"I\" が 2 回, \"A\", \"E\" が 1 回、\"U\", \"O\" が 0 回含まれており、`vowels_sort` は例えば `('I', 'A', 'E', 'U', 'O')` を返します。同じ回数含まれる場合はいずれが先でもかまいません、すなわち `('I', 'A', 'E', 'O', 'U')` 等でもかまいません。`vowels_sort` は大文字小文字を区別しない関数とします。\n",
    "\n",
    "Define a function called `vowels_sort` that counts up each major ascii vowel character, i.e. A, E, I, O and U in a given english string, and returns a tuple including all the upper case vowel characters in frequency order.  \n",
    "In case of `Is this a pen?` is given, since it includes two for \"I\", one for \"A\" and \"E\", and zero for \"U\" and \"O\", `vowels_sort` returns a tuple, such as `('I', 'A', 'E', 'U', 'O')`. If the counts of two or more characters are the same, either order is acceptable, as  `('I', 'A', 'E', 'O', 'U')` or others. Note that `vowels_sort` is a case **insensitive** function.  "
   ]
  },
  {
   "cell_type": "code",
   "execution_count": null,
   "metadata": {},
   "outputs": [],
   "source": [
    "def vowels_sort(s):\n",
    "    ..."
   ]
  },
  {
   "cell_type": "markdown",
   "metadata": {},
   "source": [
    "定義が完成したら、以下のセルを実行し `True` のみが出力されることを確認してください。\n",
    "\n",
    "After your definition, check if only `True` is printed by runnung the following cell."
   ]
  },
  {
   "cell_type": "code",
   "execution_count": 16,
   "metadata": {},
   "outputs": [
    {
     "name": "stdout",
     "output_type": "stream",
     "text": [
      "True\n"
     ]
    }
   ],
   "source": [
    "print((vowels_sort(\"Is this a pen?\") == ('I', 'A', 'E', 'O', 'U'))\n",
    "      or (vowels_sort(\"Is this a pen?\") == ('I', 'A', 'E', 'U', 'O'))\n",
    "      or (vowels_sort(\"Is this a pen?\") == ('I', 'E', 'A', 'O', 'U'))\n",
    "      or (vowels_sort(\"Is this a pen?\") == ('I', 'E', 'A', 'U', 'O')))"
   ]
  },
  {
   "cell_type": "markdown",
   "metadata": {},
   "source": [
    "# 第2回本課題にあたって\n",
    "\n",
    "## 逆引き辞書\n",
    "\n",
    "予習課題 pre2 の後半では、文字をキー、出現頻度を値とする辞書を作成しました。\n",
    "第２回本課題では、整列された頻度から対応する文字を取り出す必要があります。\n",
    "このような場合、頻度をキー、文字を値とする辞書があると便利です。\n",
    "このようなキーと値の逆に対応させた辞書を**逆引き辞書**と呼びます、これに対しもとの辞書を**正引き辞書**と呼ぶこともあります。\n",
    "\n",
    "ここで、逆引き辞書を作成するにあたって、正引き辞書のキーと値を入れ替えただけでは問題が生じます。\n",
    "辞書ではキーに対応する値は一つだけですが、正引き辞書の値は重複する可能性があるためです。\n",
    "例えば、問題の文字列、`Is this a pen?` の正引き辞書は `{'I':2, 'A':1, 'E':1, 'U':0, 'O':0}` となりますが、\n",
    "この逆引き辞書では`1`をキーとする値は \"A\", \"E\" ２つが必要になります。\n",
    "\n",
    "逆引き辞書で一つのキーに複数の値を対応させるには、辞書の値としてリストを使う方法があります。\n",
    "この方法では、前の正引き辞書に対する逆引き辞書は `{2:['I'], 1:['A', 'E'], 0:['U', 'O']}`となります。"
   ]
  },
  {
   "cell_type": "markdown",
   "metadata": {},
   "source": [
    " ## 出現回数の降順に逆引き辞書を引いていき、その回数出現した文字を得る\n",
    "\n",
    "前に説明した逆引き辞書が完成すれば、下の処理で降順頻度で文字リストを作成することができます。\n",
    "すなわち、この課題では与えられた文字列から逆引き辞書を作成するプログラムを作成していただくことになります。\n",
    "(4/15 に公開したものとプログラムは異なりますが、結果は同じです。)"
   ]
  },
  {
   "cell_type": "code",
   "execution_count": 14,
   "metadata": {},
   "outputs": [
    {
     "data": {
      "text/plain": [
       "['I', 'A', 'E', 'U', 'O']"
      ]
     },
     "execution_count": 14,
     "metadata": {},
     "output_type": "execute_result"
    }
   ],
   "source": [
    "    rdic={2:['I'], 1:['A', 'E'], 0:['U', 'O']}                                 #\"Is this a pen?\" の 逆引き辞書\n",
    "\n",
    "    result = []                                                                  #空リストを作成\n",
    "    for freq in sorted(rdic.keys(), reverse=True):            #逆引き辞書のキーを降順に要素を一つづつとりだす。この場合 [2,1,0] の順で取り出される                            \n",
    "        result += rdic[freq]                                                #頻度に対応する文字リストを連結していく。リストの長さは１より大きくともかまわない。\n",
    "\n",
    "    result"
   ]
  },
  {
   "cell_type": "markdown",
   "metadata": {},
   "source": [
    "## 課題２へのヒント\n",
    "\n",
    "以下のプログラムの **# 逆引き辞書を作る** 部分で正しく辞書が作成されれば、求めるプログラムが完成します。"
   ]
  },
  {
   "cell_type": "code",
   "execution_count": 15,
   "metadata": {},
   "outputs": [],
   "source": [
    "def vowels_sort(s):\n",
    "    # 大文字に統一\n",
    "    ups = s.upper()\n",
    "\n",
    "    # 母音文字の出現回数をカウント\n",
    "    c_a = ups.count('A')\n",
    "    c_e = ups.count('E')\n",
    "    c_i = ups.count('I')\n",
    "    c_o = ups.count('O')\n",
    "    c_u = ups.count('U')\n",
    "\n",
    "    rdic = {}\n",
    "    rdic[c_a] = []\n",
    "    rdic[c_e] = []\n",
    "    rdic[c_i] = []\n",
    "    rdic[c_o] = []\n",
    "    rdic[c_u] = []\n",
    "    \n",
    "    # 逆引き辞書を作る\n",
    "    clist = [c_a, c_e, c_i, c_o, c_u]\n",
    "    mlist = [\"A\", \"E\", \"I\", \"O\", \"U\"]\n",
    "    for i in range(len(clist)):\n",
    "        if clist.count(clist[i]) == 1:\n",
    "            rdic[clist[i]] = mlist[i]\n",
    "        else:\n",
    "            rdic[clist[i]].append(mlist[i])\n",
    "    \n",
    "    # 逆引き辞書おわり\n",
    "\n",
    "    # 出現回数の降順に逆引き辞書を引いていき、その回数出現した文字を得る\n",
    "    freq_to_char_keys = list(rdic.keys())                           #逆引き辞書のキー、出現頻度、のリストをつくる。 \n",
    "    freq_to_char_keys.sort(reverse=True)                       #キーを降順で整列する。この例では [2,1,0] となる。\n",
    "\n",
    "    result = []                                                                  #空リストを作成\n",
    "    for freq in freq_to_char_keys:                                   #キーから頻度を一つづつ取り出す。\n",
    "        result += rdic[freq]                                  # 頻度に対応するリストを連結していく。\n",
    "        \n",
    "    # タプルにして返す\n",
    "    return tuple(result)"
   ]
  },
  {
   "cell_type": "markdown",
   "metadata": {},
   "source": [
    "## 4/15 公開のテンプレート\n",
    "\n",
    "4/15 公開のテンプレートはこの形式でした、リストの pop() を使っています。"
   ]
  },
  {
   "cell_type": "code",
   "execution_count": null,
   "metadata": {},
   "outputs": [],
   "source": [
    "def vowels_sort(s):\n",
    "    ups = s.upper()\n",
    "    d1 = {}\n",
    "    d1['A']= ups.count('A')\n",
    "    d1['E']= ups.count('E')\n",
    "    d1['I']= ups.count('I')\n",
    "    d1['O']= ups.count('O')\n",
    "    d1['U']= ups.count('U')\n",
    "\n",
    "    rdic = {}\n",
    "\n",
    "    rdic[d1['A']] = []\n",
    "    rdic[d1['E']] = []\n",
    "    rdic[d1['I']] = []\n",
    "    rdic[d1['O']] = []\n",
    "    rdic[d1['U']] = []\n",
    "\n",
    "    # 逆引き辞書を作る\n",
    "    \n",
    "    freq = list(d1.values())\n",
    "    freq.sort(reverse=True)\n",
    "\n",
    "    result = []\n",
    "\n",
    "    result.append(rdic[freq[0]].pop(0))\n",
    "    result.append(rdic[freq[1]].pop(0))\n",
    "    result.append(rdic[freq[2]].pop(0))\n",
    "    result.append(rdic[freq[3]].pop(0))\n",
    "    result.append(rdic[freq[4]].pop(0))\n",
    "    \n",
    "    return(tuple(result))"
   ]
  }
 ],
 "metadata": {
  "kernelspec": {
   "display_name": "Python 3",
   "language": "python",
   "name": "python3"
  },
  "language_info": {
   "codemirror_mode": {
    "name": "ipython",
    "version": 3
   },
   "file_extension": ".py",
   "mimetype": "text/x-python",
   "name": "python",
   "nbconvert_exporter": "python",
   "pygments_lexer": "ipython3",
   "version": "3.7.0"
  }
 },
 "nbformat": 4,
 "nbformat_minor": 2
}
