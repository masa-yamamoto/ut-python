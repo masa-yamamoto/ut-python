{
 "cells": [
  {
   "cell_type": "markdown",
   "metadata": {},
   "source": [
    "# 第3回本課題\n",
    "\n",
    "## 文字 $n$-gram とは\n",
    "\n",
    "文字 $n$-gram とは、文字列の中の $n$ 個の文字のつながり（長さ $n$ の部分文字列）のことです。\n",
    "$n$-gram による解析では、文字列の頭から $n$-gram を順番にすべて抜き出します。\n",
    "$n$-gram は、$n = 1$ のとき uni-gram（ユニグラム）、\n",
    "$n = 2$ のとき bi-gram（バイグラム）、\n",
    "$n = 3$ のとき tri-gram（トライグラム）と呼ばれます。\n",
    "長さ $n$ は4以上のこともあり、ときに $n = 10$ なども使われます。 \n",
    "\n",
    "例えば、\n",
    "\n",
    "`'今日はいい天気ですね。'`\n",
    "\n",
    "という文字列があったときに、bi-gram は次のようになります。\n",
    "\n",
    "`'今日'`, `'日は'`, `'はい'`, `'いい'`, `'い天'`, '`天気'`, `'気で'`, `'です'`, `'すね'`, `'ね。'`\n",
    "\n",
    "tri-gram は次のようになります。\n",
    "\n",
    "`'今日は'`, `'日はい'`, `'はいい'`, `'いい天'`, `'い天気'`, '`天気で'`, `'天です'`, `'ですね'`, `'すね。'`\n",
    "\n",
    "uni-gram は1文字なので単に文字になります。\n",
    "\n",
    "`'今'`, `'日'`, `'は'`, `'い'`, `'い'`, '`天'`, `'気'`, `'で'`, `'す'`, `'ね'`, `'。'`\n",
    "\n",
    "## What is an $n$-gram?\n",
    "\n",
    "A letter $n$-gram is a contiguous sequence of $n$ letters in a string (i.e., a substring of length $n$).\n",
    "In $n$-gram analysis, all $n$-grams are extracted beginning at the head of a string.\n",
    "An $n$-gram is called a uni-gram if $n = 1$,\n",
    "a bi-gram if $n = 2$, and\n",
    "a tri-gram if $n = 3$.\n",
    "The length $n$ may be greater than or equal to 4, and sometimes $n = 10$.\n",
    "\n",
    "\n",
    "For example, bi-grams of the string\n",
    "\n",
    "`'今日はいい天気ですね。'`\n",
    "\n",
    "are as follows.\n",
    "\n",
    "`'今日'`, `'日は'`, `'はい'`, `'いい'`, `'い天'`, '`天気'`, `'気で'`, `'です'`, `'すね'`, `'ね。'`\n",
    "\n",
    "Tri-grams are as follows.\n",
    "\n",
    "`'今日は'`, `'日はい'`, `'はいい'`, `'いい天'`, `'い天気'`, '`天気で'`, `'天です'`, `'ですね'`, `'すね。'`\n",
    "\n",
    "Uni-grams are simply letters because their length is 1.\n",
    "\n",
    "`'今'`, `'日'`, `'は'`, `'い'`, `'い'`, '`天'`, `'気'`, `'で'`, `'す'`, `'ね'`, `'。'`"
   ]
  },
  {
   "cell_type": "markdown",
   "metadata": {},
   "source": [
    "## 課題：文字列から文字 $n$-gram を生成する\n",
    "\n",
    "文字列 `s` と正の整数 `M` が与えられたとき、`1` から `M` までの各整数 $n$ に対して、$n$-gram を `s` の頭からすべて抜き出してリストを作ります。\n",
    "そして、`M` 個のリストから成るタプルを返してください。\n",
    "以上の操作を、`letter_n_gram_tuple(s,M)` という関数として定義してください。\n",
    "\n",
    "たとえば、`letter_n_gram_tuple('今日は', 3)` は、\n",
    "\n",
    "`(['今', '日', 'は'], ['今日', '日は'], ['今日は'])`\n",
    "\n",
    "というタプルを返します。また、長さ 3 の文字列には 4-gram は含まれないので、 `letter_n_gram_tuple('今日は', 4)` は、\n",
    "\n",
    "`(['今', '日', 'は'], ['今日', '日は'], ['今日は'], [])`\n",
    "\n",
    "を返します。\n",
    "\n",
    "## Exercise: generating letter $n$-grams from a string\n",
    "\n",
    "Given a string `s` and a positive integer `M`, make a list of all $n$-grams beginning at the head of `s`\n",
    "for each integer $n$ from `1` to `M`.\n",
    "Then return a tuple of `M` such lists.\n",
    "Define the above procedure by a function named `letter_n_gram_tuple(s,M)`.\n",
    "\n",
    "For example, `letter_n_gram_tuple('今日は', 3)` should return the following tuple.\n",
    "\n",
    "`(['今', '日', 'は'], ['今日', '日は'], ['今日は'])`\n",
    "\n",
    "Since a string of length 3 does not contain a 4-gram, `letter_n_gram_tuple('今日は', 4)` should return the following tuple.\n",
    "\n",
    "`(['今', '日', 'は'], ['今日', '日は'], ['今日は'], [])`"
   ]
  },
  {
   "cell_type": "code",
   "execution_count": 93,
   "metadata": {},
   "outputs": [],
   "source": [
    "def letter_n_gram_tuple(s, M):\n",
    "    lst = []\n",
    "    for j in range(M):\n",
    "        lst.append([])\n",
    "    \n",
    "    for c in range(M):\n",
    "        for i in range(len(s)):\n",
    "            if i + c + 1 > len(s):\n",
    "                continue\n",
    "            else:\n",
    "                lst[c].append(s[i:i+c+1])\n",
    "    \n",
    "    tpl = tuple(lst)\n",
    "    return tpl"
   ]
  },
  {
   "cell_type": "markdown",
   "metadata": {},
   "source": [
    "以下の文を実行して `True` のみが表示されることを確認してください。\n",
    "\n",
    "Execute the following statements and check if only `True` is printed."
   ]
  },
  {
   "cell_type": "code",
   "execution_count": 94,
   "metadata": {},
   "outputs": [
    {
     "name": "stdout",
     "output_type": "stream",
     "text": [
      "True\n",
      "True\n",
      "True\n",
      "True\n",
      "True\n",
      "True\n"
     ]
    }
   ],
   "source": [
    "print(letter_n_gram_tuple(\"abcd\", 3) == (['a', 'b', 'c', 'd'], ['ab', 'bc', 'cd'], ['abc', 'bcd']))\n",
    "print(letter_n_gram_tuple('今日は', 1) == (['今', '日', 'は'],))\n",
    "print(letter_n_gram_tuple('今日は', 2) == (['今', '日', 'は'], ['今日', '日は']))\n",
    "print(letter_n_gram_tuple('今日は', 3) == (['今', '日', 'は'], ['今日', '日は'], ['今日は']))\n",
    "print(letter_n_gram_tuple('今日は', 4) == (['今', '日', 'は'], ['今日', '日は'], ['今日は'], []))\n",
    "print(letter_n_gram_tuple('', 4) == ([], [], [], []))"
   ]
  },
  {
   "cell_type": "code",
   "execution_count": null,
   "metadata": {},
   "outputs": [],
   "source": []
  }
 ],
 "metadata": {
  "kernelspec": {
   "display_name": "Python 3",
   "language": "python",
   "name": "python3"
  },
  "language_info": {
   "codemirror_mode": {
    "name": "ipython",
    "version": 3
   },
   "file_extension": ".py",
   "mimetype": "text/x-python",
   "name": "python",
   "nbconvert_exporter": "python",
   "pygments_lexer": "ipython3",
   "version": "3.7.3"
  }
 },
 "nbformat": 4,
 "nbformat_minor": 2
}
