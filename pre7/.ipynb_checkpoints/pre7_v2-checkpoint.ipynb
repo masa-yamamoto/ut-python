{
 "cells": [
  {
   "cell_type": "markdown",
   "metadata": {},
   "source": [
    "# 第7回予習課題\n",
    "## 1. pandasライブラリ\n",
    "csvファイル\"iris.csv\"をpandasモジュールのデータフレームオブジェクトとしてロードし、'species'列の値が'setosa'である行を抽出した上で、それらの行から'sepal_length'列の最大値を返す以下のmax_sepal_length関数を完成させてください。最大値の計算にはデータフレームオブジェクトの`max()`メソッドを使ってもよいです。"
   ]
  },
  {
   "cell_type": "markdown",
   "metadata": {},
   "source": [
    "Denfine the following 'max_sepal_length' function which firstly loads a csv file, \"iris.csv\", as a DataFrame of pandas, extracts rows whose value of 'species' column is 'setosa', and finally returns maximum value of 'sepal_length' column from those rows: You may use a `max ()` method of the DataFrame object to calculate the maximum value."
   ]
  },
  {
   "cell_type": "code",
   "execution_count": 1,
   "metadata": {},
   "outputs": [],
   "source": [
    "import pandas as pd\n",
    "\n",
    "def max_sepal_length():\n",
    "    iris_d = pd.read_csv('iris.csv')\n",
    "    iris_setosa = iris_d[(iris_d[\"species\"] == \"setosa\")]\n",
    "    return max(iris_setosa[\"sepal_length\"])"
   ]
  },
  {
   "cell_type": "markdown",
   "metadata": {},
   "source": [
    "以下のセルを実行してテストしてください。"
   ]
  },
  {
   "cell_type": "markdown",
   "metadata": {},
   "source": [
    "Execute the following cell and make sure that it returns 'True'"
   ]
  },
  {
   "cell_type": "code",
   "execution_count": 2,
   "metadata": {},
   "outputs": [
    {
     "name": "stdout",
     "output_type": "stream",
     "text": [
      "True\n"
     ]
    }
   ],
   "source": [
    "print(max_sepal_length()==5.8)"
   ]
  },
  {
   "cell_type": "markdown",
   "metadata": {},
   "source": [
    "## 2. scikit-learnライブラリ\n",
    "csvファイル\"iris.csv\"をpandasモジュールのデータフレームオブジェクトとしてロードし、2つの特徴量、sepal_lengthとsepal_width、から2つの花の種類、versicolorかvirginica、を予測するモデルをロジスティック回帰を用いて学習し、その予測精度（accuracy_score）を返す以下のpredict_iris関数を完成させてください。predict_irisは関数はtrain_test_splitでデータを分割する際のtest_sizeとrandom_stateの値をそれぞれtsizeとrstate引数で受け取ります。また、train_test_splitではstratifyにラベルデータを指定してください。"
   ]
  },
  {
   "cell_type": "markdown",
   "metadata": {},
   "source": [
    "Define the following 'predict_iris' function. It loads a csv file, \"iris.csv\", as a DataFrame of pandas, and learns the model which predicts two types of flower (versicolor or virginica) based on two features (sepal_length and sepal_width) using logistic regression. The function should return its prediction accuracy (accuracy_score) given the values of test_size and random_state for train_test_split as tsize and rstate arguments, respectively. Please note to specify label data for stratify in train_test_split."
   ]
  },
  {
   "cell_type": "code",
   "execution_count": 5,
   "metadata": {},
   "outputs": [],
   "source": [
    "import pandas as pd\n",
    "from sklearn.linear_model import LogisticRegression\n",
    "from sklearn.model_selection import train_test_split\n",
    "from sklearn.metrics import accuracy_score\n",
    "\n",
    "def predict_iris(tsize, rstate):\n",
    "    iris = pd.read_csv('iris.csv')\n",
    "    iris2 = iris[(iris['species'] == 'versicolor')|(iris['species'] == 'virginica')] # | = \"or\"　ブール演算\n",
    "    \n",
    "    X_iris = iris2[['sepal_length','sepal_width']].values\n",
    "    y_iris = iris2['species'].values\n",
    "    \n",
    "    X_train, X_test, y_train, y_test = train_test_split(X_iris, y_iris, test_size = tsize, random_state = rstate, stratify = y_iris)\n",
    "\n",
    "    model = LogisticRegression()\n",
    "    model.fit(X_train, y_train)\n",
    "    y_predicted = model.predict(X_test)\n",
    "    \n",
    "    ###　決定境界を可視化　###\n",
    "    import numpy as np\n",
    "    import matplotlib.pyplot as plt\n",
    "    %matplotlib inline\n",
    " \n",
    "    w2 = model.coef_[0,1]\n",
    "    w1 = model.coef_[0,0]\n",
    "    w0 = model.intercept_[0]\n",
    "\n",
    "    line=np.linspace(4,8)\n",
    "    plt.plot(line, -(w1*line+w0)/w2)\n",
    "    y_c = (y_iris=='versicolor').astype(np.int)\n",
    "    plt.scatter(iris2['sepal_length'],iris2['sepal_width'],c=y_c);\n",
    "    ### ###\n",
    "    \n",
    "    return accuracy_score(y_test, y_predicted)"
   ]
  },
  {
   "cell_type": "markdown",
   "metadata": {},
   "source": [
    "以下のセルを実行してテストしてください。"
   ]
  },
  {
   "cell_type": "markdown",
   "metadata": {},
   "source": [
    "Execute the following cell and make sure that it returns 'True'"
   ]
  },
  {
   "cell_type": "code",
   "execution_count": 6,
   "metadata": {},
   "outputs": [
    {
     "name": "stderr",
     "output_type": "stream",
     "text": [
      "C:\\Users\\Masahiro Yamamoto\\Anaconda3\\lib\\site-packages\\sklearn\\linear_model\\logistic.py:433: FutureWarning: Default solver will be changed to 'lbfgs' in 0.22. Specify a solver to silence this warning.\n",
      "  FutureWarning)\n"
     ]
    },
    {
     "name": "stdout",
     "output_type": "stream",
     "text": [
      "True\n"
     ]
    },
    {
     "data": {
      "image/png": "[encoded data removed]",
      "text/plain": [
       "<Figure size 432x288 with 1 Axes>"
      ]
     },
     "metadata": {
      "needs_background": "light"
     },
     "output_type": "display_data"
    }
   ],
   "source": [
    "print(predict_iris(0.3,10)==0.7)"
   ]
  },
  {
   "cell_type": "code",
   "execution_count": null,
   "metadata": {},
   "outputs": [],
   "source": []
  }
 ],
 "metadata": {
  "kernelspec": {
   "display_name": "Python 3",
   "language": "python",
   "name": "python3"
  },
  "language_info": {
   "codemirror_mode": {
    "name": "ipython",
    "version": 3
   },
   "file_extension": ".py",
   "mimetype": "text/x-python",
   "name": "python",
   "nbconvert_exporter": "python",
   "pygments_lexer": "ipython3",
   "version": "3.7.3"
  }
 },
 "nbformat": 4,
 "nbformat_minor": 2
}
