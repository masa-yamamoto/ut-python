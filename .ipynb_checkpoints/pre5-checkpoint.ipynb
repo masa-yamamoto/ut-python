{
 "cells": [
  {
   "cell_type": "markdown",
   "metadata": {},
   "source": [
    "# 第5回予習課題\n",
    "\n",
    "## 1. 空白の正規化\n",
    "\n",
    "引数として与えられた文字列 `s` の中の連続する空白文字（半角スペース、タブ、改行、全角スペース）を、\n",
    "一つの半角スペースに置き換えてえられる文字列を返す関数 `normalize_space` を定義してください。\n",
    "\n",
    "一つの空白文字にマッチする正規表現は `[ \\t\\n\\u3000]` です。\n",
    "`\\u3000` は全角スペースを表しています。\n",
    "\n",
    "以下のセルの `...` のところを書き換えて解答して下さい。"
   ]
  },
  {
   "cell_type": "markdown",
   "metadata": {},
   "source": [
    "## 1. Whitespace Character  Normalization\n",
    "\n",
    "Define a function `normalize_space` which replaces all the consecutive whitespace characters (i.e., spaces, tabs, line endings or double-byte spaces) in a given string `s` with one space and returns the result.\n",
    "\n",
    "Note that a whitespace character matches the regular expression `[ \\t\\n\\u3000]`, in which `\\u3000` denotes a double-byte space. \n",
    "\n",
    "Remove `...` in the following cell and write down your answer."
   ]
  },
  {
   "cell_type": "code",
   "execution_count": 13,
   "metadata": {},
   "outputs": [],
   "source": [
    "import re\n",
    "def normalize_space(s):\n",
    "    str1 = re.sub(\"[ \\t\\n\\u3000]+\", \" \", s)\n",
    "    return str1"
   ]
  },
  {
   "cell_type": "markdown",
   "metadata": {},
   "source": [
    "`True` のみが印字されることを確認してください。"
   ]
  },
  {
   "cell_type": "markdown",
   "metadata": {},
   "source": [
    "Execute the following cell and check if only `True`s are printed."
   ]
  },
  {
   "cell_type": "code",
   "execution_count": 15,
   "metadata": {},
   "outputs": [
    {
     "name": "stdout",
     "output_type": "stream",
     "text": [
      "True\n",
      "True\n"
     ]
    }
   ],
   "source": [
    "print(normalize_space('hello\\tworld  \\n.') == 'hello world .')\n",
    "print(normalize_space('東京　  大学  ') == '東京 大学 ')"
   ]
  },
  {
   "cell_type": "markdown",
   "metadata": {},
   "source": [
    "## 2. 2つのベクトルの余弦値\n",
    "\n",
    "$n$次元空間上の任意の3つの座標が $X, Y, Z$ がNumPyの配列で引数として与えられたときに、ベクトル $\\overrightarrow{ZX}$ と $\\overrightarrow{ZY}$ の余弦の値を返す関数 `vectors_angle` を作成して下さい。\n",
    "\n",
    "ただし、2つのベクトル $\\overrightarrow{A}$ と $\\overrightarrow{B}$ の余弦の値 $val$ とは、\n",
    "$\\overrightarrow{A} = (a_1, a_2, \\ldots, a_n)$、$\\overrightarrow{B} = (b_1, b_2, \\ldots, b_n)$である場合、次の様な値とします：\n",
    "\n",
    "$val = \\frac{\\sum_{i=1}^n a_i b_i}{\\sqrt{\\sum_{i=1}^{n} a_i^2} \\sqrt{\\sum_{i=1}^n b_i^2}}$\n",
    "\n",
    "以下のセルの `...` のところを書き換えて解答して下さい。"
   ]
  },
  {
   "cell_type": "markdown",
   "metadata": {},
   "source": [
    "## 2. Cosine Between Two Vectors\n",
    "\n",
    "Define a function `vectors_angle` which returns the cosine between the vectors $\\overrightarrow{ZX}$ and $\\overrightarrow{ZY}$, in which three coordinates $X, Y$ and $Z$ in $n$-dimensional space are given as arguments in NumPy arrays, respectively. \n",
    "\n",
    "The cosine $val$ between two vectors $\\overrightarrow{A}$ and $\\overrightarrow{B}$ is defined as follows: \n",
    "\n",
    "$val = \\frac{\\sum_{i=1}^n a_i b_i}{\\sqrt{\\sum_{i=1}^{n} a_i^2} \\sqrt{\\sum_{i=1}^n b_i^2}}$,  \n",
    "\n",
    "in which $\\overrightarrow{A} = (a_1, a_2, \\ldots, a_n)$ and $\\overrightarrow{B} = (b_1, b_2, \\ldots, b_n)$.\n",
    "\n",
    "Remove `...` in the following cell and write down your answer."
   ]
  },
  {
   "cell_type": "code",
   "execution_count": 16,
   "metadata": {},
   "outputs": [],
   "source": [
    "import numpy as np\n",
    "def vectors_angle(X, Y, Z):\n",
    "    ZX = X - Z\n",
    "    ZY = Y - Z\n",
    "    val = np.dot(ZX, ZY) / np.sqrt(np.dot(ZX, ZX)) / np.sqrt(np.dot(ZY, ZY))\n",
    "    return val"
   ]
  },
  {
   "cell_type": "markdown",
   "metadata": {},
   "source": [
    "`True` のみが印字されることを確認してください。"
   ]
  },
  {
   "cell_type": "markdown",
   "metadata": {},
   "source": [
    "Execute the following cell and check if only `True`s are printed."
   ]
  },
  {
   "cell_type": "code",
   "execution_count": 17,
   "metadata": {},
   "outputs": [
    {
     "name": "stdout",
     "output_type": "stream",
     "text": [
      "True\n",
      "True\n",
      "True\n"
     ]
    }
   ],
   "source": [
    "def check_similar(x,y):\n",
    "    print(abs(x-y)<0.000001)\n",
    "X = np.array([3, 2, 2]); Y = np.array([4, 3, 1]); Z = np.array([3, 2, 1])\n",
    "check_similar(vectors_angle(X, Y, Z), np.cos(np.pi/2))\n",
    "X = np.array([2, 4, 3]); Y = np.array([-1, 1, 0]); Z = np.array([1, 3, 2])\n",
    "check_similar(vectors_angle(X, Y, Z), np.cos(np.pi))\n",
    "X = np.array([-2, 5]); Y = np.array([-2, 6]); Z = np.array([-3, 5])\n",
    "check_similar(vectors_angle(X, Y, Z), np.cos(np.pi/4))"
   ]
  }
 ],
 "metadata": {
  "kernelspec": {
   "display_name": "Python 3",
   "language": "python",
   "name": "python3"
  },
  "language_info": {
   "codemirror_mode": {
    "name": "ipython",
    "version": 3
   },
   "file_extension": ".py",
   "mimetype": "text/x-python",
   "name": "python",
   "nbconvert_exporter": "python",
   "pygments_lexer": "ipython3",
   "version": "3.7.3"
  }
 },
 "nbformat": 4,
 "nbformat_minor": 2
}
