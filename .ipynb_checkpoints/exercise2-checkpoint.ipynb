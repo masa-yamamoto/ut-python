{
 "cells": [
  {
   "cell_type": "markdown",
   "metadata": {},
   "source": [
    "# 第2回本課題\n",
    "\n",
    "与えられた英文に含まれる主要母音 A E I O および U の出現を数え、出現頻度の大きな順に主要母音の大文字が並べられたタプルを返す関数 `vowels_sort` を定義してください。  \n",
    "英文として `Is this a pen?` が与えられると、これには I が 2 回, A, E が 1 回、U, O が 0 回含まれており、`vowels_sort` は例えば `('I', 'A', 'E', 'U', 'O')` を返します。同じ回数含まれる場合はいずれが先でもかまいません、すなわち `('I', 'A', 'E', 'O', 'U')` 等でもかまいません。`vowels_sort` は大文字小文字を区別しない関数とします。\n",
    "\n",
    "Define a function called `vowels_sort` that counts the occurrences of each major vowel, i.e. A, E, I, O and U in a given English sentence, and returns a tuple including all the uppercase major vowel characters in descending order of count.  \n",
    "In case `Is this a pen?` is given as an English sentence, since it includes I twice, A and E once, and no occurrence of U and O, `vowels_sort` returns a tuple such as `('I', 'A', 'E', 'U', 'O')`. If the counts of two or more characters are the same, either order is acceptable, such as  `('I', 'A', 'E', 'O', 'U')` or others. Note that `vowels_sort` does not distinguish between lowercase and uppercase characters.  "
   ]
  },
  {
   "cell_type": "code",
   "execution_count": null,
   "metadata": {},
   "outputs": [],
   "source": [
    "def vowels_sort(s):\n",
    "    ..."
   ]
  },
  {
   "cell_type": "markdown",
   "metadata": {},
   "source": [
    "定義が完成したら、以下のセルを実行し `True` のみが出力されることを確認してください。\n",
    "\n",
    "After you define the function, check if only `True` is printed by runnung the following cell."
   ]
  },
  {
   "cell_type": "code",
   "execution_count": null,
   "metadata": {},
   "outputs": [],
   "source": [
    "print((vowels_sort(\"Is this a pen?\") == ('I', 'A', 'E', 'O', 'U'))\n",
    "      or (vowels_sort(\"Is this a pen?\") == ('I', 'A', 'E', 'U', 'O'))\n",
    "      or (vowels_sort(\"Is this a pen?\") == ('I', 'E', 'A', 'O', 'U'))\n",
    "      or (vowels_sort(\"Is this a pen?\") == ('I', 'E', 'A', 'U', 'O')))"
   ]
  }
 ],
 "metadata": {
  "kernelspec": {
   "display_name": "Python 3",
   "language": "python",
   "name": "python3"
  },
  "language_info": {
   "codemirror_mode": {
    "name": "ipython",
    "version": 3
   },
   "file_extension": ".py",
   "mimetype": "text/x-python",
   "name": "python",
   "nbconvert_exporter": "python",
   "pygments_lexer": "ipython3",
   "version": "3.7.0"
  }
 },
 "nbformat": 4,
 "nbformat_minor": 2
}
