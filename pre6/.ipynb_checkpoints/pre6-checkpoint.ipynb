{
 "cells": [
  {
   "cell_type": "markdown",
   "metadata": {},
   "source": [
    "# 第6回予習課題\n",
    "\n",
    "\n",
    "## イテレータと高階関数によるデータ処理 (Data processing with iterators and higher-order functions)\n",
    "\n",
    "次のような、縦棒`'|'`区切りのCSVファイルpre6-table.csvを処理することを考える。\n",
    "\n",
    "Consider data processing of the following CSV file pre6-table.csv delimited by vertical bar `'|'`. \n",
    "```\n",
    "名前     | 年齢 | 職業\n",
    "東大太郎 | 20   | 学生\n",
    "東大次郎 | 18   | 学生\n",
    "岩田聡   | 55   | ゲームクリエイター\n",
    "Larry    | 12   | Chief Mouser to the Cabinet Office\n",
    "香香     |  2   | ジャイアントパンダ\n",
    "```\n",
    "\n",
    "1行目は、各列の意味を説明する文字列（フィールド名）が入り、2行目以降が、実際のデータ部分である。\n",
    "\n",
    "このファイルの1行の文字列を与えて、その中のセルを走査するイテレータを返す関数`cells()`が、次のように与えられている。\n",
    "\n",
    "The first row denotes the descriptions of columns, i.e., field names, and the remaining rows denotes the actual data part.\n",
    "\n",
    "A function `cells()` that takes a line of this file and returns an iterator traversing the cells is given as follows."
   ]
  },
  {
   "cell_type": "code",
   "execution_count": 1,
   "metadata": {},
   "outputs": [
    {
     "name": "stdout",
     "output_type": "stream",
     "text": [
      "東大太郎 20 学生\n",
      "('東大太郎', '20', '学生')\n"
     ]
    }
   ],
   "source": [
    "def cells(line):\n",
    "    return map(str.strip, line.split('|'))\n",
    "\n",
    "print(*cells('東大太郎 | 20   | 学生\\n'))\n",
    "print(tuple(cells('東大太郎 | 20   | 学生\\n')))"
   ]
  },
  {
   "cell_type": "markdown",
   "metadata": {},
   "source": [
    "まず、pre6-table.csvのファイルオブジェクト（行単位のイテレータ）を受け取り、データ部分（2行目以降）の各行をタプルで生成するイテレータを返す関数`datarows()`を定義せよ。ただし、for文などを使わずに、`map()`や内包表記（特にジェネレータ式）を使って、入力ファイルの行数を限定せずに実装せよ。6-1の`tailmax()`の定義を参考にせよ。\n",
    "\n",
    "First of all, define a function `datarows()` that takes a file object (i.e., linewise iterator) of pre6-table.csv and returns an iterator yielding row tuples of the actual data part.\n",
    "The `datarows()` function must be defined without use of iteration like the for statement and with use of `map()` and/or comprehensions (especially, generator expressions) and must not limit the number of the lines of a given file; cf. the definition of `tailmax()` in 6-1."
   ]
  },
  {
   "cell_type": "code",
   "execution_count": 2,
   "metadata": {},
   "outputs": [],
   "source": [
    "## 解答用セル（A cell for answering) ##\n",
    "##===================================##\n",
    "## 次の関数を完成させよ。            ##\n",
    "## Complete the following function.  ##\n",
    "import csv\n",
    "\n",
    "def datarows(f):\n",
    "    dataReader = csv.reader(f)\n",
    "    f.close\n",
    "    row = next(dataReader)\n",
    "    return map(lambda row: tuple(cells(row[0])), dataReader)"
   ]
  },
  {
   "cell_type": "markdown",
   "metadata": {},
   "source": [
    "定義できたら、次のセルを実行したときに次のように印字されることを確かめよ\n",
    "\n",
    "After defined, confirm that the following cell run prints as follows.\n",
    "```\n",
    "('東大太郎', '20', '学生') ('東大次郎', '18', '学生') ('岩田聡', '55', '代表取締役社長') ('Larry', '12', 'Chief Mouser to the Cabinet Office') ('香香', '2', 'ジャイアントパンダ')\n",
    "```"
   ]
  },
  {
   "cell_type": "code",
   "execution_count": 3,
   "metadata": {},
   "outputs": [
    {
     "name": "stdout",
     "output_type": "stream",
     "text": [
      "('東大太郎', '20', '学生') ('東大次郎', '18', '学生') ('岩田聡', '55', 'ゲームクリエイター') ('Larry', '12', 'Chief Mouser to the Cabinet Office') ('香香', '2', 'ジャイアントパンダ')\n"
     ]
    }
   ],
   "source": [
    "with open('pre6-table.csv', encoding='utf-8') as f:\n",
    "    print(*datarows(f))"
   ]
  },
  {
   "cell_type": "markdown",
   "metadata": {},
   "source": [
    "`datarows()`の結果を受け取って、その中で最若年の行（タプル）を返す関数`youngest()`を定義せよ。\n",
    "for文などを使わずに、高階関数（`min()`など）を使って定義せよ。\n",
    "\n",
    "Define a function `youngest()` that takes a result of `datarows()` and return a row tuple of the youngest.\n",
    "The `youngest()` function must be defined without use of iteration like the for statement and with use of higher-order functions (e.g., `min()`)."
   ]
  },
  {
   "cell_type": "code",
   "execution_count": 4,
   "metadata": {},
   "outputs": [],
   "source": [
    "## 解答用セル（A cell for answering) ##\n",
    "##===================================##\n",
    "## 次の関数を完成させよ。            ##\n",
    "## Complete the following function.  ##\n",
    "def youngest(rows):\n",
    "    lst = list(rows) #イテレータrowsからリストを作成。解答1と解答2でここまで共通\n",
    "    \n",
    "    ## 解答1 ##\n",
    "    lst2 = [int(lst[x][1]) for x in range(len(lst))] #lstから、数字のみを抜き出したリストを作る\n",
    "    a = lst2.index(min(lst2)) #lst2のうち最小の数字のindexを取得\n",
    "    return lst[a] \n",
    "    ## 解答1ここまで ##\n",
    "    \n",
    "    ## 解答2 ##\n",
    "#     for i in range(len(lst)-1):\n",
    "#         if int(lst[0][1]) > int(lst[1][1]):\n",
    "#             lst.remove(lst[0])\n",
    "#         else:\n",
    "#             lst.remove(lst[1])\n",
    "#     return lst[0]\n",
    "    ## 解答2ここまで ##"
   ]
  },
  {
   "cell_type": "markdown",
   "metadata": {},
   "source": [
    "定義できたら、次のセルを実行したときに、Trueが印字されることを確認せよ。\n",
    "\n",
    "After defined, confirm that the following cell run prints True."
   ]
  },
  {
   "cell_type": "code",
   "execution_count": 5,
   "metadata": {
    "scrolled": true
   },
   "outputs": [
    {
     "name": "stdout",
     "output_type": "stream",
     "text": [
      "True\n"
     ]
    }
   ],
   "source": [
    "with open('pre6-table.csv', encoding='utf-8') as f:\n",
    "    print(youngest(datarows(f)) == ('香香', '2', 'ジャイアントパンダ'))"
   ]
  },
  {
   "cell_type": "code",
   "execution_count": null,
   "metadata": {},
   "outputs": [],
   "source": []
  }
 ],
 "metadata": {
  "kernelspec": {
   "display_name": "Python 3",
   "language": "python",
   "name": "python3"
  },
  "language_info": {
   "codemirror_mode": {
    "name": "ipython",
    "version": 3
   },
   "file_extension": ".py",
   "mimetype": "text/x-python",
   "name": "python",
   "nbconvert_exporter": "python",
   "pygments_lexer": "ipython3",
   "version": "3.7.3"
  }
 },
 "nbformat": 4,
 "nbformat_minor": 2
}
