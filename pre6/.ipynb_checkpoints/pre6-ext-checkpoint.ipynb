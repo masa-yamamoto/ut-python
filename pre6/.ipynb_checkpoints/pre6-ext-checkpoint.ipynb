{
 "cells": [
  {
   "cell_type": "markdown",
   "metadata": {},
   "source": [
    "# 第6回予習課題（＋挑戦課題）\n",
    "\n",
    "▲は挑戦課題を意味する。\n",
    "予習課題を解いた後に、任意で挑戦することを意図している。\n",
    "\n",
    "▲ indicates advanced exercises.\n",
    "They are designed to tackle optionally with after solving pre-exercises.\n",
    "\n",
    "## イテレータと高階関数によるデータ処理 (Data processing with iterators and higher-order functions)\n",
    "\n",
    "次のような、縦棒`'|'`区切りのCSVファイルpre6-table.csvを処理することを考える。\n",
    "\n",
    "Consider data processing of the following CSV file pre6-table.csv delimited by vertical bar `'|'`. \n",
    "```\n",
    "名前     | 年齢 | 職業\n",
    "東大太郎 | 20   | 学生\n",
    "東大次郎 | 18   | 学生\n",
    "岩田聡   | 55   | ゲームクリエイター\n",
    "Larry    | 12   | Chief Mouser to the Cabinet Office\n",
    "香香     |  2   | ジャイアントパンダ\n",
    "```\n",
    "\n",
    "1行目は、各列の意味を説明する文字列（フィールド名）が入り、2行目以降が、実際のデータ部分である。\n",
    "\n",
    "このファイルの1行の文字列を与えて、その中のセルを走査するイテレータを返す関数`cells()`が、次のように与えられている。\n",
    "\n",
    "The first row denotes the descriptions of columns, i.e., field names, and the remaining rows denotes the actual data part.\n",
    "\n",
    "A function `cells()` that takes a line of this file and returns an iterator traversing the cells is given as follows."
   ]
  },
  {
   "cell_type": "code",
   "execution_count": null,
   "metadata": {},
   "outputs": [],
   "source": [
    "def cells(line):\n",
    "    return map(str.strip, line.split('|'))\n",
    "\n",
    "print(*cells('東大太郎 | 20   | 学生\\n'))\n",
    "print(tuple(cells('東大太郎 | 20   | 学生\\n')))"
   ]
  },
  {
   "cell_type": "markdown",
   "metadata": {},
   "source": [
    "まず、pre6-table.csvのファイルオブジェクト（行単位のイテレータ）を受け取り、データ部分（2行目以降）の各行をタプルで生成するイテレータを返す関数`datarows()`を定義せよ。ただし、for文などを使わずに、`map()`や内包表記（特にジェネレータ式）を使って、入力ファイルの行数を限定せずに実装せよ。6-1の`tailmax()`の定義を参考にせよ。\n",
    "\n",
    "First of all, define a function `datarows()` that takes a file object (i.e., linewise iterator) of pre6-table.csv and returns an iterator yielding row tuples of the actual data part.\n",
    "The `datarows()` function must be defined without use of iteration like the for statement and with use of `map()` and/or comprehensions (especially, generator expressions) and must not limit the number of the lines of a given file; cf. the definition of `tailmax()` in 6-1."
   ]
  },
  {
   "cell_type": "code",
   "execution_count": null,
   "metadata": {},
   "outputs": [],
   "source": [
    "## 解答用セル（A cell for answering) ##\n",
    "##===================================##\n",
    "## 次の関数を完成させよ。            ##\n",
    "## Complete the following function.  ##\n",
    "def datarows(f):\n",
    "    ..."
   ]
  },
  {
   "cell_type": "markdown",
   "metadata": {},
   "source": [
    "定義できたら、次のセルを実行したときに次のように印字されることを確かめよ\n",
    "\n",
    "After defined, confirm that the following cell run prints as follows.\n",
    "```\n",
    "('東大太郎', '20', '学生') ('東大次郎', '18', '学生') ('岩田聡', '55', '代表取締役社長') ('Larry', '12', 'Chief Mouser to the Cabinet Office') ('香香', '2', 'ジャイアントパンダ')\n",
    "```"
   ]
  },
  {
   "cell_type": "code",
   "execution_count": null,
   "metadata": {},
   "outputs": [],
   "source": [
    "with open('pre6-table.csv', encoding='utf-8') as f:\n",
    "    print(*datarows(f))"
   ]
  },
  {
   "cell_type": "markdown",
   "metadata": {},
   "source": [
    "`datarows()`の結果を受け取って、その中で最若年の行（タプル）を返す関数`youngest()`を定義せよ。\n",
    "for文などを使わずに、高階関数（`min()`など）を使って定義せよ。\n",
    "\n",
    "Define a function `youngest()` that takes a result of `datarows()` and return a row tuple of the youngest.\n",
    "The `youngest()` function must be defined without use of iteration like the for statement and with use of higher-order functions (e.g., `min()`)."
   ]
  },
  {
   "cell_type": "code",
   "execution_count": null,
   "metadata": {},
   "outputs": [],
   "source": [
    "## 解答用セル（A cell for answering) ##\n",
    "##===================================##\n",
    "## 次の関数を完成させよ。            ##\n",
    "## Complete the following function.  ##\n",
    "def youngest(rows):\n",
    "    ..."
   ]
  },
  {
   "cell_type": "markdown",
   "metadata": {},
   "source": [
    "定義できたら、次のセルを実行したときに、Trueが印字されることを確認せよ。\n",
    "\n",
    "After defined, confirm that the following cell run prints True."
   ]
  },
  {
   "cell_type": "code",
   "execution_count": null,
   "metadata": {
    "scrolled": true
   },
   "outputs": [],
   "source": [
    "with open('pre6-table.csv', encoding='utf-8') as f:\n",
    "    print(youngest(datarows(f)) == ('香香', '2', 'ジャイアントパンダ'))"
   ]
  },
  {
   "cell_type": "markdown",
   "metadata": {},
   "source": [
    "## ▲タプルクラスの拡張 (Extending the tuple class)\n",
    "上の例では、1行をタプルで表現した。\n",
    "しかし、各列のフィールド名を用いて、行内のセルをアクセスできると分かりやすい。\n",
    "そこで、`tuple`を継承し、与えられたフィールド名によってセルを選択するメソッド`field()`を持つ`Row`クラスを定義せよ。\n",
    "ただし、与えられる表の1行目は、pre6-table.csvのもの同じと仮定してよい。\n",
    "\n",
    "In the above example, a tuple represents a row.\n",
    "It is, however, easier to read to access cells of rows with field names.\n",
    "Then, by inheriting `tuple`, define a `Row` class that has a method `field()` that takes a field name of `str` and returns the corresponding cell.\n",
    "You can assume to the first line of a given table to be the same as that of pre6-table.csv."
   ]
  },
  {
   "cell_type": "code",
   "execution_count": null,
   "metadata": {},
   "outputs": [],
   "source": [
    "## 解答用セル（A cell for answering) ##\n",
    "##===================================##\n",
    "## 次のクラスを完成させよ。          ##\n",
    "## Complete the following class.     ##\n",
    "class Row(tuple):\n",
    "    ..."
   ]
  },
  {
   "cell_type": "markdown",
   "metadata": {},
   "source": [
    "定義できたら、セルの実行したときに、Trueのみが印字されることを確認せよ。\n",
    "\n",
    "After defined, confirm that the following cell run prints only True."
   ]
  },
  {
   "cell_type": "code",
   "execution_count": null,
   "metadata": {},
   "outputs": [],
   "source": [
    "r = Row(cells('東大太郎 | 20   | 学生\\n')) \n",
    "print(r.field('名前') == '東大太郎')\n",
    "print(r.field('年齢') == '20')\n",
    "print(r.field('職業') == '学生')"
   ]
  },
  {
   "cell_type": "markdown",
   "metadata": {},
   "source": [
    "さて、実用的には、pre6-table.csvのフィールド名に限定せず、与えらた表の1行目に記述されているフィールド名を認識するような`Row`クラスが望ましい。\n",
    "データ部分について、タプルの代わりに、そのような`Row`クラスのインスタンスを生成する`datarows()`を定義せよ。\n",
    "\n",
    "Then, practically, the `Row` class should not be limited to the fields of pre6-table.csv and should recognize the field description of a given table.\n",
    "Define `datarows()` that returns an iterator yielding, instead of tuples, the instances of such a `Row` class for the actual data part."
   ]
  },
  {
   "cell_type": "code",
   "execution_count": null,
   "metadata": {},
   "outputs": [],
   "source": [
    "## 解答用セル（A cell for answering) ##\n",
    "##===================================##\n",
    "## 次の関数を完成させよ。            ##\n",
    "## Complete the following function.  ##\n",
    "def datarows(f):\n",
    "    ..."
   ]
  },
  {
   "cell_type": "markdown",
   "metadata": {},
   "source": [
    "定義できたら、セルの実行したときに、表中の名前と年齢が印字されることを確認せよ。\n",
    "\n",
    "After defined, confirm that the following cell run prints the names and ages in the table."
   ]
  },
  {
   "cell_type": "code",
   "execution_count": null,
   "metadata": {},
   "outputs": [],
   "source": [
    "with open('pre6-table.csv', encoding='utf-8') as f:\n",
    "    for row in datarows(f):\n",
    "        print(row.field('名前'), row.field('年齢'))\n",
    "        \n",
    "with open('pre6-table-ext.csv', encoding='utf-8') as f:\n",
    "    for row in datarows(f):\n",
    "        print(row.field('名前'), row.field('年齢'))"
   ]
  },
  {
   "cell_type": "code",
   "execution_count": null,
   "metadata": {},
   "outputs": [],
   "source": []
  }
 ],
 "metadata": {
  "kernelspec": {
   "display_name": "Python 3",
   "language": "python",
   "name": "python3"
  },
  "language_info": {
   "codemirror_mode": {
    "name": "ipython",
    "version": 3
   },
   "file_extension": ".py",
   "mimetype": "text/x-python",
   "name": "python",
   "nbconvert_exporter": "python",
   "pygments_lexer": "ipython3",
   "version": "3.7.3"
  }
 },
 "nbformat": 4,
 "nbformat_minor": 2
}
