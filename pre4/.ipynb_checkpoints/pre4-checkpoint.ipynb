{
 "cells": [
  {
   "cell_type": "markdown",
   "metadata": {},
   "source": [
    "# 第4回予習課題"
   ]
  },
  {
   "cell_type": "markdown",
   "metadata": {},
   "source": [
    "## 1. ファイルの行数\n",
    "\n",
    "ファイル名 `name` とファイルの文字コードを表す符号 `code` をもらって、そのファイルの行数を返す関数 `number_of_lines(name,code)`を定義してください。\n",
    "\n",
    "以下のようにしてファイルをオープンします。\n",
    "\n",
    "```\n",
    "open(name, \"r\", encoding=code)\n",
    "```\n",
    "\n",
    "## 1. Number of lines in a file\n",
    "\n",
    "Define a function named `number_of_lines(name,code)` that counts the number of lines in a given file named `name`.   \n",
    "The file should be opened with a given encoding `code` as follows:\n",
    "\n",
    "```\n",
    "open(name, \"r\", encoding=code)\n",
    "```"
   ]
  },
  {
   "cell_type": "code",
   "execution_count": 3,
   "metadata": {},
   "outputs": [],
   "source": [
    "def number_of_lines(name, code):\n",
    "    f = open(name, \"r\", encoding=code)\n",
    "    i = 0\n",
    "    for line in f:\n",
    "        i += 1\n",
    "    f.close\n",
    "    return i"
   ]
  },
  {
   "cell_type": "markdown",
   "metadata": {},
   "source": [
    "以下のセルによってテストしてください。\n",
    "\n",
    "Check if only 'True' is printed by running the following cell."
   ]
  },
  {
   "cell_type": "code",
   "execution_count": 4,
   "metadata": {},
   "outputs": [
    {
     "name": "stdout",
     "output_type": "stream",
     "text": [
      "True\n",
      "True\n",
      "True\n"
     ]
    }
   ],
   "source": [
    "print(number_of_lines(\"small.csv\", \"utf-8\") == 3)\n",
    "print(number_of_lines(\"text-sample.txt\", \"utf-8\") == 6)\n",
    "print(number_of_lines(\"tokyo-temps.csv\", \"sjis\") == 1771)"
   ]
  },
  {
   "cell_type": "markdown",
   "metadata": {},
   "source": [
    "## 2. json ファイルの変換\n",
    "\n",
    "東京大学授業カタログ（json形式のファイル`\"catalog-2018.json\"`を読み込む）では、授業の情報を辞書の形式で表したもの（以下単に「授業」と呼ぶ）をリスト形式で保持しています。  \n",
    "このリストの中から、検索文字列 `s` が与えられたときに、`title`, `title_j`, `Title`, `Schedule` のいずれかのキーの値の中に部分文字列として `s` を含む「授業」のリストを生成し、これを`\"catalog-2018.json\"`と同じフォーマットのjson形式のファイル `\"found_courses.json\"` に書き込んだのち、そのリストを返す関数 `search_catalog(s)` を定義してください。<br>\n",
    "ただし、以下の点に注意してください。\n",
    "\n",
    "- 各「授業」は `title` と `title_j` は必ずキーに持つが、`Title` と `Schedule` がないものがある\n",
    "- `s` に空文字列 `''` が指定されることはなく、必ず何らかの文字列が指定されるものとする\n",
    "- `\"catalog-2018.json\"` に含まれている「授業」はそれぞれ別のものであり、重複はないと仮定してよい\n",
    "- `search_catalog` が返す授業の辞書のリストには、同じ授業の辞書は一度のみ現れるとする（何度も同じ授業をリストに追加してはいけない）\n",
    "\n",
    "\n",
    "## 2. Conversion of a json file\n",
    "\n",
    "The University of Tokyo online course catalog, which is extracted from the json file named `\"catalog-2018.json\"`, holds the course information as list type and each course is reprenseted as dictionary type.   \n",
    "Define a function named `search_catalog(s)` that creates a list of such courses that contain a given character string `s` in the values of at least one key of `title`, `title_j`, `Title`, or `Schedule`, output the list into a file named `\"found_courses.json\"` with the same json format as `\"catalog-2018.json\"`, and also returns the list .  \n",
    "Please note:  \n",
    "- The dictionary of each course always has `title` and ` title_j` as keys but there are some dictionaries without `Title` or ` Schedule`.\n",
    "- `s` is not empty `''` but is always a certain character string\n",
    "- Each course recorded in \"catalog-2018.json\" is unique.\n",
    "- A list returned by `search_catalog` records each course at most one time. It should not add the same course multiple times.\n"
   ]
  },
  {
   "cell_type": "code",
   "execution_count": 120,
   "metadata": {},
   "outputs": [],
   "source": [
    "def search_catalog(s):\n",
    "    import json\n",
    "    course_list = [] #\"s\"を含む授業のリスト\n",
    "    key_list = [\"title\", \"title_j\", \"Title\", \"Schedule\"] #辞書の値の中に\"s\"を探すキーのリスト\n",
    "    \n",
    "    with open(\"catalog-2018.json\", \"r\", encoding=\"utf-8\") as f:\n",
    "        j = json.load(f)\n",
    "    \n",
    "    for i in range(len(j)):\n",
    "        search_list = [] #\"title\"とかの値のリスト\n",
    "        for value in key_list:\n",
    "            if j[i].get(value) != None: #jsonファイル中の辞書の中にkey_list中のキーがなかったらはじく\n",
    "                search_list.append(j[i][value])\n",
    "        \n",
    "        for k in range(len(search_list)):\n",
    "            x = 0\n",
    "            if search_list[k].find(s) != -1:\n",
    "                x +=1\n",
    "        if x != 0:\n",
    "            course_list.append(j[i])\n",
    "\n",
    "#         if search_list.count(s) >= 1:\n",
    "#             course_list.append(j[i]) これはダメだった\n",
    "        \n",
    "    with open(\"found_courses.json\", \"w\", encoding='utf-8') as g:\n",
    "        json.dump(course_list, g)\n",
    "    return course_list"
   ]
  },
  {
   "cell_type": "code",
   "execution_count": 121,
   "metadata": {},
   "outputs": [
    {
     "data": {
      "text/plain": [
       "[{'year': '2018',\n",
       "  'department_j': '教養学部',\n",
       "  'title_j': '情報生物学実習',\n",
       "  'name_j': '岡ノ谷\\u3000一夫',\n",
       "  'title': 'Methods in Information Biology',\n",
       "  'name': 'OKANOYA Kazuo',\n",
       "  'Common_Course_Code': 'FAS-EA4E13P1',\n",
       "  'Semester': 'S1S2',\n",
       "  'Period': '集中\\n                          Intensive',\n",
       "  'Credits': '2',\n",
       "  'Academic_Year': 'Other',\n",
       "  'Open_to_other_faculties': '可 YES',\n",
       "  'Permitted_to_USTEP_Students': '不可 NO',\n",
       "  'Language_in_Lecture': '日本語        Japanese',\n",
       "  'Title': '認知科学研究で利用する時系列データの周波数解析',\n",
       "  'Schedule': '９月初旬に集中講義で実施。\\n午前中に講義、午後に実習\\n\\n１日目\\u3000プログラミング言語Python\\n２日目\\u3000周波数解析（フーリエ変換）\\n３日目\\u3000時間周波数解析（連続wavelet変換）\\n\\n詳細については、６月中旬までにウェブサイト( http://ecs.c.u-tokyo.ac.jp  )にて知らせる。',\n",
       "  'Teaching_Methods': '講義と実習を組み合わせて行う',\n",
       "  'Method_of_Evaluation': '授業終了後１ヶ月程度で提出してもらう複数の小論文に基づいて評価する',\n",
       "  'Required_Textbook': 'なし。',\n",
       "  'Reference_Books': '適宜指定する。',\n",
       "  'Notes_on_Taking_the_Course': '冬学期科目であるが、９月初旬に集中講義で実施するので、必ず開講前に履修仮登録するように注意すること。詳細については、６月中旬までにウェブサイト( http://ecs.c.u-tokyo.ac.jp/education/education.html )および掲示にて知らせる。',\n",
       "  'Others': '＊\\u3000本科目は、実習も含むので、受講者数を制限する場合がある。\\n＊\\u3000過去に同科目を履修した学生は、再度履修することはできない。'},\n",
       " {'year': '2018',\n",
       "  'department_j': '教養学部',\n",
       "  'title_j': '応用地理情報分析',\n",
       "  'name_j': '関根\\u3000智子',\n",
       "  'title': 'Advanced Analysis of Geographic Information',\n",
       "  'name': 'SEKINE\\u3000Tomoko',\n",
       "  'Common_Course_Code': 'FAS-DA4C12L1',\n",
       "  'Semester': 'A1A2',\n",
       "  'Period': '未定\\n                          To Be Arranged',\n",
       "  'Credits': '2',\n",
       "  'Academic_Year': 'Other',\n",
       "  'Open_to_other_faculties': '不可 NO',\n",
       "  'Permitted_to_USTEP_Students': '不可 NO',\n",
       "  'Classroom': 'To Be Arranged',\n",
       "  'Language_in_Lecture': '日本語        Japanese',\n",
       "  'Title': '地理情報技術の一つである地理情報システム（GIS）を用いた地理空間分析',\n",
       "  'Schedule': '１．地理情報とは何か、GISと地理情報科学、地理情報技術の種類\\n２．研究課題と地域の設定\\n３．地理空間データの種類と取得：データのダウンロード\\n４．地理空間データの作成（１）：住所照合、空間参照、地理座標系\\n５．地理空間データの作成（２）：ジオリファレンス、属性表の編集作業\\n６．GISによる主題図の作成：属性データの結合、クラス分け法、地図装飾、統計的分布と地理的分布\\n７．GIS オンラインについて\\n８．研究テーマについてGISによる地理空間分析（１）：バッファの生成、ディゾルブ、マージ、カーネル密度\\n９．研究テーマについてGISによる地理空間分析（２）：面積按分による人口の算出\\n10．研究テーマについてGISによる地理空間分析（３）：道路ネットワーク分析\\n11．研究の進行状況についての発表\\n12. 研究テーマについてGISによる地理空間分析（４）：３Dによる可視化、傾斜角、輝度、斜面方位\\n13. 研究テーマについてGISによる地理空間分析（５）：アニメーションによる可視化\\n14. 研究テーマについてGISによる地理空間分析（６）：モデルビルダー、Pythonによる分析の自動化\\n15．研究成果の発表',\n",
       "  'Teaching_Methods': '実習と講義\\n学生が研究テーマを設定し、GISソフトウェアのArcGIS（ESRIジャパン株式会社）を使用して地理空間分析を行う。分析の進行状況や成果について発表を行い、それにもとづく質疑応答や討論を通じて、問題点を明らかにし、今後の分析の進め方を検討する。',\n",
       "  'Method_of_Evaluation': 'レポート（40％）、授業への参加状況：研究発表の内容、研究に対する討論など（30％）、GIS技術の習得状況（30％）',\n",
       "  'Required_Textbook': '高阪宏行・関根智子『GISを利用した社会・経済の空間分析』（第2版）古今書院、2007年．',\n",
       "  'Reference_Books': '参考書や文献は、授業時間中に指示する。もしくは、プリントを配布する。',\n",
       "  'Notes_on_Taking_the_Course': '受講は、地理情報分析基礎Ⅱで優以上の成績を取得したものに限る。非履修者は、必ず初回の授業に参加し，同等以上の実習経験があることを説明し、担当教員より受講の許可を受けること。',\n",
       "  'Others': '連絡先、質問への対応などは、第1回の授業で説明する。'},\n",
       " {'year': '2018',\n",
       "  'department_j': '教養学部',\n",
       "  'title_j': '特殊研究演習「計算社会科学入門」',\n",
       "  'name_j': '阪本\\u3000拓人',\n",
       "  'title': 'Seminar in Special Topics: Introduction to Computational Social Science',\n",
       "  'name': 'SAKAMOTO Takuto',\n",
       "  'Common_Course_Code': 'FAS-CA4U24S1',\n",
       "  'Semester': 'A1A2',\n",
       "  'Period': '未定\\n                          To Be Arranged',\n",
       "  'Credits': '2',\n",
       "  'Academic_Year': 'Other',\n",
       "  'Open_to_other_faculties': '可 YES',\n",
       "  'Permitted_to_USTEP_Students': '不可 NO',\n",
       "  'Classroom': 'To Be Arranged',\n",
       "  'Language_in_Lecture': '日本語/英語        Japanese/English',\n",
       "  'Title': '計算社会科学：実践的入門\\nHands-on Introduction to Computational Social Science',\n",
       "  'Schedule': '具体的には以下の事項を学んでもらう。\\n\\n- 汎用型プログラミング言語Pythonの基礎\\n- データの処理・演算・可視化の一般的な手法\\n- Webデータの自動取得（スクレイピングなど）の基本\\n- 自然言語処理の基本：テキストデータの整形と処理\\n- 機械学習の基本：主要な学習アルゴリズムとその適用\\n\\nいずれも基本的な事項に絞った内容であるが、Pythonのパッケージを効率よく利用することで、計算社会科学の分析フローを一通り体験することができる。',\n",
       "  'Teaching_Methods': '情報教育棟の演習室の端末（Mac OS）を利用した実習。実習にあたってはITC-LMSで配布する独自の教材を利用する。',\n",
       "  'Method_of_Evaluation': '授業の参加度 (20%); 期末課題 (80%)',\n",
       "  'Required_Textbook': 'なし',\n",
       "  'Reference_Books': \"Müller, Andreas C., and Sarah Guido. 2016. Introduction to machine learning with Python : a guide for data scientists. Beijing ; Boston: O'Reilly Media, Inc.\\n\\nMitchell, Ryan. 2018. Web scraping with Python : collecting data from the modern web. 2nd ed., Sebastopol, CA: O'Reilly Media.\",\n",
       "  'Notes_on_Taking_the_Course': '履修にあたって、プログラミングの知識や経験等は有用であるが、必須ではない。\\nまた、持ち込みのラップトップでも履修できるが、プログラミング環境の構築にあたって使用のシステムに応じた作業が必要になる。これについては事前に指示を出すので注意されたい。'},\n",
       " {'year': '2018',\n",
       "  'department_j': '文学部',\n",
       "  'title_j': '人文情報学特殊講義ＩＶ',\n",
       "  'name_j': '小林\\u3000正人',\n",
       "  'title': 'Topics in the Digital Humanities IV',\n",
       "  'name': 'KOBAYASHI Masato',\n",
       "  'Common_Course_Code': 'FLE-HU4208L1',\n",
       "  'Semester': 'A1A2',\n",
       "  'Period': '金曜3限\\n                          Fri\\xa03rd',\n",
       "  'Credits': '2',\n",
       "  'Academic_Year': 'Other',\n",
       "  'Open_to_other_faculties': '可 YES',\n",
       "  'Permitted_to_USTEP_Students': '可 YES',\n",
       "  'Classroom': '',\n",
       "  'Language_in_Lecture': '日本語        Japanese',\n",
       "  'Title': '言語研究における情報処理',\n",
       "  'Schedule': '受講生の関心に応じて内容を組み替えるため、この通りに授業するとは限らない。\\n1. Linux の概要、正規表現\\n2. Python の概要、文字コード\\n3. ファイルを1行ずつ読み込む処理\\n4. 行をまたぐ処理\\n5. リストを使う\\n6. ミニマルペアの探索\\n7. ディクショナリを使う： 韻律分析\\n8. KWIC索引の作成\\n9. NLTKとタガーを使う\\n10. 言語関連のパッケージの利用\\n11. ウェブページのスクレイピング\\n12. Rによる基本的な検定\\n13. 課題発表',\n",
       "  'Teaching_Methods': 'プログラミング課題を解くことで、知識の定着をはかり、発表によって自身の研究への応用を試みる。',\n",
       "  'Method_of_Evaluation': '受講者は授業で紹介された方法を用いて言語を研究する課題を設定し、成果を発表してレポートとして提出する。',\n",
       "  'Required_Textbook': 'プリントを配布する。',\n",
       "  'Reference_Books': '授業内で指示する',\n",
       "  'Notes_on_Taking_the_Course': '授業内で利用できる Linux パソコンがある。\\nWindows PCまたはMacを所有する人は、その中に環境を構築して使うこともできる。'},\n",
       " {'year': '2018',\n",
       "  'department_j': '文学部',\n",
       "  'title_j': '言語学特殊講義III',\n",
       "  'name_j': '小林\\u3000正人',\n",
       "  'title': 'Topics in Linguistics III',\n",
       "  'name': 'KOBAYASHI\\u3000Masahito',\n",
       "  'Common_Course_Code': 'FLE-HU4M02L1',\n",
       "  'Semester': 'A1A2',\n",
       "  'Period': '金曜3限\\n                          Fri\\xa03rd',\n",
       "  'Credits': '2',\n",
       "  'Academic_Year': 'Other',\n",
       "  'Open_to_other_faculties': '可 YES',\n",
       "  'Permitted_to_USTEP_Students': '不可 NO',\n",
       "  'Classroom': '',\n",
       "  'Language_in_Lecture': '日本語        Japanese',\n",
       "  'Title': '言語研究における情報処理',\n",
       "  'Schedule': '受講生の関心に応じて内容を組み替えるため、この通りに授業するとは限らない。\\n1. Linux の概要、正規表現\\n2. Python の概要、文字コード\\n3. ファイルを1行ずつ読み込む処理\\n4. 行をまたぐ処理\\n5. リストを使う\\n6. ミニマルペアの探索\\n7. ディクショナリを使う： 韻律分析\\n8. KWIC索引の作成\\n9. NLTKとタガーを使う\\n10. 言語関連のパッケージの利用\\n11. ウェブページのスクレイピング\\n12. Rによる基本的な検定\\n13. 課題発表',\n",
       "  'Teaching_Methods': 'プログラミング課題を解くことで、知識の定着をはかり、発表によって自身の研究への応用を試みる。',\n",
       "  'Method_of_Evaluation': '受講者は授業で紹介された方法を用いて言語を研究する課題を設定し、成果を発表してレポートとして提出する。',\n",
       "  'Required_Textbook': 'プリントを配布する。',\n",
       "  'Reference_Books': '授業内で指示する',\n",
       "  'Notes_on_Taking_the_Course': '授業内で利用できる Linux パソコンがある。\\nWindows PCまたはMacを所有する人は、その中に環境を構築して使うこともできる。'},\n",
       " {'year': '2018',\n",
       "  'department_j': '理学部',\n",
       "  'title_j': '計算天文学I',\n",
       "  'name_j': '藤井\\u3000通子',\n",
       "  'title': 'Computational Astronomy I',\n",
       "  'name': 'FUJII Michiko',\n",
       "  'Common_Course_Code': 'FSC-AS3131L1',\n",
       "  'Semester': 'S1S2',\n",
       "  'Period': '水曜5限\\n                          Wed\\xa05th',\n",
       "  'Credits': '2',\n",
       "  'Academic_Year': 'B3\\n                  B4',\n",
       "  'Open_to_other_faculties': '不可 NO',\n",
       "  'Permitted_to_USTEP_Students': '不可 NO',\n",
       "  'Classroom': 'Faculty of Science Bldg.1 (center) 1042',\n",
       "  'Language_in_Lecture': '日本語        Japanese',\n",
       "  'Schedule': '1. 計算機の活用：基礎編\\n     グラフィックス入門\\n     LaTeX入門\\n2. 計算機言語入門\\n     Fortran入門\\n     C入門\\n3. 計算機の活用：応用編\\n     計算グラフィックス演習\\n     データベースの活用\\n4. データ処理\\n     シグナルとノイズ\\n     データへの関数のフィッティング\\n     Python\\n     乱数の活用\\n5. 常微分方程式の数値解法：初期値問題\\n     Runge-Kutta法\\n     ポリトロープガス球とLane-Emden方程式\\n6. 常微分方程式の数値解法：境界値問題\\n     シューティング法\\n     フィッティング法\\n     境界値問題としてのLane-Emden方程式\\n     現実的な星の内部構造とHenyey法\\n7. 常微分方程式の数値解法：固有値問題\\n     Wronskianのゼロ点探し\\n     固有関数の計算\\n     星の固有振動\\n8. その他',\n",
       "  'Teaching_Methods': '講義と実習',\n",
       "  'Method_of_Evaluation': '各段階で課すレポート課題による',\n",
       "  'Required_Textbook': '講義で指定',\n",
       "  'Reference_Books': '講義で指定',\n",
       "  'Notes_on_Taking_the_Course': '計算機による実習があります。\\n学生端末室の端末を使用できますが、数に限りがあるため、天文学科の学生を優先します。'}]"
      ]
     },
     "execution_count": 121,
     "metadata": {},
     "output_type": "execute_result"
    }
   ],
   "source": [
    "search_catalog('Python')\n",
    "#search_catalog('生産')"
   ]
  },
  {
   "cell_type": "markdown",
   "metadata": {},
   "source": [
    "以下のセルによってテストしてください。\n",
    "\n",
    "Check if only 'True' is printed by running the following cell."
   ]
  },
  {
   "cell_type": "code",
   "execution_count": 122,
   "metadata": {},
   "outputs": [
    {
     "name": "stdout",
     "output_type": "stream",
     "text": [
      "True\n",
      "True\n",
      "True\n",
      "True\n"
     ]
    }
   ],
   "source": [
    "import json\n",
    "print(len(search_catalog('Python')) == 6)\n",
    "with open(\"found_courses.json\", \"r\", encoding='utf-8') as f:\n",
    "    pj = json.load(f)\n",
    "    print(len(pj) == 6)\n",
    "    print(pj[1]['title_j'] == '応用地理情報分析')\n",
    "    print(pj[5]['title_j'] == '計算天文学I')"
   ]
  }
 ],
 "metadata": {
  "kernelspec": {
   "display_name": "Python 3",
   "language": "python",
   "name": "python3"
  },
  "language_info": {
   "codemirror_mode": {
    "name": "ipython",
    "version": 3
   },
   "file_extension": ".py",
   "mimetype": "text/x-python",
   "name": "python",
   "nbconvert_exporter": "python",
   "pygments_lexer": "ipython3",
   "version": "3.7.0"
  }
 },
 "nbformat": 4,
 "nbformat_minor": 2
}
