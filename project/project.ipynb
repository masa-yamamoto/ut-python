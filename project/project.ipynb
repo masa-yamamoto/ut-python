{
 "cells": [
  {
   "cell_type": "markdown",
   "metadata": {},
   "source": [
    "# ミニプロジェクト --- 太宰治か宮沢賢治か？著者を推定してみよう\n",
    "\n",
    "著者が分からない小説について、太宰治の作品か宮沢賢治の作品かを推定する手法を実装しましょう。  \n",
    "\n",
    "このプロジェクトでは、[青空文庫](https://www.aozora.gr.jp/index.html) のテキストを使用します。\n",
    "ただし、ルビや入力者注を削除するなど編集を加えています。 \n",
    "また、両著者の小説の総文字数がおよそ同じになるように、太宰治の小説数を調整しています。\n",
    "\n",
    "太宰治の小説が81、宮沢賢治の小説が148、未知の著者の小説が10与えられています。\n",
    "太宰治と宮沢賢治の文章の傾向をそれぞれ調べて、未知の10の小説それぞれを太宰治と宮沢賢治のどちらが書いたかを推測します。\n",
    "文章の傾向を評価する指標はいくつか提案されていますが、その中で文字n-gramに対する統計的指標を用います。  \n",
    "\n",
    "例えば、宮沢賢治の小説では、文末が「です、ます」調であることが多いです。\n",
    "一方、太宰は「である」調が多いです。\n",
    "したがって、各著者の小説のbi-gramを集計すると、\n",
    "宮沢賢治の小説では`です`や`す。`の出現確率が高く、太宰治の小説では`ある`や`る。`の出現確率が高くなります。\n",
    "未知の著者の小説の`です`や`す。`の出現確率が`ある`や`る。`よりも高ければ、\n",
    "著者は宮沢賢治ではないか？と予想することができそうです。\n",
    "\n",
    "ですが、宮沢賢治の小説でも「である」調を使っているものがあります。\n",
    "そこで、著者ごとに、すべての文字n-gramの出現確率の分布を求めて、\n",
    "未知の著者の文字n-gram確率分布がどちらの著者のものに近いかを調べることにしましょう。  \n",
    "\n",
    "# Miniproject --- Guessing the author of a novel, 太宰治 or 宮沢賢治?\n",
    "\n",
    "Let's implement a method that guesses who wrote a novel of an unknown author, 太宰治 (Osamu Dazai) or 宮沢賢治 (Kenji Miyazawa).\n",
    "\n",
    "In this project, we use texts from [Aozora Bunko](https://www.aozora.gr.jp/index.html).\n",
    "We have modified the texts by removing rubies and notes written by those who typed the texts.\n",
    "We have also adjusted the number of novels by 太宰治 so that\n",
    "the total numbers of letters in novels of the two authors are nearly the same.\n",
    "\n",
    "We provide 81 novels by 太宰治, 148 novels by 宮沢賢治, and 10 novels by unknown authors.\n",
    "Observe the characteristics of the texts by 太治宰 and 宮沢賢治, and for each of the novels by unknown authors,\n",
    "guess who wrote it, 太宰治 or by 宮沢賢治.\n",
    "Among the known features for classifying texts, try to use statistical features of letter n-grams.\n",
    "\n",
    "For example, in the novels by 宮沢賢治, sentences tend to end in the です-ます style.\n",
    "On the other hand, in the novels by 太宰治, sentences tend to end with the である style.\n",
    "Therefore, given that the bi-grams in the novels by each author have been counted,\n",
    "the probability of occurrences of `です` or ` す。` should be high in the novels by 宮沢賢治,\n",
    "and that of `ある` or `る。` should be high in those by 太宰治.\n",
    "If the probability of `です` or ` す。` in the novel by an unknown author is higher than that of `ある` or `る。`,\n",
    "you can then conclude that the author is 宮沢賢治.\n",
    "\n",
    "However, some novels by 宮沢賢治 are written in the です-ます style.\n",
    "Therefore, compute the probabiliity distribution of all the letter n-grams of each of the authors,\n",
    "and observe the similarity between the probability distribution of letter-ngrams of an unknown author\n",
    "and that of 宮沢賢治 (太宰治)."
   ]
  },
  {
   "cell_type": "markdown",
   "metadata": {},
   "source": [
    "# 基礎課題\n",
    "\n",
    "## 準備\n",
    "\n",
    "第4回本課題で、json形式のファイルに入っている小説のテキストを扱いました。\n",
    "個々の小説は辞書によって表され、そのような辞書のリストがファイルに格納されています。\n",
    "このプロジェクトでは、`novels.json` というファイルに入っている辞書のリストを用います。\n",
    "辞書のリストを大域変数 `novels` に設定します。\n",
    "\n",
    "# Basic exercises\n",
    "\n",
    "## Preparation\n",
    "\n",
    "In the exercise of the 4th lecture, you delt with texts of novels stored in a file in json format.\n",
    "Each novel is represented by a dictionary, and a list of such dictionaries is stored in the file.\n",
    "In this project, you use a list of such dictionaries stored in the file `novels.json`.\n",
    "The global variable `novels` is defined as the list of dictionaries."
   ]
  },
  {
   "cell_type": "code",
   "execution_count": 1,
   "metadata": {},
   "outputs": [],
   "source": [
    "import json\n",
    "\n",
    "with open('novels.json', 'r', encoding='utf-8') as f:\n",
    "    novels = json.load(f)"
   ]
  },
  {
   "cell_type": "markdown",
   "metadata": {},
   "source": [
    "第3回本課題で、n-gram の求め方を学びました。\n",
    "以下の関数 `multiline_ngrams(n,text)` は、与えられたテキスト `text` に含まれるn-gramのリストを返します。\n",
    "\n",
    "In the exercise of the 3rd lecture, you learned how to compute n-grams.\n",
    "The following function `multiline_ngrams(n,text)` computes a list of n-grams that appear in the given text `text`."
   ]
  },
  {
   "cell_type": "code",
   "execution_count": 2,
   "metadata": {},
   "outputs": [],
   "source": [
    "def multiline_ngrams(n, text):\n",
    "    l = []\n",
    "    for sentence in text.split('\\n'):\n",
    "        for i in range(0, len(sentence)-n+1):\n",
    "            l.append(sentence[i:i+n])\n",
    "    return l"
   ]
  },
  {
   "cell_type": "markdown",
   "metadata": {},
   "source": [
    "以下の課題では、次のジェネレータを用いてもよいです。\n",
    "\n",
    "You can also use the following generator in the following exercises."
   ]
  },
  {
   "cell_type": "code",
   "execution_count": 3,
   "metadata": {},
   "outputs": [],
   "source": [
    "def multiline_ngrams_gen(n, text):\n",
    "    for sentence in text.split('\\n'):\n",
    "        for i in range(0, len(sentence)-n+1):\n",
    "            yield sentence[i:i+n]"
   ]
  },
  {
   "cell_type": "markdown",
   "metadata": {},
   "source": [
    "## 課題１：ngramの抽出\n",
    "\n",
    "引数 `novels` に入っている小説のうち、`author` が書いた小説に現れるすべてのn-gramのリストもしくはイテレータを返す関数\n",
    "`author_ngrams(n,author,novels)` を定義してください。\n",
    "引数 `author` に著者名（太宰治か宮沢賢治）が渡されます。\n",
    "引数 `novels` には、大域変数 `novels` の値が渡されることが想定されます。\n",
    "\n",
    "各n-gramは、著者のすべての小説に現れる回数だけリストもしくはイテレータに現れなければなりません。\n",
    "\n",
    "## Exercise 1: Extraction of n-grams\n",
    "\n",
    "Define a function `author_ngrams(n,author,novels)` which returns a list or iterator of all n-grams\n",
    "that appear in the texts in `novels` each of which is written by `author`.\n",
    "the parameter `author` is 太宰治 or 宮沢賢治.\n",
    "The value of the global variable `novels` is given as the parameter `novels`.\n",
    "\n",
    "Each n-gram must appear in the list or iterator as many times as it appears in all the novels by the author."
   ]
  },
  {
   "cell_type": "code",
   "execution_count": 4,
   "metadata": {},
   "outputs": [],
   "source": [
    "def author_ngrams(n, author, novels): #もっと短く書ける\n",
    "    novels_author = []\n",
    "    for i in range(len(novels)):\n",
    "        if novels[i][\"author\"] == author:\n",
    "            novels_author.append(novels[i])\n",
    "    \n",
    "    ngrams_list = []\n",
    "    for i in range(len(novels_author)):\n",
    "        ngrams_list += multiline_ngrams(n, novels_author[i][\"text\"])\n",
    "        \n",
    "    return ngrams_list"
   ]
  },
  {
   "cell_type": "markdown",
   "metadata": {},
   "source": [
    "以下の文を実行して `True` のみが表示されることを確認してください。\n",
    "\n",
    "Execute the following statements and check if only `True` is printed."
   ]
  },
  {
   "cell_type": "code",
   "execution_count": 5,
   "metadata": {
    "scrolled": true
   },
   "outputs": [
    {
     "name": "stdout",
     "output_type": "stream",
     "text": [
      "True\n",
      "True\n",
      "True\n",
      "True\n"
     ]
    }
   ],
   "source": [
    "print(len(list(author_ngrams(3, '太宰治', novels))) == 899275)\n",
    "print(len(list(author_ngrams(3, '宮沢賢治', novels))) == 864223)\n",
    "print(list(author_ngrams(3, '太宰治', novels)).count('である') == 2891)\n",
    "print(list(author_ngrams(3, '宮沢賢治', novels)).count('である') == 290)"
   ]
  },
  {
   "cell_type": "markdown",
   "metadata": {},
   "source": [
    "未知の著者の名前は `'UN0'` ～ `'UN9'` と定義されています。\n",
    "\n",
    "The names of unknown authors are denoted as `'UN0'` ... `'UN9'`."
   ]
  },
  {
   "cell_type": "code",
   "execution_count": 6,
   "metadata": {},
   "outputs": [
    {
     "name": "stdout",
     "output_type": "stream",
     "text": [
      "True\n"
     ]
    }
   ],
   "source": [
    "print(len(list(author_ngrams(3, 'UN3', novels))) == 13425)"
   ]
  },
  {
   "cell_type": "markdown",
   "metadata": {},
   "source": [
    "## 課題２：n-gramの出現回数\n",
    "\n",
    "n-gramのリストもしくはイテレータが与えられたとき、各々のn-gramをキーとして、\n",
    "その出現回数を値（バリュー）とする辞書を返す関数 `histogram(ngs)` を定義してください。\n",
    "引数 `ngs` には、n-gramのリストが与えられます。\n",
    "\n",
    "## Exercise 2: Occurrences of n-grams\n",
    "\n",
    "Define a function `histogram(ngs)`,\n",
    "which is given a list or iterator of n-grams and returns a dictonary whose keys are n-grams\n",
    "with the number of their occurrences as their value.\n",
    "The parameter `ngs` is a list of n-grams."
   ]
  },
  {
   "cell_type": "code",
   "execution_count": 7,
   "metadata": {},
   "outputs": [],
   "source": [
    "def histogram(ngs):\n",
    "    ngram_count_dic = {}\n",
    "    for i in range(len(ngs)):\n",
    "        if ngram_count_dic.get(ngs[i]) == None:\n",
    "            ngram_count_dic[ngs[i]] = 1\n",
    "        else:\n",
    "            ngram_count_dic[ngs[i]] += 1\n",
    "    return ngram_count_dic"
   ]
  },
  {
   "cell_type": "markdown",
   "metadata": {},
   "source": [
    "以下の文を実行して `True` のみが表示されることを確認してください。\n",
    "\n",
    "Execute the following statements and check if only `True` is printed."
   ]
  },
  {
   "cell_type": "code",
   "execution_count": 8,
   "metadata": {},
   "outputs": [
    {
     "name": "stdout",
     "output_type": "stream",
     "text": [
      "True\n",
      "True\n",
      "True\n",
      "True\n",
      "True\n",
      "True\n",
      "True\n",
      "True\n"
     ]
    }
   ],
   "source": [
    "dazai_histogram = histogram(author_ngrams(3, '太宰治', novels))\n",
    "miyazawa_histogram = histogram(author_ngrams(3, '宮沢賢治', novels))\n",
    "un0_histogram = histogram(author_ngrams(3, 'UN0', novels))\n",
    "print(len(dazai_histogram) == 268576)\n",
    "print(len(miyazawa_histogram) == 244874)\n",
    "print(dazai_histogram['である'] == 2891)\n",
    "print(miyazawa_histogram['である'] == 290)\n",
    "print(dazai_histogram['です。'] == 1203)\n",
    "print(miyazawa_histogram['です。'] == 1866)\n",
    "print(un0_histogram['である'] == 4)\n",
    "print(un0_histogram['です。'] == 18)"
   ]
  },
  {
   "cell_type": "markdown",
   "metadata": {},
   "source": [
    "## 課題３：n-gramの確率分布\n",
    "\n",
    "課題２で定義した `histogram` によって算出されたn-gram出現回数の分布 `hist` が与えられたら、\n",
    "n-gramの確率分布を返す関数 `probability_distribution(hist)` を定義してください。\n",
    "各n-gramの出現回数を、全n-gramの出現回数の総和で割ればよいです。\n",
    "関数 `probability_distribution` は、n-gramをキーとしてその出現の確率を値とする辞書を返します。\n",
    "\n",
    "## Exercies 3: Probability ditributions of n-grams\n",
    "\n",
    "Define a function `probability_distribution(hist)`,\n",
    "which is given a distribution of occurrences of n-grams `hist` computed by the function `histogram` in Exercise 2,\n",
    "and returns the probability distribution of n-grams.\n",
    "The number of occurrences of each n-gram is divided by the total number of occurrences of all the n-grams.\n",
    "The function `probability_distribution` returns a dictionary\n",
    "whose keys are n-grams with the probability of their occurrences as their value."
   ]
  },
  {
   "cell_type": "code",
   "execution_count": 9,
   "metadata": {},
   "outputs": [],
   "source": [
    "def probability_distribution(hist):\n",
    "    value_list = hist.values()\n",
    "    count_all = 0\n",
    "    for i in value_list:\n",
    "        count_all += int(i)\n",
    "        \n",
    "    pd_ngram = {}\n",
    "    for key in hist:\n",
    "        pd_ngram[key] = int(hist[key])/count_all\n",
    "    return pd_ngram"
   ]
  },
  {
   "cell_type": "markdown",
   "metadata": {},
   "source": [
    "以下の文を実行して `True` のみが表示されることを確認してください。\n",
    "\n",
    "Execute the following statements and check if only `True` is printed."
   ]
  },
  {
   "cell_type": "code",
   "execution_count": 10,
   "metadata": {},
   "outputs": [
    {
     "name": "stdout",
     "output_type": "stream",
     "text": [
      "True\n",
      "True\n"
     ]
    }
   ],
   "source": [
    "print(round(probability_distribution(dazai_histogram)['である']*10**8) == 321481)\n",
    "print(round(probability_distribution(miyazawa_histogram)['である']*10**8) == 33556)"
   ]
  },
  {
   "cell_type": "markdown",
   "metadata": {},
   "source": [
    "## 課題４：n-gramの確率分布間の距離\n",
    "\n",
    "いよいよ異なる文書におけるn-gramの確率分布の間の距離を計算していきます。\n",
    "$d_1$ と $d_2$ という二つのn-gram確率分布が与えられたとしましょう。\n",
    "以下の数式では、n-gram $x$ に対して $d_i(x)$ は $d_i$ における $x$ の確率を表します。\n",
    "\n",
    "$d_1$ と $d_2$ のTankard距離は、各々のn-gramの二つのテキストにおける出現確率の差の総和です。\n",
    "同じn-gramの確率の差が大きければ大きいほど、二つの文書は異なると考えられます。\n",
    "すべてのn-gramに対してその差の平均を求めます。\n",
    "したがって、Tankard距離は次のように定義されます。 \n",
    "\n",
    "$\\mbox{Tankard}(d_1, d_2) = \n",
    "\\frac{1}{\\mbox{card}(C)} \\sum_{x \\in C} {|d_1(x) - d_2(x)|}$\n",
    "\n",
    "ここで、$C$ は $d_1$ と $d_1$ の両方で確率が正になるn-gramの集合を表していて、以下のように定義されます。\n",
    "\n",
    "$C = \\{~x~|~d_1(x)>0~\\mbox{かつ}~d_2(x) > 0 \\}$\n",
    "\n",
    "$\\mbox{card}(C)$ は集合 $C$ の要素数を表します。\n",
    "\n",
    "n-gram確率分布が辞書で表されているとき、辞書に登録されていないn-gramの確率は0と考えます。\n",
    "\n",
    "では、二つのn-gram確率分布が辞書 `d1` と `d2` として与えられたとき、それらの間のTankard距離を返す関数 `Tankard(d1,d2)` を定義してください。\n",
    "\n",
    "## Exercise 4: Distance between probability distributions of n-grams\n",
    "\n",
    "You now compute the distance between probability distributions of n-grams in different texts.\n",
    "Suppose that two n-gram probability distributions $d_1$ and $d_2$ are given.\n",
    "In the following mathematical expressions, $d_i(x)$ denotes the probability of an n-gram $x$ in $d_i$.\n",
    "\n",
    "The Tankard distance between $d_1$ and $d_2$ is obtained by adding the difference of the probabilities\n",
    "of each n-gram in the two texts.\n",
    "If the difference of the probabilities of each n-gram is larger, the two texts are considered more different.\n",
    "The average difference for all n-grams is then computed.\n",
    "The Tankard distance is therefore defined as follows.\n",
    "\n",
    "$\\mbox{Tankard}(d_1, d_2) =\n",
    "\\frac{1}{\\mbox{card}(C)} \\sum_{x \\in C} {|d_1(x) - d_2(x)|}$,\n",
    "\n",
    "in which $C$ denotes the set of n-grams whose probabilities in $d_1$ and $d_1$ are both positive, that is,\n",
    "\n",
    "$C = \\{~x~|~d_1(x)>0~\\mbox{ and }~d_2(x) > 0 \\}$,\n",
    "\n",
    "and $\\mbox{card}(C)$ denotes the number of elements in $C$.\n",
    "\n",
    "If an n-gram probability distribution is represented by a dictionary,\n",
    "the probability of an n-gram that is not stored in the dictionary is considered 0.\n",
    "\n",
    "Now, define a function `Tankard(d1,d2)` that returns the Tankard distance\n",
    "between the two n-gram probability distributions `d1` and `d2` that are given as dictionaries."
   ]
  },
  {
   "cell_type": "code",
   "execution_count": 11,
   "metadata": {},
   "outputs": [],
   "source": [
    "def Tankard(d1, d2):\n",
    "    C = []\n",
    "    d1_key = list(d1.keys())\n",
    "    d2_key = list(d2.keys())\n",
    "    if len(d1_key) >= len(d2_key):\n",
    "        for key in d1_key:\n",
    "            if d2.get(key) != None: #.countはエラー出やすい。.getが無難\n",
    "                C.append(key)\n",
    "    else:\n",
    "        for key in d2_key:\n",
    "            if d1.get(key) != None:\n",
    "                C.append(key)   \n",
    "    card_C = len(C)\n",
    "    \n",
    "    abs_sum = 0\n",
    "    for c in C:\n",
    "        abs_sum += abs(d1[c] - d2[c])\n",
    "    \n",
    "    tankard = abs_sum / card_C\n",
    "    return tankard"
   ]
  },
  {
   "cell_type": "markdown",
   "metadata": {},
   "source": [
    "以下の文を実行して `True` のみが表示されることを確認してください。\n",
    "\n",
    "Execute the following statement and check if only `True` is printed."
   ]
  },
  {
   "cell_type": "code",
   "execution_count": 12,
   "metadata": {},
   "outputs": [
    {
     "name": "stdout",
     "output_type": "stream",
     "text": [
      "True\n",
      "8.56638847730773e-06\n"
     ]
    }
   ],
   "source": [
    "print(round(Tankard(probability_distribution(dazai_histogram),probability_distribution(miyazawa_histogram))*10**8) == 857)\n",
    "print(Tankard(probability_distribution(dazai_histogram),probability_distribution(miyazawa_histogram)))"
   ]
  },
  {
   "cell_type": "markdown",
   "metadata": {},
   "source": [
    "## 課題５：著者の推定\n",
    "\n",
    "著者が未知の小説のそれぞれに対して、太宰治か宮沢賢治のどちらが書いたかを推測しましょう。\n",
    "次の関数 `which_author(n,un,novels)` を定義してください。\n",
    "* 関数 `which_author(n,un,novels)` は、正の整数 `n` と未知の著者 `un`（`'UN0'` ～ `'UN9'`）と小説のリスト `novels` を受け取り、\n",
    "* 著者 `un` と太宰治のn-gram確率分布の間のTankard距離と、\n",
    "* 著者 `un` と宮沢賢治の間の距離を求め、\n",
    "* `un` と太宰治の距離が`un` と宮沢賢治の方よりも小さければ、文字列 `'太宰治'` を返し、\n",
    "* そうでなければ、文字列 `'宮沢賢治'` を返します。\n",
    "\n",
    "## Exercise 5: Guessing the author\n",
    "\n",
    "For the novel by each unknown author, try to guess who wrote it, 太宰治 or 宮沢賢治.\n",
    "Define a function `which_author(n,un,novels)`.\n",
    "* The function `which_author(n,un,novels)` is given a positive integer `n`,\n",
    "the name of an unknown author `un` (`'UN0'` ... `'UN9`), and the list of novels `novels`.\n",
    "* It then computes the Tankard distance between the n-gram probability distribution of the author `un` and that of 太宰治, and\n",
    "* the distance between the ditribution of `un` and that of 宮沢賢治.\n",
    "* If the distance between `un` and 太宰治 is smaller than that between `un` and 宮沢賢治, it returns `'太宰治'`, and\n",
    "* it returns `'宮沢賢治'` otherwise."
   ]
  },
  {
   "cell_type": "code",
   "execution_count": 13,
   "metadata": {},
   "outputs": [],
   "source": [
    "def which_author(n, un, novels):\n",
    "    tankard_dazai_un = Tankard(probability_distribution(histogram(author_ngrams(n, un, novels))), \n",
    "                               probability_distribution(histogram(author_ngrams(n, \"太宰治\", novels))))\n",
    "    tankard_miyazawa_un = Tankard(probability_distribution(histogram(author_ngrams(n, un, novels))), \n",
    "                               probability_distribution(histogram(author_ngrams(n, \"宮沢賢治\", novels))))\n",
    "    if tankard_dazai_un < tankard_miyazawa_un:\n",
    "        return \"太宰治\"\n",
    "    else:\n",
    "        return \"宮沢賢治\""
   ]
  },
  {
   "cell_type": "markdown",
   "metadata": {},
   "source": [
    "以下の文を実行して `True` のみが表示されることを確認してください。\n",
    "\n",
    "Execute the following statements and check if only `True` is printed."
   ]
  },
  {
   "cell_type": "code",
   "execution_count": 14,
   "metadata": {},
   "outputs": [
    {
     "name": "stdout",
     "output_type": "stream",
     "text": [
      "True\n",
      "True\n"
     ]
    }
   ],
   "source": [
    "print(which_author(3,'UN0',novels) == '太宰治')\n",
    "print(which_author(3,'UN9',novels) == '宮沢賢治')"
   ]
  },
  {
   "cell_type": "markdown",
   "metadata": {},
   "source": [
    "以下の文は `'UN0'` ～ `'UN9'` のすべてを検証します。`True` のみが表示されることを確認してください。\n",
    "\n",
    "The following statement verifies all of `'UN0'` ... `'UN9`.  Check if only `True` is printed."
   ]
  },
  {
   "cell_type": "code",
   "execution_count": 15,
   "metadata": {},
   "outputs": [
    {
     "name": "stdout",
     "output_type": "stream",
     "text": [
      "True\n",
      "True\n",
      "True\n",
      "True\n",
      "True\n",
      "True\n",
      "True\n",
      "True\n",
      "True\n",
      "True\n"
     ]
    }
   ],
   "source": [
    "with open('novels.json', 'r', encoding='utf-8') as f:\n",
    "    for novel in json.load(f):\n",
    "        if 'UN' in novel['author']:\n",
    "            print(which_author(3, novel['author'], novels) == novel['true_author'])"
   ]
  },
  {
   "cell_type": "markdown",
   "metadata": {},
   "source": [
    "# 発展課題\n",
    "\n",
    "以上の課題では、既に著者（太宰治か宮沢賢治）がわかっている小説を用いて、未知の著者の小説を誰が書いたかを推測しました。\n",
    "\n",
    "この課題では、239の小説を、著者の情報を用いずに本文だけを用いて、二つのグループ（クラスタ）に分類することを試みてください。\n",
    "\n",
    "たとえば、7-2で学んだk-means法 `KMeans` を用いることができます。\n",
    "そのためには、各小説に対して、何らかの特徴量を定義しなければなりません。\n",
    "いくつかのn-gramの出現確率を用いることができるでしょう。\n",
    "* たとえば、bi-gramやtri-gramのうち、出現回数が多いものを200個程度選びます。\n",
    "* 各小説に対して、それぞれのn-gramの出現回数を小説の長さで割って特徴量とします。\n",
    "* `KMeans` を呼び出すときには、クラスタ数を2ではなく、3以上にするとうまく行くかもしれません。\n",
    "* `n_init=100` などと指定して `n_init` を増やすと結果が安定します（デフォールトは10）。\n",
    "\n",
    "用いたクラスタリングの方法と書いたプログラム、および、クラスタリングの結果を報告してください。\n",
    "もちろん、完全に正しいクラスタを得ることは非常に難しいです。\n",
    "自分なりに試したこととその結果（悪くても構いません）を報告ください。\n",
    "\n",
    "# Advanced exercise\n",
    "\n",
    "In the above exercises, you tried to guess who wrote novels by unknowns authors,\n",
    "given a set of novels of known authors (太宰治 or 宮沢賢治),\n",
    "\n",
    "In this exercise, let's try to classify 239 novels into two groups (clusters),\n",
    "only using the texts of the novels\n",
    "\n",
    "For example, the k-means method `KMeans` explained in 7-2 can be used.\n",
    "For using `KMeans`, you should define some features for each novel.\n",
    "The probabilities of some n-grams can be used.\n",
    "* For example, choose about 200 bi-grams or tri-grams which are highly ranked with respect to the number of occurrences.\n",
    "* For each novel, define a feature as the number of occurrences of an n-gram divided by the length of the novel.\n",
    "* When calling `KMeans`, the number of clusters need not be 2. Specifying 3 or more clusters may produce a good result.\n",
    "* If you increase`n_init` as in `n_init=100` (its default is 10), the result will be more stable.\n",
    "\n",
    "Report the method for clustering you use, the program you write, and the result of clustering.\n",
    "Of course, to obtain completely correct clusters is very difficult.\n",
    "Report what you try and the result, which may be not so good."
   ]
  },
  {
   "cell_type": "code",
   "execution_count": null,
   "metadata": {},
   "outputs": [],
   "source": []
  },
  {
   "cell_type": "markdown",
   "metadata": {},
   "source": [
    "なお、以下のようにして、各小説に対して、著者の情報を取り出すことができます。\n",
    "（未知の小説に対しては、`true_author` というキーで本当の著者が格納されています。）\n",
    "\n",
    "Information about the authors can be extraced from `novels.json` as follows.\n",
    "(For the novels of unknown authors, the actual authors are stored with the key `true_author`.)"
   ]
  },
  {
   "cell_type": "code",
   "execution_count": 16,
   "metadata": {},
   "outputs": [
    {
     "data": {
      "text/plain": [
       "['太宰治',\n",
       " '太宰治',\n",
       " '太宰治',\n",
       " '太宰治',\n",
       " '太宰治',\n",
       " '太宰治',\n",
       " '太宰治',\n",
       " '太宰治',\n",
       " '太宰治',\n",
       " '太宰治',\n",
       " '太宰治',\n",
       " '太宰治',\n",
       " '太宰治',\n",
       " '太宰治',\n",
       " '太宰治',\n",
       " '太宰治',\n",
       " '太宰治',\n",
       " '太宰治',\n",
       " '太宰治',\n",
       " '太宰治',\n",
       " '太宰治',\n",
       " '太宰治',\n",
       " '太宰治',\n",
       " '太宰治',\n",
       " '太宰治',\n",
       " '太宰治',\n",
       " '太宰治',\n",
       " '太宰治',\n",
       " '太宰治',\n",
       " '太宰治',\n",
       " '太宰治',\n",
       " '太宰治',\n",
       " '太宰治',\n",
       " '太宰治',\n",
       " '太宰治',\n",
       " '太宰治',\n",
       " '太宰治',\n",
       " '太宰治',\n",
       " '太宰治',\n",
       " '太宰治',\n",
       " '太宰治',\n",
       " '太宰治',\n",
       " '太宰治',\n",
       " '太宰治',\n",
       " '太宰治',\n",
       " '太宰治',\n",
       " '太宰治',\n",
       " '太宰治',\n",
       " '太宰治',\n",
       " '太宰治',\n",
       " '太宰治',\n",
       " '太宰治',\n",
       " '太宰治',\n",
       " '太宰治',\n",
       " '太宰治',\n",
       " '太宰治',\n",
       " '太宰治',\n",
       " '太宰治',\n",
       " '太宰治',\n",
       " '太宰治',\n",
       " '太宰治',\n",
       " '太宰治',\n",
       " '太宰治',\n",
       " '太宰治',\n",
       " '太宰治',\n",
       " '太宰治',\n",
       " '太宰治',\n",
       " '太宰治',\n",
       " '太宰治',\n",
       " '太宰治',\n",
       " '太宰治',\n",
       " '太宰治',\n",
       " '太宰治',\n",
       " '太宰治',\n",
       " '太宰治',\n",
       " '太宰治',\n",
       " '太宰治',\n",
       " '太宰治',\n",
       " '太宰治',\n",
       " '太宰治',\n",
       " '太宰治',\n",
       " '宮沢賢治',\n",
       " '宮沢賢治',\n",
       " '宮沢賢治',\n",
       " '宮沢賢治',\n",
       " '宮沢賢治',\n",
       " '宮沢賢治',\n",
       " '宮沢賢治',\n",
       " '宮沢賢治',\n",
       " '宮沢賢治',\n",
       " '宮沢賢治',\n",
       " '宮沢賢治',\n",
       " '宮沢賢治',\n",
       " '宮沢賢治',\n",
       " '宮沢賢治',\n",
       " '宮沢賢治',\n",
       " '宮沢賢治',\n",
       " '宮沢賢治',\n",
       " '宮沢賢治',\n",
       " '宮沢賢治',\n",
       " '宮沢賢治',\n",
       " '宮沢賢治',\n",
       " '宮沢賢治',\n",
       " '宮沢賢治',\n",
       " '宮沢賢治',\n",
       " '宮沢賢治',\n",
       " '宮沢賢治',\n",
       " '宮沢賢治',\n",
       " '宮沢賢治',\n",
       " '宮沢賢治',\n",
       " '宮沢賢治',\n",
       " '宮沢賢治',\n",
       " '宮沢賢治',\n",
       " '宮沢賢治',\n",
       " '宮沢賢治',\n",
       " '宮沢賢治',\n",
       " '宮沢賢治',\n",
       " '宮沢賢治',\n",
       " '宮沢賢治',\n",
       " '宮沢賢治',\n",
       " '宮沢賢治',\n",
       " '宮沢賢治',\n",
       " '宮沢賢治',\n",
       " '宮沢賢治',\n",
       " '宮沢賢治',\n",
       " '宮沢賢治',\n",
       " '宮沢賢治',\n",
       " '宮沢賢治',\n",
       " '宮沢賢治',\n",
       " '宮沢賢治',\n",
       " '宮沢賢治',\n",
       " '宮沢賢治',\n",
       " '宮沢賢治',\n",
       " '宮沢賢治',\n",
       " '宮沢賢治',\n",
       " '宮沢賢治',\n",
       " '宮沢賢治',\n",
       " '宮沢賢治',\n",
       " '宮沢賢治',\n",
       " '宮沢賢治',\n",
       " '宮沢賢治',\n",
       " '宮沢賢治',\n",
       " '宮沢賢治',\n",
       " '宮沢賢治',\n",
       " '宮沢賢治',\n",
       " '宮沢賢治',\n",
       " '宮沢賢治',\n",
       " '宮沢賢治',\n",
       " '宮沢賢治',\n",
       " '宮沢賢治',\n",
       " '宮沢賢治',\n",
       " '宮沢賢治',\n",
       " '宮沢賢治',\n",
       " '宮沢賢治',\n",
       " '宮沢賢治',\n",
       " '宮沢賢治',\n",
       " '宮沢賢治',\n",
       " '宮沢賢治',\n",
       " '宮沢賢治',\n",
       " '宮沢賢治',\n",
       " '宮沢賢治',\n",
       " '宮沢賢治',\n",
       " '宮沢賢治',\n",
       " '宮沢賢治',\n",
       " '宮沢賢治',\n",
       " '宮沢賢治',\n",
       " '宮沢賢治',\n",
       " '宮沢賢治',\n",
       " '宮沢賢治',\n",
       " '宮沢賢治',\n",
       " '宮沢賢治',\n",
       " '宮沢賢治',\n",
       " '宮沢賢治',\n",
       " '宮沢賢治',\n",
       " '宮沢賢治',\n",
       " '宮沢賢治',\n",
       " '宮沢賢治',\n",
       " '宮沢賢治',\n",
       " '宮沢賢治',\n",
       " '宮沢賢治',\n",
       " '宮沢賢治',\n",
       " '宮沢賢治',\n",
       " '宮沢賢治',\n",
       " '宮沢賢治',\n",
       " '宮沢賢治',\n",
       " '宮沢賢治',\n",
       " '宮沢賢治',\n",
       " '宮沢賢治',\n",
       " '宮沢賢治',\n",
       " '宮沢賢治',\n",
       " '宮沢賢治',\n",
       " '宮沢賢治',\n",
       " '宮沢賢治',\n",
       " '宮沢賢治',\n",
       " '宮沢賢治',\n",
       " '宮沢賢治',\n",
       " '宮沢賢治',\n",
       " '宮沢賢治',\n",
       " '宮沢賢治',\n",
       " '宮沢賢治',\n",
       " '宮沢賢治',\n",
       " '宮沢賢治',\n",
       " '宮沢賢治',\n",
       " '宮沢賢治',\n",
       " '宮沢賢治',\n",
       " '宮沢賢治',\n",
       " '宮沢賢治',\n",
       " '宮沢賢治',\n",
       " '宮沢賢治',\n",
       " '宮沢賢治',\n",
       " '宮沢賢治',\n",
       " '宮沢賢治',\n",
       " '宮沢賢治',\n",
       " '宮沢賢治',\n",
       " '宮沢賢治',\n",
       " '宮沢賢治',\n",
       " '宮沢賢治',\n",
       " '宮沢賢治',\n",
       " '宮沢賢治',\n",
       " '宮沢賢治',\n",
       " '宮沢賢治',\n",
       " '宮沢賢治',\n",
       " '宮沢賢治',\n",
       " '宮沢賢治',\n",
       " '宮沢賢治',\n",
       " '宮沢賢治',\n",
       " '宮沢賢治',\n",
       " '宮沢賢治',\n",
       " '宮沢賢治',\n",
       " '太宰治',\n",
       " '太宰治',\n",
       " '太宰治',\n",
       " '太宰治',\n",
       " '太宰治',\n",
       " '宮沢賢治',\n",
       " '宮沢賢治',\n",
       " '宮沢賢治',\n",
       " '宮沢賢治',\n",
       " '宮沢賢治']"
      ]
     },
     "execution_count": 16,
     "metadata": {},
     "output_type": "execute_result"
    }
   ],
   "source": [
    "answers = ['太宰治' if novel['author']=='太宰治' or novel.get('true_author',None)=='太宰治' else '宮沢賢治' for novel in novels]\n",
    "answers"
   ]
  },
  {
   "cell_type": "code",
   "execution_count": null,
   "metadata": {},
   "outputs": [],
   "source": []
  }
 ],
 "metadata": {
  "kernelspec": {
   "display_name": "Python 3",
   "language": "python",
   "name": "python3"
  },
  "language_info": {
   "codemirror_mode": {
    "name": "ipython",
    "version": 3
   },
   "file_extension": ".py",
   "mimetype": "text/x-python",
   "name": "python",
   "nbconvert_exporter": "python",
   "pygments_lexer": "ipython3",
   "version": "3.7.3"
  }
 },
 "nbformat": 4,
 "nbformat_minor": 2
}
