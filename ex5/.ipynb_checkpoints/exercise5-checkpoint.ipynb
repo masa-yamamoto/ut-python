{
 "cells": [
  {
   "cell_type": "markdown",
   "metadata": {},
   "source": [
    "# 第5回本課題"
   ]
  },
  {
   "cell_type": "markdown",
   "metadata": {},
   "source": [
    "<b>課題提出にあたっては、このファイル `exercise5.ipynb` ではなく、 `extractor.py` を提出する様にして下さい。</b>\n",
    "\n",
    "書籍情報を含むファイルの名前を引数として受け取って、そのファイルから幾つかの情報を辞書に格納してjsonファイルにダンプするPythonプログラム `extractor.py` を作成して下さい。  \n",
    "\n",
    "具体的には、`extractor.py` は以下の様に設計して下さい。\n",
    "\n",
    "このプログラムは次の様に呼び出します。\n",
    "\n",
    "```console\n",
    " python extractor.py ファイルA\n",
    "```\n",
    "\n",
    "あるいは\n",
    "\n",
    "```console\n",
    " python3 extractor.py ファイルA\n",
    "```\n",
    "\n",
    "このとき、 `ファイルA` には書籍情報（著者名、本文）が格納されているものとします。\n",
    "\n",
    "ファイル内の書籍情報は必ず次の書式で格納されています。\n",
    "\n",
    "著者名は `<h1 class=\"author\">` と `</h1>` というタグに挟まれて格納されています。\n",
    "例えば、引数に指定された本の著者が「宮沢賢治」である場合、ファイルは次の様な文字列を含みます。\n",
    "\n",
    "`<h1 class=\"author\">宮沢賢治</h1>`\n",
    "\n",
    "本文の `X` $(=1, 2, \\ldots)$ 番目の段落を構成する文章は、`<p pno=X>` と `</p>` というタグに挟まれて格納されています。ただし、各段落は必ず順番通り（`pno`の小さい順）にファイルに格納されているものとします。\n",
    "\n",
    " `extractor.py` では、次の様な辞書を作成し、その値を jsonファイル `out.json` にダンプして下さい。\n",
    " \n",
    "* キー `author` の値は著者名とする。\n",
    "* キー `text` の値は「連結した本文」とする。 ただし、「連結した本文」は次の様に構成すること。\n",
    "    * 本文が `n` 段落で構成されている場合、`1` 番目から `n` 番目までの段落を順番に1つに連結する。\n",
    "    * 本文の中に含まれる改行タグ (改行記号 `<br>`) は `\\n` に置換する。\n",
    "\n",
    "ただし、書籍情報のファイルの中身は必ず以下の様な形式で記述されているものとします。\n",
    "* `h1, p` という文字列はタグ（ `<h1 ...>, </h1>, <p ...>, </p>` ）以外では現れない。\n",
    "* `author` という文字列はファイル内において一度だけ現れる。\n",
    "* `pno` という文字列はタグ `<p>` の中にのみ現れる。\n",
    "* `\\n` はファイル内には含まれない 。\n",
    "\n",
    "なお、ファイルをオープンするときは `encoding=\"utf-8\"` を指定して下さい。\n",
    "\n",
    "解答にはこれまでの学習してきた教材のノートに出てくるモジュール以外のモジュールを利用して解答してはいけません。\n",
    "\n",
    "配布しているファイル `extractor.py` の `...` という箇所を適宜書き換えて解答を作成して下さい。"
   ]
  },
  {
   "cell_type": "markdown",
   "metadata": {},
   "source": [
    "<b>When submitting your answer, you must submit not `exercise5.ipynb` but `extractor.py` .</b>\n",
    "\n",
    "Write your code in a file, named `extractor.py`, which dumps a dictionary to a json file, in which the dictionary is constructed by extracting some of information on a book, which is included in a file whose name is given as an argument when `extractor.py` is run. \n",
    "\n",
    "Specifically, `extractor.py` should be designed as follows: \n",
    "\n",
    "This program is run in the following way: \n",
    "\n",
    "```console\n",
    " python extractor.py ファイルA\n",
    "```\n",
    "\n",
    "or\n",
    "\n",
    "```console\n",
    " python3 extractor.py ファイルA\n",
    "```\n",
    ". \n",
    "\n",
    "Assume that the file `ファイルA` contains information on a book, namely, the author name and the text. \n",
    "\n",
    "Such a file contains information on a book in the following style: \n",
    "\n",
    "The author name of the book is between `<h1 class=\"author\">` and `</h1>` in the file. \n",
    "For example, if the author of the book is 宮沢賢治, then the file contains the string `<h1 class=\"author\">宮沢賢治</h1>` .\n",
    "\n",
    "The sentences composing the `X` $(=1, 2, \\ldots)$th paragraph of the text are between the elements  `<p pno=X>` and `</p>` . \n",
    "\n",
    "Paragraphs are contained in a sequential order (i.e., in increasing order of  `pno` ) in the file. \n",
    "\n",
    "Write a code in `extractor.py` which dumps the following dictionary to a json file, named `out.json` . \n",
    " \n",
    "* The value of the key `author` is the author name. \n",
    "* The value of the `text` is the <i>concatenated text</i>, which shold be constructed as follows: \n",
    "    * If the text of the book consists of `n` paragraphs, then the paragraphs are concatenated in order from the first to the `n`th paragraph. \n",
    "    * Each hard line-break element (`<br>`) in the text must be replaced with `\\n` . \n",
    "\n",
    "Note that contents in a file containing information on a novel are written in the following format: \n",
    "* If a string `h1` ( ` p` ) appears in the text, it composes the html element `<h1 ...>` or `</h1>` (`<p ...>` or `</p>`). \n",
    "* The string `author` appears exactly once in the file. \n",
    "* If a string `pno` appears, it does in an element `<p>` .\n",
    "* `\\n` does not appear in the file. \n",
    "\n",
    "When you open a file, `encoding=\"utf-8\"` should be used. \n",
    "\n",
    "Do not use modules except for the ones which were introduced in the past notebooks of this class. \n",
    "\n",
    "Remove `...` in the given file `extractor.py` and write your answer. "
   ]
  },
  {
   "cell_type": "markdown",
   "metadata": {},
   "source": [
    "配布しているファイル `sample.html` の名前を引数に取って、 `out.json` を作成したら、以下のセルを実行し、結果が `True` となることを確認して下さい。"
   ]
  },
  {
   "cell_type": "markdown",
   "metadata": {},
   "source": [
    "After the execution with the given file named `sample.html` as an argument, you obtain  `out.json` and check if only `True`s are printed by executing following cell. "
   ]
  },
  {
   "cell_type": "code",
   "execution_count": 4,
   "metadata": {},
   "outputs": [
    {
     "name": "stdout",
     "output_type": "stream",
     "text": [
      "True True\n",
      "4371 68\n"
     ]
    }
   ],
   "source": [
    "import json\n",
    "with open(\"out.json\", \"r\", encoding=\"utf-8\") as f:\n",
    "    dic1 = json.load(f)\n",
    "print(len(dic1[\"text\"]) == 4371, dic1[\"text\"].count(\"\\n\") == 68)\n",
    "for str1 in dic1:\n",
    "    if \"p\" in dic1[str1] or \"h1\" in dic1[str1] or \"h2\" in dic1[str1] or \"html\" in dic1[str1] or \"body\" in dic1[str1]:\n",
    "        print(False)\n",
    "\n",
    "print(len(dic1[\"text\"]), dic1[\"text\"].count(\"\\n\"))"
   ]
  },
  {
   "cell_type": "markdown",
   "metadata": {},
   "source": [
    "配布しているファイル `sample2.html` の名前を引数に取って、 `out.json` を作成したら、以下のセルを実行し、結果が `True` となることを確認して下さい。"
   ]
  },
  {
   "cell_type": "markdown",
   "metadata": {},
   "source": [
    "After the execution with the file named `sample2.html` as an argument, you obtain  `out.json` and check if only `True`s are printed by executing following cell. "
   ]
  },
  {
   "cell_type": "code",
   "execution_count": 5,
   "metadata": {},
   "outputs": [
    {
     "name": "stdout",
     "output_type": "stream",
     "text": [
      "True True\n"
     ]
    }
   ],
   "source": [
    "import json\n",
    "with open(\"out.json\", \"r\", encoding=\"utf-8\") as f:\n",
    "    dic1 = json.load(f)\n",
    "print(len(dic1[\"text\"]) == 726, dic1[\"text\"].count(\"\\n\") == 21)\n",
    "for str1 in dic1:\n",
    "    if \"p\" in dic1[str1] or \"h1\" in dic1[str1] or \"h2\" in dic1[str1] or \"html\" in dic1[str1] or \"body\" in dic1[str1]:\n",
    "        print(False)"
   ]
  },
  {
   "cell_type": "code",
   "execution_count": null,
   "metadata": {},
   "outputs": [],
   "source": []
  }
 ],
 "metadata": {
  "kernelspec": {
   "display_name": "Python 3",
   "language": "python",
   "name": "python3"
  },
  "language_info": {
   "codemirror_mode": {
    "name": "ipython",
    "version": 3
   },
   "file_extension": ".py",
   "mimetype": "text/x-python",
   "name": "python",
   "nbconvert_exporter": "python",
   "pygments_lexer": "ipython3",
   "version": "3.7.3"
  }
 },
 "nbformat": 4,
 "nbformat_minor": 2
}
