{
 "cells": [
  {
   "cell_type": "markdown",
   "metadata": {},
   "source": [
    "# 第3回予習課題\n",
    "\n",
    "\n",
    "二つの整数のリスト `a` と `b` を引数とする関数 `U(a,b)` を定義してください。\n",
    "関数 `U(a,b)` は、`a` の要素と `b` の要素のすべての組み合わせに対して、\n",
    "- `a` の要素の方が `b` の要素よりも大きければ 1、\n",
    "- 等しければ 0.5、\n",
    "- `a` の要素の方が `b` の要素よりも小さければ 0\n",
    "\n",
    "を選び、それら値の総和を返します。\n",
    "\n",
    "総和は `return` で返してください、`print()` による印字は不正解とします。\n",
    "\n",
    "for文を用いると、以下のような形になるでしょう。\n",
    "```Python\n",
    "def U(a,b):\n",
    "    ...\n",
    "    for x in a:\n",
    "        for y in b:\n",
    "            ...\n",
    "            ...\n",
    "    return ...\n",
    "```\n",
    "必ずしもこの形にする必要はありません。たとえば、内包表記を用いても構いません。\n",
    "\n",
    "以下のセルの `...` のところを書き換えください。\n",
    "\n",
    "Define a function `U(a,b)` that is given two lists `a` and `b` of integers as arguments.\n",
    "For each pair of an element of `a` and an element of `b`, the function `U(a,b)` selects\n",
    "- 1 if the element of `a` is greater than that of `b`,\n",
    "- 0.5 if they are identical, and\n",
    "- 0 if the element of `a` is less than that of `b`,\n",
    "\n",
    "and returns the sum of those values.\n",
    "\n",
    "Return the sum by `return`. Printing it by `print()` is regarded as an incorrect answer.\n",
    "\n",
    "If for-statements are used, the definition can be as follows.\n",
    "```Python\n",
    "def U(a,b):\n",
    "    ...\n",
    "    for x in a:\n",
    "        for y in b:\n",
    "            ...\n",
    "            ...\n",
    "    return ...\n",
    "```\n",
    "It is not necessary to follow this form. For example, comprehension can be used.\n",
    "\n",
    "Rewrite the part `...` in the following cell."
   ]
  },
  {
   "cell_type": "code",
   "execution_count": 8,
   "metadata": {},
   "outputs": [],
   "source": [
    "def U(a,b):\n",
    "    list = []\n",
    "    for x in a:\n",
    "        for y in b:\n",
    "            if x > y:\n",
    "                list.append(1)\n",
    "            elif x == y:\n",
    "                list.append(0.5)\n",
    "            else:\n",
    "                list.append(0)\n",
    "    return sum(list)"
   ]
  },
  {
   "cell_type": "markdown",
   "metadata": {},
   "source": [
    "提出前に以下のテストを実行し、`True` のみが印字されることを確認してください。\n",
    "\n",
    "Before submission, execute the following tests and check if only `True` is printed."
   ]
  },
  {
   "cell_type": "code",
   "execution_count": 9,
   "metadata": {},
   "outputs": [
    {
     "name": "stdout",
     "output_type": "stream",
     "text": [
      "True\n",
      "True\n",
      "True\n",
      "True\n",
      "True\n",
      "True\n",
      "True\n",
      "True\n",
      "True\n",
      "True\n",
      "True\n",
      "True\n",
      "True\n",
      "True\n"
     ]
    }
   ],
   "source": [
    "print(U([1,2,3],[4,5]) == 0.0)\n",
    "print(U([1,2,3],[3,4]) == 0.5)\n",
    "print(U([1,2,3],[3,4,5]) == 0.5)\n",
    "print(U([1,2,3],[2,3,4]) == 2.0)\n",
    "print(U([1,2,3],[1,2,3]) == 4.5)\n",
    "print(U([1,2,3],[0,1,2]) == 7.0)\n",
    "print(U([3,2,1],[0,1,2]) == 7.0)\n",
    "print(U([1,2,3],[0,1]) == 5.5)\n",
    "print(U([1,2,3],[0]) == 3.0)\n",
    "print(U([1,2,3],[]) == 0.0)\n",
    "print(U([1,2,3],[-1,0]) == 6.0)\n",
    "print(U([2,3],[2,3,4]) == 2.0)\n",
    "print(U([3],[2,3,4]) == 1.5)\n",
    "print(U([],[2,3,4]) == 0.0)"
   ]
  },
  {
   "cell_type": "markdown",
   "metadata": {},
   "source": [
    "関数 `U` が返す値は、Mann-Whitneyの検定で用いられ、U値と呼ばれています。\n",
    "`U` の定義が完成したら、次のセルを実行して、U値の分布を観察してみましょう。\n",
    "ここでは、リストの要素として 0 から 10 までの整数をランダムに選んでいます。\n",
    "\n",
    "The value returned by the function `U` is used in the Mann–Whitney U test, and called a U value.\n",
    "After the definition of `U` is completed, execute the following cell and examine the distribution of U values.\n",
    "Here, integers from 0 to 10 are randomly chosen as elements of the lists."
   ]
  },
  {
   "cell_type": "code",
   "execution_count": 10,
   "metadata": {},
   "outputs": [
    {
     "data": {
      "text/plain": [
       "(array([  88.,   40.,   88.,    0.,   76.,  104.,    0.,  133.,  221.,\n",
       "           0.,  226.,  308.,  324.,    0.,  421.,  489.,    0.,  598.,\n",
       "         609.,    0.,  829.,  838., 1048.,    0., 1210., 1351.,    0.,\n",
       "        1420., 1676.,    0., 1701., 1965., 1961.,    0., 2251., 2330.,\n",
       "           0., 2465., 2605.,    0., 2738., 2762., 2997.,    0., 3009.,\n",
       "        3122.,    0., 3101., 3322.,    0., 2978., 3172., 3074.,    0.,\n",
       "        3033., 3038.,    0., 3045., 2807.,    0., 2815., 2569., 2563.,\n",
       "           0., 2316., 2298.,    0., 1980., 1950.,    0., 1754., 1635.,\n",
       "        1508.,    0., 1355., 1168.,    0., 1040.,  866.,    0.,  854.,\n",
       "         670.,  599.,    0.,  486.,  449.,    0.,  363.,  312.,    0.,\n",
       "         204.,  189.,  114.,    0.,  111.,   64.,    0.,   71.,   50.,\n",
       "          74.]),\n",
       " array([ 0.  ,  0.35,  0.7 ,  1.05,  1.4 ,  1.75,  2.1 ,  2.45,  2.8 ,\n",
       "         3.15,  3.5 ,  3.85,  4.2 ,  4.55,  4.9 ,  5.25,  5.6 ,  5.95,\n",
       "         6.3 ,  6.65,  7.  ,  7.35,  7.7 ,  8.05,  8.4 ,  8.75,  9.1 ,\n",
       "         9.45,  9.8 , 10.15, 10.5 , 10.85, 11.2 , 11.55, 11.9 , 12.25,\n",
       "        12.6 , 12.95, 13.3 , 13.65, 14.  , 14.35, 14.7 , 15.05, 15.4 ,\n",
       "        15.75, 16.1 , 16.45, 16.8 , 17.15, 17.5 , 17.85, 18.2 , 18.55,\n",
       "        18.9 , 19.25, 19.6 , 19.95, 20.3 , 20.65, 21.  , 21.35, 21.7 ,\n",
       "        22.05, 22.4 , 22.75, 23.1 , 23.45, 23.8 , 24.15, 24.5 , 24.85,\n",
       "        25.2 , 25.55, 25.9 , 26.25, 26.6 , 26.95, 27.3 , 27.65, 28.  ,\n",
       "        28.35, 28.7 , 29.05, 29.4 , 29.75, 30.1 , 30.45, 30.8 , 31.15,\n",
       "        31.5 , 31.85, 32.2 , 32.55, 32.9 , 33.25, 33.6 , 33.95, 34.3 ,\n",
       "        34.65, 35.  ]),\n",
       " <a list of 100 Patch objects>)"
      ]
     },
     "execution_count": 10,
     "metadata": {},
     "output_type": "execute_result"
    }
   ],
   "source": [
    "import random\n",
    "import matplotlib.pyplot as plt\n",
    "data = []\n",
    "for i in range(100000):\n",
    "    data.append(U([random.randint(0,10) for _ in range(5)],[random.randint(0,10) for _ in range(7)]))\n",
    "plt.hist(data,bins=100)"
   ]
  }
 ],
 "metadata": {
  "kernelspec": {
   "display_name": "Python 3",
   "language": "python",
   "name": "python3"
  },
  "language_info": {
   "codemirror_mode": {
    "name": "ipython",
    "version": 3
   },
   "file_extension": ".py",
   "mimetype": "text/x-python",
   "name": "python",
   "nbconvert_exporter": "python",
   "pygments_lexer": "ipython3",
   "version": "3.7.0"
  }
 },
 "nbformat": 4,
 "nbformat_minor": 2
}
