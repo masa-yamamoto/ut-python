{
 "cells": [
  {
   "cell_type": "markdown",
   "metadata": {
    "slideshow": {
     "slide_type": "slide"
    }
   },
   "source": [
    "# Pythonプログラミング入門\n",
    "# 2019年度S1 初回ガイダンス\n",
    "\n",
    "## 数理・情報教育研究センター"
   ]
  },
  {
   "cell_type": "markdown",
   "metadata": {
    "slideshow": {
     "slide_type": "slide"
    }
   },
   "source": [
    "# 本日の流れ\n",
    "\n",
    "- 授業について\n",
    "  - 日程・場所\n",
    "  - 目標 / 計画 / 進めかた\n",
    "- 教材\n",
    "  - 講義ページ\n",
    "  - Jupyter Notebook / G-Suite ドライブ\n",
    "  - 予習動画 / YouTube\n",
    "  - 課題提出 / ITC LMS\n",
    "- 成績評価方法\n",
    "- 参考書・教科書\n",
    "- オフィスアワー\n",
    "- Python 環境\n"
   ]
  },
  {
   "cell_type": "markdown",
   "metadata": {
    "slideshow": {
     "slide_type": "slide"
    }
   },
   "source": [
    "# 日程・場所\n",
    "- ガイダンス・第一回\n",
    "    - 4月5日（金）5限 柏キャンパス新領域基盤棟大講義室\n",
    "    - 4月8日（月）5限 本郷キャンパス理学部1号館285教室\n",
    "    - 4月9日（火）5限 本郷キャンパス理学部1号館285教室\n",
    "    - 4月11日（木）5限 駒場キャンパス情報教育棟E26\n",
    "- 第二回以降も、柏以外は上記曜日・教室で開講する\n",
    "    - 金5限：4/19, 4/26, 5/10, 5/17, 5/24, 5/31 柏キャンパス新領域環境棟FSホール  \n",
    "    （5/17は五月際だが柏の学事歴に合わせて授業を行うので注意）\n",
    "    - 月5限：4/15, 4/22, 5/13, 5/20, 5/27, 6/3 本郷キャンパス理学部1号館285教室  \n",
    "    （5/20は理学部の交歓会があるが授業を行うので注意）\n",
    "    - 火5限：4/16, 4/23, 5/7, 5/14, 5/21, 5/28 本郷キャンパス理学部1号館285教室\n",
    "    - 木5限：4/18, 4/25, 5/9, 5/16, 5/23, 5/30 駒場キャンパス情報教育棟E26"
   ]
  },
  {
   "cell_type": "markdown",
   "metadata": {
    "slideshow": {
     "slide_type": "slide"
    }
   },
   "source": [
    "# 学部・プログラム・期間・単位\n",
    "- 理学部\n",
    "    - 学科共通科目\n",
    "- 数理・データサイエンス教育プログラム\n",
    "    - 数理・情報教育研究センター\n",
    "    - www.mi.u-tokyo.ac.jp/mds-oudan\n",
    "- 期間\n",
    "    - S1ターム / 夏期集中 / A1ターム\n",
    "- 単位\n",
    "    - 1単位"
   ]
  },
  {
   "cell_type": "markdown",
   "metadata": {
    "slideshow": {
     "slide_type": "slide"
    }
   },
   "source": [
    "# 対象\n",
    "- 後期課程学生\n",
    "    - 学部を問いません\n",
    "- 大学院生も聴講可能\n",
    "    - 単位も取得可能ですが、修了要件に含められるかどうかは、研究科・専攻によります\n",
    "- 1,2年生も聴講可能\n",
    "    - 単位を取得することはできません"
   ]
  },
  {
   "cell_type": "markdown",
   "metadata": {
    "slideshow": {
     "slide_type": "slide"
    }
   },
   "source": [
    "# 履修登録\n",
    "UTAS と ITC-LMS で登録番号が異なることに注意してください。\n",
    "- UTAS\n",
    "    - 0590102-1 Python プログラミング入門（S1 共通）\n",
    "\n",
    "<font color=\"red\">\n",
    " UTASとは別に、履修を希望するいずれかの曜日においてITC-LMSで登録を行って下さい。\n",
    "（行わなければ、課題が提出できません。）\n",
    "</font>\n",
    "\n",
    "- ITC-LMS\n",
    "    - 0590102-11 Python プログラミング入門（S1月5）\n",
    "    - 0590102-12 Python プログラミング入門（S1火5）\n",
    "    - 0590102-13 Python プログラミング入門（S1木5）\n",
    "    - 0590102-14 Python プログラミング入門（S1金5）"
   ]
  },
  {
   "cell_type": "markdown",
   "metadata": {
    "slideshow": {
     "slide_type": "slide"
    }
   },
   "source": [
    "# 担当\n",
    "- 講師\n",
    "    - 本郷\n",
    "        - 萩谷 昌己　教授\n",
    "        - 森 純一郎　准教授\n",
    "        - 山肩 洋子　准教授\n",
    "        - 小林 克志　特任准教授\n",
    "\n",
    "    - 駒場\n",
    "        - 山口 和紀　教授\n",
    "        - 小林 浩二　講師\n",
    "    - 柏\n",
    "        - 佐藤 重幸　助教\n",
    "- TA"
   ]
  },
  {
   "cell_type": "markdown",
   "metadata": {
    "slideshow": {
     "slide_type": "slide"
    }
   },
   "source": [
    "# 授業の目標\n",
    "- データサイエンスや計算科学等に必要なプログラミングの基礎をPython言語を通して修得を目指す\n",
    "- データ構造、制御構造、オブジェクト指向等、プログラミング言語の基礎概念について学ぶとともに、計算量等のアルゴリズムの基本原理について理解を目指す\n",
    "- 最終的に、計算の手続きを自分である程度自由にPythonのプログラムとして表現できるようになることを目指す"
   ]
  },
  {
   "cell_type": "markdown",
   "metadata": {
    "slideshow": {
     "slide_type": "slide"
    }
   },
   "source": [
    "# 授業計画\n",
    "- 授業は7回の演習から成り、各回の演習までにオンライン教材をあらかじめ自分で学んでおくことを想定している\n",
    "- 各回の演習では、プログラミング実習を行いながら質問等を受け付け、出欠も兼ねて各自が作成したコードの提出を行う\n",
    "- 最後にミニプロジェクトを行い、その成果をレポートとして報告する"
   ]
  },
  {
   "cell_type": "markdown",
   "metadata": {
    "slideshow": {
     "slide_type": "slide"
    }
   },
   "source": [
    "# 授業計画\n",
    "- 第1回  Jupyter Notebookの使い方  数値演算  変数と関数の基礎  論理・比較演算と条件分岐の基礎  デバッグ\n",
    "- 第2回  文字列  リスト  辞書  ▲セット ▲簡単なデータの可視化\n",
    "- 第3回  条件文分岐  繰り返し  内包表記  関数  ▲再帰\n",
    "- 第4回  ファイル入出力の基本  csv ファイルの入出力  json ファイルの入出力  ▲木構造のデータ形式\n",
    "- 第5回  モジュールの使い方  NumPyライブラリ  ▲Matplotlibライブラリ  Python 実行ファイルとモジュール　正規表現\n",
    "- 第6回  関数プログラミング　オブジェクト指向プログラミング  ▲イテレータとイテラブル\n",
    "- 第7回  pandasライブラリ  scikit-learnライブラリ  ミニプロジェクト\n",
    "\n",
    "▲ : オプション"
   ]
  },
  {
   "cell_type": "markdown",
   "metadata": {
    "slideshow": {
     "slide_type": "slide"
    }
   },
   "source": [
    "# 授業の進め方\n",
    "\n",
    "授業は、オンライン教材を各自が事前に自学し、当日は演習を行い理解を深める反転授業方式で進めます\n",
    "- 授業前\n",
    "    - 次回授業のオンライン教材（Jupyterノートブック）を自学\n",
    "    - 予習課題の演習とITC-LMSへの提出\n",
    "- 授業\n",
    "    - 前回の本課題の解説\n",
    "    - 予習課題の解説\n",
    "    - **本課題の演習とITC-LMSへの提出**\n",
    "\n",
    "講義全体の最後にはミニプロジェクトを行い、その成果をレポートとして提出"
   ]
  },
  {
   "cell_type": "markdown",
   "metadata": {
    "slideshow": {
     "slide_type": "slide"
    }
   },
   "source": [
    "# 授業の進め方\n",
    "- 第1回\n",
    "    - 本ガイダンス・講義（教材1-0, 1-1, 1-2, 1-3, 1-4）\n",
    "    - 時間があれば予習課題（pre1）の演習と提出（オプション）\n",
    "- 第2回まで\n",
    "    - Jupyterノートブックと説明動画で教材2-1, 2-2, 2-3を予習  *2-4, 2-5はオプション\n",
    "    - 予習課題（pre2）の演習と提出\n",
    "- 第2回\n",
    "    - 予習課題（pre2）の解説\n",
    "    - 本課題（exercise1, exercise2）の演習と提出\n",
    "- 第3回まで\n",
    "    - Jupyterノートブックと説明動画で教材3-1, 3-2, 3-3, 3-4を予習  *3-5はオプション\n",
    "    - 予習課題（pre3）の演習と提出\n",
    "- 第3回\n",
    "    - 本課題（exercise1, exercise2）と予習課題（pre3）の解説\n",
    "    - 本課題（exercise3）の演習と提出"
   ]
  },
  {
   "cell_type": "markdown",
   "metadata": {
    "slideshow": {
     "slide_type": "slide"
    }
   },
   "source": [
    "# 授業の進め方\n",
    "- 第4回まで\n",
    "    - Jupyterノートブックと説明動画で教材4-1, 4-2, 4-3を予習  *4-4はオプション\n",
    "    - 予習課題（pre4）の演習と提出\n",
    "- 第4回\n",
    "    - 本課題（exercise3）と予習課題（pre4）の解説\n",
    "    - 本課題（exercise4）の演習と提出\n",
    "- 第5回まで\n",
    "    - Jupyterノートブックと説明動画で教材5-1, 5-2, 5-4, 5-5を予習  *5-3はオプション\n",
    "    - 予習課題（pre5）の演習と提出\n",
    "- 第5回\n",
    "    - 本課題（exercise4）と予習課題（pre5）の解説\n",
    "    - 本課題（exercise5）の演習と提出"
   ]
  },
  {
   "cell_type": "markdown",
   "metadata": {
    "slideshow": {
     "slide_type": "slide"
    }
   },
   "source": [
    "# 授業の進め方\n",
    "- 第6回まで\n",
    "    - Jupyterノートブックと説明動画で教材6-1, 6-2を予習  *6-3はオプション\n",
    "    - 予習課題（pre6）の演習と提出\n",
    "- 第6回\n",
    "    - 本課題（exercise5）と予習課題（pre6）の解説\n",
    "    - 本課題（exercise6）の演習と提出\n",
    "- 第7回まで\n",
    "    - Jupyterノートブックと説明動画で教材7-1, 7-2を予習\n",
    "    - 予習課題（pre7）の演習と提出\n",
    "- 第7回\n",
    "   - 本課題（exercise6）と予習課題（pre7）の解説\n",
    "   - ミニプロジェクトの解説と演習"
   ]
  },
  {
   "cell_type": "markdown",
   "metadata": {
    "slideshow": {
     "slide_type": "slide"
    }
   },
   "source": [
    "# 本日の流れ\n",
    "\n",
    "- 授業について\n",
    "  - 日程・場所\n",
    "  - 目標 / 計画 / 進めかた\n",
    "- 教材\n",
    "  - 講義ページ\n",
    "  - Jupyter Notebook / G-Suite ドライブ\n",
    "  - 予習動画 / YouTube\n",
    "  - 課題提出 / ITC LMS\n",
    "- 成績評価方法\n",
    "- 参考書・教科書\n",
    "- オフィスアワー\n",
    "- Python 環境\n"
   ]
  },
  {
   "cell_type": "markdown",
   "metadata": {
    "slideshow": {
     "slide_type": "slide"
    }
   },
   "source": [
    "# 教材\n",
    "- 教材は各回の学習項目ごとのJupyterノートブックと説明動画からなります\n",
    "- 教材は授業ホームページのリンクからアクセスできます  \n",
    "    - https://sites.google.com/view/ut-python\n",
    "    - 教材 ⇒ 教材のフォルダ（すべての回のノートブックと関連ファイル）\n",
    "    - main.pdf に課題を除くすべての教材がまとめられています（索引付き）\n",
    "\n",
    "- 教材にアクセスするにはECCSクラウドメール（G Suite）アカウントが必要です\n",
    "    - Gmailまたは以下のページからECCSクラウドメールアカウントでログイン後に教材にアクセスしてください  \n",
    "    http://mail.google.com/a/g.ecc.u-tokyo.ac.jp\n"
   ]
  },
  {
   "cell_type": "markdown",
   "metadata": {
    "slideshow": {
     "slide_type": "slide"
    }
   },
   "source": [
    "# ECCS アカウントの取得方法\n",
    "大学院生などで、ECCS アカウントがない場合は取得してください。\n",
    "- ECCSをご利用になるには「オンライン新規利用者講習」・・・を受講していただく必要があります。\n",
    "    - **未受講の方が何人かいます！**\n",
    "- 受講していただくことで、お持ちの UTokyo Account でECCSの利用権が有効になります。\n",
    "    - UTokyo Account の通知書を受け取っていない場合は、ご所属の学部・大学院研究科の教務担当までお問い合わせください。 \n"
   ]
  },
  {
   "cell_type": "markdown",
   "metadata": {
    "slideshow": {
     "slide_type": "slide"
    }
   },
   "source": [
    "# ECCSクラウドメールアカウントの申請と取得\n",
    "\n",
    "- UTokyo Accountの利用者メニューから申請してください\n",
    "\n",
    "|U-Tokyo Account|U-Tokyo Profile|\n",
    "|---|---|\n",
    "|![](U-Tokyo_acct_1.png) |![](U-Tokyo_acct_2.png) |"
   ]
  },
  {
   "cell_type": "markdown",
   "metadata": {
    "slideshow": {
     "slide_type": "slide"
    }
   },
   "source": [
    "# ノートブックはG Suiteのドライブにあります\n",
    "\n",
    "![](G-Suite_drive.png)"
   ]
  },
  {
   "cell_type": "markdown",
   "metadata": {
    "slideshow": {
     "slide_type": "slide"
    }
   },
   "source": [
    "# Jupyter Notebook\n",
    "![](Jupyter-Notebook.png)"
   ]
  },
  {
   "cell_type": "markdown",
   "metadata": {
    "slideshow": {
     "slide_type": "slide"
    }
   },
   "source": [
    "# 説明動画はYouTubeで公開されています\n",
    "\n",
    "https://sites.google.com/view/ut-python/resource/%E5%8B%95%E7%94%BB\n",
    "\n",
    "![](youtube.png)"
   ]
  },
  {
   "cell_type": "markdown",
   "metadata": {
    "slideshow": {
     "slide_type": "slide"
    }
   },
   "source": [
    "# 課題提出\n",
    "- 方法\n",
    "    - 予習課題・本課題は、解答を入力したJupyterノートブックのファイルを、ITC-LMSにログインして提出してください\n",
    "        - 曜日ごとにITC-LMSのコースが作られています\n",
    "        - それぞれ自己登録可となっています\n",
    "    - 予習課題・本課題にはテスト例が含まれていますので、必ずテスト例で動作を確認してから提出してください\n",
    "        - 与えられたテスト例以外のテスト例で試すことも推奨します\n",
    "    - 予習課題の締め切り：その回の前日22時\n",
    "    - 本課題の締め切り：その日の22時\n",
    "        - 期限をすぎての提出も認めますが、減点されます"
   ]
  },
  {
   "cell_type": "markdown",
   "metadata": {
    "slideshow": {
     "slide_type": "slide"
    }
   },
   "source": [
    "# ITC-LMS の画面\n",
    "\n",
    "![](itc-lms.png)"
   ]
  },
  {
   "cell_type": "markdown",
   "metadata": {
    "slideshow": {
     "slide_type": "slide"
    }
   },
   "source": [
    "# 本日の流れ\n",
    "\n",
    "- 授業について\n",
    "  - 日程・場所\n",
    "  - 目標 / 計画 / 進めかた\n",
    "- 教材\n",
    "  - 講義ページ\n",
    "  - Jupyter Notebook / G-Suite ドライブ\n",
    "  - 予習動画 / YouTube\n",
    "  - 課題提出 / ITC LMS\n",
    "- 成績評価方法\n",
    "- 参考書・教科書\n",
    "- オフィスアワー\n",
    "- Python 環境"
   ]
  },
  {
   "cell_type": "markdown",
   "metadata": {
    "slideshow": {
     "slide_type": "slide"
    }
   },
   "source": [
    "# 成績評価方法\n",
    "\n",
    "以下の内容で評価します\n",
    "- 各回の予習課題の提出状況と結果\n",
    "- 各回の本課題の提出状況と結果\n",
    "- ミニプロジェクトのレポート\n",
    "\n",
    "\n",
    "不正行為対しては厳正に対処します"
   ]
  },
  {
   "cell_type": "markdown",
   "metadata": {
    "slideshow": {
     "slide_type": "slide"
    }
   },
   "source": [
    "# オフィスアワー\n",
    "一般的な質問については、以下で受け付けます\n",
    "- ITC-LMSの掲示板\n",
    "- 授業前後に口頭\n",
    "\n",
    "個別の相談・質問があれば、学年・学部・学籍番号・氏名を明記して、萩谷までメールをください\n",
    "    - Masami Hagiya <hagiya@is.s.u-tokyo.ac.jp>"
   ]
  },
  {
   "cell_type": "markdown",
   "metadata": {
    "slideshow": {
     "slide_type": "slide"
    }
   },
   "source": [
    "# 教科書・参考書\n",
    "\n",
    "- 教科書\n",
    "    - Jupyterノートブックを配布します。\n",
    "- 参考サイト・参考書\n",
    "    - [Pythonチュートリアル](https://docs.python.org/ja/3/tutorial/ )\n",
    "    - [Pythonドキュメント](https://docs.python.org/ja/3/)\n",
    "    - [Allen B. Downey(原著) Think Python:How To Think Like a Computer Scientist 2nd Ed.](https://greenteapress.com/wp/think-python-2e/)\n",
    "        - [相川利樹(翻訳) Think Python:コンピュータサイエンティスト のように考えてみよう(第2版)](http://www.cauldron.sakura.ne.jp/thinkpython/thinkpython/ThinkPython2.pdf)\n",
    "    - [Introduction to Computer Science and Programming in Python (MIT)](https://ocw.mit.edu/courses/electrical-engineering-and-computer-science/6-0001-introduction-to-computer-science-and-programming-in-python-fall-2016/)\n",
    "    - John V. Guttag (原著), 久保 幹雄 (翻訳) Python言語によるプログラミングイントロダクション第2版 近代科学社 4764905183 \n",
    "    - Bill Lubanovic (著), 斎藤 康毅 (監修), 長尾 高弘 (翻訳) 入門 Python 3 オライリージャパン 4873117380\n",
    "    - [Online Python Tutor](http://pythontutor.com/)：Pythonプログラム実行の可視化"
   ]
  },
  {
   "cell_type": "markdown",
   "metadata": {
    "slideshow": {
     "slide_type": "slide"
    }
   },
   "source": [
    "# Python\n",
    "- フリー・オープンソースのインタプリタ・スクリプト言語\n",
    "- 科学技術計算に利活用\n",
    "    - データ分析、機械学習、数値計算、最適化、画像・信号処理、可視化 など\n",
    "- 設計思想「シンプルで読みやすいコード」\n",
    "    - The Zen of Python\n",
    "- Pythonエコシステム\n",
    "![](python_ecosystem.png)"
   ]
  },
  {
   "cell_type": "markdown",
   "metadata": {
    "slideshow": {
     "slide_type": "slide"
    }
   },
   "source": [
    "# Anaconda / Jupyter Notebook\n",
    "- Anaconda\n",
    "    - https://anaconda.org/\n",
    "    - Pythonと主要なライブラリ（モジュール）を一括でインストール可能にしたディストリビューション\n",
    "        - 以下のJupyter Notebookも含む\n",
    "        - ECCSにはすでにインストールされています\n",
    "    - Python2系とPython3系があり、講義ではPython3系を使用\n",
    "- Jupyter Notebook\n",
    "    - http://jupyter.org/\n",
    "    - Pythonコードをブラウザ上で対話的に実行可能な環境\n",
    "    - ノートブックドキュメントを通して、ブラウザ上でコードの記述と実行結果の保存と共有が可能\n",
    "    - ECCSではAnaconda Navigatorから起動できます"
   ]
  },
  {
   "cell_type": "markdown",
   "metadata": {
    "slideshow": {
     "slide_type": "slide"
    }
   },
   "source": [
    "# Python環境のセットアップ\n",
    "いくつかの方法について説明します\n",
    "- 個人PC（Windows）にAncondaをインストールする場合\n",
    "- 個人PCにAnacondaをインストールしない・できない場合\n",
    "- 教育用計算機システム（2019 S1 は駒場のみ）"
   ]
  },
  {
   "cell_type": "markdown",
   "metadata": {
    "slideshow": {
     "slide_type": "slide"
    }
   },
   "source": [
    "# Python環境のセットアップ（Windows向け）\n",
    "個人PC（Windows 10, youユーザ）にAncondaをインストールする場合\n",
    "\n",
    "1. [Anacondaのダウンロードページ](https://www.anaconda.com/distribution/#windows)からWindows用のPython 3.7 version 64-Bit Graphical Installer (Anaconda3-2018.12-Windows-x86_64.exe) をダウンロード\n",
    "1. インストーラを起動し、License Agreementに [I agree] を選択\n",
    "1. Install forに [Just me] を選択\n",
    "1. インストール先をデフォルト（C:\\Users\\you\\Anaconda3）から変更したい場合は、インストール先を指定して [Next] を選択\n",
    "1. Advanced Optionsの2つのチェックボックス（Add Anaconda to my PATH environment variableとRegister Anaconda as my default Python 3.7）のチェックを外したままインストール [install] を選択\n",
    " - Python本体やJupyter Notebookをコマンドラインで起動したい場合は、コマンドプロンプトの代わりにAnaconda Commad Promptを使用してください\n",
    "1. Windowsのスタートメニューのプログラム一覧にAnaconda3 (64bit)というフォルダが新しく作られており、その中のJupyter Notebookを選択すると、既定のブラウザでJupyter Notebookが起動する\n",
    " - Anaconda Navigatorから起動してもよい\n"
   ]
  },
  {
   "cell_type": "markdown",
   "metadata": {
    "slideshow": {
     "slide_type": "slide"
    }
   },
   "source": [
    "# Python環境のセットアップ（Mac向け）\n",
    "個人PC（MacOSX）にAncondaをインストールする場合\n",
    "1. [Anacondaのダウンロードページ](https://www.anaconda.com/distribution/#macos)からMac用のPython 3.7 versionインストーラ (Anaconda3-2018.12-MacOSX-x86_64.pkg) をダウンロード\n",
    "1. インストーラを起動しインストールしてください\n",
    "4. インストール先をデフォルト（~/anaconda3）から変更したい場合は、インストール先を指定してください\n",
    "5. アプリケーション一覧に\"Anaconda Navigator\"というアプリケーションがインストールされているので、Anaconda Navigatorを起動して、その中にあるJupyter Notebookから[Launch]するとJupyter Notebookが起動します\n",
    "6. 本スライド中のECCSでのJupyter Notebookの起動を参考にしてください"
   ]
  },
  {
   "cell_type": "markdown",
   "metadata": {
    "slideshow": {
     "slide_type": "slide"
    }
   },
   "source": [
    "![](anaconda_download.png)"
   ]
  },
  {
   "cell_type": "markdown",
   "metadata": {
    "slideshow": {
     "slide_type": "slide"
    }
   },
   "source": [
    "# Python環境のセットアップ\n",
    "個人PCにAnacondaをインストールしない・できない場合\n",
    "1. ブラウザで以下にアクセス\n",
    "https://colab.research.google.com/notebooks/welcome.ipynb\n",
    "2. Jupyterノートブックファイル（.ipynb）をアップロードして利用"
   ]
  },
  {
   "cell_type": "markdown",
   "metadata": {
    "slideshow": {
     "slide_type": "slide"
    }
   },
   "source": [
    "![](colaboratory.png)"
   ]
  },
  {
   "cell_type": "markdown",
   "metadata": {
    "slideshow": {
     "slide_type": "slide"
    }
   },
   "source": [
    "# Python環境のセットアップ\n",
    "教育用計算機システムを利用する場合\n",
    "1. MacOS で起動すること\n",
    "1. アプリケーションのAnaconda3フォルダを開きます\n",
    "1. Anaconda-Navigatorを起動\n",
    "1. Jupyter Notebookを起動"
   ]
  },
  {
   "cell_type": "markdown",
   "metadata": {
    "slideshow": {
     "slide_type": "slide"
    }
   },
   "source": [
    "|Application Folder|Start Anaconda Navigator|\n",
    "|---|---|\n",
    "|![](app_folder.png)|![](anaconda_start.png)|"
   ]
  },
  {
   "cell_type": "markdown",
   "metadata": {
    "slideshow": {
     "slide_type": "slide"
    }
   },
   "source": [
    "![](anaconda_navigator.png)"
   ]
  },
  {
   "cell_type": "markdown",
   "metadata": {
    "slideshow": {
     "slide_type": "slide"
    }
   },
   "source": [
    "![](anaconda_files.png)"
   ]
  },
  {
   "cell_type": "markdown",
   "metadata": {
    "slideshow": {
     "slide_type": "slide"
    }
   },
   "source": [
    "![](jupyter_code_cell.png)"
   ]
  },
  {
   "cell_type": "markdown",
   "metadata": {
    "slideshow": {
     "slide_type": "slide"
    }
   },
   "source": [
    "# Frequently Asked Questions (FAQ)\n",
    "- 遅れても課題は受け付けられますか？\n",
    "    - 締め切りをすぎても提出は受け付けますが、締め切りまでの提出をお願いします。\n",
    "- 自分の環境に Python をインストールできないのですが...\n",
    "    - がんばってください....\n",
    "    - 講義時間に相談しましょう"
   ]
  }
 ],
 "metadata": {
  "celltoolbar": "Slideshow",
  "kernelspec": {
   "display_name": "Python 3",
   "language": "python",
   "name": "python3"
  },
  "language_info": {
   "codemirror_mode": {
    "name": "ipython",
    "version": 3
   },
   "file_extension": ".py",
   "mimetype": "text/x-python",
   "name": "python",
   "nbconvert_exporter": "python",
   "pygments_lexer": "ipython3",
   "version": "3.6.4"
  }
 },
 "nbformat": 4,
 "nbformat_minor": 2
}
