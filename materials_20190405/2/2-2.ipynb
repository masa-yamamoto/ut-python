{
 "cells": [
  {
   "cell_type": "markdown",
   "metadata": {
    "slideshow": {
     "slide_type": "slide"
    }
   },
   "source": [
    "# Pythonプログラミング入門 第2回\n",
    "複数のデータ要素をまとめて取り扱うリストとタプルについて説明します\n",
    "\n",
    "参考\n",
    "\n",
    "- https://docs.python.org/ja/3/tutorial/introduction.html#lists\n",
    "- https://docs.python.org/ja/3/tutorial/datastructures.html#tuples-and-sequences"
   ]
  },
  {
   "cell_type": "markdown",
   "metadata": {
    "slideshow": {
     "slide_type": "slide"
    }
   },
   "source": [
    "# リスト\n",
    "\n",
    "文字列を構成する要素は文字でしたが、**リスト**（または、**配列**）では構成する要素としてあらゆるデータを指定できます。\n",
    "\n",
    "リストを作成するには、リストを構成する要素をコンマで区切り全体をかぎ括弧, `[` および `]`, でくくります。次の例は数を構成要素とするリストを作成しています。"
   ]
  },
  {
   "cell_type": "code",
   "execution_count": 1,
   "metadata": {},
   "outputs": [
    {
     "data": {
      "text/plain": [
       "[0, 10, 20, 30, 40, 50]"
      ]
     },
     "execution_count": 1,
     "metadata": {},
     "output_type": "execute_result"
    }
   ],
   "source": [
    "ln = [0, 10, 20, 30, 40, 50]\n",
    "ln"
   ]
  },
  {
   "cell_type": "code",
   "execution_count": 2,
   "metadata": {
    "slideshow": {
     "slide_type": "skip"
    }
   },
   "outputs": [
    {
     "data": {
      "text/plain": [
       "list"
      ]
     },
     "execution_count": 2,
     "metadata": {},
     "output_type": "execute_result"
    }
   ],
   "source": [
    "type(ln)"
   ]
  },
  {
   "cell_type": "markdown",
   "metadata": {
    "slideshow": {
     "slide_type": "slide"
    }
   },
   "source": [
    "次に文字列を構成要素とするリストを作成してみます。"
   ]
  },
  {
   "cell_type": "code",
   "execution_count": 3,
   "metadata": {},
   "outputs": [
    {
     "data": {
      "text/plain": [
       "['a', 'b', 'c']"
      ]
     },
     "execution_count": 3,
     "metadata": {},
     "output_type": "execute_result"
    }
   ],
   "source": [
    "ls = ['a', 'b', 'c']\n",
    "ls"
   ]
  },
  {
   "cell_type": "markdown",
   "metadata": {
    "slideshow": {
     "slide_type": "skip"
    }
   },
   "source": [
    "リストは複数の種類のデータを取り扱うこともできます。"
   ]
  },
  {
   "cell_type": "code",
   "execution_count": 4,
   "metadata": {
    "slideshow": {
     "slide_type": "skip"
    }
   },
   "outputs": [
    {
     "data": {
      "text/plain": [
       "[10, 'a', 20, 'b', 30]"
      ]
     },
     "execution_count": 4,
     "metadata": {},
     "output_type": "execute_result"
    }
   ],
   "source": [
    "ls = [10, 'a', 20, 'b', 30]\n",
    "ls"
   ]
  },
  {
   "cell_type": "markdown",
   "metadata": {},
   "source": [
    "次のように、何も要素を格納していない**空のリスト**（**空リスト**）を作成することもできます。空のリストは使い方の例として、後述する「`append`」の項を参照して下さい。"
   ]
  },
  {
   "cell_type": "code",
   "execution_count": 5,
   "metadata": {},
   "outputs": [
    {
     "name": "stdout",
     "output_type": "stream",
     "text": [
      "[]\n"
     ]
    }
   ],
   "source": [
    "ls = []\n",
    "print(ls)"
   ]
  },
  {
   "cell_type": "markdown",
   "metadata": {
    "slideshow": {
     "slide_type": "slide"
    }
   },
   "source": [
    "## リストとインデックス\n",
    "文字列の場合と同様、インデックスを指定することによりリストを構成する要素を個々に取得することができます。\n",
    "\n",
    "リストの x 番目の要素を取得するには次のようにします。インデックスは 0 から始まることに注意してください。\n",
    "\n",
    "---\n",
    "```Python\n",
    "リスト[x-1]\n",
    "```\n",
    "---\n"
   ]
  },
  {
   "cell_type": "code",
   "execution_count": 6,
   "metadata": {},
   "outputs": [
    {
     "data": {
      "text/plain": [
       "'b'"
      ]
     },
     "execution_count": 6,
     "metadata": {},
     "output_type": "execute_result"
    }
   ],
   "source": [
    "ls = ['a', 'b', 'c']\n",
    "ls[1]"
   ]
  },
  {
   "cell_type": "markdown",
   "metadata": {
    "slideshow": {
     "slide_type": "slide"
    }
   },
   "source": [
    "文字列の場合とは異なり、リストの要素は代入によって変更することができます。"
   ]
  },
  {
   "cell_type": "code",
   "execution_count": 7,
   "metadata": {},
   "outputs": [
    {
     "data": {
      "text/plain": [
       "['a', 'hello', 'c']"
      ]
     },
     "execution_count": 7,
     "metadata": {},
     "output_type": "execute_result"
    }
   ],
   "source": [
    "ls = ['a', 'b', 'c']\n",
    "ls[1] = 'hello'\n",
    "ls"
   ]
  },
  {
   "cell_type": "markdown",
   "metadata": {
    "slideshow": {
     "slide_type": "slide"
    }
   },
   "source": [
    "スライスを用いた代入も可能です。"
   ]
  },
  {
   "cell_type": "code",
   "execution_count": 8,
   "metadata": {},
   "outputs": [
    {
     "data": {
      "text/plain": [
       "['a', 'x', 'y', 'z', 'w']"
      ]
     },
     "execution_count": 8,
     "metadata": {},
     "output_type": "execute_result"
    }
   ],
   "source": [
    "ls = ['a', 'b', 'c']\n",
    "ls[1:3] = ['x', 'y', 'z', 'w']\n",
    "ls"
   ]
  },
  {
   "cell_type": "markdown",
   "metadata": {
    "slideshow": {
     "slide_type": "slide"
    }
   },
   "source": [
    "## 多重代入\n",
    "**多重代入**では、左辺に複数の変数などを指定してリスト内の全ての要素を一度の操作で代入することができます。"
   ]
  },
  {
   "cell_type": "code",
   "execution_count": 9,
   "metadata": {},
   "outputs": [
    {
     "data": {
      "text/plain": [
       "10"
      ]
     },
     "execution_count": 9,
     "metadata": {},
     "output_type": "execute_result"
    }
   ],
   "source": [
    "ln = [0, 10, 20, 30, 40]\n",
    "[a, b, c, d, e] = ln\n",
    "b"
   ]
  },
  {
   "cell_type": "markdown",
   "metadata": {},
   "source": [
    "以下の様にしても同じ結果を得られます。"
   ]
  },
  {
   "cell_type": "code",
   "execution_count": 10,
   "metadata": {},
   "outputs": [
    {
     "data": {
      "text/plain": [
       "10"
      ]
     },
     "execution_count": 10,
     "metadata": {},
     "output_type": "execute_result"
    }
   ],
   "source": [
    "a, b, c, d, e = ln\n",
    "b"
   ]
  },
  {
   "cell_type": "markdown",
   "metadata": {
    "slideshow": {
     "slide_type": "slide"
    }
   },
   "source": [
    "実は、多重代入は文字列においても実行可能です。"
   ]
  },
  {
   "cell_type": "code",
   "execution_count": 11,
   "metadata": {},
   "outputs": [
    {
     "data": {
      "text/plain": [
       "'l'"
      ]
     },
     "execution_count": 11,
     "metadata": {},
     "output_type": "execute_result"
    }
   ],
   "source": [
    "a, b, c, d, e = 'hello'\n",
    "d"
   ]
  },
  {
   "cell_type": "markdown",
   "metadata": {
    "slideshow": {
     "slide_type": "slide"
    }
   },
   "source": [
    "## **多重リスト**\n",
    "リストの要素としてリストを指定することもできます。次は二重リストの例です。"
   ]
  },
  {
   "cell_type": "code",
   "execution_count": 12,
   "metadata": {},
   "outputs": [],
   "source": [
    "lns = [[1, 2, 3], [10, 20, 30], ['a', 'b', 'c']]"
   ]
  },
  {
   "cell_type": "markdown",
   "metadata": {},
   "source": [
    "多重リストでは複数のインデックスによって要素を指定します。  \n",
    "前の例で外側の `[]` で示されるリストの 2 番目の要素のリスト、すなわち `[10, 20, 30]`、の最初の要素は次のように指定します。  (インデックスは ***0*** から開始されることを思い出してください。)"
   ]
  },
  {
   "cell_type": "code",
   "execution_count": 13,
   "metadata": {},
   "outputs": [
    {
     "data": {
      "text/plain": [
       "10"
      ]
     },
     "execution_count": 13,
     "metadata": {},
     "output_type": "execute_result"
    }
   ],
   "source": [
    "lns[1][0]"
   ]
  },
  {
   "cell_type": "markdown",
   "metadata": {},
   "source": [
    "3 番目の（内側の）リストを取り出したいときは、次のように指定します。"
   ]
  },
  {
   "cell_type": "code",
   "execution_count": 14,
   "metadata": {},
   "outputs": [
    {
     "data": {
      "text/plain": [
       "['a', 'b', 'c']"
      ]
     },
     "execution_count": 14,
     "metadata": {},
     "output_type": "execute_result"
    }
   ],
   "source": [
    "lns[2]"
   ]
  },
  {
   "cell_type": "markdown",
   "metadata": {},
   "source": [
    "次のようにリストを要素として含むリストを作成することも可能です。"
   ]
  },
  {
   "cell_type": "code",
   "execution_count": 15,
   "metadata": {},
   "outputs": [
    {
     "name": "stdout",
     "output_type": "stream",
     "text": [
      "[[1, 2, 3], [10, 20, 30], ['a', 'b', 'c']]\n",
      "[11, 12, 13]\n"
     ]
    }
   ],
   "source": [
    "lns2 = [lns, [\"x\", 1, [11, 12, 13]], [\"y\", [100, 120, 140]] ]\n",
    "print(lns2[0])\n",
    "print(lns2[1][2])"
   ]
  },
  {
   "cell_type": "markdown",
   "metadata": {
    "slideshow": {
     "slide_type": "slide"
    }
   },
   "source": [
    "## リストの操作\n",
    "文字列において用いた関数・演算子などリストに対しても用いることができます。"
   ]
  },
  {
   "cell_type": "code",
   "execution_count": 16,
   "metadata": {},
   "outputs": [
    {
     "data": {
      "text/plain": [
       "6"
      ]
     },
     "execution_count": 16,
     "metadata": {},
     "output_type": "execute_result"
    }
   ],
   "source": [
    "ln = [0, 10, 20, 30, 40, 50]\n",
    "len(ln) # リストの長さ（大きさ）"
   ]
  },
  {
   "cell_type": "code",
   "execution_count": 17,
   "metadata": {
    "slideshow": {
     "slide_type": "skip"
    }
   },
   "outputs": [
    {
     "data": {
      "text/plain": [
       "[20, 30]"
      ]
     },
     "execution_count": 17,
     "metadata": {},
     "output_type": "execute_result"
    }
   ],
   "source": [
    "ln[2:4] # スライス"
   ]
  },
  {
   "cell_type": "code",
   "execution_count": 18,
   "metadata": {},
   "outputs": [
    {
     "data": {
      "text/plain": [
       "True"
      ]
     },
     "execution_count": 18,
     "metadata": {},
     "output_type": "execute_result"
    }
   ],
   "source": [
    "10 in ln # リストに所属する特定の要素の有無"
   ]
  },
  {
   "cell_type": "markdown",
   "metadata": {},
   "source": [
    "リストに対する `in`演算子は、論理演算`or` を簡潔に記述するのに用いることもできます。 例えば、\n",
    "\n",
    "---\n",
    "```Python\n",
    "a1 == 1 or a1 == 3 or a1 == 7:\n",
    "```\n",
    "---\n",
    "\n",
    "は\n",
    "\n",
    "---\n",
    "```Python\n",
    "a1 in [1, 3, 7]:\n",
    "```\n",
    "---\n",
    "\n",
    "と同じ結果を得られます。 `or` の数が多くなる場合は、`in` を用いた方がより読みやすいプログラムを書くことができます。"
   ]
  },
  {
   "cell_type": "code",
   "execution_count": 19,
   "metadata": {},
   "outputs": [
    {
     "name": "stdout",
     "output_type": "stream",
     "text": [
      "True True\n",
      "True True\n",
      "False False\n"
     ]
    }
   ],
   "source": [
    "a1 = 1\n",
    "print(a1 == 1 or a1 == 3 or a1 == 7, a1 in [1, 3, 7])\n",
    "a1 = 3\n",
    "print(a1 == 1 or a1 == 3 or a1 == 7, a1 in [1, 3, 7])\n",
    "a1 = 5\n",
    "print(a1 == 1 or a1 == 3 or a1 == 7, a1 in [1, 3, 7])"
   ]
  },
  {
   "cell_type": "code",
   "execution_count": 20,
   "metadata": {
    "slideshow": {
     "slide_type": "slide"
    }
   },
   "outputs": [
    {
     "data": {
      "text/plain": [
       "2"
      ]
     },
     "execution_count": 20,
     "metadata": {},
     "output_type": "execute_result"
    }
   ],
   "source": [
    "ln.index(20) # 指定した要素のリスト内のインデックス #findは使えない"
   ]
  },
  {
   "cell_type": "code",
   "execution_count": 21,
   "metadata": {},
   "outputs": [
    {
     "data": {
      "text/plain": [
       "1"
      ]
     },
     "execution_count": 21,
     "metadata": {},
     "output_type": "execute_result"
    }
   ],
   "source": [
    "ln.count(20) # 指定した要素のリスト内の数"
   ]
  },
  {
   "cell_type": "code",
   "execution_count": 22,
   "metadata": {},
   "outputs": [
    {
     "data": {
      "text/plain": [
       "[0, 10, 20, 30, 40, 50, 'a', 'b', 'c']"
      ]
     },
     "execution_count": 22,
     "metadata": {},
     "output_type": "execute_result"
    }
   ],
   "source": [
    "ln + ['a', 'b', 'c'] # リストの連結"
   ]
  },
  {
   "cell_type": "code",
   "execution_count": 23,
   "metadata": {
    "slideshow": {
     "slide_type": "skip"
    }
   },
   "outputs": [
    {
     "data": {
      "text/plain": [
       "[0, 10, 20, 30, 40, 50, 0, 10, 20, 30, 40, 50, 0, 10, 20, 30, 40, 50]"
      ]
     },
     "execution_count": 23,
     "metadata": {},
     "output_type": "execute_result"
    }
   ],
   "source": [
    "ln * 3 # リストの積"
   ]
  },
  {
   "cell_type": "markdown",
   "metadata": {
    "slideshow": {
     "slide_type": "skip"
    }
   },
   "source": [
    "要素がすべて 0 のリストを作る最も簡単な方法は、この `*` 演算子を使う方法です。"
   ]
  },
  {
   "cell_type": "code",
   "execution_count": 24,
   "metadata": {
    "slideshow": {
     "slide_type": "skip"
    }
   },
   "outputs": [
    {
     "data": {
      "text/plain": [
       "[0, 0, 0, 0, 0, 0, 0, 0, 0, 0]"
      ]
     },
     "execution_count": 24,
     "metadata": {},
     "output_type": "execute_result"
    }
   ],
   "source": [
    "ln0 = [0] * 10\n",
    "ln0"
   ]
  },
  {
   "cell_type": "markdown",
   "metadata": {
    "slideshow": {
     "slide_type": "slide"
    }
   },
   "source": [
    "文字列にはない関数やメソッドも用意されています。以下では、幾つか例を挙げます。"
   ]
  },
  {
   "cell_type": "markdown",
   "metadata": {},
   "source": [
    "### メソッド **`sort`**\n",
    "`sort` はリスト内の要素を昇順に並べ替えます。\n",
    "\n",
    "---\n",
    "```Python\n",
    "リスト.sort()\n",
    "```\n",
    "---"
   ]
  },
  {
   "cell_type": "code",
   "execution_count": 25,
   "metadata": {},
   "outputs": [
    {
     "data": {
      "text/plain": [
       "[10, 20, 30, 40, 50, 60]"
      ]
     },
     "execution_count": 25,
     "metadata": {},
     "output_type": "execute_result"
    }
   ],
   "source": [
    "ln = [30, 50, 10, 20, 40, 60]\n",
    "ln.sort()\n",
    "ln"
   ]
  },
  {
   "cell_type": "code",
   "execution_count": 26,
   "metadata": {},
   "outputs": [
    {
     "data": {
      "text/plain": [
       "['a', 'b', 'c', 'd', 'e', 'f']"
      ]
     },
     "execution_count": 26,
     "metadata": {},
     "output_type": "execute_result"
    }
   ],
   "source": [
    "ln = ['e', 'd', 'a', 'c', 'f', 'b']\n",
    "ln.sort()\n",
    "ln"
   ]
  },
  {
   "cell_type": "markdown",
   "metadata": {},
   "source": [
    "`sort(reverse = True)` とすることで要素を降順に並べ替えることもできます。"
   ]
  },
  {
   "cell_type": "code",
   "execution_count": 27,
   "metadata": {},
   "outputs": [
    {
     "data": {
      "text/plain": [
       "[60, 50, 40, 30, 20, 10]"
      ]
     },
     "execution_count": 27,
     "metadata": {},
     "output_type": "execute_result"
    }
   ],
   "source": [
    "ln = [30, 50, 10, 20, 40, 60]\n",
    "ln.sort(reverse = True)\n",
    "ln"
   ]
  },
  {
   "cell_type": "markdown",
   "metadata": {
    "slideshow": {
     "slide_type": "slide"
    }
   },
   "source": [
    "また、並べ替えを行う組み込み関数も用意されています。\n",
    "\n",
    "### メソッド **sorted**\n",
    "\n",
    "この関数ではリストを引数に取って、そのリスト内の要素を昇順に並べ替えます。\n",
    "\n",
    "---\n",
    "```Python\n",
    "sorted(リスト)\n",
    "```\n",
    "---"
   ]
  },
  {
   "cell_type": "code",
   "execution_count": 28,
   "metadata": {},
   "outputs": [
    {
     "data": {
      "text/plain": [
       "[10, 20, 30, 40, 50, 60]"
      ]
     },
     "execution_count": 28,
     "metadata": {},
     "output_type": "execute_result"
    }
   ],
   "source": [
    "ln = [30, 50, 10, 20, 40, 60]\n",
    "sorted(ln)"
   ]
  },
  {
   "cell_type": "code",
   "execution_count": 29,
   "metadata": {},
   "outputs": [
    {
     "data": {
      "text/plain": [
       "['a', 'b', 'c', 'd', 'e', 'f']"
      ]
     },
     "execution_count": 29,
     "metadata": {},
     "output_type": "execute_result"
    }
   ],
   "source": [
    "ln = ['e', 'd', 'a', 'c', 'f', 'b']\n",
    "sorted(ln)"
   ]
  },
  {
   "cell_type": "markdown",
   "metadata": {},
   "source": [
    "`sorted` においても、 `reverse = True` と記述することで要素を降順に並べ替えることができます。"
   ]
  },
  {
   "cell_type": "code",
   "execution_count": 30,
   "metadata": {},
   "outputs": [
    {
     "data": {
      "text/plain": [
       "[60, 50, 40, 30, 20, 10]"
      ]
     },
     "execution_count": 30,
     "metadata": {},
     "output_type": "execute_result"
    }
   ],
   "source": [
    "ln = [30, 50, 10, 20, 40, 60]\n",
    "sorted(ln, reverse=True)"
   ]
  },
  {
   "cell_type": "markdown",
   "metadata": {},
   "source": [
    "ついでですが、多重リストをソートするとどの様な結果が得られるか確かめてみて下さい。"
   ]
  },
  {
   "cell_type": "code",
   "execution_count": 31,
   "metadata": {},
   "outputs": [
    {
     "data": {
      "text/plain": [
       "[[10, 30], [20, 5], [30, 10], [40, 20]]"
      ]
     },
     "execution_count": 31,
     "metadata": {},
     "output_type": "execute_result"
    }
   ],
   "source": [
    "ln = [[20, 5], [10, 30], [40, 20], [30, 10]]\n",
    "ln.sort()\n",
    "ln"
   ]
  },
  {
   "cell_type": "markdown",
   "metadata": {},
   "source": [
    "## 破壊的（インプレース）な操作と非破壊的な生成"
   ]
  },
  {
   "cell_type": "markdown",
   "metadata": {},
   "source": [
    "上記では、sortメソッドとsorted関数を紹介しましたが、両者の使い方が異なることに気が付きましたか？\n",
    "\n",
    "具体的には、sortメソッドは元のリストの値が変更されています。一方、sorted関数は元のリストの値はそのままになっています。もう一度確認してみましょう。"
   ]
  },
  {
   "cell_type": "code",
   "execution_count": 32,
   "metadata": {},
   "outputs": [
    {
     "name": "stdout",
     "output_type": "stream",
     "text": [
      "sortメソッドの実行後の元のリスト: [10, 20, 30, 40, 50, 60]\n",
      "sorted関数の実行後の元のリスト: [30, 50, 10, 20, 40, 60]\n"
     ]
    }
   ],
   "source": [
    "ln = [30, 50, 10, 20, 40, 60]\n",
    "ln.sort()\n",
    "print(\"sortメソッドの実行後の元のリスト:\", ln)\n",
    "ln = [30, 50, 10, 20, 40, 60]\n",
    "sorted(ln)\n",
    "print(\"sorted関数の実行後の元のリスト:\", ln)"
   ]
  },
  {
   "cell_type": "markdown",
   "metadata": {},
   "source": [
    "この様に、sortメソッドは元のリストの値を書き換えてしまいます。この様な操作を **破壊的** あるいは **インプレース** (**In place**)であるといいます。  \n",
    "一方、sorted関数は新しいリストを生成し元のリストを破壊しません、このような操作は **非破壊的** であるといいます。"
   ]
  },
  {
   "cell_type": "markdown",
   "metadata": {},
   "source": [
    "sorted関数を用いた場合、その返り値（並べ替えの結果）は新しい変数に代入して使うことができますが、sortメソッドはリストを返さないためその様な使い方が出来ないことに注意して下さい。"
   ]
  },
  {
   "cell_type": "code",
   "execution_count": 33,
   "metadata": {},
   "outputs": [
    {
     "name": "stdout",
     "output_type": "stream",
     "text": [
      "sorted関数の返り値: [10, 20, 30, 40, 50, 60]\n",
      "sortメソッドの返り値: None\n"
     ]
    }
   ],
   "source": [
    "ln = [30, 50, 10, 20, 40, 60]\n",
    "ln2 = sorted(ln)\n",
    "print(\"sorted関数の返り値:\", ln2)\n",
    "\n",
    "ln = [30, 50, 10, 20, 40, 60]\n",
    "ln2 = ln.sort()\n",
    "print(\"sortメソッドの返り値:\", ln2)"
   ]
  },
  {
   "cell_type": "markdown",
   "metadata": {},
   "source": [
    "## リストの操作（2）"
   ]
  },
  {
   "cell_type": "markdown",
   "metadata": {
    "slideshow": {
     "slide_type": "slide"
    }
   },
   "source": [
    "以下では、幾つかのメソッドや関数の例を挙げます。以下の例中において行う操作は破壊的であることに注意して下さい。"
   ]
  },
  {
   "cell_type": "markdown",
   "metadata": {
    "slideshow": {
     "slide_type": "slide"
    }
   },
   "source": [
    "### **append**\n",
    "\n",
    "リストの最後尾に指定した要素を付け加えます。<br>\n",
    "\n",
    "---\n",
    "```Python\n",
    "リスト.append(追加する要素) \n",
    "```\n",
    "---"
   ]
  },
  {
   "cell_type": "code",
   "execution_count": 34,
   "metadata": {},
   "outputs": [
    {
     "data": {
      "text/plain": [
       "[10, 20, 30, 40, 50, 100]"
      ]
     },
     "execution_count": 34,
     "metadata": {},
     "output_type": "execute_result"
    }
   ],
   "source": [
    "ln = [10, 20, 30, 40, 50]\n",
    "ln.append(100)\n",
    "ln"
   ]
  },
  {
   "cell_type": "markdown",
   "metadata": {},
   "source": [
    "`append` は、上述した空のリストと組み合わせて、あるリストから特定の条件を満たす要素のみからなる新たなリストを構成する、という様な状況でしばしば用いられます。例えば、リスト `ln1 = [10, -10, 20, 30, -20, 40, -30]` から 0 より大きい要素のみを抜き出したリスト `ln2` は次の様に構成することができます。"
   ]
  },
  {
   "cell_type": "code",
   "execution_count": 35,
   "metadata": {},
   "outputs": [
    {
     "name": "stdout",
     "output_type": "stream",
     "text": [
      "[10, 20, 30, 40]\n"
     ]
    }
   ],
   "source": [
    "ln1 = [10, -10, 20, 30, -20, 40, -30] \n",
    "ln2 = [] # 空のリストを作成する\n",
    "ln2.append(ln1[0])\n",
    "ln2.append(ln1[2])\n",
    "ln2.append(ln1[3])\n",
    "ln2.append(ln1[5])\n",
    "print(ln2)"
   ]
  },
  {
   "cell_type": "markdown",
   "metadata": {
    "slideshow": {
     "slide_type": "slide"
    }
   },
   "source": [
    "### **extend**\n",
    "リストの最後尾に指定したリストの要素を付け加えます。<br>\n",
    "\n",
    "---\n",
    "```Python\n",
    "リスト.extend(追加するリスト) \n",
    "```\n",
    "---"
   ]
  },
  {
   "cell_type": "code",
   "execution_count": 36,
   "metadata": {},
   "outputs": [
    {
     "data": {
      "text/plain": [
       "[10, 20, 30, 40, 50, 200, 300, 400, 200]"
      ]
     },
     "execution_count": 36,
     "metadata": {},
     "output_type": "execute_result"
    }
   ],
   "source": [
    "ln = [10, 20, 30, 40, 50]\n",
    "ln.extend([200, 300, 400, 200]) # ln + [200, 300, 400, 200]と同じ\n",
    "ln"
   ]
  },
  {
   "cell_type": "markdown",
   "metadata": {
    "slideshow": {
     "slide_type": "slide"
    }
   },
   "source": [
    "### **insert**\n",
    "リストのインデックスを指定した位置に新しい要素を挿入します。<br>\n",
    "\n",
    "---\n",
    "```Python\n",
    "リスト.insert(インデックス, 新しい要素)\n",
    "```\n",
    "---"
   ]
  },
  {
   "cell_type": "code",
   "execution_count": 37,
   "metadata": {},
   "outputs": [
    {
     "data": {
      "text/plain": [
       "[10, 1000, 20, 30, 40, 50]"
      ]
     },
     "execution_count": 37,
     "metadata": {},
     "output_type": "execute_result"
    }
   ],
   "source": [
    "ln = [10, 20, 30, 40, 50]\n",
    "ln.insert(1, 1000)\n",
    "ln"
   ]
  },
  {
   "cell_type": "markdown",
   "metadata": {
    "slideshow": {
     "slide_type": "slide"
    }
   },
   "source": [
    "### **remove**\n",
    "指定した要素をリストから削除します。<br>\n",
    "\n",
    "---\n",
    "```Python\n",
    "リスト.remove(削除したい要素)\n",
    "```\n",
    "---\n",
    "\n",
    "ただし、指定した要素が複数個リストに含まれる場合、一番最初の要素が削除されます。また、指定した値がリストに含まれない場合はエラーが出ます。"
   ]
  },
  {
   "cell_type": "code",
   "execution_count": 38,
   "metadata": {
    "slideshow": {
     "slide_type": "slide"
    }
   },
   "outputs": [
    {
     "data": {
      "text/plain": [
       "[10, 20, 40, 20]"
      ]
     },
     "execution_count": 38,
     "metadata": {},
     "output_type": "execute_result"
    }
   ],
   "source": [
    "ln = [10, 20, 30, 40, 20] \n",
    "ln.remove(30) # 指定した要素を削除\n",
    "ln"
   ]
  },
  {
   "cell_type": "code",
   "execution_count": 39,
   "metadata": {},
   "outputs": [
    {
     "data": {
      "text/plain": [
       "[10, 40, 20]"
      ]
     },
     "execution_count": 39,
     "metadata": {},
     "output_type": "execute_result"
    }
   ],
   "source": [
    "ln.remove(20) # 指定した要素が複数個リストに含まれる場合、一番最初の要素を削除\n",
    "ln"
   ]
  },
  {
   "cell_type": "code",
   "execution_count": 40,
   "metadata": {},
   "outputs": [
    {
     "ename": "ValueError",
     "evalue": "list.remove(x): x not in list",
     "output_type": "error",
     "traceback": [
      "\u001b[1;31m---------------------------------------------------------------------------\u001b[0m",
      "\u001b[1;31mValueError\u001b[0m                                Traceback (most recent call last)",
      "\u001b[1;32m<ipython-input-40-b139ddb04ea6>\u001b[0m in \u001b[0;36m<module>\u001b[1;34m()\u001b[0m\n\u001b[1;32m----> 1\u001b[1;33m \u001b[0mln\u001b[0m\u001b[1;33m.\u001b[0m\u001b[0mremove\u001b[0m\u001b[1;33m(\u001b[0m\u001b[1;36m100\u001b[0m\u001b[1;33m)\u001b[0m \u001b[1;31m# リストに含まれない値を指定するとエラー\u001b[0m\u001b[1;33m\u001b[0m\u001b[0m\n\u001b[0m",
      "\u001b[1;31mValueError\u001b[0m: list.remove(x): x not in list"
     ]
    }
   ],
   "source": [
    "ln.remove(100) # リストに含まれない値を指定するとエラー"
   ]
  },
  {
   "cell_type": "markdown",
   "metadata": {
    "slideshow": {
     "slide_type": "slide"
    }
   },
   "source": [
    "### **pop**\n",
    "指定したインデックスの要素をリストから削除して返します。\n",
    "\n",
    "---\n",
    "```Python\n",
    "リスト.pop(削除したい要素のインデックス)\n",
    "```\n",
    "---"
   ]
  },
  {
   "cell_type": "code",
   "execution_count": 41,
   "metadata": {
    "slideshow": {
     "slide_type": "-"
    }
   },
   "outputs": [
    {
     "name": "stdout",
     "output_type": "stream",
     "text": [
      "30\n",
      "[10, 20, 20, 20, 40]\n"
     ]
    }
   ],
   "source": [
    "ln = [10, 20, 20, 30, 20, 40]\n",
    "print(ln.pop(3))\n",
    "print(ln)"
   ]
  },
  {
   "cell_type": "markdown",
   "metadata": {
    "slideshow": {
     "slide_type": "slide"
    }
   },
   "source": [
    "インデックスを指定しない場合、最後尾の要素を削除して返します。\n",
    "\n",
    "---\n",
    "```Python\n",
    "リスト.pop()\n",
    "```\n",
    "---"
   ]
  },
  {
   "cell_type": "code",
   "execution_count": 42,
   "metadata": {},
   "outputs": [
    {
     "name": "stdout",
     "output_type": "stream",
     "text": [
      "40\n",
      "[10, 20, 30, 20]\n"
     ]
    }
   ],
   "source": [
    "ln = [10, 20, 30, 20, 40]\n",
    "print(ln.pop())\n",
    "print(ln)"
   ]
  },
  {
   "cell_type": "markdown",
   "metadata": {
    "slideshow": {
     "slide_type": "slide"
    }
   },
   "source": [
    "### **reverse**\n",
    "リスト内の要素の順序を逆順にします。"
   ]
  },
  {
   "cell_type": "code",
   "execution_count": 43,
   "metadata": {},
   "outputs": [
    {
     "data": {
      "text/plain": [
       "['b', 'f', 'c', 'a', 'd', 'e']"
      ]
     },
     "execution_count": 43,
     "metadata": {},
     "output_type": "execute_result"
    }
   ],
   "source": [
    "ln = ['e', 'd', 'a', 'c', 'f', 'b']\n",
    "ln.reverse()\n",
    "ln"
   ]
  },
  {
   "cell_type": "markdown",
   "metadata": {
    "slideshow": {
     "slide_type": "slide"
    }
   },
   "source": [
    "### **del**\n",
    "`del` 文は指定するリストの要素を削除します。具体的には以下のように削除したい要素をインデックスで指定します。 `del` も破壊的であることに注意して下さい。\n",
    "\n",
    "---\n",
    "```Python\n",
    "del リスト[x]\n",
    "```\n",
    "---\n"
   ]
  },
  {
   "cell_type": "code",
   "execution_count": 44,
   "metadata": {},
   "outputs": [
    {
     "data": {
      "text/plain": [
       "[10, 30, 40, 50]"
      ]
     },
     "execution_count": 44,
     "metadata": {},
     "output_type": "execute_result"
    }
   ],
   "source": [
    "ln = [10, 20, 30, 40, 50]\n",
    "del ln[1]\n",
    "ln"
   ]
  },
  {
   "cell_type": "markdown",
   "metadata": {
    "slideshow": {
     "slide_type": "slide"
    }
   },
   "source": [
    "スライスを使うことも可能です。\n",
    "\n",
    "---\n",
    "```Python\n",
    "del リスト[x:y]\n",
    "```\n",
    "---\n"
   ]
  },
  {
   "cell_type": "code",
   "execution_count": 45,
   "metadata": {},
   "outputs": [
    {
     "data": {
      "text/plain": [
       "[10, 20, 50]"
      ]
     },
     "execution_count": 45,
     "metadata": {},
     "output_type": "execute_result"
    }
   ],
   "source": [
    "ln = [10, 20, 30, 40, 50]\n",
    "del ln[2:4]\n",
    "ln"
   ]
  },
  {
   "cell_type": "markdown",
   "metadata": {
    "slideshow": {
     "slide_type": "skip"
    }
   },
   "source": [
    "### **copy**\n",
    "リストを複製します。複製をおこなったあとで、一方のリストに変更を加えたとしても、もう一方のリストは影響を受けません。"
   ]
  },
  {
   "cell_type": "code",
   "execution_count": 46,
   "metadata": {
    "slideshow": {
     "slide_type": "skip"
    }
   },
   "outputs": [
    {
     "name": "stdout",
     "output_type": "stream",
     "text": [
      "[10, 40, 50]\n",
      "[10, 20, 30, 40, 50]\n"
     ]
    }
   ],
   "source": [
    "ln = [10, 20, 30, 40, 50]\n",
    "ln2 = ln.copy()\n",
    "del ln[1:3]\n",
    "print(ln)\n",
    "print(ln2)"
   ]
  },
  {
   "cell_type": "markdown",
   "metadata": {
    "slideshow": {
     "slide_type": "skip"
    }
   },
   "source": [
    "一方、代入を用いた場合には影響を受けることに注意して下さい。"
   ]
  },
  {
   "cell_type": "code",
   "execution_count": 47,
   "metadata": {
    "slideshow": {
     "slide_type": "skip"
    }
   },
   "outputs": [
    {
     "name": "stdout",
     "output_type": "stream",
     "text": [
      "[10, 40, 50]\n",
      "[10, 40, 50]\n"
     ]
    }
   ],
   "source": [
    "ln = [10, 20, 30, 40, 50]\n",
    "ln2 = ln\n",
    "del ln[1:3]\n",
    "print(ln)\n",
    "print(ln2)"
   ]
  },
  {
   "cell_type": "markdown",
   "metadata": {},
   "source": [
    "メソッドや組み込み関数が破壊的であるかどうかは、一般にその名称などからは判断できません。それぞれ破壊的かどうか覚えておく必要があります。"
   ]
  },
  {
   "cell_type": "markdown",
   "metadata": {
    "slideshow": {
     "slide_type": "slide"
    }
   },
   "source": [
    "## タプル\n",
    "\n",
    "**タプル**は、リストと同じようにデータの並びであり、あらゆる種類のデータを要素とすることができます。\n",
    "ただし、リストと違ってタプルは一度設定した要素を変更できません（文字列も同様でした）。\n",
    "したがって、リストの項で説明したメソッドの多く、要素を操作するもの、は適用できません。\n",
    "\n",
    "タプルを作成するには、次のように丸括弧で値をくくります。"
   ]
  },
  {
   "cell_type": "code",
   "execution_count": 48,
   "metadata": {},
   "outputs": [
    {
     "data": {
      "text/plain": [
       "(1, 2, 3)"
      ]
     },
     "execution_count": 48,
     "metadata": {},
     "output_type": "execute_result"
    }
   ],
   "source": [
    "tup1 = (1, 2, 3)\n",
    "tup1"
   ]
  },
  {
   "cell_type": "code",
   "execution_count": 49,
   "metadata": {
    "slideshow": {
     "slide_type": "skip"
    }
   },
   "outputs": [
    {
     "data": {
      "text/plain": [
       "tuple"
      ]
     },
     "execution_count": 49,
     "metadata": {},
     "output_type": "execute_result"
    }
   ],
   "source": [
    "type(tup1)"
   ]
  },
  {
   "cell_type": "markdown",
   "metadata": {
    "slideshow": {
     "slide_type": "slide"
    }
   },
   "source": [
    "実は、丸括弧なしでもタプルを作成することができます。"
   ]
  },
  {
   "cell_type": "code",
   "execution_count": 50,
   "metadata": {},
   "outputs": [
    {
     "data": {
      "text/plain": [
       "(1, 2, 3)"
      ]
     },
     "execution_count": 50,
     "metadata": {},
     "output_type": "execute_result"
    }
   ],
   "source": [
    "tup1 = 1,2,3\n",
    "tup1"
   ]
  },
  {
   "cell_type": "markdown",
   "metadata": {
    "slideshow": {
     "slide_type": "slide"
    }
   },
   "source": [
    "要素が1つだけの場合は、 `t = (1)` ではなく、次のようにします。"
   ]
  },
  {
   "cell_type": "code",
   "execution_count": 51,
   "metadata": {},
   "outputs": [
    {
     "data": {
      "text/plain": [
       "(1,)"
      ]
     },
     "execution_count": 51,
     "metadata": {},
     "output_type": "execute_result"
    }
   ],
   "source": [
    "tup1 = (1,)\n",
    "tup1"
   ]
  },
  {
   "cell_type": "markdown",
   "metadata": {},
   "source": [
    "`t = (1)` だと、`t = 1` と同じです。"
   ]
  },
  {
   "cell_type": "code",
   "execution_count": 52,
   "metadata": {},
   "outputs": [
    {
     "data": {
      "text/plain": [
       "1"
      ]
     },
     "execution_count": 52,
     "metadata": {},
     "output_type": "execute_result"
    }
   ],
   "source": [
    "tup1 = (1)\n",
    "tup1"
   ]
  },
  {
   "cell_type": "markdown",
   "metadata": {
    "slideshow": {
     "slide_type": "slide"
    }
   },
   "source": [
    "リストや文字列と類似した操作が可能です。"
   ]
  },
  {
   "cell_type": "code",
   "execution_count": 53,
   "metadata": {},
   "outputs": [
    {
     "data": {
      "text/plain": [
       "2"
      ]
     },
     "execution_count": 53,
     "metadata": {},
     "output_type": "execute_result"
    }
   ],
   "source": [
    "tup1 = (1, 2, 3, 4, 5)\n",
    "tup1[1] # インデックスの指定による値の取得"
   ]
  },
  {
   "cell_type": "code",
   "execution_count": 54,
   "metadata": {},
   "outputs": [
    {
     "data": {
      "text/plain": [
       "5"
      ]
     },
     "execution_count": 54,
     "metadata": {},
     "output_type": "execute_result"
    }
   ],
   "source": [
    "len(tup1) # lenはタプルを構成する要素の数"
   ]
  },
  {
   "cell_type": "code",
   "execution_count": 55,
   "metadata": {},
   "outputs": [
    {
     "data": {
      "text/plain": [
       "(3, 4, 5)"
      ]
     },
     "execution_count": 55,
     "metadata": {},
     "output_type": "execute_result"
    }
   ],
   "source": [
    "tup1[2:5] # スライス"
   ]
  },
  {
   "cell_type": "markdown",
   "metadata": {},
   "source": [
    "**多重代入**も可能です。"
   ]
  },
  {
   "cell_type": "code",
   "execution_count": 56,
   "metadata": {},
   "outputs": [
    {
     "data": {
      "text/plain": [
       "2"
      ]
     },
     "execution_count": 56,
     "metadata": {},
     "output_type": "execute_result"
    }
   ],
   "source": [
    "tup1 = (1, 2, 3)\n",
    "(x,y,z) = tup1 \n",
    "y"
   ]
  },
  {
   "cell_type": "markdown",
   "metadata": {},
   "source": [
    "これは次の様に記述することもできます。"
   ]
  },
  {
   "cell_type": "code",
   "execution_count": 57,
   "metadata": {},
   "outputs": [
    {
     "name": "stdout",
     "output_type": "stream",
     "text": [
      "2\n",
      "2\n",
      "2\n",
      "2\n",
      "2\n"
     ]
    }
   ],
   "source": [
    "x,y,z = tup1\n",
    "print(y)\n",
    "(x,y,z) = (1, 2, 3)\n",
    "print(y)\n",
    "x,y,z = (1, 2, 3)\n",
    "print(y)\n",
    "(x,y,z) = 1, 2, 3\n",
    "print(y)\n",
    "x,y,z = 1, 2, 3\n",
    "print(y)"
   ]
  },
  {
   "cell_type": "markdown",
   "metadata": {},
   "source": [
    "多重代入を使うことで、2つの変数に格納された値の入れ替えを行う手続きはしばしば用いられます。"
   ]
  },
  {
   "cell_type": "code",
   "execution_count": 58,
   "metadata": {},
   "outputs": [
    {
     "name": "stdout",
     "output_type": "stream",
     "text": [
      "pen apple\n"
     ]
    }
   ],
   "source": [
    "x = \"apple\"\n",
    "y = \"pen\"\n",
    "x, y = y, x \n",
    "print(x, y) #w = x; x = y; y = w と同じ結果が得られる"
   ]
  },
  {
   "cell_type": "markdown",
   "metadata": {
    "slideshow": {
     "slide_type": "slide"
    }
   },
   "source": [
    "上述しましたが、一度作成したタプルの要素を後から変更することはできません。"
   ]
  },
  {
   "cell_type": "code",
   "execution_count": 59,
   "metadata": {},
   "outputs": [
    {
     "ename": "TypeError",
     "evalue": "'tuple' object does not support item assignment",
     "output_type": "error",
     "traceback": [
      "\u001b[1;31m---------------------------------------------------------------------------\u001b[0m",
      "\u001b[1;31mTypeError\u001b[0m                                 Traceback (most recent call last)",
      "\u001b[1;32m<ipython-input-59-f060d24eb00c>\u001b[0m in \u001b[0;36m<module>\u001b[1;34m()\u001b[0m\n\u001b[1;32m----> 1\u001b[1;33m \u001b[0mtup1\u001b[0m\u001b[1;33m[\u001b[0m\u001b[1;36m1\u001b[0m\u001b[1;33m]\u001b[0m \u001b[1;33m=\u001b[0m \u001b[1;36m5\u001b[0m\u001b[1;33m\u001b[0m\u001b[0m\n\u001b[0m",
      "\u001b[1;31mTypeError\u001b[0m: 'tuple' object does not support item assignment"
     ]
    }
   ],
   "source": [
    "tup1[1] = 5"
   ]
  },
  {
   "cell_type": "markdown",
   "metadata": {
    "slideshow": {
     "slide_type": "slide"
    }
   },
   "source": [
    "組み込み関数 **`list`** を使って、タプルをリストに変換できます。"
   ]
  },
  {
   "cell_type": "code",
   "execution_count": 60,
   "metadata": {},
   "outputs": [
    {
     "data": {
      "text/plain": [
       "[1, 2, 3]"
      ]
     },
     "execution_count": 60,
     "metadata": {},
     "output_type": "execute_result"
    }
   ],
   "source": [
    "list(tup1)"
   ]
  },
  {
   "cell_type": "markdown",
   "metadata": {},
   "source": [
    "組み込み関数 **`tuple`** を使って、逆にリストをタプルに変換できます。"
   ]
  },
  {
   "cell_type": "code",
   "execution_count": 61,
   "metadata": {},
   "outputs": [
    {
     "data": {
      "text/plain": [
       "(1, 2)"
      ]
     },
     "execution_count": 61,
     "metadata": {},
     "output_type": "execute_result"
    }
   ],
   "source": [
    "ls = [1, 2]\n",
    "tuple(ls)"
   ]
  },
  {
   "cell_type": "markdown",
   "metadata": {
    "slideshow": {
     "slide_type": "skip"
    }
   },
   "source": [
    "## リストやタプルの比較演算\n",
    "数値などを比較するのに用いた比較演算子を用いて、2つのリストやタプルを比較することもできます。"
   ]
  },
  {
   "cell_type": "code",
   "execution_count": 62,
   "metadata": {
    "slideshow": {
     "slide_type": "skip"
    }
   },
   "outputs": [
    {
     "name": "stdout",
     "output_type": "stream",
     "text": [
      "True\n",
      "False\n"
     ]
    }
   ],
   "source": [
    "print([1, 2, 3] == [1, 2, 3])\n",
    "print([1, 2] == [1, 2, 3])"
   ]
  },
  {
   "cell_type": "code",
   "execution_count": 63,
   "metadata": {
    "slideshow": {
     "slide_type": "skip"
    }
   },
   "outputs": [
    {
     "name": "stdout",
     "output_type": "stream",
     "text": [
      "True\n",
      "False\n"
     ]
    }
   ],
   "source": [
    "print((1, 2, 3) == (1, 2, 3))\n",
    "print((1, 2) == (1, 2, 3))"
   ]
  },
  {
   "cell_type": "code",
   "execution_count": 64,
   "metadata": {
    "slideshow": {
     "slide_type": "skip"
    }
   },
   "outputs": [
    {
     "name": "stdout",
     "output_type": "stream",
     "text": [
      "False\n",
      "True\n"
     ]
    }
   ],
   "source": [
    "print([1, 2, 3] != [1, 2, 3])\n",
    "print([1, 2] != [1, 2, 3])"
   ]
  },
  {
   "cell_type": "code",
   "execution_count": 65,
   "metadata": {},
   "outputs": [
    {
     "name": "stdout",
     "output_type": "stream",
     "text": [
      "False\n",
      "True\n"
     ]
    }
   ],
   "source": [
    "print((1, 2, 3) != (1, 2, 3))\n",
    "print((1, 2) != (1, 2, 3))"
   ]
  },
  {
   "cell_type": "code",
   "execution_count": 66,
   "metadata": {
    "slideshow": {
     "slide_type": "skip"
    }
   },
   "outputs": [
    {
     "name": "stdout",
     "output_type": "stream",
     "text": [
      "True\n",
      "False\n",
      "True\n"
     ]
    }
   ],
   "source": [
    "print([1, 2, 3] <= [1, 2, 3])\n",
    "print([1, 2, 3] < [1, 2, 3])\n",
    "print([1, 2] < [1, 2, 3])"
   ]
  },
  {
   "cell_type": "code",
   "execution_count": 67,
   "metadata": {},
   "outputs": [
    {
     "name": "stdout",
     "output_type": "stream",
     "text": [
      "True\n",
      "False\n",
      "True\n"
     ]
    }
   ],
   "source": [
    "print((1, 2, 3) <= (1, 2, 3))\n",
    "print((1, 2, 3) < (1, 2, 3))\n",
    "print((1, 2) < (1, 2, 3))"
   ]
  },
  {
   "cell_type": "markdown",
   "metadata": {},
   "source": [
    "## 比較演算子 `==`, `!=` と `is`, `is not`\n",
    "\n",
    "先に紹介した比較演算子と似た機能の演算子として、`is` および `is not` があります。\n",
    "比較演算子 `==` あるいは `!=` は左辺と右辺のオブジェクトの中身が、それぞれ等しいあるいは等しくないかを判定します。\n",
    "一方、`is` および `is not` は左辺と右辺のオブジェクトそのものが、等しいあるいはそうではないかを判定します。\n",
    "オブジェクトの詳細は 6-1 オブジェクト指向の回で説明します。\n",
    "\n",
    "これらの違いをリストを使って説明します。"
   ]
  },
  {
   "cell_type": "markdown",
   "metadata": {},
   "source": [
    "リスト `a` を作成、それを `b` に代入します。`b` の中身はもちろん `a` と同じです。"
   ]
  },
  {
   "cell_type": "code",
   "execution_count": 68,
   "metadata": {},
   "outputs": [
    {
     "name": "stdout",
     "output_type": "stream",
     "text": [
      "[1, 2, 3]\n",
      "True\n"
     ]
    }
   ],
   "source": [
    "a = [1, 2, 3]\n",
    "b = a\n",
    "print(b)\n",
    "print(a == b)"
   ]
  },
  {
   "cell_type": "markdown",
   "metadata": {},
   "source": [
    "`is` 演算子で `a`,`b` を比較すると `True`、すなわち同じオブジェクトであることがわかります。\n",
    "念のためオブジェクトの識別子を得る組み込み関数 `id` の結果も併せて示します。"
   ]
  },
  {
   "cell_type": "code",
   "execution_count": 69,
   "metadata": {},
   "outputs": [
    {
     "name": "stdout",
     "output_type": "stream",
     "text": [
      "True\n",
      "2209858747144 2209858747144\n"
     ]
    }
   ],
   "source": [
    "print(a is b)\n",
    "print(id(a), id(b))"
   ]
  },
  {
   "cell_type": "markdown",
   "metadata": {},
   "source": [
    "リスト `a` と同じ中身のリスト `c` を作って比較してみます。\n",
    "（組み込み関数 `list` は新しいリストを作成します。）  \n",
    "`==` 演算子による比較結果は `True` にもかかわらず、`is` 演算子の結果は `False` となります。もちろん `id` の結果も異なります。"
   ]
  },
  {
   "cell_type": "code",
   "execution_count": 70,
   "metadata": {},
   "outputs": [
    {
     "name": "stdout",
     "output_type": "stream",
     "text": [
      "[1, 2, 3]\n",
      "True\n",
      "False\n",
      "2209858747144 2209858521800\n"
     ]
    }
   ],
   "source": [
    "c = list(a)\n",
    "print(c)\n",
    "print(a == c)\n",
    "print(a is c)\n",
    "print(id(a), id(c))"
   ]
  },
  {
   "cell_type": "markdown",
   "metadata": {},
   "source": [
    "## for文による繰り返しとリスト、タプル\n",
    "\n",
    "きまった操作の繰り返しはコンピュータが最も得意とする処理のひとつです。\n",
    "リストのそれぞれの要素にわたって操作を繰り返したい場合は **for** 文を用います。\n",
    "\n",
    "リスト `ls` の要素すべてに対して、`実行文`を繰り返すには次のように書きます。\n",
    "\n",
    "---\n",
    "```Python\n",
    "for value in ls:\n",
    "    実行文\n",
    "```\n",
    "---\n",
    "\n",
    "for行の `in` 演算子の右辺に処理対象となるリスト `ls`が、左辺に変数 `value`が書かれます。  \n",
    "`ls` の要素は最初、すなわち `ls[0]`から、一つづつ `value` に代入され、`実行文`の処理を開始します。  \n",
    "`実行文`の処理が終われば、`ls` の次の要素が`value` に代入され、処理を繰り返します。  \n",
    "`ls` の要素がなくなる、すなわち `len(ls)` 回、繰り返せば for文の処理を終了します。　　\n",
    "\n",
    "ここで、`in` 演算子の働きは、先に説明したリスト要素の有無を検査する `in` とは働きが異なることに、\n",
    "そして、if文と同様、 `実行文` の前にはスペースが必要であることに注意して下さい。\n",
    "\n",
    "次に具体例を示します。\n",
    "実行文では 3 つの要素を持つリスト `ls` から一つづつ要素を取り出し、変数 `value` に代入しています。\n",
    "実行文では `vbalue` を用いて取り出した要素にアクセスしています。"
   ]
  },
  {
   "cell_type": "code",
   "execution_count": 71,
   "metadata": {},
   "outputs": [
    {
     "name": "stdout",
     "output_type": "stream",
     "text": [
      "For loop: 0\n",
      "For loop: 1\n",
      "For loop: 2\n"
     ]
    }
   ],
   "source": [
    "ls = [0,1,2]\n",
    "\n",
    "for value in ls:\n",
    "    print(\"For loop:\", value)"
   ]
  },
  {
   "cell_type": "markdown",
   "metadata": {},
   "source": [
    "`in` の後に直接リストを記述することもできます。"
   ]
  },
  {
   "cell_type": "code",
   "execution_count": 72,
   "metadata": {},
   "outputs": [
    {
     "name": "stdout",
     "output_type": "stream",
     "text": [
      "For loop: 0\n",
      "For loop: 1\n",
      "For loop: 2\n"
     ]
    }
   ],
   "source": [
    "for value in  [0,1,2]:\n",
    "    print(\"For loop:\", value)"
   ]
  },
  {
   "cell_type": "markdown",
   "metadata": {},
   "source": [
    "`実行文` の前にスペースがないとエラーが出ます。"
   ]
  },
  {
   "cell_type": "code",
   "execution_count": 73,
   "metadata": {},
   "outputs": [
    {
     "ename": "IndentationError",
     "evalue": "expected an indented block (<ipython-input-73-5c8de952c2cc>, line 2)",
     "output_type": "error",
     "traceback": [
      "\u001b[1;36m  File \u001b[1;32m\"<ipython-input-73-5c8de952c2cc>\"\u001b[1;36m, line \u001b[1;32m2\u001b[0m\n\u001b[1;33m    print(\"For loop:\", value)\u001b[0m\n\u001b[1;37m        ^\u001b[0m\n\u001b[1;31mIndentationError\u001b[0m\u001b[1;31m:\u001b[0m expected an indented block\n"
     ]
    }
   ],
   "source": [
    "for value in  [0,1,2]:\n",
    "print(\"For loop:\", value)"
   ]
  },
  {
   "cell_type": "markdown",
   "metadata": {},
   "source": [
    "エラーが出れば意図した通りにプログラムが組めていないのにすぐ気が付きますが、エラーが出ないために意図したプログラムが組めていないことに気が付かないことがあります。例えば、次の様な内容を実行しようとしていたとします。"
   ]
  },
  {
   "cell_type": "code",
   "execution_count": 74,
   "metadata": {},
   "outputs": [
    {
     "name": "stdout",
     "output_type": "stream",
     "text": [
      "During for loop: 0\n",
      "During for loop, too: 0\n",
      "During for loop: 1\n",
      "During for loop, too: 1\n",
      "During for loop: 2\n",
      "During for loop, too: 2\n"
     ]
    }
   ],
   "source": [
    "for value in  [0,1,2]:\n",
    "    print(\"During for loop:\", value)\n",
    "    print(\"During for loop, too:\", value)"
   ]
  },
  {
   "cell_type": "markdown",
   "metadata": {},
   "source": [
    "後者のprintの行のスペースの数が間違ってると、次の様な結果になる場合がありますので注意して下さい。"
   ]
  },
  {
   "cell_type": "code",
   "execution_count": 75,
   "metadata": {},
   "outputs": [
    {
     "name": "stdout",
     "output_type": "stream",
     "text": [
      "During for loop: 0\n",
      "During for loop: 1\n",
      "During for loop: 2\n",
      "During for loop, too: 2\n"
     ]
    }
   ],
   "source": [
    "for value in  [0,1,2]:\n",
    "    print(\"During for loop:\", value)\n",
    "print(\"During for loop, too:\", value) #この行のスペースの数が間違っていたがエラーは出ない"
   ]
  },
  {
   "cell_type": "markdown",
   "metadata": {},
   "source": [
    "タプルの要素にまたがる処理もリストと同様におこなえます。"
   ]
  },
  {
   "cell_type": "code",
   "execution_count": 76,
   "metadata": {},
   "outputs": [
    {
     "name": "stdout",
     "output_type": "stream",
     "text": [
      "For loop: 0\n",
      "For loop: 1\n",
      "For loop: 2\n"
     ]
    }
   ],
   "source": [
    "for value in  (0,1,2):\n",
    "    print(\"For loop:\", value)"
   ]
  },
  {
   "cell_type": "markdown",
   "metadata": {},
   "source": [
    "##  for文による繰り返しと文字列\n",
    "\n",
    "for文を使うと文字列全体にまたがる処理も可能です。  \n",
    "文字列 `str1` をまたがって一文字ずつの繰り返し処理をおこなう場合は次のように書きます。  \n",
    "ここで、`c` にはとりだされた一文字（の文字列）が代入されています。\n",
    "\n",
    "---\n",
    "```Python\n",
    "for c in str1:\n",
    "    実行文\n",
    "```\n",
    "---\n",
    "\n",
    "`str1` で与えられる文字列を一文字ずつ大文字で出力する処理は以下のようになります。"
   ]
  },
  {
   "cell_type": "code",
   "execution_count": 77,
   "metadata": {},
   "outputs": [
    {
     "name": "stdout",
     "output_type": "stream",
     "text": [
      "A\n",
      "P\n",
      "P\n",
      "L\n",
      "E\n",
      " \n",
      "A\n",
      "N\n",
      "D\n",
      " \n",
      "P\n",
      "E\n",
      "N\n"
     ]
    }
   ],
   "source": [
    "str1 = \"Apple and pen\"\n",
    "for c in str1:\n",
    "    print(c.upper())"
   ]
  },
  {
   "cell_type": "markdown",
   "metadata": {},
   "source": [
    "## 練習\n",
    "整数の要素からなるリスト `ln` を引数として取り、`ln` の要素の総和を返す関数 `sum_list` を作成して下さい。\n",
    "\n",
    "以下のセルの `...` のところを書き換えて `sum_list(ln)` を作成して下さい。（練習の正解はノートの一番最後にあります。）"
   ]
  },
  {
   "cell_type": "code",
   "execution_count": 81,
   "metadata": {},
   "outputs": [],
   "source": [
    "def sum_list(ln):\n",
    "    sum = 0\n",
    "    for i in ln:\n",
    "        sum = sum + i\n",
    "    return sum"
   ]
  },
  {
   "cell_type": "markdown",
   "metadata": {},
   "source": [
    "上のセルで解答を作成した後、以下のセルを実行し、実行結果が全て True になることを確認して下さい。"
   ]
  },
  {
   "cell_type": "code",
   "execution_count": 82,
   "metadata": {},
   "outputs": [
    {
     "name": "stdout",
     "output_type": "stream",
     "text": [
      "True\n",
      "True\n"
     ]
    }
   ],
   "source": [
    "print(sum_list([10, 20, 30]) == 60)\n",
    "print(sum_list([-1, 2, -3, 4, -5]) == -3)"
   ]
  },
  {
   "cell_type": "markdown",
   "metadata": {},
   "source": [
    "## 練習\n",
    "整数の要素からなるリスト `ln` を引数として取り、`ln` に含まれる要素を逆順に格納したタプルを返す関数 `reverse_totuple` を作成して下さい。\n",
    "\n",
    "以下のセルの `...` のところを書き換えて `reverse_totuple(ln)` を作成して下さい。"
   ]
  },
  {
   "cell_type": "code",
   "execution_count": 94,
   "metadata": {},
   "outputs": [],
   "source": [
    "def reverse_totuple(ln):\n",
    "    ln.reverse()\n",
    "    tup = tuple(ln)\n",
    "    return tup"
   ]
  },
  {
   "cell_type": "markdown",
   "metadata": {},
   "source": [
    "上のセルで解答を作成した後、以下のセルを実行し、実行結果が `True` になることを確認して下さい。"
   ]
  },
  {
   "cell_type": "code",
   "execution_count": 95,
   "metadata": {},
   "outputs": [
    {
     "name": "stdout",
     "output_type": "stream",
     "text": [
      "True\n"
     ]
    }
   ],
   "source": [
    "print(reverse_totuple([1, 2, 3, 4, 5]) == (5, 4, 3, 2, 1))"
   ]
  },
  {
   "cell_type": "markdown",
   "metadata": {},
   "source": [
    "## 練習\n",
    "リスト `ln` を引数として取り、`ln` の偶数番目のインデックスの値を削除したリストを返す関数 `remove_eveneindex` を作成して下さい（ただし、0は偶数として扱うものとします）。\n",
    "\n",
    "以下のセルの `...` のところを書き換えて `remove_evenindex(ln)` を作成して下さい。"
   ]
  },
  {
   "cell_type": "code",
   "execution_count": 96,
   "metadata": {},
   "outputs": [],
   "source": [
    "def remove_evenindex(ln): #解答例と違う！！\n",
    "    del ln[0: :2]\n",
    "    return ln"
   ]
  },
  {
   "cell_type": "markdown",
   "metadata": {},
   "source": [
    "上のセルで解答を作成した後、以下のセルを実行し、実行結果が全て `True` になることを確認して下さい。"
   ]
  },
  {
   "cell_type": "code",
   "execution_count": 97,
   "metadata": {},
   "outputs": [
    {
     "name": "stdout",
     "output_type": "stream",
     "text": [
      "True\n",
      "True\n"
     ]
    }
   ],
   "source": [
    "print(remove_evenindex([\"a\", \"b\", \"c\", \"d\", \"e\", \"f\", \"g\"]) == ['b', 'd', 'f'] )\n",
    "print(remove_evenindex([1, 2, 3, 4, 5]) == [2, 4])"
   ]
  },
  {
   "cell_type": "markdown",
   "metadata": {},
   "source": [
    "## 練習\n",
    "\n",
    "ATGCの4種類の文字から成る文字列 `str_atgc` が引数として与えられたとき、次の様なリスト `list_count` を返す関数 `atgc_countlist` を作成して下さい。ただし、 `list_count` の要素は、各塩基 `bp` に対して `str_atgc` 中の `bp` の出現回数と `bp` の名前を格納したリストとします。\n",
    "\n",
    "以下のセルの `...` のところを書き換えて `atgc_countlist(str_atgc)` を作成して下さい。"
   ]
  },
  {
   "cell_type": "code",
   "execution_count": 100,
   "metadata": {},
   "outputs": [],
   "source": [
    "def atgc_countlist(str_atgc): #難しかった\n",
    "    list_bp = ['A', 'T', 'G', 'C']\n",
    "    list_count = []\n",
    "    for value in list_bp:\n",
    "        bpcount = str_atgc.count(value)\n",
    "        list_count.append([bpcount, value])\n",
    "    return list_count"
   ]
  },
  {
   "cell_type": "markdown",
   "metadata": {},
   "source": [
    "上のセルで解答を作成した後、以下のセルを実行し、実行結果が `True` になることを確認して下さい。"
   ]
  },
  {
   "cell_type": "code",
   "execution_count": 101,
   "metadata": {},
   "outputs": [
    {
     "name": "stdout",
     "output_type": "stream",
     "text": [
      "True\n"
     ]
    }
   ],
   "source": [
    "print(sorted(atgc_countlist(\"AAGCCCCATGGTAA\")) == sorted([[5, 'A'], [2, 'T'], [3, 'G'], [4, 'C']]))"
   ]
  },
  {
   "cell_type": "markdown",
   "metadata": {},
   "source": [
    "## 練習\n",
    "\n",
    "英語の１文からなる文字列 `str_engsentence` が引数として与えられたとき、`str_engsentence` 中に含まれる単語数を返す関数 `count_words` を作成して下さい。ただし、文はピリオドで終了し単語は空白で区切られるものとします。\n",
    "\n",
    "以下のセルの `...` のところを書き換えて `count_words(str_engsentence)` を作成して下さい。"
   ]
  },
  {
   "cell_type": "code",
   "execution_count": 122,
   "metadata": {},
   "outputs": [],
   "source": [
    "def count_words(str_engsentence):\n",
    "    list_str = str_engsentence.split(' ') #splitで文字列を分割してリストに入れられる！\n",
    "    return len(list_str)"
   ]
  },
  {
   "cell_type": "markdown",
   "metadata": {},
   "source": [
    "上のセルで解答を作成した後、以下のセルを実行し、実行結果が `True` になることを確認して下さい。"
   ]
  },
  {
   "cell_type": "code",
   "execution_count": 123,
   "metadata": {},
   "outputs": [
    {
     "name": "stdout",
     "output_type": "stream",
     "text": [
      "True\n"
     ]
    }
   ],
   "source": [
    "print(count_words(\"From Stettin in the Baltic to Trieste in the Adriatic an iron curtain has descended across the Continent.\") == 18)"
   ]
  },
  {
   "cell_type": "markdown",
   "metadata": {},
   "source": [
    "## 練習\n",
    "\n",
    "文字列 `str1` が引数として与えられたとき、 `str1` を反転させた文字列を返す関数 `reverse_string` を作成して下さい。\n",
    "\n",
    "以下のセルの `...` のところを書き換えて `reverse_string(str1)` を作成して下さい。"
   ]
  },
  {
   "cell_type": "code",
   "execution_count": 127,
   "metadata": {},
   "outputs": [],
   "source": [
    "def reverse_string(str1): #2-1の復習、地味に難しかった\n",
    "    return str1[::-1]"
   ]
  },
  {
   "cell_type": "markdown",
   "metadata": {},
   "source": [
    "上のセルで解答を作成した後、以下のセルを実行し、実行結果が `True` になることを確認して下さい。"
   ]
  },
  {
   "cell_type": "code",
   "execution_count": 128,
   "metadata": {},
   "outputs": [
    {
     "name": "stdout",
     "output_type": "stream",
     "text": [
      "True\n"
     ]
    }
   ],
   "source": [
    "print(reverse_string(\"No lemon, No melon\") == \"nolem oN ,nomel oN\")"
   ]
  },
  {
   "cell_type": "markdown",
   "metadata": {},
   "source": [
    "## 練習の解答"
   ]
  },
  {
   "cell_type": "code",
   "execution_count": null,
   "metadata": {},
   "outputs": [],
   "source": [
    "def sum_list(ln):\n",
    "    int_sum = 0\n",
    "    for value in ln:\n",
    "        int_sum += value\n",
    "    return int_sum\n",
    "#sum_list([10, 20, 30])"
   ]
  },
  {
   "cell_type": "code",
   "execution_count": null,
   "metadata": {},
   "outputs": [],
   "source": [
    "def reverse_totuple(ln):\n",
    "    ln.reverse()\n",
    "    tup = tuple(ln)\n",
    "    return tup\n",
    "#reverse_totuple([1, 2, 3, 4, 5])"
   ]
  },
  {
   "cell_type": "code",
   "execution_count": null,
   "metadata": {},
   "outputs": [],
   "source": [
    "def remove_evenindex(ln):\n",
    "    ln2 = ln[1::2]\n",
    "    return ln2\n",
    "#remove_evenindex([\"a\", \"b\", \"c\", \"d\", \"e\", \"f\", \"g\"])"
   ]
  },
  {
   "cell_type": "code",
   "execution_count": null,
   "metadata": {},
   "outputs": [],
   "source": [
    "def atgc_countlist(str_atgc):\n",
    "    lst_bpname = [\"A\", \"T\", \"G\", \"C\"]\n",
    "    list_count = []\n",
    "    for value in lst_bpname:\n",
    "        int_bpcnt = str_atgc.count(value)\n",
    "        list_count.append([int_bpcnt, value])\n",
    "    return list_count\n",
    "#atgc_countlist(\"AAGCCCCATGGTAA\") "
   ]
  },
  {
   "cell_type": "code",
   "execution_count": null,
   "metadata": {},
   "outputs": [],
   "source": [
    "def count_words(str_engsentences):\n",
    "    list_str1 = str_engsentences.split(\" \")\n",
    "    return len(list_str1)\n",
    "#count_words(\"From Stettin in the Baltic to Trieste in the Adriatic an iron curtain has descended across the Continent.\")"
   ]
  },
  {
   "cell_type": "code",
   "execution_count": null,
   "metadata": {},
   "outputs": [],
   "source": [
    "def reverse_string(str1):\n",
    "    return str1[::-1]\n",
    "#reverse_string(\"No lemon, No melon\")\n",
    "\n",
    "#別解\n",
    "#def reverse_string(str1):\n",
    "#    ln1 = list(str1)\n",
    "#    ln1.reverse()\n",
    "#    str2 = \"\".join(ln1)\n",
    "#    return str2\n",
    "#reverse_string(\"No lemon, No melon\")"
   ]
  }
 ],
 "metadata": {
  "kernelspec": {
   "display_name": "Python 3",
   "language": "python",
   "name": "python3"
  },
  "language_info": {
   "codemirror_mode": {
    "name": "ipython",
    "version": 3
   },
   "file_extension": ".py",
   "mimetype": "text/x-python",
   "name": "python",
   "nbconvert_exporter": "python",
   "pygments_lexer": "ipython3",
   "version": "3.7.0"
  }
 },
 "nbformat": 4,
 "nbformat_minor": 2
}
