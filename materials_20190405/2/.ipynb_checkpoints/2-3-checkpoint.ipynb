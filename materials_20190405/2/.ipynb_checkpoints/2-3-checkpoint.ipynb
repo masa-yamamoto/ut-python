{
 "cells": [
  {
   "cell_type": "markdown",
   "metadata": {
    "slideshow": {
     "slide_type": "slide"
    }
   },
   "source": [
    "# Pythonプログラミング入門 第2回\n",
    "キーと値を対応させるデータ構造、辞書、について説明します\n",
    "\n",
    "参考\n",
    "\n",
    "- https://docs.python.org/ja/3/tutorial/datastructures.html#dictionaries"
   ]
  },
  {
   "cell_type": "markdown",
   "metadata": {
    "slideshow": {
     "slide_type": "slide"
    }
   },
   "source": [
    "# 辞書\n",
    "\n",
    "**辞書**は、**キー(key)** と **値(value)** とを対応させるデータです。\n",
    "キーとしては文字列・数値・タプルなどを使うことができますが、変更可能な型であるリスト・辞書を使うことができません。\n",
    "一方、値としては変更の可否にかかわらずあらゆる種類のオブジェクト（後述）を指定できます。\n",
    "\n",
    "例えば、文字列 `apple` をキーとし値として数 3 を、`pen` をキーとし数 5 を、対応付けた辞書は次のように作成します。"
   ]
  },
  {
   "cell_type": "code",
   "execution_count": 1,
   "metadata": {},
   "outputs": [
    {
     "data": {
      "text/plain": [
       "{'apple': 3, 'pen': 5}"
      ]
     },
     "execution_count": 1,
     "metadata": {},
     "output_type": "execute_result"
    }
   ],
   "source": [
    "dic1 = {'apple' : 3, 'pen' : 5}\n",
    "dic1"
   ]
  },
  {
   "cell_type": "code",
   "execution_count": 2,
   "metadata": {
    "slideshow": {
     "slide_type": "skip"
    }
   },
   "outputs": [
    {
     "data": {
      "text/plain": [
       "dict"
      ]
     },
     "execution_count": 2,
     "metadata": {},
     "output_type": "execute_result"
    }
   ],
   "source": [
    "type(dic1)"
   ]
  },
  {
   "cell_type": "markdown",
   "metadata": {
    "slideshow": {
     "slide_type": "slide"
    }
   },
   "source": [
    "`キー1`に対応する値を得るには、リストにおけるインデックスのようと同様に、\n",
    "\n",
    "---\n",
    "```Python\n",
    " 辞書[キー1]\n",
    "```\n",
    "---\n",
    "\n",
    "とします。"
   ]
  },
  {
   "cell_type": "code",
   "execution_count": 3,
   "metadata": {},
   "outputs": [
    {
     "data": {
      "text/plain": [
       "3"
      ]
     },
     "execution_count": 3,
     "metadata": {},
     "output_type": "execute_result"
    }
   ],
   "source": [
    "dic1 = {'apple' : 3, 'pen' : 5}\n",
    "dic1['apple']"
   ]
  },
  {
   "cell_type": "markdown",
   "metadata": {
    "slideshow": {
     "slide_type": "slide"
    }
   },
   "source": [
    "辞書に登録されていないキーを指定すると、エラーになります。"
   ]
  },
  {
   "cell_type": "code",
   "execution_count": 4,
   "metadata": {
    "scrolled": false
   },
   "outputs": [
    {
     "ename": "KeyError",
     "evalue": "'orange'",
     "output_type": "error",
     "traceback": [
      "\u001b[1;31m---------------------------------------------------------------------------\u001b[0m",
      "\u001b[1;31mKeyError\u001b[0m                                  Traceback (most recent call last)",
      "\u001b[1;32m<ipython-input-4-444b36040aea>\u001b[0m in \u001b[0;36m<module>\u001b[1;34m()\u001b[0m\n\u001b[1;32m----> 1\u001b[1;33m \u001b[0mdic1\u001b[0m\u001b[1;33m[\u001b[0m\u001b[1;34m'orange'\u001b[0m\u001b[1;33m]\u001b[0m\u001b[1;33m\u001b[0m\u001b[0m\n\u001b[0m",
      "\u001b[1;31mKeyError\u001b[0m: 'orange'"
     ]
    }
   ],
   "source": [
    "dic1['orange']"
   ]
  },
  {
   "cell_type": "markdown",
   "metadata": {
    "slideshow": {
     "slide_type": "slide"
    }
   },
   "source": [
    "キーに対する値を変更したり、新たなキー、値を登録するには代入を用います。"
   ]
  },
  {
   "cell_type": "code",
   "execution_count": 5,
   "metadata": {},
   "outputs": [
    {
     "data": {
      "text/plain": [
       "{'apple': 5, 'pen': 5, 'orange': 7}"
      ]
     },
     "execution_count": 5,
     "metadata": {},
     "output_type": "execute_result"
    }
   ],
   "source": [
    "dic1 = {'apple' : 3, 'pen' : 5}\n",
    "dic1['apple'] = 5\n",
    "dic1['orange'] = 7\n",
    "dic1"
   ]
  },
  {
   "cell_type": "markdown",
   "metadata": {
    "slideshow": {
     "slide_type": "slide"
    }
   },
   "source": [
    "上のようにキーから値は取り出せますが、値からキーを直接取り出すことは出来ません。また、リストのように値が順序を持つわけではないので、インデックスを指定して値を取得することは出来ません。"
   ]
  },
  {
   "cell_type": "code",
   "execution_count": 6,
   "metadata": {},
   "outputs": [
    {
     "ename": "KeyError",
     "evalue": "1",
     "output_type": "error",
     "traceback": [
      "\u001b[1;31m---------------------------------------------------------------------------\u001b[0m",
      "\u001b[1;31mKeyError\u001b[0m                                  Traceback (most recent call last)",
      "\u001b[1;32m<ipython-input-6-80162f548931>\u001b[0m in \u001b[0;36m<module>\u001b[1;34m()\u001b[0m\n\u001b[1;32m----> 1\u001b[1;33m \u001b[0mdic1\u001b[0m\u001b[1;33m[\u001b[0m\u001b[1;36m1\u001b[0m\u001b[1;33m]\u001b[0m\u001b[1;33m\u001b[0m\u001b[0m\n\u001b[0m",
      "\u001b[1;31mKeyError\u001b[0m: 1"
     ]
    }
   ],
   "source": [
    "dic1[1]"
   ]
  },
  {
   "cell_type": "markdown",
   "metadata": {
    "slideshow": {
     "slide_type": "slide"
    }
   },
   "source": [
    "キーが辞書に登録されているかどうかは、演算子 **`in`** を用いて調べることができます。"
   ]
  },
  {
   "cell_type": "code",
   "execution_count": 7,
   "metadata": {},
   "outputs": [
    {
     "data": {
      "text/plain": [
       "True"
      ]
     },
     "execution_count": 7,
     "metadata": {},
     "output_type": "execute_result"
    }
   ],
   "source": [
    "dic1 = {'apple': 5, 'orange': 7, 'pen': 5}\n",
    "'apple' in dic1"
   ]
  },
  {
   "cell_type": "code",
   "execution_count": 8,
   "metadata": {
    "slideshow": {
     "slide_type": "skip"
    }
   },
   "outputs": [
    {
     "data": {
      "text/plain": [
       "True"
      ]
     },
     "execution_count": 8,
     "metadata": {},
     "output_type": "execute_result"
    }
   ],
   "source": [
    "'orange' in dic1"
   ]
  },
  {
   "cell_type": "code",
   "execution_count": 9,
   "metadata": {},
   "outputs": [
    {
     "data": {
      "text/plain": [
       "False"
      ]
     },
     "execution_count": 9,
     "metadata": {},
     "output_type": "execute_result"
    }
   ],
   "source": [
    "'banana' in dic1"
   ]
  },
  {
   "cell_type": "markdown",
   "metadata": {
    "slideshow": {
     "slide_type": "slide"
    }
   },
   "source": [
    "組み込み関数 **`len`** によって、辞書に登録されている要素、キーと値のペア、の数を得ることが出来ます。"
   ]
  },
  {
   "cell_type": "code",
   "execution_count": 10,
   "metadata": {},
   "outputs": [
    {
     "data": {
      "text/plain": [
       "3"
      ]
     },
     "execution_count": 10,
     "metadata": {},
     "output_type": "execute_result"
    }
   ],
   "source": [
    "dic1 = {'apple': 5, 'orange': 7, 'pen': 5}\n",
    "len(dic1)"
   ]
  },
  {
   "cell_type": "markdown",
   "metadata": {
    "slideshow": {
     "slide_type": "slide"
    }
   },
   "source": [
    "**`del`** 文によって、登録されているキーの要素を削除することが出来ます。具体的には、次のように削除します。\n",
    "\n",
    "---\n",
    "```Python\n",
    "del 辞書[削除したいキー]\n",
    "```\n",
    "---"
   ]
  },
  {
   "cell_type": "code",
   "execution_count": 11,
   "metadata": {},
   "outputs": [
    {
     "data": {
      "text/plain": [
       "{'apple': 3, 'orange': 7}"
      ]
     },
     "execution_count": 11,
     "metadata": {},
     "output_type": "execute_result"
    }
   ],
   "source": [
    "dic1 = {'apple' : 3, 'pen' : 5, 'orange':7}\n",
    "del dic1['pen']\n",
    "dic1"
   ]
  },
  {
   "cell_type": "markdown",
   "metadata": {},
   "source": [
    "空のリストと同様に空の辞書を作ることもできます。このような空のデータ型は繰り返し処理でしばしば使われます。"
   ]
  },
  {
   "cell_type": "code",
   "execution_count": 12,
   "metadata": {},
   "outputs": [
    {
     "data": {
      "text/plain": [
       "{}"
      ]
     },
     "execution_count": 12,
     "metadata": {},
     "output_type": "execute_result"
    }
   ],
   "source": [
    "dic1 = {}\n",
    "dic1"
   ]
  },
  {
   "cell_type": "markdown",
   "metadata": {
    "slideshow": {
     "slide_type": "slide"
    }
   },
   "source": [
    "## 辞書のメソッド\n",
    "辞書にも様々なメソッドがあります。"
   ]
  },
  {
   "cell_type": "markdown",
   "metadata": {},
   "source": [
    "### **pop**\n",
    "指定したキーおよびそれに対応する値を辞書から削除し、削除されるキーに対応付けられた値を返します。"
   ]
  },
  {
   "cell_type": "code",
   "execution_count": 13,
   "metadata": {},
   "outputs": [
    {
     "name": "stdout",
     "output_type": "stream",
     "text": [
      "5\n",
      "{'apple': 3, 'orange': 7}\n"
     ]
    }
   ],
   "source": [
    "dic1 = {'apple' : 3, 'pen' : 5, 'orange':7}\n",
    "print(dic1.pop('pen'))\n",
    "print(dic1)"
   ]
  },
  {
   "cell_type": "markdown",
   "metadata": {
    "slideshow": {
     "slide_type": "slide"
    }
   },
   "source": [
    "### **clear**\n",
    "全てのキー、値を辞書から削除します。"
   ]
  },
  {
   "cell_type": "code",
   "execution_count": 14,
   "metadata": {},
   "outputs": [
    {
     "data": {
      "text/plain": [
       "{}"
      ]
     },
     "execution_count": 14,
     "metadata": {},
     "output_type": "execute_result"
    }
   ],
   "source": [
    "dic1 = {'apple' : 3, 'pen' : 5, 'orange':7}\n",
    "dic1.clear()\n",
    "dic1"
   ]
  },
  {
   "cell_type": "markdown",
   "metadata": {},
   "source": [
    "### **get**\n",
    "引数として指定したキーが辞書に含まれてる場合にはその値を取得し、指定したキーが辞書に含まれていない場合には `None` を返します。\n",
    "`get` を利用することで、エラーを回避して辞書に登録されているか分からないキーを使うことができます。\n",
    "先に説明したキーをインデックス、`[``]`、で指定する方法ではキーが存在しないとエラーとなりプログラムの実行が停止してしまいます。"
   ]
  },
  {
   "cell_type": "code",
   "execution_count": 15,
   "metadata": {},
   "outputs": [
    {
     "name": "stdout",
     "output_type": "stream",
     "text": [
      "キーappleに対応する値 =  3\n",
      "キーorangeに対応する値 =  None\n"
     ]
    },
    {
     "ename": "KeyError",
     "evalue": "'orange'",
     "output_type": "error",
     "traceback": [
      "\u001b[1;31m---------------------------------------------------------------------------\u001b[0m",
      "\u001b[1;31mKeyError\u001b[0m                                  Traceback (most recent call last)",
      "\u001b[1;32m<ipython-input-15-99300a175ed0>\u001b[0m in \u001b[0;36m<module>\u001b[1;34m()\u001b[0m\n\u001b[0;32m      2\u001b[0m \u001b[0mprint\u001b[0m\u001b[1;33m(\u001b[0m\u001b[1;34m\"キーappleに対応する値 = \"\u001b[0m\u001b[1;33m,\u001b[0m \u001b[0mdic1\u001b[0m\u001b[1;33m.\u001b[0m\u001b[0mget\u001b[0m\u001b[1;33m(\u001b[0m\u001b[1;34m\"apple\"\u001b[0m\u001b[1;33m)\u001b[0m\u001b[1;33m)\u001b[0m\u001b[1;33m\u001b[0m\u001b[0m\n\u001b[0;32m      3\u001b[0m \u001b[0mprint\u001b[0m\u001b[1;33m(\u001b[0m\u001b[1;34m\"キーorangeに対応する値 = \"\u001b[0m\u001b[1;33m,\u001b[0m \u001b[0mdic1\u001b[0m\u001b[1;33m.\u001b[0m\u001b[0mget\u001b[0m\u001b[1;33m(\u001b[0m\u001b[1;34m\"orange\"\u001b[0m\u001b[1;33m)\u001b[0m\u001b[1;33m)\u001b[0m\u001b[1;33m\u001b[0m\u001b[0m\n\u001b[1;32m----> 4\u001b[1;33m \u001b[0mprint\u001b[0m\u001b[1;33m(\u001b[0m\u001b[1;34m\"キーorangeに対応する値（エラー） = \"\u001b[0m\u001b[1;33m,\u001b[0m \u001b[0mdic1\u001b[0m\u001b[1;33m[\u001b[0m\u001b[1;34m\"orange\"\u001b[0m\u001b[1;33m]\u001b[0m\u001b[1;33m)\u001b[0m\u001b[1;33m\u001b[0m\u001b[0m\n\u001b[0m",
      "\u001b[1;31mKeyError\u001b[0m: 'orange'"
     ]
    }
   ],
   "source": [
    "dic1 = {'apple' : 3, 'pen' : 5}\n",
    "print(\"キーappleに対応する値 = \", dic1.get(\"apple\"))\n",
    "print(\"キーorangeに対応する値 = \", dic1.get(\"orange\"))\n",
    "print(\"キーorangeに対応する値（エラー） = \", dic1[\"orange\"])"
   ]
  },
  {
   "cell_type": "markdown",
   "metadata": {},
   "source": [
    "また、`get` に2番目の引数を与えると、その値を「指定したキーが辞書に含まれていない場合」に返る値とすることが出来ます。"
   ]
  },
  {
   "cell_type": "code",
   "execution_count": 16,
   "metadata": {},
   "outputs": [
    {
     "name": "stdout",
     "output_type": "stream",
     "text": [
      "キーappleに対応する値 =  3\n",
      "キーorangeに対応する値 =  -1\n"
     ]
    }
   ],
   "source": [
    "dic1 = {'apple' : 3, 'pen' : 5}\n",
    "print(\"キーappleに対応する値 = \", dic1.get(\"apple\", -1))\n",
    "print(\"キーorangeに対応する値 = \", dic1.get(\"orange\", -1))"
   ]
  },
  {
   "cell_type": "markdown",
   "metadata": {},
   "source": [
    "### **setdefault**\n",
    "1番目の引数として指定したキー（`key`）が辞書に含まれてる場合にはその値を取得します。`key` が辞書に含まれていない場合には、2番目の引数として指定した値を返すと同時に、`key` に対応する値として辞書に登録します。"
   ]
  },
  {
   "cell_type": "code",
   "execution_count": 17,
   "metadata": {},
   "outputs": [
    {
     "name": "stdout",
     "output_type": "stream",
     "text": [
      "キーappleに対応する値 =  3\n",
      "setdefault(\"apple\", 7)を実行後の辞書 =  {'apple': 3, 'pen': 5}\n",
      "キーorangeに対応する値 =  7\n",
      "setdefault(\"orange\", 7)を実行後の辞書 =  {'apple': 3, 'pen': 5, 'orange': 7}\n"
     ]
    }
   ],
   "source": [
    "dic1 = {'apple' : 3, 'pen' : 5}\n",
    "print(\"キーappleに対応する値 = \", dic1.setdefault(\"apple\", 7))\n",
    "print(\"setdefault(\\\"apple\\\", 7)を実行後の辞書 = \", dic1)\n",
    "print(\"キーorangeに対応する値 = \", dic1.setdefault(\"orange\", 7))\n",
    "print(\"setdefault(\\\"orange\\\", 7)を実行後の辞書 = \", dic1)"
   ]
  },
  {
   "cell_type": "markdown",
   "metadata": {
    "slideshow": {
     "slide_type": "skip"
    }
   },
   "source": [
    "### **keys**\n",
    "辞書に登録されているキーの一覧を返します。これはリストのようなものとして扱うことができ、forループなどを使って活用できます。"
   ]
  },
  {
   "cell_type": "code",
   "execution_count": 18,
   "metadata": {
    "slideshow": {
     "slide_type": "skip"
    }
   },
   "outputs": [
    {
     "data": {
      "text/plain": [
       "['apple', 'pen', 'orange']"
      ]
     },
     "execution_count": 18,
     "metadata": {},
     "output_type": "execute_result"
    }
   ],
   "source": [
    "dic1 = {'apple' : 3, 'pen' : 5, 'orange':7}\n",
    "list(dic1.keys())"
   ]
  },
  {
   "cell_type": "markdown",
   "metadata": {
    "slideshow": {
     "slide_type": "skip"
    }
   },
   "source": [
    "### **values**\n",
    "辞書に登録されているキーに対応する全ての値の一覧を返します。これもリストのようなものとして扱うことができ、forループなどを使って活用できます。"
   ]
  },
  {
   "cell_type": "code",
   "execution_count": 19,
   "metadata": {
    "slideshow": {
     "slide_type": "skip"
    }
   },
   "outputs": [
    {
     "data": {
      "text/plain": [
       "[3, 5, 7]"
      ]
     },
     "execution_count": 19,
     "metadata": {},
     "output_type": "execute_result"
    }
   ],
   "source": [
    "list(dic1.values())"
   ]
  },
  {
   "cell_type": "markdown",
   "metadata": {
    "slideshow": {
     "slide_type": "skip"
    }
   },
   "source": [
    "### **items**\n",
    "辞書に登録されているキーとそれに対応する値をタプルにした一覧を返します。 これはタプルを要素とするリストのようなものとして扱うことができ forループなどで活用します。"
   ]
  },
  {
   "cell_type": "code",
   "execution_count": 20,
   "metadata": {
    "slideshow": {
     "slide_type": "skip"
    }
   },
   "outputs": [
    {
     "data": {
      "text/plain": [
       "[('apple', 3), ('pen', 5), ('orange', 7)]"
      ]
     },
     "execution_count": 20,
     "metadata": {},
     "output_type": "execute_result"
    }
   ],
   "source": [
    "list(dic1.items())"
   ]
  },
  {
   "cell_type": "markdown",
   "metadata": {},
   "source": [
    "## ▲ keys, values, items の返り値\n",
    "keys, values, items の一連の説明では、返り値を「リストのようなもの」と表現してきました。\n",
    "通常のリストとどう違うのでしょうか？  \n",
    "次の例では、dic1 の keys, values, items メソッドの返り値を変数 `ks`,`vs`, `itms` に代入し、printでそれぞれの内容を表示させています。  \n",
    "次いで、dic1 に新たな要素を加えたのちに、同じ変数の内容を表示させています。 \n",
    "一、二回目の print で内容が異なることに注意してください。  \n",
    "もとの辞書が更新されると、これらの内容も動的に変わります。  "
   ]
  },
  {
   "cell_type": "code",
   "execution_count": 21,
   "metadata": {},
   "outputs": [
    {
     "name": "stdout",
     "output_type": "stream",
     "text": [
      "['apple', 'pen', 'orange']\n",
      "[3, 5, 7]\n",
      "[('apple', 3), ('pen', 5), ('orange', 7)]\n",
      "['apple', 'pen', 'orange', 'kiwi']\n",
      "[3, 5, 7, 9]\n",
      "[('apple', 3), ('pen', 5), ('orange', 7), ('kiwi', 9)]\n"
     ]
    }
   ],
   "source": [
    "dic1 = {'apple' : 3, 'pen' : 5, 'orange':7}\n",
    "ks = dic1.keys()\n",
    "vs = dic1.values()\n",
    "itms = dic1.items()\n",
    "print(list(ks))\n",
    "print(list(vs))\n",
    "print(list(itms))\n",
    "dic1['kiwi']=9\n",
    "print(list(ks))\n",
    "print(list(vs))\n",
    "print(list(itms))"
   ]
  },
  {
   "cell_type": "markdown",
   "metadata": {
    "slideshow": {
     "slide_type": "skip"
    }
   },
   "source": [
    "### **copy**\n",
    "辞書の複製を行います。リストの場合と同様に、一方の辞書を変更しても、もう一方の辞書は影響を受けません。"
   ]
  },
  {
   "cell_type": "code",
   "execution_count": 22,
   "metadata": {
    "slideshow": {
     "slide_type": "skip"
    }
   },
   "outputs": [
    {
     "name": "stdout",
     "output_type": "stream",
     "text": [
      "{'apple': 3, 'pen': 5, 'orange': 7, 'banana': 9}\n",
      "{'apple': 3, 'pen': 5, 'orange': 7}\n"
     ]
    }
   ],
   "source": [
    "dic1 = {'apple' : 3, 'pen' : 5, 'orange':7}\n",
    "dic2 = dic1.copy()\n",
    "dic2['banana'] = 9\n",
    "print(dic2)\n",
    "print(dic1)"
   ]
  },
  {
   "cell_type": "markdown",
   "metadata": {},
   "source": [
    "## 辞書とリスト"
   ]
  },
  {
   "cell_type": "markdown",
   "metadata": {},
   "source": [
    "冒頭に述べたように、辞書では値としてあらゆるデータ型を使用できます。\n",
    "すなわち、次のように値としてリストを使用する辞書を作成可能です。\n",
    "リストの要素にアクセスするには数字インデックスをさらに指定します。"
   ]
  },
  {
   "cell_type": "code",
   "execution_count": 23,
   "metadata": {},
   "outputs": [
    {
     "name": "stdout",
     "output_type": "stream",
     "text": [
      "[10, 20, 40]\n",
      "20\n"
     ]
    }
   ],
   "source": [
    "dic1 = {\"one\": [1, 2, 3], \"ten\":[10, 20, 40], \"hundred\":[100, 101, 120, 140]}\n",
    "print(dic1[\"ten\"])\n",
    "print(dic1[\"ten\"][1])"
   ]
  },
  {
   "cell_type": "markdown",
   "metadata": {},
   "source": [
    "逆に、辞書を要素にするリストを作成することも出来ます。"
   ]
  },
  {
   "cell_type": "code",
   "execution_count": 24,
   "metadata": {},
   "outputs": [
    {
     "name": "stdout",
     "output_type": "stream",
     "text": [
      "5\n"
     ]
    }
   ],
   "source": [
    "dic1 = {'apple' : 3, 'pen' : 5, 'orange':7}\n",
    "dic2 = {'cat' : 3, 'dog' : 3, 'elephant':8}\n",
    "ld = [dic1, dic2]\n",
    "print(ld[0][\"pen\"])"
   ]
  },
  {
   "cell_type": "markdown",
   "metadata": {},
   "source": [
    "## for文による繰り返しと辞書\n",
    "\n",
    "辞書のそれぞれの要素にわたって操作を繰り返したい場合は for 文を用います。\n",
    "辞書 `dic1` の全ての key に対して、`実行文`を繰り返すには次のように書きます。\n",
    "\n",
    "---\n",
    "```Python\n",
    "for key in dic1.keys():\n",
    "    実行文\n",
    "```\n",
    "---\n",
    "\n",
    "for 行の `in` 演算子の右辺に辞書のキー一覧を返す keysメソッドが使われています。\n",
    "\n",
    "次の例では、キーを一つづつ取り出し、`key` に代入しています。  \n",
    "その後、`key` に対応する値にアクセスしています。"
   ]
  },
  {
   "cell_type": "code",
   "execution_count": 25,
   "metadata": {},
   "outputs": [
    {
     "name": "stdout",
     "output_type": "stream",
     "text": [
      "Key: apple Value: 3\n",
      "Key: pen Value: 5\n",
      "Key: orange Value: 7\n"
     ]
    }
   ],
   "source": [
    "dic1 = {'apple' : 3, 'pen' : 5, 'orange':7}\n",
    "for key in dic1.keys():\n",
    "    print('Key:', key, 'Value:',dic1[key])"
   ]
  },
  {
   "cell_type": "markdown",
   "metadata": {},
   "source": [
    "valuesメソッドを使えば（キーを使わずに）値を一つずつ取り出すこともできます。"
   ]
  },
  {
   "cell_type": "code",
   "execution_count": 28,
   "metadata": {},
   "outputs": [
    {
     "name": "stdout",
     "output_type": "stream",
     "text": [
      "Value: 3\n",
      "Value: 5\n",
      "Value: 7\n"
     ]
    }
   ],
   "source": [
    "for value in {'apple' : 3, 'pen' : 5, 'orange':7}.values(): #訂正\n",
    "    print('Value:',value)"
   ]
  },
  {
   "cell_type": "markdown",
   "metadata": {},
   "source": [
    "キーと値を一度に取り出すこともできます。\n",
    "次の例では、`in` 演算子の左辺に複数の変数を指定し多重代入をおこなっています。"
   ]
  },
  {
   "cell_type": "code",
   "execution_count": 29,
   "metadata": {},
   "outputs": [
    {
     "name": "stdout",
     "output_type": "stream",
     "text": [
      "Key: apple Value: 3\n",
      "Key: pen Value: 5\n",
      "Key: orange Value: 7\n"
     ]
    }
   ],
   "source": [
    "for key, value in {'apple' : 3, 'pen' : 5, 'orange':7}.items():\n",
    "    print('Key:', key, 'Value:',value)"
   ]
  },
  {
   "cell_type": "markdown",
   "metadata": {},
   "source": [
    "## 練習\n",
    "\n",
    "リスト `list1` が引数として与えられたとき、`list1` の各要素 `value` をキー、` value` の `list1` におけるインデックスをキーに対応する値とした辞書を返す関数 `reverse_lookup` を作成して下さい。\n",
    "\n",
    "以下のセルの `...` のところを書き換えて `reverse_lookup(list1)` を作成して下さい。"
   ]
  },
  {
   "cell_type": "code",
   "execution_count": 51,
   "metadata": {},
   "outputs": [],
   "source": [
    "def reverse_lookup(list1): #難しい\n",
    "    dic1 = {}\n",
    "    for value in range(len(list1)): #valueとしてリストの各要素のインデックスをとる\n",
    "        dic1[list1[value]] = value #list[value]はlist内の要素　その値にインデックスであるvalueを割り当てる\n",
    "    return dic1"
   ]
  },
  {
   "cell_type": "markdown",
   "metadata": {},
   "source": [
    "上のセルで解答を作成した後、以下のセルを実行し、実行結果が `True` になることを確認して下さい。"
   ]
  },
  {
   "cell_type": "code",
   "execution_count": 52,
   "metadata": {},
   "outputs": [
    {
     "name": "stdout",
     "output_type": "stream",
     "text": [
      "True\n",
      "{'apple': 0, 'pen': 1, 'orange': 2}\n"
     ]
    }
   ],
   "source": [
    "print(reverse_lookup([\"apple\", \"pen\", \"orange\"]) == {'apple': 0, 'orange': 2, 'pen': 1})\n",
    "print(reverse_lookup([\"apple\", \"pen\", \"orange\"]))"
   ]
  },
  {
   "cell_type": "markdown",
   "metadata": {},
   "source": [
    "## 練習\n",
    "\n",
    "辞書 `dic1` と文字列 str1 が引数として与えられたとき、辞書 `dic2` を返す関数 `handle_collision` を作成して下さい。ただし、\n",
    "* `dic1` のキーは整数、キーに対応する値は文字列を要素とするリストとします。\n",
    "* `handle_collision` では、`dic1` から次の様な処理を行って `dic2` を作成するものとします。\n",
    " 1. `dic1` に `str1` の長さの値 `len` がキーとして登録されていない場合、`str1` のみを要素とするリスト `ln` を作成し、 `dic1` にキー `len`、`len` に対応する値 `ln` を登録します。\n",
    " 2. `dic1` に `str1` の長さの値 `len` がキーとして登録されている場合、そのキーに対応する値（リスト）に `str1` を追加します。\n",
    "\n",
    "以下のセルの `...` のところを書き換えて `handle_collision(dic1, str1)` を作成して下さい。"
   ]
  },
  {
   "cell_type": "code",
   "execution_count": 68,
   "metadata": {},
   "outputs": [],
   "source": [
    "def handle_collision(dic1, str1): #難しい\n",
    "    if dic1.get(len(str1)) == None:\n",
    "        ln = [str1]\n",
    "    else:\n",
    "        ln = dic1[len(str1)]\n",
    "        ln.append(str1)\n",
    "    dic1[len(str1)] = ln #dic1に付け加える\n",
    "    return dic1"
   ]
  },
  {
   "cell_type": "markdown",
   "metadata": {},
   "source": [
    "上のセルで解答を作成した後、以下のセルを実行し、実行結果が `True` になることを確認して下さい。"
   ]
  },
  {
   "cell_type": "code",
   "execution_count": 70,
   "metadata": {},
   "outputs": [
    {
     "name": "stdout",
     "output_type": "stream",
     "text": [
      "True\n",
      "{3: ['ham', 'egg', 'tea'], 6: ['coffee', 'brandy'], 9: ['port wine'], 15: ['curried chicken']}\n"
     ]
    }
   ],
   "source": [
    "print(handle_collision({3: ['ham', 'egg'], 6: ['coffee', 'brandy'], 9: ['port wine'], 15: ['curried chicken']}, \"tea\") == {3: ['ham', 'egg', 'tea'], 6: ['coffee', 'brandy'], 9: ['port wine'], 15: ['curried chicken']})\n",
    "print(handle_collision({3: ['ham', 'egg'], 6: ['coffee', 'brandy'], 9: ['port wine'], 15: ['curried chicken']}, \"tea\"))"
   ]
  },
  {
   "cell_type": "markdown",
   "metadata": {},
   "source": [
    "## 練習の解答"
   ]
  },
  {
   "cell_type": "code",
   "execution_count": 57,
   "metadata": {},
   "outputs": [],
   "source": [
    "def reverse_lookup(list1):\n",
    "    dic1 = {} # 空の辞書を作成する\n",
    "    for value in range(len(list1)):\n",
    "        dic1[list1[value]] = value\n",
    "    return dic1\n",
    "#reverse_lookup([\"apple\", \"pen\", \"orange\"])"
   ]
  },
  {
   "cell_type": "code",
   "execution_count": 58,
   "metadata": {},
   "outputs": [],
   "source": [
    "def handle_collision(dic1, str1):\n",
    "    if dic1.get(len(str1)) is None:# == None でも良い\n",
    "        ln = [str1]\n",
    "    else:\n",
    "        ln = dic1[len(str1)]\n",
    "        ln.append(str1)\n",
    "    dic1[len(str1)] = ln\n",
    "    return dic1\n",
    "#handle_collision({3: ['ham', 'egg'], 6: ['coffee', 'brandy'], 9: ['port wine'], 15: ['curried chicken']}, \"tea\")"
   ]
  }
 ],
 "metadata": {
  "kernelspec": {
   "display_name": "Python 3",
   "language": "python",
   "name": "python3"
  },
  "language_info": {
   "codemirror_mode": {
    "name": "ipython",
    "version": 3
   },
   "file_extension": ".py",
   "mimetype": "text/x-python",
   "name": "python",
   "nbconvert_exporter": "python",
   "pygments_lexer": "ipython3",
   "version": "3.7.0"
  }
 },
 "nbformat": 4,
 "nbformat_minor": 2
}
