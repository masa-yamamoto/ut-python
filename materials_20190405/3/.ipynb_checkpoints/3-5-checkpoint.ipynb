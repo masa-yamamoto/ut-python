{
 "cells": [
  {
   "cell_type": "markdown",
   "metadata": {},
   "source": [
    "# Pythonプログラミング入門 第3回\n",
    "再帰について説明します"
   ]
  },
  {
   "cell_type": "markdown",
   "metadata": {},
   "source": [
    "# ▲再帰\n",
    "\n",
    "関数の**再帰呼出し**とは、定義しようとしている関数を、\n",
    "その定義の中で（直接的・間接的に）呼び出すことです。\n",
    "関数が自分自身を呼び出すことを再帰呼び出しといいます。\n",
    "再帰呼出しを行う関数を、**再帰関数**といいます。\n",
    "\n",
    "再帰関数は、**分割統治**アルゴリズムの記述に適しています。\n",
    "分割統治とは、問題を容易に解ける小さな粒度まで分割していき、\n",
    "個々の小さな問題を解いて、その部分解を合成することで問題全体を解くような方法を指します。\n",
    "分割統治の考え方は、関数型プログラミングにおいてもよく用いられます。\n",
    "再帰関数による分割統治の典型的な形は、次の通りです。\n",
    "\n",
    "```Python\n",
    "def recursive_function(...):\n",
    "    if 問題粒度の判定:\n",
    "        再帰呼び出しを含まない基本処理\n",
    "    else:\n",
    "        再帰呼出しを含む処理（問題の分割や部分解の合成を行う）\n",
    "```"
   ]
  },
  {
   "cell_type": "markdown",
   "metadata": {},
   "source": [
    "以下で、再帰関数を使った処理の例をいくつか見ていきましょう。"
   ]
  },
  {
   "cell_type": "markdown",
   "metadata": {},
   "source": [
    "## 再帰関数の例：接頭辞リストと接尾辞リスト"
   ]
  },
  {
   "cell_type": "code",
   "execution_count": 1,
   "metadata": {},
   "outputs": [
    {
     "data": {
      "text/plain": [
       "['aabcc', 'aabc', 'aab', 'aa', 'a']"
      ]
     },
     "execution_count": 1,
     "metadata": {},
     "output_type": "execute_result"
    }
   ],
   "source": [
    "# 入力の文字列の接頭辞リストを返す関数prefixes\n",
    "def prefixes(s):\n",
    "    if s == '':\n",
    "        return []\n",
    "    else:\n",
    "        return [s] + prefixes(s[:-1])\n",
    "\n",
    "prefixes('aabcc')"
   ]
  },
  {
   "cell_type": "code",
   "execution_count": 2,
   "metadata": {},
   "outputs": [
    {
     "data": {
      "text/plain": [
       "['aabcc', 'abcc', 'bcc', 'cc', 'c']"
      ]
     },
     "execution_count": 2,
     "metadata": {},
     "output_type": "execute_result"
    }
   ],
   "source": [
    "# 入力の文字列の接尾辞リストを返す関数suffixes\n",
    "def suffixes(s):\n",
    "    if s == '':\n",
    "        return []\n",
    "    else:\n",
    "        return [s] + suffixes(s[1:])\n",
    "\n",
    "suffixes('aabcc')"
   ]
  },
  {
   "cell_type": "markdown",
   "metadata": {},
   "source": [
    "## 再帰関数の例：べき乗の計算"
   ]
  },
  {
   "cell_type": "code",
   "execution_count": 3,
   "metadata": {},
   "outputs": [
    {
     "data": {
      "text/plain": [
       "1024"
      ]
     },
     "execution_count": 3,
     "metadata": {},
     "output_type": "execute_result"
    }
   ],
   "source": [
    "# 入力の底baseと冪指数exptからべき乗を計算する関数power\n",
    "def power(base, expt):\n",
    "    if expt == 0:\n",
    "        # exptが0ならば1を返す\n",
    "        return 1\n",
    "    else:\n",
    "        # exptを1つずつ減らしながらpowerに渡し、再帰的にべき乗を計算\n",
    "        # (2*(2*(2*....*1)))\n",
    "        return base * power(base, expt - 1)\n",
    "    \n",
    "power(2,10)"
   ]
  },
  {
   "cell_type": "markdown",
   "metadata": {},
   "source": [
    "一般に、再帰処理は、繰り返し処理としても書くことができます。"
   ]
  },
  {
   "cell_type": "code",
   "execution_count": 4,
   "metadata": {
    "scrolled": false
   },
   "outputs": [
    {
     "data": {
      "text/plain": [
       "1024"
      ]
     },
     "execution_count": 4,
     "metadata": {},
     "output_type": "execute_result"
    }
   ],
   "source": [
    "# べき乗の計算を繰り返し処理で行った例\n",
    "def power(base, expt):\n",
    "    e = 1\n",
    "    for i in range(expt):\n",
    "        e *= base\n",
    "    return e\n",
    "\n",
    "power(2,10)"
   ]
  },
  {
   "cell_type": "markdown",
   "metadata": {},
   "source": [
    "単純な処理においては、繰り返しの方が効率的に計算できることが多いですが、\n",
    "特に複雑な処理になってくると、再帰的に定義した方が読みやすいコードで効率的なアルゴリズムを記述できることもあります。\n",
    "例えば、次に示すべき乗計算は、上記よりも高速なアルゴリズムですが、計算の見通しは明快です。"
   ]
  },
  {
   "cell_type": "code",
   "execution_count": 5,
   "metadata": {},
   "outputs": [
    {
     "data": {
      "text/plain": [
       "1024"
      ]
     },
     "execution_count": 5,
     "metadata": {},
     "output_type": "execute_result"
    }
   ],
   "source": [
    "# べき乗を計算する高速なアルゴリズム\n",
    "def power(base, expt):\n",
    "    if expt == 0:\n",
    "        return 1\n",
    "    elif expt % 2 == 0:\n",
    "        return power(base * base, expt // 2) # x**(2m) == (x*x)**m\n",
    "    else:\n",
    "        return base * power(base, expt - 1)\n",
    "    \n",
    "power(2,10)"
   ]
  },
  {
   "cell_type": "markdown",
   "metadata": {},
   "source": [
    "## 再帰関数の例：マージソート\n",
    "\n",
    "マージソートは、典型的な分割統治アルゴリズムで、以下のように再帰関数で実装することができます。"
   ]
  },
  {
   "cell_type": "code",
   "execution_count": 6,
   "metadata": {},
   "outputs": [],
   "source": [
    "# マージソートを行い、比較回数 n を返す\n",
    "def merge_sort_rec(data, l, r, work):\n",
    "    n = 0\n",
    "    if r - l <= 1:\n",
    "        return n\n",
    "    m = l + (r - l) // 2\n",
    "    n1 = merge_sort_rec(data, l, m, work)\n",
    "    n2 = merge_sort_rec(data, m, r, work)\n",
    "    i1 = l\n",
    "    i2 = m\n",
    "    for i in range(l, r):\n",
    "        from1 = False\n",
    "        if i2 >= r:\n",
    "            from1 = True\n",
    "        elif i1 < m:\n",
    "            n = n + 1\n",
    "            if data[i1] <= data[i2]:\n",
    "                from1 = True\n",
    "        if from1:\n",
    "            work[i] = data[i1]\n",
    "            i1 = i1 + 1\n",
    "        else:\n",
    "            work[i] = data[i2]\n",
    "            i2 = i2 + 1\n",
    "    for i in range(l, r):\n",
    "        data[i] = work[i]\n",
    "    return n1 + n2 + n\n",
    "\n",
    "def merge_sort(data):\n",
    "    return merge_sort_rec(data, 0, len(data), [0]*len(data))"
   ]
  },
  {
   "cell_type": "markdown",
   "metadata": {},
   "source": [
    "`merge_sort` は、与えれた配列をインプレースでソートするとともに、比較の回数を返します。\n",
    "`merge_sort` は、再帰関数 `merge_sort_rec` を呼び出します。\n",
    "\n",
    "`merge_sort_rec(data, l, r, work)` は、配列 `data` のインデックスが `l` 以上で `r` より小さいところをソートします。\n",
    "- 要素が一つかないときは何もしません。\n",
    "- そうでなければ、`l` から　`r` までを半分にしてそれぞれを再帰的にソートします。\n",
    "- その結果を作業用の配列 `work` に順序を保ちながらコピーします。この操作はマージ（併合）と呼ばれます。\n",
    "- 最後に、`work` から `data` に要素を戻します。\n",
    "\n",
    "`merge_sort_rec` は自分自身を二回呼び出していますので、繰り返しでは容易には実装できません。"
   ]
  },
  {
   "cell_type": "code",
   "execution_count": 7,
   "metadata": {},
   "outputs": [
    {
     "data": {
      "text/plain": [
       "548"
      ]
     },
     "execution_count": 7,
     "metadata": {},
     "output_type": "execute_result"
    }
   ],
   "source": [
    "import random\n",
    "a = [random.randint(1,10000) for i in range(100)]\n",
    "merge_sort(a)"
   ]
  },
  {
   "cell_type": "code",
   "execution_count": 8,
   "metadata": {},
   "outputs": [
    {
     "data": {
      "text/plain": [
       "[97,\n",
       " 145,\n",
       " 156,\n",
       " 166,\n",
       " 318,\n",
       " 339,\n",
       " 368,\n",
       " 401,\n",
       " 482,\n",
       " 744,\n",
       " 769,\n",
       " 924,\n",
       " 1359,\n",
       " 1449,\n",
       " 1457,\n",
       " 1721,\n",
       " 1726,\n",
       " 1751,\n",
       " 1777,\n",
       " 1784,\n",
       " 1846,\n",
       " 2246,\n",
       " 2376,\n",
       " 2441,\n",
       " 2489,\n",
       " 2660,\n",
       " 2740,\n",
       " 2765,\n",
       " 2886,\n",
       " 2987,\n",
       " 3146,\n",
       " 3367,\n",
       " 3438,\n",
       " 3453,\n",
       " 3552,\n",
       " 3553,\n",
       " 3558,\n",
       " 3676,\n",
       " 3682,\n",
       " 3744,\n",
       " 4015,\n",
       " 4029,\n",
       " 4092,\n",
       " 4364,\n",
       " 4572,\n",
       " 4706,\n",
       " 4712,\n",
       " 4748,\n",
       " 5128,\n",
       " 5201,\n",
       " 5239,\n",
       " 5352,\n",
       " 5355,\n",
       " 5418,\n",
       " 5418,\n",
       " 5463,\n",
       " 5519,\n",
       " 5520,\n",
       " 5615,\n",
       " 5712,\n",
       " 5756,\n",
       " 5894,\n",
       " 6052,\n",
       " 6146,\n",
       " 6344,\n",
       " 6348,\n",
       " 6440,\n",
       " 6548,\n",
       " 6560,\n",
       " 6734,\n",
       " 6739,\n",
       " 6898,\n",
       " 7410,\n",
       " 7484,\n",
       " 7485,\n",
       " 7505,\n",
       " 7515,\n",
       " 7561,\n",
       " 7703,\n",
       " 7743,\n",
       " 7873,\n",
       " 7926,\n",
       " 7948,\n",
       " 8016,\n",
       " 8133,\n",
       " 8158,\n",
       " 8232,\n",
       " 8272,\n",
       " 8512,\n",
       " 8650,\n",
       " 8741,\n",
       " 8774,\n",
       " 9342,\n",
       " 9349,\n",
       " 9444,\n",
       " 9587,\n",
       " 9842,\n",
       " 9956,\n",
       " 9983,\n",
       " 9984]"
      ]
     },
     "execution_count": 8,
     "metadata": {},
     "output_type": "execute_result"
    }
   ],
   "source": [
    "a"
   ]
  },
  {
   "cell_type": "code",
   "execution_count": null,
   "metadata": {},
   "outputs": [],
   "source": []
  }
 ],
 "metadata": {
  "kernelspec": {
   "display_name": "Python 3",
   "language": "python",
   "name": "python3"
  },
  "language_info": {
   "codemirror_mode": {
    "name": "ipython",
    "version": 3
   },
   "file_extension": ".py",
   "mimetype": "text/x-python",
   "name": "python",
   "nbconvert_exporter": "python",
   "pygments_lexer": "ipython3",
   "version": "3.7.0"
  }
 },
 "nbformat": 4,
 "nbformat_minor": 2
}
