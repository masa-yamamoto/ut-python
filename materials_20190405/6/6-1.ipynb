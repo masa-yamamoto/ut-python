{
 "cells": [
  {
   "cell_type": "markdown",
   "metadata": {
    "slideshow": {
     "slide_type": "slide"
    }
   },
   "source": [
    "# Pythonプログラミング入門 第6回\n",
    "関数プログラミングについて説明します\n",
    "\n",
    "参考\n",
    "- https://docs.python.org/ja/3/howto/functional.html\n",
    "- https://docs.python.org/ja/3/library/functions.html\n",
    "- https://docs.python.org/ja/3/library/itertools.html\n",
    "- https://docs.python.org/ja/3/library/functools.html"
   ]
  },
  {
   "cell_type": "markdown",
   "metadata": {},
   "source": [
    "# 関数プログラミング\n",
    "\n",
    "**関数プログラミング**とは、プログラムを（数学的な）関数の合成で記述するプログラミングスタイルです。\n",
    "処理を操作列と考えて命令的に記述するのではなく、処理をデータ変換を行う関数に分解して記述します。\n",
    "これをPythonで行うときに重要になるのは、高階関数とイテレータです。\n",
    "したがって、Pythonにおける関数プログラミングとは、高階関数とイテレータを使いこなすことだと考えても、ほぼ差し支えありません。"
   ]
  },
  {
   "cell_type": "markdown",
   "metadata": {},
   "source": [
    "## 高階関数\n",
    "\n",
    "**高階関数** （**higher-order function**）とは、値として関数を受け取ったり返したりする関数のことです。\n",
    "Pythonにおける関数はオブジェクトなので、定義した関数をそのまま渡したり返したりすることができます。"
   ]
  },
  {
   "cell_type": "code",
   "execution_count": 1,
   "metadata": {},
   "outputs": [
    {
     "data": {
      "text/plain": [
       "2"
      ]
     },
     "execution_count": 1,
     "metadata": {},
     "output_type": "execute_result"
    }
   ],
   "source": [
    "def inc(x):\n",
    "    return x+1\n",
    "\n",
    "def twice(f, x):\n",
    "    return f(f(x))\n",
    "\n",
    "def genfunc():\n",
    "    return inc\n",
    "\n",
    "twice(genfunc(), 0)"
   ]
  },
  {
   "cell_type": "markdown",
   "metadata": {},
   "source": [
    "ここで、`twice()`は関数を受け取り、`genfunc()`は関数を返しているので、どちらも高階関数です。\n",
    "\n",
    "組込み関数などのよく使われる関数には、関数を受け取る高階関数が多いです。\n",
    "そのような高階関数を使うときには、上に示した`inc()`のように、小さい関数を渡したくなることがよくあります。\n",
    "この時に便利なのが、**ラムダ式**（または**無名関数**）です。例えば、\n",
    "```Python\n",
    "lambda x: x+1\n",
    "```\n",
    "は、`inc()`と等価な関数オブジェクトと返します。一般に、\n",
    "```Python\n",
    "f = lambda 引数: 式\n",
    "```\n",
    "は\n",
    "```Python\n",
    "def f(引数):\n",
    "    return 式\n",
    "```\n",
    "と同等です。\n",
    "\n",
    "ラムダ式は、`def`記法による関数定義に比べて記述に制限が加わりますが、関数呼出しの引数の位置に関数定義を記述できるという利点があります。\n",
    "例えば、`twice(inc, 0)`の代わりに`twice(lambda x: x+1, 0)`と呼び出すなら、わざわざ`inc()`を定義しなくて済みます。\n",
    "このように、ラムダ式を有効活用すると、全体のコードが簡潔で読みやすくなります。"
   ]
  },
  {
   "cell_type": "markdown",
   "metadata": {},
   "source": [
    "### sorted\n",
    "2-2で、整列（ソート）されたリストを返す関数`sorted()`を導入しました。"
   ]
  },
  {
   "cell_type": "code",
   "execution_count": 2,
   "metadata": {},
   "outputs": [
    {
     "data": {
      "text/plain": [
       "[-2, 0, 1, 3]"
      ]
     },
     "execution_count": 2,
     "metadata": {},
     "output_type": "execute_result"
    }
   ],
   "source": [
    "sorted([1,3,-2,0])"
   ]
  },
  {
   "cell_type": "markdown",
   "metadata": {},
   "source": [
    "実は、`sorted()`は`key`引数に関数を取れる高階関数です。\n",
    "`key`引数は、各要素を比較に使われる値に変換する関数を取ります。\n",
    "例えば、絶対値の昇順で整列したい場合、絶対値関数`abs()`を`key`引数に渡せばよいです。"
   ]
  },
  {
   "cell_type": "code",
   "execution_count": 3,
   "metadata": {},
   "outputs": [
    {
     "data": {
      "text/plain": [
       "[0, 1, -2, 3]"
      ]
     },
     "execution_count": 3,
     "metadata": {},
     "output_type": "execute_result"
    }
   ],
   "source": [
    "sorted([1,3,-2,0], key=abs)"
   ]
  },
  {
   "cell_type": "markdown",
   "metadata": {},
   "source": [
    "#### 練習\n",
    "文字列のキーと数値の値のペアのリスト`ls`があるとする。例えば、`ls = [('A', 1), ('B', 3), ('C', -1), ('D', 0)]`。\n",
    "このリスト`ls`を、値の降順で整列するように、`sorted()`を呼び出せ。"
   ]
  },
  {
   "cell_type": "code",
   "execution_count": 5,
   "metadata": {},
   "outputs": [
    {
     "data": {
      "text/plain": [
       "[('B', 3), ('A', 1), ('D', 0), ('C', -1)]"
      ]
     },
     "execution_count": 5,
     "metadata": {},
     "output_type": "execute_result"
    }
   ],
   "source": [
    "#自分で新しくセルを作った。以下の練習も同様\n",
    "ls = [('A', 1), ('B', 3), ('C', -1), ('D', 0)]\n",
    "sorted(ls, key=lambda x: -x[1])"
   ]
  },
  {
   "cell_type": "markdown",
   "metadata": {},
   "source": [
    "### max, min\n",
    "\n",
    "組込み関数`max()`と`min()`は、それぞれ最大の要素と最小の要素を返す関数です。"
   ]
  },
  {
   "cell_type": "code",
   "execution_count": 6,
   "metadata": {},
   "outputs": [
    {
     "data": {
      "text/plain": [
       "3"
      ]
     },
     "execution_count": 6,
     "metadata": {},
     "output_type": "execute_result"
    }
   ],
   "source": [
    "max([1,3,-2,0])"
   ]
  },
  {
   "cell_type": "code",
   "execution_count": 7,
   "metadata": {},
   "outputs": [
    {
     "data": {
      "text/plain": [
       "-2"
      ]
     },
     "execution_count": 7,
     "metadata": {},
     "output_type": "execute_result"
    }
   ],
   "source": [
    "min([1,3,-2,0])"
   ]
  },
  {
   "cell_type": "markdown",
   "metadata": {},
   "source": [
    "`sorted()`と同様に、どちらも`key`引数に、比較に使われる値に変換する関数を取れます。\n",
    "したがって、例えば`abs()`を渡せば、絶対値が最大と最小となる要素を返します。"
   ]
  },
  {
   "cell_type": "code",
   "execution_count": 8,
   "metadata": {},
   "outputs": [
    {
     "data": {
      "text/plain": [
       "-3"
      ]
     },
     "execution_count": 8,
     "metadata": {},
     "output_type": "execute_result"
    }
   ],
   "source": [
    "max([1,-3,-2,0], key=abs)"
   ]
  },
  {
   "cell_type": "code",
   "execution_count": 9,
   "metadata": {},
   "outputs": [
    {
     "data": {
      "text/plain": [
       "0"
      ]
     },
     "execution_count": 9,
     "metadata": {},
     "output_type": "execute_result"
    }
   ],
   "source": [
    "min([1,-3,-2,0], key=abs)"
   ]
  },
  {
   "cell_type": "markdown",
   "metadata": {},
   "source": [
    "#### 練習\n",
    "リスト（例えば`[1,3,-2,0]`）の最小の要素を返すように、`max()`を用いよ。\n",
    "ただし、リストの各要素は数値だと仮定して良い。"
   ]
  },
  {
   "cell_type": "code",
   "execution_count": 10,
   "metadata": {},
   "outputs": [
    {
     "data": {
      "text/plain": [
       "-2"
      ]
     },
     "execution_count": 10,
     "metadata": {},
     "output_type": "execute_result"
    }
   ],
   "source": [
    "max([1,3,-2,0], key=lambda x: -x)"
   ]
  },
  {
   "cell_type": "markdown",
   "metadata": {},
   "source": [
    "### ▲reduce\n",
    "\n",
    "3-3や3-4で、組込み関数の`sum()`を紹介しました。\n",
    "これは総和を返す組込み関数でした。"
   ]
  },
  {
   "cell_type": "code",
   "execution_count": 11,
   "metadata": {},
   "outputs": [
    {
     "data": {
      "text/plain": [
       "2"
      ]
     },
     "execution_count": 11,
     "metadata": {},
     "output_type": "execute_result"
    }
   ],
   "source": [
    "sum([-1,-3,2,4])"
   ]
  },
  {
   "cell_type": "markdown",
   "metadata": {},
   "source": [
    "総和があるならば、総乗を取るような組込み関数があるかというと、ありません。\n",
    "しかし、`functools`モジュールには、総和や総乗を一般化した関数`reduce()`があります。\n",
    "\n",
    "`reduce()`は、第1引数にとる2引数関数を使って、第2引数を前から順に畳み込む関数です。\n",
    "前から順に畳み込むとは、具体的には、第1引数が`f`で、第2引数が`[-1,-3,2,4]`のとき、`f(f(f(-1, -3), 2), 4)`という演算です。\n",
    "したがって、総和も総乗も次のように表現できます。"
   ]
  },
  {
   "cell_type": "code",
   "execution_count": 12,
   "metadata": {},
   "outputs": [
    {
     "data": {
      "text/plain": [
       "2"
      ]
     },
     "execution_count": 12,
     "metadata": {},
     "output_type": "execute_result"
    }
   ],
   "source": [
    "import functools\n",
    "functools.reduce(lambda x,y: x+y, [-1,-3,2,4])"
   ]
  },
  {
   "cell_type": "code",
   "execution_count": 13,
   "metadata": {},
   "outputs": [
    {
     "data": {
      "text/plain": [
       "24"
      ]
     },
     "execution_count": 13,
     "metadata": {},
     "output_type": "execute_result"
    }
   ],
   "source": [
    "functools.reduce(lambda x,y: x*y, [-1,-3,2,4])"
   ]
  },
  {
   "cell_type": "markdown",
   "metadata": {},
   "source": [
    "`sum()`の第2引数に初期値を取れるように、`reduce()`も第3引数に初期値を取れます。"
   ]
  },
  {
   "cell_type": "code",
   "execution_count": 14,
   "metadata": {},
   "outputs": [
    {
     "data": {
      "text/plain": [
       "12"
      ]
     },
     "execution_count": 14,
     "metadata": {},
     "output_type": "execute_result"
    }
   ],
   "source": [
    "sum([-1,-3,2,4], 10)"
   ]
  },
  {
   "cell_type": "code",
   "execution_count": 15,
   "metadata": {},
   "outputs": [
    {
     "data": {
      "text/plain": [
       "240"
      ]
     },
     "execution_count": 15,
     "metadata": {},
     "output_type": "execute_result"
    }
   ],
   "source": [
    "functools.reduce(lambda x,y: x*y, [-1,-3,2,4], 10)"
   ]
  },
  {
   "cell_type": "markdown",
   "metadata": {},
   "source": [
    "初期値は、第2引数の要素とは異なるデータ型を取ることを許されます。\n",
    "与える関数の第1引数と第2引数も、異なるデータ型を取ることを許されます。\n",
    "したがって、巧妙に初期値と引数関数を設定することで、様々な計算を`reduce()`で実現できます。"
   ]
  },
  {
   "cell_type": "code",
   "execution_count": 16,
   "metadata": {},
   "outputs": [
    {
     "data": {
      "text/plain": [
       "[(0, 'A'), (1, 'C'), (2, 'D'), (3, 'B')]"
      ]
     },
     "execution_count": 16,
     "metadata": {},
     "output_type": "execute_result"
    }
   ],
   "source": [
    "def enumstep(x, y):\n",
    "    i, ls = x\n",
    "    ls.append((i,y))\n",
    "    return (i + 1, ls)\n",
    "functools.reduce(enumstep, 'ACDB', (0,[]))[1]"
   ]
  },
  {
   "cell_type": "markdown",
   "metadata": {},
   "source": [
    "ただし、このように複雑になってくると、素直にfor文で書いた方が見やすくなることも多々あります。\n",
    "`reduce()`の利用には、バランス感覚が重要です。"
   ]
  },
  {
   "cell_type": "markdown",
   "metadata": {
    "slideshow": {
     "slide_type": "slide"
    }
   },
   "source": [
    "## イテレータ\n",
    "\n",
    "前述の`sorted()`、`min()`、`max()`などは、リストとタプルの両方を同様に渡して処理することができます。\n",
    "for文で走査（全要素を訪問）するときも、リストとタプルは同様に扱えます。\n",
    "何故、異なるものを同じように扱えるのでしょうか。\n",
    "それはイテレータという仕掛けがあるからです。\n",
    "\n",
    "イテレータとは、コレクション（要素の集まり）を走査するオブジェクトです。\n",
    "組込み関数`iter()`によって構築し、組込み関数`next()`によって要素を取り出します。"
   ]
  },
  {
   "cell_type": "code",
   "execution_count": 17,
   "metadata": {},
   "outputs": [
    {
     "data": {
      "text/plain": [
       "1"
      ]
     },
     "execution_count": 17,
     "metadata": {},
     "output_type": "execute_result"
    }
   ],
   "source": [
    "it = iter([1,2]) # [1,2]のイテレータを構築\n",
    "next(it)"
   ]
  },
  {
   "cell_type": "code",
   "execution_count": 18,
   "metadata": {},
   "outputs": [
    {
     "data": {
      "text/plain": [
       "2"
      ]
     },
     "execution_count": 18,
     "metadata": {},
     "output_type": "execute_result"
    }
   ],
   "source": [
    "next(it)"
   ]
  },
  {
   "cell_type": "code",
   "execution_count": 19,
   "metadata": {},
   "outputs": [
    {
     "ename": "StopIteration",
     "evalue": "",
     "output_type": "error",
     "traceback": [
      "\u001b[1;31m---------------------------------------------------------------------------\u001b[0m",
      "\u001b[1;31mStopIteration\u001b[0m                             Traceback (most recent call last)",
      "\u001b[1;32m<ipython-input-19-bc1ab118995a>\u001b[0m in \u001b[0;36m<module>\u001b[1;34m\u001b[0m\n\u001b[1;32m----> 1\u001b[1;33m \u001b[0mnext\u001b[0m\u001b[1;33m(\u001b[0m\u001b[0mit\u001b[0m\u001b[1;33m)\u001b[0m\u001b[1;33m\u001b[0m\u001b[1;33m\u001b[0m\u001b[0m\n\u001b[0m",
      "\u001b[1;31mStopIteration\u001b[0m: "
     ]
    }
   ],
   "source": [
    "next(it)"
   ]
  },
  {
   "cell_type": "markdown",
   "metadata": {},
   "source": [
    "`next()`は、返す要素がないとき（走査の終了時）に、`StopIteration`という例外を投げます。\n",
    "\n",
    "イテレータもfor文で反復処理できます。"
   ]
  },
  {
   "cell_type": "code",
   "execution_count": 20,
   "metadata": {},
   "outputs": [
    {
     "name": "stdout",
     "output_type": "stream",
     "text": [
      "1\n",
      "2\n"
     ]
    }
   ],
   "source": [
    "it = iter([1,2])\n",
    "for x in it:\n",
    "    print(x)"
   ]
  },
  {
   "cell_type": "markdown",
   "metadata": {},
   "source": [
    "for文では、`StopIteration`を検知して反復を自動的に終了しています。\n",
    "\n",
    "ここで重要なのは、リストやタプルを含めたコレクションは、全てイテレータを経由して走査するということです。\n",
    "つまり、リストやタプルなど異なるものから、イテレータという同様に操作できるオブジェクトを構築して利用することで、同じように走査できるようになったわけです。"
   ]
  },
  {
   "cell_type": "code",
   "execution_count": 21,
   "metadata": {},
   "outputs": [
    {
     "name": "stdout",
     "output_type": "stream",
     "text": [
      "1\n",
      "2\n"
     ]
    }
   ],
   "source": [
    "it = iter((1,2)) # (1,2)のイテレータを構築\n",
    "for x in it:\n",
    "    print(x)"
   ]
  },
  {
   "cell_type": "markdown",
   "metadata": {
    "slideshow": {
     "slide_type": "slide"
    }
   },
   "source": [
    "ここで注意すべきことは、イテレータは1回の走査にしか使えない、使い捨てのオブジェクトだということです。\n",
    "同じコレクションを複数回走査したいときには、走査する度にイテレータを構築する必要があります。"
   ]
  },
  {
   "cell_type": "code",
   "execution_count": 22,
   "metadata": {},
   "outputs": [
    {
     "ename": "StopIteration",
     "evalue": "",
     "output_type": "error",
     "traceback": [
      "\u001b[1;31m---------------------------------------------------------------------------\u001b[0m",
      "\u001b[1;31mStopIteration\u001b[0m                             Traceback (most recent call last)",
      "\u001b[1;32m<ipython-input-22-aacc4a5859b3>\u001b[0m in \u001b[0;36m<module>\u001b[1;34m\u001b[0m\n\u001b[1;32m----> 1\u001b[1;33m \u001b[0mnext\u001b[0m\u001b[1;33m(\u001b[0m\u001b[0mit\u001b[0m\u001b[1;33m)\u001b[0m \u001b[1;31m# (1,2)のイテレータitは走査が終了したまま\u001b[0m\u001b[1;33m\u001b[0m\u001b[1;33m\u001b[0m\u001b[0m\n\u001b[0m",
      "\u001b[1;31mStopIteration\u001b[0m: "
     ]
    }
   ],
   "source": [
    "next(it) # (1,2)のイテレータitは走査が終了したまま"
   ]
  },
  {
   "cell_type": "code",
   "execution_count": 23,
   "metadata": {},
   "outputs": [],
   "source": [
    "for x in it:\n",
    "    print('これは呼び出されない')"
   ]
  },
  {
   "cell_type": "markdown",
   "metadata": {
    "slideshow": {
     "slide_type": "slide"
    }
   },
   "source": [
    "ここで憶えておくべきことは、イテレータ自体は元のコレクションをコピーしないということです。\n",
    "要素を1つ1つ訪問するという反復処理を実現するオブジェクトであり、通常`iter()`や`next()`はコレクションのサイズ（要素数）に依存しないコストで実装されます。\n",
    "例えば、リストの先頭要素を除いた残りの部分を走査するとき、\n",
    "```Python\n",
    "for x in ls[1:]:\n",
    "    何かの処理\n",
    "\n",
    "```\n",
    "と残りの部分をスライスとしてコピーするよりも、\n",
    "```Python\n",
    "it = iter(ls)\n",
    "next(it) # 先頭要素を捨てる\n",
    "for x in it:\n",
    "    何かの処理\n",
    "\n",
    "```\n",
    "とイテレータで直接走査する方が効率的です。\n",
    "これは、サイズが小さいコレクションを扱うときには問題になりませんが、大きいものを扱うときには気を付けるべきことです。\n",
    "\n",
    "ここまで、イテレータの使い方は、`next()`で要素を取り出すか、for文で反復するだけでしたが、実は`sorted()`、`max()`、`min()`などに渡すことができます。\n",
    "\n",
    "イテレータ`it`の中身を印字して確認したいときには、`print(*it)`と、イテレータを展開して可変長引数として`print()`を呼び出すのが簡潔で便利です。\n",
    "ただし、中身を確認した後の`it`はもう利用できないこと、大量の要素を生成するイテレータには不向きであることに留意してください。"
   ]
  },
  {
   "cell_type": "code",
   "execution_count": 24,
   "metadata": {},
   "outputs": [
    {
     "name": "stdout",
     "output_type": "stream",
     "text": [
      "1 2 3\n"
     ]
    }
   ],
   "source": [
    "it = iter(range(4))\n",
    "next(it) # 先頭の 0 を捨てる\n",
    "print(*it)"
   ]
  },
  {
   "cell_type": "markdown",
   "metadata": {
    "slideshow": {
     "slide_type": "slide"
    }
   },
   "source": [
    "イテレータの定義は、6-3で改めて説明します。"
   ]
  },
  {
   "cell_type": "markdown",
   "metadata": {
    "slideshow": {
     "slide_type": "slide"
    }
   },
   "source": [
    "### 練習\n",
    "与えられたコレクションの先頭要素を除いた残りの部分の最大値を返す関数`tailmax()`を、イテレータを使って、for文を使わずに、上の例に倣って効率的に実装せよ。"
   ]
  },
  {
   "cell_type": "code",
   "execution_count": 25,
   "metadata": {},
   "outputs": [
    {
     "name": "stdout",
     "output_type": "stream",
     "text": [
      "True\n",
      "True\n",
      "True\n"
     ]
    }
   ],
   "source": [
    "def tailmax(xs):\n",
    "    it = iter(xs)\n",
    "    next(it) # 先頭要素を捨てる\n",
    "    return max(it)\n",
    "\n",
    "print(tailmax([3,-4,2,1]) == 2)\n",
    "print(tailmax((3,-4,2,1)) == 2)\n",
    "print(tailmax('ACDC') == 'D')"
   ]
  },
  {
   "cell_type": "markdown",
   "metadata": {
    "slideshow": {
     "slide_type": "slide"
    }
   },
   "source": [
    "## イテレータを生成する関数\n",
    "\n",
    "Pythonの組込み関数や標準ライブラリには、イテレータを返す関数が数多くあります。\n",
    "その中には、関数を受け取る高階関数もあります。\n",
    "イテレータを生成・消費する関数の適用に分解してプログラムを記述することで、イテレータを介した関数プログラミングが行えるようになります。\n",
    "\n",
    "### enumerate\n",
    "3-2で紹介した組込み関数の`enumerate()`は、実はイテレータを返します。"
   ]
  },
  {
   "cell_type": "code",
   "execution_count": 26,
   "metadata": {},
   "outputs": [
    {
     "name": "stdout",
     "output_type": "stream",
     "text": [
      "<enumerate object at 0x000001EB308D5090>\n"
     ]
    }
   ],
   "source": [
    "it = enumerate('ACDB')\n",
    "print(it) # リストやタプルではない"
   ]
  },
  {
   "cell_type": "code",
   "execution_count": 27,
   "metadata": {},
   "outputs": [
    {
     "name": "stdout",
     "output_type": "stream",
     "text": [
      "(0, 'A') (1, 'C') (2, 'D') (3, 'B')\n"
     ]
    }
   ],
   "source": [
    "print(*it)"
   ]
  },
  {
   "cell_type": "markdown",
   "metadata": {},
   "source": [
    "つまり、for文や内包表現に限定されず、イテレータを消費する関数と共に使えます。\n",
    "\n",
    "そして、`enumerate()`は、コレクションだけでなく、イテレータも渡せます。\n",
    "つまり、計算結果のイテレータの各要素に番号付けすることにも利用できます。\n",
    "\n",
    "`enumerate()`の第2引数には番号付けの初期値を渡せます。"
   ]
  },
  {
   "cell_type": "code",
   "execution_count": 28,
   "metadata": {},
   "outputs": [
    {
     "name": "stdout",
     "output_type": "stream",
     "text": [
      "(1, 'A') (2, 'C') (3, 'D') (4, 'B')\n"
     ]
    }
   ],
   "source": [
    "print(*enumerate('ACDB',1))"
   ]
  },
  {
   "cell_type": "markdown",
   "metadata": {},
   "source": [
    "`enumerate()`は、番号付けという汎用的なデータ変換を行う関数だったのです。"
   ]
  },
  {
   "cell_type": "markdown",
   "metadata": {
    "slideshow": {
     "slide_type": "slide"
    }
   },
   "source": [
    "### map\n",
    "組込み関数の`map()`は、第1引数に取った関数を、第2引数に取ったコレクションやイテレータの各要素に適用した結果を走査するイテレータを返します。"
   ]
  },
  {
   "cell_type": "code",
   "execution_count": 29,
   "metadata": {},
   "outputs": [
    {
     "name": "stdout",
     "output_type": "stream",
     "text": [
      "2 -2 3 1\n"
     ]
    }
   ],
   "source": [
    "print(*map(lambda x: x + 1, [1,-3,2,0]))"
   ]
  },
  {
   "cell_type": "markdown",
   "metadata": {},
   "source": [
    "より正確には、第1引数には、$n$引数関数（$n \\ge 1$）を取ることができ、第2引数以降に$n$個のコレクションやイテレータを渡すことができます。この時、一番小さい要素数に合わせて、結果のイテレータは切り詰められます。"
   ]
  },
  {
   "cell_type": "code",
   "execution_count": 30,
   "metadata": {},
   "outputs": [
    {
     "name": "stdout",
     "output_type": "stream",
     "text": [
      "5 4 -4 5\n"
     ]
    }
   ],
   "source": [
    "# 異なるコレクション/イテレータを受け取れる\n",
    "print(*map(lambda x,y: x + y, [1,-3,2,0], (4,7,-6,5)))"
   ]
  },
  {
   "cell_type": "code",
   "execution_count": 31,
   "metadata": {},
   "outputs": [
    {
     "name": "stdout",
     "output_type": "stream",
     "text": [
      "1 4 7 10 13\n"
     ]
    }
   ],
   "source": [
    "# 結果のイテレータが切り詰められる\n",
    "print(*map(lambda x,y: x + y, range(1,10,2), range(1000000)))"
   ]
  },
  {
   "cell_type": "markdown",
   "metadata": {},
   "source": [
    "`map()`とラムダ式を組み合わるよりも、3-3で紹介した内包表現（ジェネレータ式を含む）の方が簡潔になることも少なくありません。"
   ]
  },
  {
   "cell_type": "code",
   "execution_count": 32,
   "metadata": {},
   "outputs": [
    {
     "name": "stdout",
     "output_type": "stream",
     "text": [
      "[2, -2, 3, 1]\n"
     ]
    }
   ],
   "source": [
    "print([x + 1 for x in  [1,-3,2,0]])  # リスト内包 "
   ]
  },
  {
   "cell_type": "code",
   "execution_count": 33,
   "metadata": {},
   "outputs": [
    {
     "name": "stdout",
     "output_type": "stream",
     "text": [
      "2 -2 3 1\n"
     ]
    }
   ],
   "source": [
    "print(*(x + 1 for x in  [1,-3,2,0])) # ジェネレータ式（イテレータを返す）"
   ]
  },
  {
   "cell_type": "markdown",
   "metadata": {},
   "source": [
    "一方、既定義の関数を引数に渡すときには、`map()`の方が簡潔になります。\n",
    "その時々で、内包表記と比べてみて、より分かりやすい方を採用しましょう。"
   ]
  },
  {
   "cell_type": "markdown",
   "metadata": {
    "slideshow": {
     "slide_type": "slide"
    }
   },
   "source": [
    "#### 練習\n",
    "第1引数で与えられた要素数まで、第2引数に与えられたコレクション/イテレータを走査するイテレータを返す関数`take()`を、for文を使わずに、`map()`と`range()`を用いて定義せよ。例えば、`take(2, 'ACDB')`は、`A` `C`を走査するイテレータを返す。"
   ]
  },
  {
   "cell_type": "code",
   "execution_count": 37,
   "metadata": {},
   "outputs": [
    {
     "name": "stdout",
     "output_type": "stream",
     "text": [
      "A C\n"
     ]
    }
   ],
   "source": [
    "def take(n, xs):\n",
    "    return map(lambda x, i: x, xs, range(n))\n",
    "\n",
    "print(*take(2, 'ACDB'))"
   ]
  },
  {
   "cell_type": "markdown",
   "metadata": {
    "slideshow": {
     "slide_type": "slide"
    }
   },
   "source": [
    "### zip\n",
    "組込み関数`zip()`は、`map()`の第1引数の関数が、タプル構築に固定されたものです。"
   ]
  },
  {
   "cell_type": "code",
   "execution_count": 38,
   "metadata": {
    "slideshow": {
     "slide_type": "slide"
    }
   },
   "outputs": [
    {
     "name": "stdout",
     "output_type": "stream",
     "text": [
      "(1, 0) (3, 1) (5, 2) (7, 3) (9, 4)\n"
     ]
    }
   ],
   "source": [
    "print(*zip(range(1,10,2), range(1000000)))"
   ]
  },
  {
   "cell_type": "markdown",
   "metadata": {
    "slideshow": {
     "slide_type": "slide"
    }
   },
   "source": [
    "上に示したように、結果のイテレータの切り詰めも、同様に行われます。\n",
    "\n",
    "`zip()`は、`map()`の特殊形でしかないのですが、`map()`を内包表記に書き換えるときや、結果のイテレータをfor文で反復するときに、特に役立ちます。"
   ]
  },
  {
   "cell_type": "code",
   "execution_count": 39,
   "metadata": {},
   "outputs": [
    {
     "name": "stdout",
     "output_type": "stream",
     "text": [
      "[1, 4, 7, 10, 13]\n"
     ]
    }
   ],
   "source": [
    "print([x + y for x, y in zip(range(1,10,2), range(1000000))]) # リスト内包"
   ]
  },
  {
   "cell_type": "code",
   "execution_count": 40,
   "metadata": {},
   "outputs": [
    {
     "name": "stdout",
     "output_type": "stream",
     "text": [
      "1 4 7 10 13\n"
     ]
    }
   ],
   "source": [
    "print(*(x + y for x, y in zip(range(1,10,2), range(1000000)))) # ジェネレータ式（イテレータを返す）"
   ]
  },
  {
   "cell_type": "code",
   "execution_count": 41,
   "metadata": {},
   "outputs": [
    {
     "name": "stdout",
     "output_type": "stream",
     "text": [
      "1\n",
      "4\n",
      "7\n",
      "10\n",
      "13\n"
     ]
    }
   ],
   "source": [
    "for x, y in zip(range(1,10,2), range(1000000)): # for文で反復処理\n",
    "    print(x + y)"
   ]
  },
  {
   "cell_type": "markdown",
   "metadata": {},
   "source": [
    "`map()`とラムダ式を使うか、`zip()`と内包表記を使うかは、より分かりやすい方を、その時々で判断して選択しましょう。"
   ]
  },
  {
   "cell_type": "markdown",
   "metadata": {},
   "source": [
    "#### 練習\n",
    "コレクションを取って、隣接要素対のイテレータを返す関数`adjpairs()`を、for文を使わずに`zip()`を使って定義せよ。\n",
    "例えば、`adjpairs([1,-3,2,0])`は、`(1, -3)` `(-3, 2)` `(2, 0)`を走査するイテレータを返すことになる。"
   ]
  },
  {
   "cell_type": "code",
   "execution_count": 42,
   "metadata": {},
   "outputs": [
    {
     "name": "stdout",
     "output_type": "stream",
     "text": [
      "(1, -3) (-3, 2) (2, 0)\n"
     ]
    }
   ],
   "source": [
    "def adjpairs(xs):\n",
    "    it = iter(xs)\n",
    "    next(it) # 1つ前にずらす\n",
    "    return zip(xs, it)\n",
    "\n",
    "print(*adjpairs([1,-3,2,0]))"
   ]
  },
  {
   "cell_type": "markdown",
   "metadata": {
    "slideshow": {
     "slide_type": "slide"
    }
   },
   "source": [
    "### filter\n",
    "組込み関数`filter()`は、第1引数に単項述語（真理値を返す1引数関数）を、第2引数にコレクションもしくはイテレータを取り、その単項述語を真にする要素だけを順に生成するイテレータを返します。"
   ]
  },
  {
   "cell_type": "code",
   "execution_count": 43,
   "metadata": {
    "slideshow": {
     "slide_type": "slide"
    }
   },
   "outputs": [
    {
     "name": "stdout",
     "output_type": "stream",
     "text": [
      "0 2 4 6\n"
     ]
    }
   ],
   "source": [
    "print(*filter(lambda x: x % 2 == 0, range(8)))"
   ]
  },
  {
   "cell_type": "markdown",
   "metadata": {},
   "source": [
    "`filter()`は、制御構造の観点で見ると、continue文によるスキップを含んだfor文に対応します。\n",
    "continueを含んだfor文を使うときには、代わりに`filter()`を使うことができないか考えてみると良いでしょう。\n",
    "\n",
    "`map()`と同様に、素直に内包表現に書き換えられます。"
   ]
  },
  {
   "cell_type": "code",
   "execution_count": 44,
   "metadata": {},
   "outputs": [
    {
     "name": "stdout",
     "output_type": "stream",
     "text": [
      "[0, 2, 4, 6]\n"
     ]
    }
   ],
   "source": [
    "print([x for x in range(8) if x % 2 == 0]) # リスト内包"
   ]
  },
  {
   "cell_type": "code",
   "execution_count": 45,
   "metadata": {},
   "outputs": [
    {
     "name": "stdout",
     "output_type": "stream",
     "text": [
      "0 2 4 6\n"
     ]
    }
   ],
   "source": [
    "print(*(x for x in range(8) if x % 2 == 0)) # ジェネレータ式（イテレータを返す）"
   ]
  },
  {
   "cell_type": "markdown",
   "metadata": {},
   "source": [
    "`filter()`とラムダ式を組み合わせるときや、`filter()`と`map()`を組み合わせるときは、内包表記を使った方が簡潔で分かりやすくなることが多いです。"
   ]
  },
  {
   "cell_type": "markdown",
   "metadata": {
    "slideshow": {
     "slide_type": "slide"
    }
   },
   "source": [
    "#### 練習\n",
    "文字列には、文字列のコレクション/イテレータを取る`join()`メソッドがある。\n",
    "`s.join(ss)`としたとき、`ss`の各要素の文字列を、`s`を間に挟んで連結した結果の文字列を返す。"
   ]
  },
  {
   "cell_type": "code",
   "execution_count": 46,
   "metadata": {},
   "outputs": [
    {
     "data": {
      "text/plain": [
       "'A,B,C,D'"
      ]
     },
     "execution_count": 46,
     "metadata": {},
     "output_type": "execute_result"
    }
   ],
   "source": [
    "','.join(['A','B','C','D'])"
   ]
  },
  {
   "cell_type": "code",
   "execution_count": 47,
   "metadata": {},
   "outputs": [
    {
     "data": {
      "text/plain": [
       "'A,B,C,D'"
      ]
     },
     "execution_count": 47,
     "metadata": {},
     "output_type": "execute_result"
    }
   ],
   "source": [
    "','.join(iter('ABCD'))"
   ]
  },
  {
   "cell_type": "markdown",
   "metadata": {
    "slideshow": {
     "slide_type": "slide"
    }
   },
   "source": [
    "この`join()`メソッドと`filter()`を用いて、与えられた文字列の全ての改行`'\\n'`と空白`' '`を除去した文字列を返す関数`condense()`を、for文を使わずに定義せよ。例えば`condence('The Zen of Python\\n')`は、`'TheZenofPython'`を返す。"
   ]
  },
  {
   "cell_type": "code",
   "execution_count": 48,
   "metadata": {},
   "outputs": [
    {
     "data": {
      "text/plain": [
       "'TheZenofPython'"
      ]
     },
     "execution_count": 48,
     "metadata": {},
     "output_type": "execute_result"
    }
   ],
   "source": [
    "def condence(ss):\n",
    "    return ''.join(filter(lambda s: s not in ('\\n',' '), ss))\n",
    "\n",
    "condence('The Zen of Python\\n')"
   ]
  },
  {
   "cell_type": "markdown",
   "metadata": {
    "slideshow": {
     "slide_type": "slide"
    }
   },
   "source": [
    "### takewhile, dropwhile\n",
    "`itertools`モジュール内の関数`takewhile()`は、`filter()`と同様の引数を取り、単項述語が偽を返すまで走査するイテレータを返します。"
   ]
  },
  {
   "cell_type": "code",
   "execution_count": 49,
   "metadata": {
    "slideshow": {
     "slide_type": "slide"
    }
   },
   "outputs": [
    {
     "name": "stdout",
     "output_type": "stream",
     "text": [
      "0 1 2 3\n"
     ]
    }
   ],
   "source": [
    "import itertools\n",
    "print(*itertools.takewhile(lambda x: x != 4, range(8)))"
   ]
  },
  {
   "cell_type": "markdown",
   "metadata": {},
   "source": [
    "同じく`itertools`モジュール内の関数`dropwhile()`は、同様の引数を取り、`takewhile()`の残りを走査するイテレータを返します。"
   ]
  },
  {
   "cell_type": "code",
   "execution_count": 50,
   "metadata": {},
   "outputs": [
    {
     "name": "stdout",
     "output_type": "stream",
     "text": [
      "4 5 6 7\n"
     ]
    }
   ],
   "source": [
    "print(*itertools.dropwhile(lambda x: x != 4, range(8)))"
   ]
  },
  {
   "cell_type": "markdown",
   "metadata": {},
   "source": [
    "`takewhile()`と`dropwhile()`は、制御構造の観点で見ると、break文による途中脱出を含んだfor文に対応します。\n",
    "つまり、内部的には反復を途中で打ち切って結果を返しています。\n",
    "これは、第2引数を走査しきる`filter()`と異なる点であり、実行効率に顕著に影響します。"
   ]
  },
  {
   "cell_type": "code",
   "execution_count": 51,
   "metadata": {},
   "outputs": [
    {
     "name": "stdout",
     "output_type": "stream",
     "text": [
      "0 1 2 3\n"
     ]
    }
   ],
   "source": [
    "print(*filter(lambda x: x < 4, range(10000000)))"
   ]
  },
  {
   "cell_type": "code",
   "execution_count": 52,
   "metadata": {},
   "outputs": [
    {
     "name": "stdout",
     "output_type": "stream",
     "text": [
      "0 1 2 3\n"
     ]
    }
   ],
   "source": [
    "print(*itertools.takewhile(lambda x: x < 4, range(10000000)))"
   ]
  },
  {
   "cell_type": "markdown",
   "metadata": {},
   "source": [
    "同じ結果を返していますが、`filter()`よりも`takewhile()`が速いことが実感できるでしょう。\n",
    "大量の（もしくは際限なく）要素を生成するイテレータを使うときには、`takewhile()`と`dropwhile()`は、特に役立ちます。"
   ]
  },
  {
   "cell_type": "markdown",
   "metadata": {
    "slideshow": {
     "slide_type": "slide"
    }
   },
   "source": [
    "#### 練習\n",
    "第1引数に整数$k$、第2引数に整列可能なコレクション/イテレータを取り、その中の上位$k$位までを走査するイテレータを返す関数`topk()`を、for文を使わずに`takewhile()`を用いて定義せよ。\n",
    "ただし、同率順位を考慮するものとする。\n",
    "例えば、`topk(3, [1,4,3,2,3,4])`は、`4` `4` `3` `3`を走査するイテレータを返すことになる。"
   ]
  },
  {
   "cell_type": "code",
   "execution_count": 53,
   "metadata": {},
   "outputs": [
    {
     "name": "stdout",
     "output_type": "stream",
     "text": [
      "4 4 3 3\n"
     ]
    }
   ],
   "source": [
    "def topk(k, xs):\n",
    "    xs = sorted(xs, reverse=True)\n",
    "    return itertools.takewhile(lambda x: x >= xs[k-1], xs)\n",
    "    \n",
    "print(*topk(3, [1,4,3,2,3,4]))"
   ]
  },
  {
   "cell_type": "markdown",
   "metadata": {
    "slideshow": {
     "slide_type": "slide"
    }
   },
   "source": [
    "### ▲accumulate\n",
    "`itertools`モジュール内の関数`accumulate()`は、`sum()`の途中結果をイテレータで返す関数です。"
   ]
  },
  {
   "cell_type": "code",
   "execution_count": 54,
   "metadata": {},
   "outputs": [
    {
     "name": "stdout",
     "output_type": "stream",
     "text": [
      "1 2 3 4 5 6 7 8\n"
     ]
    }
   ],
   "source": [
    "import itertools\n",
    "print(*itertools.accumulate([1]*8))"
   ]
  },
  {
   "cell_type": "code",
   "execution_count": 55,
   "metadata": {},
   "outputs": [
    {
     "name": "stdout",
     "output_type": "stream",
     "text": [
      "0 1 3 6 10 15 21 28\n"
     ]
    }
   ],
   "source": [
    "print(*itertools.accumulate(range(8)))"
   ]
  },
  {
   "cell_type": "markdown",
   "metadata": {},
   "source": [
    "`func`引数に2引数関数を渡すことができ、この場合は`reduce()`の途中結果をイテレータで返すことに相当します。"
   ]
  },
  {
   "cell_type": "code",
   "execution_count": 56,
   "metadata": {},
   "outputs": [
    {
     "name": "stdout",
     "output_type": "stream",
     "text": [
      "1 1 2 2 2 3 7\n"
     ]
    }
   ],
   "source": [
    "print(*itertools.accumulate([1,-5,2,-6,0,3,7], func=max))"
   ]
  },
  {
   "cell_type": "markdown",
   "metadata": {
    "slideshow": {
     "slide_type": "slide"
    }
   },
   "source": [
    "### reversed\n",
    "組込み関数`reversed()`は、シーケンス（文字列、リスト、タプルなど）を受け取って、それを逆順に走査するイテレータを返します。"
   ]
  },
  {
   "cell_type": "code",
   "execution_count": 57,
   "metadata": {},
   "outputs": [
    {
     "name": "stdout",
     "output_type": "stream",
     "text": [
      "D C B A\n"
     ]
    }
   ],
   "source": [
    "print(*reversed('ABCD'))"
   ]
  },
  {
   "cell_type": "code",
   "execution_count": 58,
   "metadata": {},
   "outputs": [
    {
     "name": "stdout",
     "output_type": "stream",
     "text": [
      "3 -2 1 0\n"
     ]
    }
   ],
   "source": [
    "print(*reversed([0,1,-2,3]))"
   ]
  },
  {
   "cell_type": "code",
   "execution_count": 59,
   "metadata": {},
   "outputs": [
    {
     "name": "stdout",
     "output_type": "stream",
     "text": [
      "3 -2 1 0\n"
     ]
    }
   ],
   "source": [
    "print(*reversed((0,1,-2,3)))"
   ]
  },
  {
   "cell_type": "markdown",
   "metadata": {},
   "source": [
    "`reversed()`は、コレクション一般やイテレータを取れないことに留意してください。"
   ]
  },
  {
   "cell_type": "markdown",
   "metadata": {
    "slideshow": {
     "slide_type": "slide"
    }
   },
   "source": [
    "#### 練習\n",
    "与えられたシーケンスを真ん中で折り畳んで閉じ合わせた（zipした）結果をイテレータで返す関数`clamshell()`を、for文を使わずに、`reversed()`と`take()`を使って定義せよ。\n",
    "ただし、シーケンスの長さが奇数であるとき、中央の要素は結果から除外されるものとする。\n",
    "例えば、`clamshell('ABCDE')`は、`(A,E)` `(B,D)`を走査するイテレータを返す。"
   ]
  },
  {
   "cell_type": "code",
   "execution_count": 61,
   "metadata": {},
   "outputs": [
    {
     "name": "stdout",
     "output_type": "stream",
     "text": [
      "('A', 'E') ('B', 'D')\n"
     ]
    }
   ],
   "source": [
    "def clamshell(xs):\n",
    "    return take(len(xs)//2, zip(xs, reversed(xs))) #takeは練習問題で定義した関数 //は整除(商もあまりも整数)\n",
    "\n",
    "print(*clamshell('ABCDE'))"
   ]
  },
  {
   "cell_type": "markdown",
   "metadata": {
    "slideshow": {
     "slide_type": "slide"
    }
   },
   "source": [
    "### ▲product\n",
    "`itertools`モジュール内の関数`product()`は、任意個のコレクション/イテレータを取って、それらの直積を取った結果を走査するイテレータを返します。"
   ]
  },
  {
   "cell_type": "code",
   "execution_count": 62,
   "metadata": {},
   "outputs": [
    {
     "name": "stdout",
     "output_type": "stream",
     "text": [
      "('A', 0) ('A', 1) ('B', 0) ('B', 1) ('C', 0) ('C', 1) ('D', 0) ('D', 1)\n"
     ]
    }
   ],
   "source": [
    "import itertools\n",
    "print(*itertools.product('ABCD', range(2)))"
   ]
  },
  {
   "cell_type": "code",
   "execution_count": 63,
   "metadata": {},
   "outputs": [
    {
     "name": "stdout",
     "output_type": "stream",
     "text": [
      "('A', 0, 'C') ('A', 0, 'D') ('A', 1, 'C') ('A', 1, 'D') ('B', 0, 'C') ('B', 0, 'D') ('B', 1, 'C') ('B', 1, 'D')\n"
     ]
    }
   ],
   "source": [
    "print(*itertools.product('AB', range(2), 'CD'))"
   ]
  },
  {
   "cell_type": "markdown",
   "metadata": {},
   "source": [
    "制御構造の観点で見ると、for文のネストや、for句が連なった内包表記に対応します。\n",
    "それらを、ネストしない1つのfor文や、for句1つの内包表記で記述するときに役立ちます。"
   ]
  },
  {
   "cell_type": "markdown",
   "metadata": {
    "slideshow": {
     "slide_type": "slide"
    }
   },
   "source": [
    "## ▲関数内関数（クロージャ）\n",
    "関数内で定義された関数（ラムダ式を含む）からは、外側のローカル変数を参照できます。"
   ]
  },
  {
   "cell_type": "code",
   "execution_count": 64,
   "metadata": {
    "slideshow": {
     "slide_type": "slide"
    }
   },
   "outputs": [
    {
     "data": {
      "text/plain": [
       "1"
      ]
     },
     "execution_count": 64,
     "metadata": {},
     "output_type": "execute_result"
    }
   ],
   "source": [
    "def outer(x):\n",
    "    def inner():\n",
    "        return x\n",
    "    return inner\n",
    "\n",
    "f = outer(1)\n",
    "f()"
   ]
  },
  {
   "cell_type": "code",
   "execution_count": 65,
   "metadata": {},
   "outputs": [
    {
     "data": {
      "text/plain": [
       "2"
      ]
     },
     "execution_count": 65,
     "metadata": {},
     "output_type": "execute_result"
    }
   ],
   "source": [
    "g = outer(2)\n",
    "g()"
   ]
  },
  {
   "cell_type": "markdown",
   "metadata": {},
   "source": [
    "グローバル変数がそうであるように、外側の関数のローカル変数についても、内側の関数からは再定義が（基本的に）できません。\n",
    "しかし、外側の関数では再定義できるので、注意が必要です。"
   ]
  },
  {
   "cell_type": "code",
   "execution_count": 66,
   "metadata": {},
   "outputs": [
    {
     "data": {
      "text/plain": [
       "-1"
      ]
     },
     "execution_count": 66,
     "metadata": {},
     "output_type": "execute_result"
    }
   ],
   "source": [
    "def outer(x):\n",
    "    def inner():\n",
    "        return x\n",
    "    x = -x # inner()が参照する変数xを再定義\n",
    "    return inner\n",
    "\n",
    "f = outer(1)\n",
    "f()"
   ]
  },
  {
   "cell_type": "markdown",
   "metadata": {},
   "source": [
    "それ故に、関数を返す高階関数を記述するときには、変数定義に対してとても慎重になる必要があります。\n",
    "\n",
    "そういう事情も含めて、関数を返す高階関数を正しく定義するのは難しいので、自分で定義せずに既存の関数を使うだけにするのが無難でしょう。"
   ]
  },
  {
   "cell_type": "markdown",
   "metadata": {},
   "source": [
    "## 練習の解答"
   ]
  },
  {
   "cell_type": "code",
   "execution_count": null,
   "metadata": {},
   "outputs": [],
   "source": [
    "ls = [('A', 1), ('B', 3), ('C', -1), ('D', 0)]\n",
    "sorted(ls, key=lambda x: -x[1])"
   ]
  },
  {
   "cell_type": "code",
   "execution_count": null,
   "metadata": {},
   "outputs": [],
   "source": [
    "max([1,3,-2,0], key=lambda x: -x)"
   ]
  },
  {
   "cell_type": "code",
   "execution_count": null,
   "metadata": {},
   "outputs": [],
   "source": [
    "def tailmax(xs):\n",
    "    it = iter(xs)\n",
    "    next(it) # 先頭要素を捨てる\n",
    "    return max(it)\n",
    "\n",
    "print(tailmax([3,-4,2,1]) == 2)\n",
    "print(tailmax((3,-4,2,1)) == 2)\n",
    "print(tailmax('ACDC') == 'D')"
   ]
  },
  {
   "cell_type": "code",
   "execution_count": null,
   "metadata": {
    "scrolled": true
   },
   "outputs": [],
   "source": [
    "def take(n, xs):\n",
    "    return map(lambda x, i: x, xs, range(n))\n",
    "\n",
    "print(*take(2, 'ACDB'))"
   ]
  },
  {
   "cell_type": "code",
   "execution_count": null,
   "metadata": {
    "scrolled": false
   },
   "outputs": [],
   "source": [
    "def adjpairs(xs):\n",
    "    it = iter(xs)\n",
    "    next(it) # 1つ前にずらす\n",
    "    return zip(xs, it)\n",
    "\n",
    "print(*adjpairs([1,-3,2,0]))"
   ]
  },
  {
   "cell_type": "code",
   "execution_count": null,
   "metadata": {},
   "outputs": [],
   "source": [
    "def condence(ss):\n",
    "    return ''.join(filter(lambda s: s not in ('\\n',' '), ss))\n",
    "\n",
    "condence('The Zen of Python\\n')"
   ]
  },
  {
   "cell_type": "code",
   "execution_count": null,
   "metadata": {},
   "outputs": [],
   "source": [
    "def topk(k, xs):\n",
    "    xs = sorted(xs, reverse=True)\n",
    "    return itertools.takewhile(lambda x: x >= xs[k-1], xs)\n",
    "    \n",
    "print(*topk(3, [1,4,3,2,3,4]))"
   ]
  },
  {
   "cell_type": "code",
   "execution_count": null,
   "metadata": {},
   "outputs": [],
   "source": [
    "def clamshell(xs):\n",
    "    return take(len(xs)//2, zip(xs, reversed(xs)))\n",
    "\n",
    "print(*clamshell('ABCDE'))"
   ]
  }
 ],
 "metadata": {
  "kernelspec": {
   "display_name": "Python 3",
   "language": "python",
   "name": "python3"
  },
  "language_info": {
   "codemirror_mode": {
    "name": "ipython",
    "version": 3
   },
   "file_extension": ".py",
   "mimetype": "text/x-python",
   "name": "python",
   "nbconvert_exporter": "python",
   "pygments_lexer": "ipython3",
   "version": "3.7.3"
  }
 },
 "nbformat": 4,
 "nbformat_minor": 2
}
