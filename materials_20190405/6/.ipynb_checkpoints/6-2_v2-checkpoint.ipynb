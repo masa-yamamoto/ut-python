{
 "cells": [
  {
   "cell_type": "markdown",
   "metadata": {
    "slideshow": {
     "slide_type": "slide"
    }
   },
   "source": [
    "# Pythonプログラミング入門 第6回\n",
    "オブジェクト指向プログラミングについて説明します\n",
    "\n",
    "参考\n",
    "- https://docs.python.org/ja/3/tutorial/classes.html\n",
    "- https://docs.python.org/ja/3/reference/datamodel.html\n",
    "- https://docs.python.org/ja/3/library/collections.html#collections.namedtuple"
   ]
  },
  {
   "cell_type": "markdown",
   "metadata": {},
   "source": [
    "# オブジェクト指向プログラミング\n",
    "\n",
    "これまでなんとなく用いてきた、オブジェクト指向プログラミングの諸概念を改めて説明し、クラスの簡単な使い方を説明します。"
   ]
  },
  {
   "cell_type": "markdown",
   "metadata": {},
   "source": [
    "## オブジェクト指向の考え方\n",
    "オブジェクト指向とは何かを考えるために、まずは簡単なプログラミングの例と状況を導入します。\n",
    "\n",
    "例えば、セミナーなどの参加者名簿を管理したいとします。\n",
    "学生データは、名前とID番号のペアで表現されるとします。"
   ]
  },
  {
   "cell_type": "code",
   "execution_count": 1,
   "metadata": {},
   "outputs": [],
   "source": [
    "taro = ('東大太郎', 1234567890)\n",
    "jiro = ('東大二郎', 2345678901)"
   ]
  },
  {
   "cell_type": "markdown",
   "metadata": {},
   "source": [
    "教員データは、名前と役職とID番号の3つ組で表現されるとします。"
   ]
  },
  {
   "cell_type": "code",
   "execution_count": 2,
   "metadata": {},
   "outputs": [],
   "source": [
    "hagiya = ('萩谷昌己', '教授', 9876543210)"
   ]
  },
  {
   "cell_type": "markdown",
   "metadata": {},
   "source": [
    "これらをまとめたリストで名簿を管理するとします。\n",
    "\n",
    "さて、参加者に名前入りのバッジを配ることになりました。\n",
    "バッジには、学生の場合は名前だけ、教員の場合は名前の後に役職を付けるとします。\n",
    "参加者リストをもらって、バッジ（に記入する文字列）のリストを返す関数`badgelist()`を定義することを考えます。\n",
    "例えば、次のように定義すれば、上に示した例については用が足ります。"
   ]
  },
  {
   "cell_type": "code",
   "execution_count": 3,
   "metadata": {},
   "outputs": [
    {
     "data": {
      "text/plain": [
       "['東大太郎', '東大二郎', '萩谷昌己 教授']"
      ]
     },
     "execution_count": 3,
     "metadata": {},
     "output_type": "execute_result"
    }
   ],
   "source": [
    "def badgelist(participants):\n",
    "    ls = []\n",
    "    for x in participants:\n",
    "        if len(x) == 2: # 学生(?)\n",
    "            ls.append(x[0])\n",
    "        if len(x) == 3: # 教員(?)\n",
    "            ls.append(x[0] + ' ' + x[1])\n",
    "    return ls\n",
    "\n",
    "badgelist([taro, jiro, hagiya])"
   ]
  },
  {
   "cell_type": "markdown",
   "metadata": {},
   "source": [
    "しかし、この`badgelist()`の定義は、主に次の2点で問題があります。\n",
    "\n",
    " - サイズ（`len()`）が2ないし3だというだけで、学生ないし教員だと決め打っている。\n",
    " - 全ての参加者のバッジの作り方を知っていないと定義できない。\n",
    " \n",
    "どちらの問題も、参加者の種類を拡張しようとしたときに困ったことが起きます。\n",
    "2つ組や3つ組で表現される別の種類のデータを、参加者として加えるとき、このままでは条件判定に失敗します。\n",
    "仮に問題が起きないように条件判定を変えるとしても、参加者の種類が増えるたびに`badgelist()`の定義を変更する必要が生じます。\n",
    "したがって、`badgelist()`と参加者の種類を別々に管理することができません。\n",
    "\n",
    "このような状況を、**保守性** （**maintainability**）が低いとか、**モジュール性** （**modularity**）が低いと言います。\n",
    "\n",
    "これを解決する方法として、高階関数を利用するという手があります。\n",
    "バッジを作る関数を受け取る関数として、`badgelist()`を定義すればよいのです。\n",
    "ただし、学生と教員のバッチの作り方が違うことを考慮して、要素毎にバッジの作り方を与えるようにします。\n",
    "つまり、`badgelist()`が受け取るリストは、参加者データとバッジを作る関数の組のリストとします。"
   ]
  },
  {
   "cell_type": "code",
   "execution_count": 4,
   "metadata": {},
   "outputs": [
    {
     "data": {
      "text/plain": [
       "['東大太郎', '東大二郎', '萩谷昌己 教授']"
      ]
     },
     "execution_count": 4,
     "metadata": {},
     "output_type": "execute_result"
    }
   ],
   "source": [
    "def badgelist(participants):\n",
    "    return [badge(x) for x, badge in participants]\n",
    "\n",
    "def studentbadge(x):\n",
    "    return x[0]\n",
    "def facultybadge(x):\n",
    "    return x[0] + ' ' + x[1]\n",
    "\n",
    "badgelist([(taro, studentbadge), (jiro, studentbadge), (hagiya, facultybadge)])"
   ]
  },
  {
   "cell_type": "markdown",
   "metadata": {},
   "source": [
    "ここでは、学生データからバッジを作る関数`studentbadge()`と、教員データからバッジを作る関数`facultybadge()`を定義しています。\n",
    "\n",
    "`badgelist()`の定義が単純化し、分かりやすくなったことが一目瞭然でしょう。実は、それだけではありません。\n",
    "\n",
    "例えば、参加者に企業人という種類を加えることを考えます。\n",
    "企業人データは、名前と所属と役職の3つ組で表現され、バッジには所属と役職を名前に前置することとします。\n",
    "このとき、次のように、企業人データからバッジを作る関数`industrialbadge()`を追加で定義するだけで済みます。"
   ]
  },
  {
   "cell_type": "code",
   "execution_count": 5,
   "metadata": {},
   "outputs": [
    {
     "data": {
      "text/plain": [
       "['東大太郎', '東大二郎', '萩谷昌己 教授', 'HAL研究所 代表取締役社長 岩田聡']"
      ]
     },
     "execution_count": 5,
     "metadata": {},
     "output_type": "execute_result"
    }
   ],
   "source": [
    "iwata = ('岩田聡', 'HAL研究所', '代表取締役社長')\n",
    "\n",
    "def industrialbadge(x):\n",
    "    return x[1] + ' ' + x[2] + ' ' + x[0]\n",
    "\n",
    "badgelist([(taro, studentbadge), (jiro, studentbadge), (hagiya, facultybadge), (iwata, industrialbadge)])"
   ]
  },
  {
   "cell_type": "markdown",
   "metadata": {},
   "source": [
    "`badgelist()`を一切変更することなく、参加者の種類を増やすことができました。\n",
    "また、各種バッジの作り方は、独立した関数の形になっているので、意味の区切りが明快で、独立に修正できます。\n",
    "\n",
    "このような状況を、保守性が高いとか、モジュール性が高いと言います。\n",
    "\n",
    "勘が良い人は気付いたでしょうが、`studentbadge()`・`facultybadge()`・`industrialbadge()`が、これまで**メソッド**と呼んできたものの実体です。\n",
    "\n",
    "**オブジェクト指向プログラミング** （**object-oriented programming**, **OOP**）とは、データとそれを操作する関数（すなわちメソッド）を結びつけるプログラミングスタイルです。\n",
    "オブジェクトに対する操作を、そのオブジェクトのメソッドに任せることで、オブジェクトの実体（実装）に強く依存しない記述が可能になります。\n",
    "その結果として、保守性やモジュール性が高められます。"
   ]
  },
  {
   "cell_type": "markdown",
   "metadata": {},
   "source": [
    "## クラス定義\n",
    "前述の例では、タプルとしてデータと関数を直接結びつけていました。\n",
    "その結果、それを受け取る高階関数の側は、与えられたオブジェクトの内部構造（どれが操作対象のデータで、どれが望んだ操作を与える関数か）を知る必要がありました。\n",
    "これは、保守性やモジュール性の観点で望ましくありません。\n",
    "この問題を解消するのが、クラスです。\n",
    "\n",
    "**クラス**とは、メソッドという形で、データの種類に対して名前付きで関数を結びつける言語機能です。\n",
    "\n",
    "Pythonプログラミングにおいてクラスは重要ですが、クラスを一から定義するというのは、結構大変です。 \n",
    "有用なクラスを正しく定義するには、雑多なPythonの専門知識が沢山必要になります。\n",
    "正直に言って、妥当なクラス設計は、平均的なプログラマには手に余るものです。\n",
    "\n",
    "そういうわけで、日常的なプログラミングでは、既存のクラスを自分の目的に叶うように拡張する形を取ることが多いです。\n",
    "具体例として、前述のタプルによって表現されていた学生・教員・企業人を、`tuple`を拡張した`Student`・`Faculty`・`Industrial`クラスとして定義して、利用する例を示します。"
   ]
  },
  {
   "cell_type": "code",
   "execution_count": 6,
   "metadata": {},
   "outputs": [
    {
     "data": {
      "text/plain": [
       "['東大太郎', '東大二郎', '萩谷昌己 教授', '岩田聡 HAL研究所 代表取締役社長']"
      ]
     },
     "execution_count": 6,
     "metadata": {},
     "output_type": "execute_result"
    }
   ],
   "source": [
    "class Student(tuple):\n",
    "    def badge(self):\n",
    "        return self[0]\n",
    "    \n",
    "class Faculty(tuple):\n",
    "    def badge(self):\n",
    "        return self[0] + ' ' + self[1]\n",
    "    \n",
    "class Industrial(tuple):\n",
    "    def badge(self):\n",
    "        return self[0] + ' ' + self[1] + ' ' + self[2]\n",
    "\n",
    "def badgelist(participants):\n",
    "    return [x.badge() for x in participants]\n",
    "\n",
    "badgelist([Student(taro), Student(jiro), Faculty(hagiya), Industrial(iwata)])"
   ]
  },
  {
   "cell_type": "markdown",
   "metadata": {},
   "source": [
    "各クラス定義の内側に、`badge`という名前で、前述の`studentbadge()`・`facultybadge()`・`industrialbadge()`の定義が移動しました。\n",
    "データと関数を組にする式（例えば`(taro, studentbadge)`）は、データを引数としてクラスを関数形式で呼び出す式（例えば`Student(taro)`）に置き換わりました。\n",
    "`Student(taro)`は、タプル`taro`に対応する`Student`型のデータを構築します。\n",
    "これは、`list(taro)`で、タプル`taro`に対応するリスト（`list`型データ）を構築することと同様です。\n",
    "\n",
    "上の例からわかるように、メソッドは単なる関数ですが、引数の渡し方が異なります。\n",
    "`x.badge()`というメソッド呼出しは、暗黙にメソッド`badge()`の第1引数として`x`が渡されます。\n",
    "メソッドの操作対象であるドットの左側のオブジェクトのことを、**レシーバ**と呼びます。\n",
    "つまり、メソッドとは、レシーバを常に第1引数として取る関数でしかありません。\n",
    "\n",
    "レシーバが渡される第1引数には、Pythonの慣習として、`self`という変数名が選ばれます。\n",
    "しかし、`self`という変数名が必要ではなく、実はメソッド定義に`def`構文を使う必要もありません。\n",
    "既存の関数を、クラス属性（クラス内の変数）として定義すれば、メソッドとして機能します。\n",
    "例えば、次のようにクラス定義は、上の例と同等です。"
   ]
  },
  {
   "cell_type": "code",
   "execution_count": 7,
   "metadata": {},
   "outputs": [
    {
     "data": {
      "text/plain": [
       "['東大太郎', '東大二郎', '萩谷昌己 教授', 'HAL研究所 代表取締役社長 岩田聡']"
      ]
     },
     "execution_count": 7,
     "metadata": {},
     "output_type": "execute_result"
    }
   ],
   "source": [
    "class Student(tuple):\n",
    "    badge = studentbadge\n",
    "\n",
    "class Faculty(tuple):\n",
    "    badge = facultybadge\n",
    "\n",
    "class Industrial(tuple):\n",
    "    badge = industrialbadge\n",
    "\n",
    "badgelist([Student(taro), Student(jiro), Faculty(hagiya), Industrial(iwata)])"
   ]
  },
  {
   "cell_type": "markdown",
   "metadata": {},
   "source": [
    "以上のように、既存のクラスを拡張して新しいクラスを定義することを、**継承** （**inheritance**）と呼びます。\n",
    "上の例では、`tuple`を**親クラス**と呼び、`Student`・`Faculty`・`Industrial`を**子クラス**と呼びます。\n",
    "子クラスは、親クラスの全てのメソッドを、共有する形で引き継ぎます。\n",
    "\n",
    "`badge()`メソッドの例は、一見すると人工的な例のように見えますが、身近で実用的なものです。\n",
    "実は、Pythonにおける全てオブジェクトは`__str__()`というメソッドを持っており、それはオブジェクトを`str()`で文字列に変換するときに呼び出されます。\n",
    "この文字列変換は、例えば`print()`が引数を印字するときに利用されます。\n",
    "つまり、任意のオブジェクトを単にprintするだけで、読みやすく印字されるのは、`badge()`の例と同じく、クラスの恩恵だったのです。"
   ]
  },
  {
   "cell_type": "markdown",
   "metadata": {},
   "source": [
    "### 練習\n",
    "`Student`・`Faculty`・`Industrial`の`badge()`メソッドを、`__str__()`メソッドに名前替えする前と後で、各参加者をprintせよ。"
   ]
  },
  {
   "cell_type": "markdown",
   "metadata": {},
   "source": [
    "## オーバーライド\n",
    "先の練習の結果からわかる通り、子クラスのメソッド定義は、親クラスで既に定義されているメソッドを上書きします。\n",
    "これをメソッドの**オーバーライド（override）**と呼びます。\n",
    "これによって、継承によってメソッド実装の大部分を親クラスと共通化しつつ、一部のメソッドだけ子クラスで変更して振舞いを変えるという拡張が可能になります。\n",
    "\n",
    "上書きと言っても、メソッド呼出しで子クラスのメソッド定義が優先されるというだけで、親クラス自体が変更される訳ではありません。\n",
    "組込み関数`super()`の返すオブジェクト越しに、親のメソッド定義も呼び出すことができます。\n",
    "これを利用することで、親クラスのメソッドに処理を追加するような形で、子クラスのメソッドを定義できます。\n",
    "次に示す`Counter`クラスは、与えられたキーが存在しないときに`0`を返すように辞書を拡張したクラスです。"
   ]
  },
  {
   "cell_type": "code",
   "execution_count": 8,
   "metadata": {},
   "outputs": [
    {
     "data": {
      "text/plain": [
       "{'A': 2, 'B': 1}"
      ]
     },
     "execution_count": 8,
     "metadata": {},
     "output_type": "execute_result"
    }
   ],
   "source": [
    "class Counter(dict):\n",
    "    def __getitem__(self, k):\n",
    "        if k in self: # キーkに対応する値が存在するとき\n",
    "            return super().__getitem__(k) # kに対応する値を返す\n",
    "        else:\n",
    "            return 0\n",
    "\n",
    "c = Counter()\n",
    "c['A'] = c['A'] + 1 # 右辺の c['A'] では 0 が返る\n",
    "c['A'] += 1         # 上の代入文と同等\n",
    "c['B'] += 1\n",
    "c"
   ]
  },
  {
   "cell_type": "code",
   "execution_count": 9,
   "metadata": {},
   "outputs": [
    {
     "data": {
      "text/plain": [
       "0"
      ]
     },
     "execution_count": 9,
     "metadata": {},
     "output_type": "execute_result"
    }
   ],
   "source": [
    "c['C']"
   ]
  },
  {
   "cell_type": "markdown",
   "metadata": {},
   "source": [
    "`__getitem__()`は特殊メソッドであり、`x[k]`という式は、`x.__getitem__(k)`というメソッド呼出しとして解釈されます。\n",
    "`super().メソッド名()`という記法で、親クラスのメソッドを呼び出せます。\n",
    "注意すべきは、`super()`が返すオブジェクト自体は`Counter`でも`dict`でもないので、`super()[k]`で`dict`クラスの`__getitem__()`は呼び出されないことです。もし、`self[k]`とすると、`__getitem__()`の再帰呼出しにより無限ループに陥ります。\n",
    "\n",
    "実は、`dict`クラスの`__getitem__()`メソッドでは、与えられたキーが存在しないときに、特殊メソッド`__missing__()`が呼び出されるように定義されています。\n",
    "したがって、次の`Counter`の定義は、上に示した定義と同等です。"
   ]
  },
  {
   "cell_type": "code",
   "execution_count": 10,
   "metadata": {},
   "outputs": [
    {
     "data": {
      "text/plain": [
       "{'A': 1, 'B': 1}"
      ]
     },
     "execution_count": 10,
     "metadata": {},
     "output_type": "execute_result"
    }
   ],
   "source": [
    "class Counter(dict):\n",
    "    def __missing__(self, k):\n",
    "        return 0\n",
    "\n",
    "c = Counter()\n",
    "c['A'] += 1\n",
    "c['B'] += 1\n",
    "c"
   ]
  },
  {
   "cell_type": "markdown",
   "metadata": {},
   "source": [
    "このように、単にオーバーライド（もしくは特定のメソッドを実装）するだけで、既存のメソッドの振舞いをカスタマイズできるように設計されているクラスは、少なくありません。\n",
    "これが、クラスに基くオブジェクト指向設計の恩恵です。\n",
    "\n",
    "尚、この`Counter`クラスは、単純な拡張ではありますが、実用的な例です。\n",
    "ヒストグラムや確率分布など、キーに対する統計量を保持する場合には、キーが存在しないときには0が返るのが自然だからです。\n",
    "そして、この`Counter`を少し機能拡張したものが、`collections`モジュール内の`Counter`クラスとして提供されています。\n",
    "実用上は、そちらを利用するのが良いでしょう。"
   ]
  },
  {
   "cell_type": "markdown",
   "metadata": {},
   "source": [
    "### 練習\n",
    "上に示した`Counter`クラスでは、キー`k`に対応する値が`0`になっても、項目は削除されない。"
   ]
  },
  {
   "cell_type": "code",
   "execution_count": 11,
   "metadata": {},
   "outputs": [
    {
     "data": {
      "text/plain": [
       "{'A': 0, 'B': 1}"
      ]
     },
     "execution_count": 11,
     "metadata": {},
     "output_type": "execute_result"
    }
   ],
   "source": [
    "c = Counter()\n",
    "c['A'] += 1\n",
    "c['B'] += 1\n",
    "c['A'] -= 1\n",
    "c"
   ]
  },
  {
   "cell_type": "markdown",
   "metadata": {},
   "source": [
    "さて、特殊メソッド`__setitem__()`は、`x[k] = v`という代入文に対応して、`x.__setitem__(k, v)`と呼び出される。\n",
    "`Counter`に対して、`__setitem__()`を適切に定義することで、キーに対応する値が`0`になった項目が、自動的に削除されるようにせよ。\n",
    "例えば、上の例では、最終的な`c`の値は`{B: 1}`になる。"
   ]
  },
  {
   "cell_type": "markdown",
   "metadata": {},
   "source": [
    "## オブジェクトとクラス\n",
    "\n",
    "これまで、「オブジェクト」という用語をカジュアルに使ってきましたが、ここでは改めてその意味を定義します。\n",
    "Pythonでは、《プログラム中で値として操作可能な全てのもの》を**オブジェクト**と呼びます。\n",
    "\n",
    "《値として操作可能》という部分が重要です。\n",
    "「全てがオブジェクト」と言われることがありますが、それは正確ではありません。\n",
    "例えば、if文は、値として操作可能ではないので、オブジェクトではありません。\n",
    "また、式は値として操作可能ではないのでオブジェクトではないですが、式の評価結果は値なのでオブジェクトです。\n",
    "同様に、関数定義（`def f(): ...`）は値として操作可能ではないのでオブジェクトではないですが、それから得られる関数（`f`）はオブジェクトです。\n",
    "\n",
    "《値として操作可能》というやや仰々しい定義を憶えなくても、卑近な判別法があります。\n",
    "前述のように、全てのオブジェクトは`__str__()`メソッドを持つので、print可能なものがオブジェクトと考えれば十分です。\n",
    "\n",
    "これまで「データ型」とか「型」と述べていたものは、Pythonでは全てクラスで表現されています。\n",
    "Pythonに限らず、プログラミング言語において型というと、値の種類を意味します。\n",
    "クラスという言語機能は、データの種類に関数を結びつけるものですが、結果として生じる個々のクラスは、関数が結びつけられたデータの種類を意味します。したがって、Pythonでは、型とクラスは同義と見做して差し支えないです。\n",
    "\n",
    "任意のオブジェクトの型は、組込み関数`type()`で取得できます。"
   ]
  },
  {
   "cell_type": "code",
   "execution_count": 12,
   "metadata": {},
   "outputs": [
    {
     "data": {
      "text/plain": [
       "str"
      ]
     },
     "execution_count": 12,
     "metadata": {},
     "output_type": "execute_result"
    }
   ],
   "source": [
    "type('hello')"
   ]
  },
  {
   "cell_type": "code",
   "execution_count": 13,
   "metadata": {},
   "outputs": [
    {
     "data": {
      "text/plain": [
       "int"
      ]
     },
     "execution_count": 13,
     "metadata": {},
     "output_type": "execute_result"
    }
   ],
   "source": [
    "type(0)"
   ]
  },
  {
   "cell_type": "code",
   "execution_count": 14,
   "metadata": {},
   "outputs": [
    {
     "data": {
      "text/plain": [
       "tuple"
      ]
     },
     "execution_count": 14,
     "metadata": {},
     "output_type": "execute_result"
    }
   ],
   "source": [
    "type((1,))"
   ]
  },
  {
   "cell_type": "markdown",
   "metadata": {},
   "source": [
    "オブジェクト指向プログラミング一般の文脈では、クラスはオブジェクトを生成する機能も含意します。\n",
    "実際、`tuple`クラスは、それを関数のように呼び出すことで、タプルを構成できます。"
   ]
  },
  {
   "cell_type": "code",
   "execution_count": 15,
   "metadata": {},
   "outputs": [
    {
     "data": {
      "text/plain": [
       "(1, 'a')"
      ]
     },
     "execution_count": 15,
     "metadata": {},
     "output_type": "execute_result"
    }
   ],
   "source": [
    "tuple([1,'a'])"
   ]
  },
  {
   "cell_type": "markdown",
   "metadata": {},
   "source": [
    "このとき、クラスは、それが表現する型に含まれる具体例を生成していると考えることができます。\n",
    "したがって、あるクラスAが生成したオブジェクトのことを、Aの**インスタンス**と呼ぶこともあります。\n",
    "この言葉遣いに慣れない人は、「クラスAのインスタンス」を「A型の値」と読み替えても差し支えありません。\n",
    "Pythonでは、オブジェクトがあるクラスのインスタンスかどうかを判定する組込み関数`isinstance()`が提供されています。"
   ]
  },
  {
   "cell_type": "code",
   "execution_count": 16,
   "metadata": {},
   "outputs": [
    {
     "data": {
      "text/plain": [
       "(True, False, True, False)"
      ]
     },
     "execution_count": 16,
     "metadata": {},
     "output_type": "execute_result"
    }
   ],
   "source": [
    "(isinstance(1,int), \n",
    " isinstance(1,tuple), \n",
    " isinstance([1,'a'],list), \n",
    " isinstance([1,'a'],tuple))"
   ]
  },
  {
   "cell_type": "markdown",
   "metadata": {},
   "source": [
    "クラスがインスタンスを構築する際に、インスタンスの初期化のために呼ばれる特殊なメソッドのことを、**コンストラクタ**と呼びます。\n",
    "`str`・`int`・`list`・`tuple`・`Student`等は、クラスですが、それを関数形式で呼び出したときには、実際にはそのクラスのコンストラクタが呼び出されます。\n",
    "\n",
    "コンストラクタは単なるメソッドなので、親クラスから引き継がれます。\n",
    "例えば、`Student`のコンストラクタは、`tuple`のコンストラクタです。\n",
    "なので、`Student(taro)`で構築されるオブジェクトは、タプルの`taro`と同様に初期化されます。\n",
    "しかし、`Student`は、`tuple`のメソッドに加えて、`badge()`メソッド（実体は`studentbadge()`）も持ちます。\n",
    "結果として、`Student(taro)`は、`taro`に`badge()`メソッドを加えたオブジェクトを構築することになり、`(taro,studentbadge)`に相当する計算になっていました。\n",
    "\n",
    "さて、ここ思い出してほしいのは、print可能なものは全てオブジェクトだということです。\n",
    "先ほど、`type()`を使って取得したクラスは、印字されました。\n",
    "つまり、クラスもまたオブジェクトです。\n",
    "\n",
    "型（クラス）が値（オブジェクト）であるというのは、プログラミング言語としてのPythonの大きな特徴です。\n"
   ]
  },
  {
   "cell_type": "markdown",
   "metadata": {},
   "source": [
    "## ▲名前付きタプル\n",
    "タプルとは、変更不可なデータ列であり、その要素は、位置（インデックス）でしか区別されませんでした。\n",
    "しかし、辞書のように、それぞれの要素に名前がついていると便利なことがあります。\n",
    "それを実現するのが、**名前付きタプル**です。\n",
    "`collections`モジュール内の関数`namedtuple()`は、引数に応じた名前付きタプルのクラスオブジェクトを生成します。\n",
    "\n",
    "例として、学生を表す名前付きタプルを定義します。"
   ]
  },
  {
   "cell_type": "code",
   "execution_count": 17,
   "metadata": {},
   "outputs": [
    {
     "data": {
      "text/plain": [
       "Student(name='東大太郎', id=1234567890)"
      ]
     },
     "execution_count": 17,
     "metadata": {},
     "output_type": "execute_result"
    }
   ],
   "source": [
    "from collections import namedtuple #名前付きタプル型を生成する関数\n",
    "Student = namedtuple('Student', ('name', 'id')) #name, idという名前付き要素（属性）をもつStudentクラス\n",
    "taro = Student('東大太郎', 1234567890)\n",
    "taro"
   ]
  },
  {
   "cell_type": "code",
   "execution_count": 18,
   "metadata": {},
   "outputs": [
    {
     "data": {
      "text/plain": [
       "Student(name='東大太郎', id=1234567890)"
      ]
     },
     "execution_count": 18,
     "metadata": {},
     "output_type": "execute_result"
    }
   ],
   "source": [
    "Student(id=1234567890, name='東大太郎') # キーワード引数でも構築できる"
   ]
  },
  {
   "cell_type": "code",
   "execution_count": 19,
   "metadata": {},
   "outputs": [
    {
     "data": {
      "text/plain": [
       "'東大太郎'"
      ]
     },
     "execution_count": 19,
     "metadata": {},
     "output_type": "execute_result"
    }
   ],
   "source": [
    "taro.name # 名前によるアクセス（属性アクセス）"
   ]
  },
  {
   "cell_type": "code",
   "execution_count": 20,
   "metadata": {},
   "outputs": [
    {
     "data": {
      "text/plain": [
       "'東大太郎'"
      ]
     },
     "execution_count": 20,
     "metadata": {},
     "output_type": "execute_result"
    }
   ],
   "source": [
    "taro[0] # インデックスアクセス"
   ]
  },
  {
   "cell_type": "markdown",
   "metadata": {},
   "source": [
    "単に文字列と整数のタプルよりも、名前付きタプルで構成することで、要素の意味がハッキリと分かります。\n",
    "そして、属性アクセスを使えば、データの中で何に着目しているのかが、明示されます。\n",
    "少し大袈裟に言えば、プログラムコードが、ドキュメントのように読めるようになります。\n",
    "\n",
    "\n",
    "\n",
    "\n",
    "### 名前付きタプルの用途\n",
    "さて、名前付きタプルが、単に名前でアクセスできるだけならば、初めから辞書を使えばよいのではと思うことでしょう。\n",
    "しかし、名前付きタプルの嬉しさは、それがタプルとして使えるということにあります。"
   ]
  },
  {
   "cell_type": "code",
   "execution_count": 21,
   "metadata": {},
   "outputs": [
    {
     "name": "stdout",
     "output_type": "stream",
     "text": [
      "東大太郎 1234567890\n"
     ]
    }
   ],
   "source": [
    "x, y = taro\n",
    "print(x, y)"
   ]
  },
  {
   "cell_type": "code",
   "execution_count": 22,
   "metadata": {},
   "outputs": [
    {
     "data": {
      "text/plain": [
       "['東大太郎', 1234567890]"
      ]
     },
     "execution_count": 22,
     "metadata": {},
     "output_type": "execute_result"
    }
   ],
   "source": [
    "list(taro)"
   ]
  },
  {
   "cell_type": "markdown",
   "metadata": {},
   "source": [
    "変更不可能オブジェクトなので、辞書のキーにできます。"
   ]
  },
  {
   "cell_type": "code",
   "execution_count": 23,
   "metadata": {},
   "outputs": [
    {
     "data": {
      "text/plain": [
       "{Student(name='東大太郎', id=1234567890): 0}"
      ]
     },
     "execution_count": 23,
     "metadata": {},
     "output_type": "execute_result"
    }
   ],
   "source": [
    "d = {}\n",
    "d[taro] = 0\n",
    "d "
   ]
  },
  {
   "cell_type": "markdown",
   "metadata": {},
   "source": [
    "属性の再定義はできませんが、"
   ]
  },
  {
   "cell_type": "code",
   "execution_count": 24,
   "metadata": {},
   "outputs": [
    {
     "ename": "AttributeError",
     "evalue": "can't set attribute",
     "output_type": "error",
     "traceback": [
      "\u001b[1;31m---------------------------------------------------------------------------\u001b[0m",
      "\u001b[1;31mAttributeError\u001b[0m                            Traceback (most recent call last)",
      "\u001b[1;32m<ipython-input-24-20bbb0e2b06c>\u001b[0m in \u001b[0;36m<module>\u001b[1;34m\u001b[0m\n\u001b[1;32m----> 1\u001b[1;33m \u001b[0mtaro\u001b[0m\u001b[1;33m.\u001b[0m\u001b[0mname\u001b[0m \u001b[1;33m=\u001b[0m \u001b[1;34m'京大太郎'\u001b[0m\u001b[1;33m\u001b[0m\u001b[1;33m\u001b[0m\u001b[0m\n\u001b[0m",
      "\u001b[1;31mAttributeError\u001b[0m: can't set attribute"
     ]
    }
   ],
   "source": [
    "taro.name = '京大太郎'"
   ]
  },
  {
   "cell_type": "markdown",
   "metadata": {},
   "source": [
    "`_replace()`メソッドによって、属性値を入れ替えた新しい名前付きタプルを生成できます。"
   ]
  },
  {
   "cell_type": "code",
   "execution_count": 25,
   "metadata": {},
   "outputs": [
    {
     "data": {
      "text/plain": [
       "Student(name='京大太郎', id=1234567890)"
      ]
     },
     "execution_count": 25,
     "metadata": {},
     "output_type": "execute_result"
    }
   ],
   "source": [
    "taro._replace(name='京大太郎')"
   ]
  },
  {
   "cell_type": "markdown",
   "metadata": {},
   "source": [
    "`namedtuple()`が返すオブジェクトは、単なるクラスなので、継承によって拡張することができます。"
   ]
  },
  {
   "cell_type": "code",
   "execution_count": 26,
   "metadata": {},
   "outputs": [
    {
     "data": {
      "text/plain": [
       "Student(name='東大太郎', id=1234567890)"
      ]
     },
     "execution_count": 26,
     "metadata": {},
     "output_type": "execute_result"
    }
   ],
   "source": [
    "class Student(namedtuple('Student', ('name', 'id'))):\n",
    "    def badge(self):\n",
    "        return self.name\n",
    "\n",
    "taro = Student('東大太郎', 1234567890)\n",
    "taro"
   ]
  },
  {
   "cell_type": "code",
   "execution_count": 27,
   "metadata": {},
   "outputs": [
    {
     "data": {
      "text/plain": [
       "'東大太郎'"
      ]
     },
     "execution_count": 27,
     "metadata": {},
     "output_type": "execute_result"
    }
   ],
   "source": [
    "taro.badge()"
   ]
  },
  {
   "cell_type": "markdown",
   "metadata": {},
   "source": [
    "`namedtuple()`が返した`Student`クラスを、同名の`Student`クラスが継承しています。\n",
    "これは、クラスにおけるデータ部分を、名前付きタプルで表現するイディオムです。\n",
    "先に示した`tuple`を拡張した場合に比べて、メソッド定義も、印字される文字列も、自己説明的で分かりやすいです。\n",
    "\n",
    "更新不可能な名前付きタプルは、更新可能な辞書よりも、一見すると不便に思えるかもしれません。\n",
    "しかし、更新不可能であるからこそ、データの意味が明快になり、プログラムの理解を助けます。\n",
    "更新を想定しないデータは、名前付きタプルで表現するのが賢明です。"
   ]
  },
  {
   "cell_type": "markdown",
   "metadata": {},
   "source": [
    "## 練習の解答"
   ]
  },
  {
   "cell_type": "code",
   "execution_count": null,
   "metadata": {
    "scrolled": true
   },
   "outputs": [],
   "source": [
    "taro = ('東大太郎', 1234567890)\n",
    "jiro = ('東大二郎', 2345678901)\n",
    "hagiya = ('萩谷昌己', '教授', 9876543210)\n",
    "iwata = ('岩田聡', 'HAL研究所', '代表取締役社長')\n",
    "\n",
    "class Student(tuple):\n",
    "    badge = studentbadge\n",
    "class Faculty(tuple):\n",
    "    badge = facultybadge\n",
    "class Industrial(tuple):\n",
    "    badge = industrialbadge\n",
    "\n",
    "for p in [Student(taro), Student(jiro), Faculty(hagiya), Industrial(iwata)]:\n",
    "    print(p)\n",
    "\n",
    "class Student(tuple):\n",
    "    __str__ = studentbadge\n",
    "class Faculty(tuple):\n",
    "    __str__ = facultybadge\n",
    "class Industrial(tuple):\n",
    "    __str__ = industrialbadge\n",
    "\n",
    "for p in [Student(taro), Student(jiro), Faculty(hagiya), Industrial(iwata)]:\n",
    "    print(p)"
   ]
  },
  {
   "cell_type": "code",
   "execution_count": null,
   "metadata": {},
   "outputs": [],
   "source": [
    "class Counter(dict):\n",
    "    def __missing__(self, k):\n",
    "        return 0\n",
    "    def __setitem__(self, k, v):\n",
    "        super().__setitem__(k, v)\n",
    "        if self[k] == 0:\n",
    "            del self[k]\n",
    "\n",
    "c = Counter()\n",
    "c['A'] += 1\n",
    "c['B'] += 1\n",
    "c['A'] -= 1\n",
    "c"
   ]
  },
  {
   "cell_type": "code",
   "execution_count": null,
   "metadata": {},
   "outputs": [],
   "source": []
  }
 ],
 "metadata": {
  "kernelspec": {
   "display_name": "Python 3",
   "language": "python",
   "name": "python3"
  },
  "language_info": {
   "codemirror_mode": {
    "name": "ipython",
    "version": 3
   },
   "file_extension": ".py",
   "mimetype": "text/x-python",
   "name": "python",
   "nbconvert_exporter": "python",
   "pygments_lexer": "ipython3",
   "version": "3.7.3"
  }
 },
 "nbformat": 4,
 "nbformat_minor": 2
}
