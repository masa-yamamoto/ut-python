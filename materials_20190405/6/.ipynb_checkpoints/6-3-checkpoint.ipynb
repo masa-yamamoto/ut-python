{
 "cells": [
  {
   "cell_type": "markdown",
   "metadata": {},
   "source": [
    "# Pythonプログラミング入門 第6回\n",
    "イテレータとイテラブルについて説明します\n",
    "\n",
    "参考\n",
    "- https://docs.python.org/ja/3/tutorial/classes.html\n",
    "- https://docs.python.org/ja/3/library/abc.html"
   ]
  },
  {
   "cell_type": "markdown",
   "metadata": {},
   "source": [
    "# ▲イテレータとイテラブル\n",
    "6-1で利用法を説明したイテレータや、暗黙的に利用してきたイテラブルについて、より詳しく説明します。"
   ]
  },
  {
   "cell_type": "markdown",
   "metadata": {},
   "source": [
    "## ジェネレータ関数と無限イテレータ\n",
    "3-3にて、リスト内包表記と似て非なるものとして、イテレータを返すジェネレータ式を説明しました。\n",
    "例を再掲します。"
   ]
  },
  {
   "cell_type": "code",
   "execution_count": 1,
   "metadata": {},
   "outputs": [
    {
     "name": "stdout",
     "output_type": "stream",
     "text": [
      "aaa\n",
      "bbb\n",
      "ccc\n"
     ]
    }
   ],
   "source": [
    "it = (x * 3 for x in 'abc')\n",
    "for x in it:\n",
    "    print(x)"
   ]
  },
  {
   "cell_type": "markdown",
   "metadata": {},
   "source": [
    "このジェネレータ式と同等のものを、関数形式で定義できます。"
   ]
  },
  {
   "cell_type": "code",
   "execution_count": 2,
   "metadata": {
    "scrolled": true
   },
   "outputs": [
    {
     "name": "stdout",
     "output_type": "stream",
     "text": [
      "aaa\n",
      "bbb\n",
      "ccc\n"
     ]
    }
   ],
   "source": [
    "def gen():\n",
    "    for x in 'abc':\n",
    "        yield x * 3\n",
    "it = gen()\n",
    "for x in it:\n",
    "    print(x)"
   ]
  },
  {
   "cell_type": "markdown",
   "metadata": {},
   "source": [
    "関数`gen()`は、`return`で値を返すのではなく`yield`で値を返しています。\n",
    "`gen()`が返すイテレータ`it`は、`yield`された値を`next()`を適用する度に順に生成します。\n",
    "このような関数を、**ジェネレータ関数**もしくは単に**ジェネレータ**と呼びます。\n",
    "また、ジェネレータ関数・ジェネレータ式が返すイテレータのことを特に、**ジェネレータイテレータ**と呼びます。\n",
    "\n",
    "ジェネレータ関数は、ジェネレータ式と違って、途中状態を局所変数で管理できるので、より豊富なイテレータを構成できます。\n",
    "例えば、次の`ascend()`は、与えられた整数から1ずつカウントアップする無限列のイテレータを返します。"
   ]
  },
  {
   "cell_type": "code",
   "execution_count": 3,
   "metadata": {
    "scrolled": true
   },
   "outputs": [
    {
     "name": "stdout",
     "output_type": "stream",
     "text": [
      "1\n",
      "2\n",
      "3\n",
      "4\n",
      "5\n",
      "6\n",
      "7\n",
      "8\n",
      "9\n"
     ]
    }
   ],
   "source": [
    "def ascend(n):\n",
    "    while True:\n",
    "        yield n\n",
    "        n += 1\n",
    "        \n",
    "for x in ascend(1):\n",
    "    if x == 10:\n",
    "        break # これがないと無限ループする\n",
    "    else:\n",
    "        print(x)"
   ]
  },
  {
   "cell_type": "markdown",
   "metadata": {},
   "source": [
    "このように、ジェネレータ関数を使うことで、様々なイテレータを定義できるようになります。\n",
    "因みに、`itertools`モジュール内には、`ascend()`を少しだけ拡張した関数`count()`が定義されています。"
   ]
  },
  {
   "cell_type": "markdown",
   "metadata": {},
   "source": [
    "## イテラブルとfor文\n",
    "さて、イテレータとコレクションが別物であるのに、なぜ同様にfor文で走査できるのでしょうか。\n",
    "その答えは、組込み関数`iter()`にあります。\n",
    "\n",
    "`iter()`にコレクションを与えると、それを前から順に走査するイテレータを返します。"
   ]
  },
  {
   "cell_type": "code",
   "execution_count": 4,
   "metadata": {},
   "outputs": [
    {
     "name": "stdout",
     "output_type": "stream",
     "text": [
      "a\n",
      "b\n",
      "c\n"
     ]
    }
   ],
   "source": [
    "it = iter('abc')\n",
    "print(next(it))\n",
    "print(next(it))\n",
    "print(next(it))"
   ]
  },
  {
   "cell_type": "markdown",
   "metadata": {},
   "source": [
    "`iter()`にイテレータを渡すと、何もせずにそのイテレータを返します。"
   ]
  },
  {
   "cell_type": "code",
   "execution_count": 5,
   "metadata": {},
   "outputs": [
    {
     "data": {
      "text/plain": [
       "True"
      ]
     },
     "execution_count": 5,
     "metadata": {},
     "output_type": "execute_result"
    }
   ],
   "source": [
    "it = iter('abc')\n",
    "it2 = iter(it)\n",
    "it is it2"
   ]
  },
  {
   "cell_type": "markdown",
   "metadata": {},
   "source": [
    "実は、for文は、この`iter()`を`in`の後ろのオブジェクトに適用して得られたイテレータを使って、反復しています。\n",
    "つまり、\n",
    "```Python\n",
    "for x in xs:\n",
    "    print(x)\n",
    "```\n",
    "このfor文は、次のような反復処理と（変数`it`の導入を除いて）等価です。\n",
    "```Python\n",
    "it = iter(xs)\n",
    "try:\n",
    "    while True:\n",
    "        x = next(it)\n",
    "        print(x)\n",
    "except StopIteration:\n",
    "    pass\n",
    "```\n",
    "\n",
    "Pythonでは、イテレータという反復処理を表現した抽象的なオブジェクトを通すことで、具体的なデータ型の違いを忘れて、統一的に反復処理ができるように設計されています。\n",
    "\n",
    "`iter()`を適用可能なオブジェクトのことを、**イテラブル（iterable）**と呼びます。\n",
    "\n",
    "イテラブルを受け取る関数は、イテレータもコレクションも同様に受け取って処理します。\n",
    "6-1において、コレクションやイテレータを取ると説明していた関数は、正確にはイテラブルを取ります。"
   ]
  },
  {
   "cell_type": "markdown",
   "metadata": {},
   "source": [
    "## イテレータとイテラブルの定義\n",
    "\n",
    "さて、イテレータとイテラブルがどんなものか分かったところで、それらをオブジェクト指向プログラミングの観点で改めて定義します。\n",
    "\n",
    "**イテラブル**とは、`__iter__()`メソッドを持つオブジェクトです。`iter()`は、与えられたオブジェクトの`__iter__()`メソッドを呼び出しているだけです。したがって、`__iter__()`メソッドは、レシーバの持つ要素を走査するイテレータを返すことが期待されます。\n",
    "\n",
    "**イテレータ**とは、`__iter__()`メソッドと`__next__()`メソッドを持つオブジェクトです。ただし、`__iter__()`メソッドは、そのレシーバをそのまま返します。`__next__()`は、次の要素を返すか、終わりに達していたら`StopIteration`を送出します。`next()`は、与えられたオブジェクトの`__next__()`メソッドを呼び出すだけです。この`__iter__()`メソッドと`__next__()`メソッドに関する規約を、[イテレータプロトコル](https://docs.python.org/ja/3.7/tutorial/classes.html#iterators)と呼ばれます。\n",
    "\n",
    "クラス定義にて`__iter__()`と`__next()__`を定義すれば、そのインスタンスはイテレータとなります。\n",
    "次の`Ascend`クラスは、前述のジェネレータ関数`ascend()`と同等のイテレータを返します。"
   ]
  },
  {
   "cell_type": "code",
   "execution_count": 6,
   "metadata": {},
   "outputs": [
    {
     "data": {
      "text/plain": [
       "1"
      ]
     },
     "execution_count": 6,
     "metadata": {},
     "output_type": "execute_result"
    }
   ],
   "source": [
    "class Ascend:\n",
    "    def __init__(self, n):\n",
    "        self.n = n\n",
    "    def __iter__(self):\n",
    "        return self\n",
    "    def __next__(self):\n",
    "        n = self.n\n",
    "        self.n += 1\n",
    "        return n\n",
    "it = Ascend(1)\n",
    "next(it)"
   ]
  },
  {
   "cell_type": "code",
   "execution_count": 7,
   "metadata": {},
   "outputs": [
    {
     "data": {
      "text/plain": [
       "2"
      ]
     },
     "execution_count": 7,
     "metadata": {},
     "output_type": "execute_result"
    }
   ],
   "source": [
    "next(it)"
   ]
  },
  {
   "cell_type": "markdown",
   "metadata": {},
   "source": [
    "ここで、`__init__()`はコンストラクタに対応する特殊メソッドであり、`Ascend`インスタンスの属性`self.n`は、次の`next()`で返される値を保持します。\n",
    "このように、メソッドによって特徴付けられた統一的な反復処理は、オブジェクト指向プログラミングの典型例です。\n",
    "\n",
    "イテレータやイテラブルの定義にはメソッドを要求しますが、自前のイテレータを定義するときに、クラスを使う必要はありません。\n",
    "ジェネレータ関数を通してイテレータを定義すれば、実際上十分です。\n",
    "単純なイテレータであれば、ジェネレータ式でも十分でしょう。\n",
    "尚、ジェネレータ関数はメソッドにもできます。\n",
    "次の`CanaryList`は、それを操作するイテレータが、`next()`で値を生成する度に、その値をprintするように`list`を拡張したクラスです。"
   ]
  },
  {
   "cell_type": "code",
   "execution_count": 8,
   "metadata": {},
   "outputs": [
    {
     "name": "stdout",
     "output_type": "stream",
     "text": [
      "1\n",
      "2\n",
      "3\n"
     ]
    }
   ],
   "source": [
    "class CanaryList(list):\n",
    "    def __iter__(self):\n",
    "        for x in super().__iter__():\n",
    "            print(x)\n",
    "            yield x\n",
    "\n",
    "for x in CanaryList([1,2,3]):\n",
    "    pass"
   ]
  },
  {
   "cell_type": "markdown",
   "metadata": {},
   "source": [
    "## コレクションの階層\n",
    "これまで要素の集まりのことをコレクションと呼び、文字列・リスト・タプルなどをシーケンスと呼んできました。\n",
    "このコレクションやシーケンスは、具体的なクラスを指したものではなかったのですが、Pythonでは、抽象クラスという形で、その実装要件が定義されています。\n",
    "\n",
    "| 抽象クラス | 継承している抽象クラス | 抽象メソッド | 性質の説明 |\n",
    "| :---           | :---               | :---         | :--- |\n",
    "| `Container`    | 　                 | `__contains__()` | `in`演算子が適用できる |\n",
    "| `Sized`        | 　                 | `__len__()` | 組込み関数`len()`が適用できる |\n",
    "| `Iterable`     | 　                 | `__iter__()` | 組込み関数`iter()`が適用できる\n",
    "| `Iterator`     | `Iterable`         | `__next__()` | 組込み関数`next()`が適用できる\n",
    "| `Reversible`   | `Iterable`         | `__reversed__()` | 組込み関数`reverse()`が適用できる\n",
    "| `Collection`   | `Container` `Sized` `Iterable` | 　 | |\n",
    "| `Sequence`     | `Collection` `Reversible` | `__getitem__()` | 項目アクセス演算（`x[k]`）が適用できる |\n",
    "| `Mapping`      | `Collection` | `__getitem__()` | 項目アクセス演算（`x[k]`）が適用できる |\n",
    "\n",
    "ここので抽象メソッドとは、その抽象クラスが実装を要求するメソッドを意味します。\n",
    "抽象クラスを継承する場合、その実装責任も継承します。\n",
    "つまり、コレクションとは、`__contains__()`・`__len__()`・`__iter__()`メソッドを持ち、`in`・`len()`・`iter()`が適用可能なオブジェクトです。\n",
    "この階層を見れば、`reverse()`がコレクション一般には適用できず、シーケンスを引数に取ることが一目で分かります。\n",
    "\n",
    "多くの組込み関数やfor文・内包表現は、最も要件の緩い`Iterable`しか要求しないので、様々なデータ型を統一的に扱えるのです。\n",
    "\n",
    "この階層の説明は、意図的に簡略化しています。\n",
    "詳細は、[`collections.abc`モジュールのドキュメント](https://docs.python.org/ja/3/library/collections.abc.html)を参照してください。\n"
   ]
  }
 ],
 "metadata": {
  "kernelspec": {
   "display_name": "Python 3",
   "language": "python",
   "name": "python3"
  },
  "language_info": {
   "codemirror_mode": {
    "name": "ipython",
    "version": 3
   },
   "file_extension": ".py",
   "mimetype": "text/x-python",
   "name": "python",
   "nbconvert_exporter": "python",
   "pygments_lexer": "ipython3",
   "version": "3.7.3"
  }
 },
 "nbformat": 4,
 "nbformat_minor": 2
}
