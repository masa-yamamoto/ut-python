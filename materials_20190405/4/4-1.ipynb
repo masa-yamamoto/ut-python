{
 "cells": [
  {
   "cell_type": "markdown",
   "metadata": {
    "slideshow": {
     "slide_type": "slide"
    }
   },
   "source": [
    "# Pythonプログラミング入門 第4回\n",
    "ファイル入出力の基本について説明します\n",
    "\n",
    "参考\n",
    "\n",
    "- https://docs.python.org/ja/3/tutorial/inputoutput.html#reading-and-writing-files"
   ]
  },
  {
   "cell_type": "markdown",
   "metadata": {
    "slideshow": {
     "slide_type": "slide"
    }
   },
   "source": [
    "# ファイル入出力の基本\n",
    "\n",
    "## ファイルのオープン\n",
    "**ファイル**から文字列を読み込んだり、ファイルに書き込んだりするには、\n",
    "まず、**`open`** という関数によってファイルを**オープン**する（開く）必要があります。"
   ]
  },
  {
   "cell_type": "code",
   "execution_count": 1,
   "metadata": {},
   "outputs": [],
   "source": [
    "f = open('small.csv', 'r')"
   ]
  },
  {
   "cell_type": "markdown",
   "metadata": {},
   "source": [
    "変数 `f` には、ファイルを読み書きするためのデータ（オブジェクト）が入ります。"
   ]
  },
  {
   "cell_type": "markdown",
   "metadata": {
    "slideshow": {
     "slide_type": "skip"
    }
   },
   "source": [
    "`'small.csv'` はファイル名で、そのファイルの絶対パス名か、このノートブックからの相対パス名を指定します。\n",
    "\n",
    "ここでは、`small.csv` という名前のファイルがこのノートブックと同じディレクトリにあることを想定しています。\n",
    "\n",
    "たとえば、`big.csv` というファイルが、ノートブックの一段上のディレクトリにあるならば、`'../big.csv'` と指定します。\n",
    "ノートブックの一段上のディレクトリに置かれている `data` というディレクトリにあるならば、`'../data/big.csv'` となります。"
   ]
  },
  {
   "cell_type": "markdown",
   "metadata": {
    "slideshow": {
     "slide_type": "-"
    }
   },
   "source": [
    "`'r'` はファイルをどのモードで開くかを指しており、`'r'`は**読み込みモード**を意味します。<br>\n",
    "このモードで開いたファイルに書き込みすることはできません。\n",
    "\n",
    "モードには次のような種類があります。\n",
    "\n",
    "記号| モード\n",
    "---|:---\n",
    "r | 読み込み\n",
    "w | 書き込み\n",
    "a | 追記\n",
    "+ | 読み書き両方を指定したい場合に使用\n",
    "\n",
    "書き込みについては後でも説明します。"
   ]
  },
  {
   "cell_type": "markdown",
   "metadata": {
    "slideshow": {
     "slide_type": "slide"
    }
   },
   "source": [
    "## オブジェクト\n",
    "Pythonプログラムでは、全ての種類のデータは、オブジェクト指向言語における**オブジェクト**として実現されます。\n",
    "個々のオブジェクトは、それぞれの**参照値**によって一意に識別されます。\n",
    "\n",
    "また、個々のオブジェクトはそれぞれに不変な **型** を持ちます。"
   ]
  },
  {
   "cell_type": "markdown",
   "metadata": {
    "slideshow": {
     "slide_type": "skip"
    }
   },
   "source": [
    "オブジェクトの型は **`type`** という関数によって求めることができます。\n",
    "\n",
    "たとえば、`3` というデータ（オブジェクト）の型は `int` です。"
   ]
  },
  {
   "cell_type": "code",
   "execution_count": 2,
   "metadata": {
    "slideshow": {
     "slide_type": "skip"
    }
   },
   "outputs": [
    {
     "data": {
      "text/plain": [
       "int"
      ]
     },
     "execution_count": 2,
     "metadata": {},
     "output_type": "execute_result"
    }
   ],
   "source": [
    "type(3)"
   ]
  },
  {
   "cell_type": "markdown",
   "metadata": {
    "slideshow": {
     "slide_type": "slide"
    }
   },
   "source": [
    "Pythonにおいて、変数には、オブジェクトの参照値が入ります。\n",
    "では、変数 `f` に入っているオブジェクトの型はどうなっているでしょうか。"
   ]
  },
  {
   "cell_type": "code",
   "execution_count": 3,
   "metadata": {},
   "outputs": [
    {
     "data": {
      "text/plain": [
       "_io.TextIOWrapper"
      ]
     },
     "execution_count": 3,
     "metadata": {},
     "output_type": "execute_result"
    }
   ],
   "source": [
    "type(f)"
   ]
  },
  {
   "cell_type": "markdown",
   "metadata": {},
   "source": [
    "`_io.TextIOWrapper`は、io (in/outの略で、様々な入出力を扱うモジュール）の中の、TextのIO（In/Out)を扱う[ラッパー](http://e-words.jp/w/%E3%83%A9%E3%83%83%E3%83%91%E3%83%BC.html)型です。\n",
    "\n",
    "`f` のオブジェクトそのものを表示させると以下のようになります。"
   ]
  },
  {
   "cell_type": "code",
   "execution_count": 4,
   "metadata": {},
   "outputs": [
    {
     "data": {
      "text/plain": [
       "<_io.TextIOWrapper name='small.csv' mode='r' encoding='cp932'>"
      ]
     },
     "execution_count": 4,
     "metadata": {},
     "output_type": "execute_result"
    }
   ],
   "source": [
    "f"
   ]
  },
  {
   "cell_type": "markdown",
   "metadata": {},
   "source": [
    "`_io.TextIOWrapper`型であるこのオブジェクトは、name (ファイル名）属性が`small.csv`、mode (モード)属性が`r`であることを意味しています。<br>\n",
    "encoding(文字コード）はこのプログラムを動かしているOSによって違うでしょう。<br>\n",
    "もしWindowsなら`cp932`（Shift-JISのこと）、Macなら`euc_jp`となっているのが一般的です。"
   ]
  },
  {
   "cell_type": "markdown",
   "metadata": {
    "slideshow": {
     "slide_type": "slide"
    }
   },
   "source": [
    "### 属性\n",
    "個々のオブジェクトは、さまざまな**属性**を持ちます。これらの属性は、以下のようにして確認できます。\n",
    "\n",
    "---\n",
    "```Python\n",
    "オブジェクト.属性名\n",
    "```\n",
    "---\n",
    "\n",
    "たとえば、以下のように `f` に入っているオブジェクトに対して色々な情報を問い合わせることができます。"
   ]
  },
  {
   "cell_type": "code",
   "execution_count": 5,
   "metadata": {
    "slideshow": {
     "slide_type": "-"
    }
   },
   "outputs": [
    {
     "data": {
      "text/plain": [
       "'small.csv'"
      ]
     },
     "execution_count": 5,
     "metadata": {},
     "output_type": "execute_result"
    }
   ],
   "source": [
    "f.name"
   ]
  },
  {
   "cell_type": "code",
   "execution_count": 6,
   "metadata": {
    "slideshow": {
     "slide_type": "-"
    }
   },
   "outputs": [
    {
     "data": {
      "text/plain": [
       "'r'"
      ]
     },
     "execution_count": 6,
     "metadata": {},
     "output_type": "execute_result"
    }
   ],
   "source": [
    "f.mode"
   ]
  },
  {
   "cell_type": "markdown",
   "metadata": {
    "slideshow": {
     "slide_type": "slide"
    }
   },
   "source": [
    "オブジェクトがどのような属性を持つかは、**`dir`** という関数を使って調べることができます。"
   ]
  },
  {
   "cell_type": "code",
   "execution_count": 7,
   "metadata": {},
   "outputs": [
    {
     "data": {
      "text/plain": [
       "['_CHUNK_SIZE',\n",
       " '__class__',\n",
       " '__del__',\n",
       " '__delattr__',\n",
       " '__dict__',\n",
       " '__dir__',\n",
       " '__doc__',\n",
       " '__enter__',\n",
       " '__eq__',\n",
       " '__exit__',\n",
       " '__format__',\n",
       " '__ge__',\n",
       " '__getattribute__',\n",
       " '__getstate__',\n",
       " '__gt__',\n",
       " '__hash__',\n",
       " '__init__',\n",
       " '__init_subclass__',\n",
       " '__iter__',\n",
       " '__le__',\n",
       " '__lt__',\n",
       " '__ne__',\n",
       " '__new__',\n",
       " '__next__',\n",
       " '__reduce__',\n",
       " '__reduce_ex__',\n",
       " '__repr__',\n",
       " '__setattr__',\n",
       " '__sizeof__',\n",
       " '__str__',\n",
       " '__subclasshook__',\n",
       " '_checkClosed',\n",
       " '_checkReadable',\n",
       " '_checkSeekable',\n",
       " '_checkWritable',\n",
       " '_finalizing',\n",
       " 'buffer',\n",
       " 'close',\n",
       " 'closed',\n",
       " 'detach',\n",
       " 'encoding',\n",
       " 'errors',\n",
       " 'fileno',\n",
       " 'flush',\n",
       " 'isatty',\n",
       " 'line_buffering',\n",
       " 'mode',\n",
       " 'name',\n",
       " 'newlines',\n",
       " 'read',\n",
       " 'readable',\n",
       " 'readline',\n",
       " 'readlines',\n",
       " 'reconfigure',\n",
       " 'seek',\n",
       " 'seekable',\n",
       " 'tell',\n",
       " 'truncate',\n",
       " 'writable',\n",
       " 'write',\n",
       " 'write_through',\n",
       " 'writelines']"
      ]
     },
     "execution_count": 7,
     "metadata": {},
     "output_type": "execute_result"
    }
   ],
   "source": [
    "dir(f)"
   ]
  },
  {
   "cell_type": "markdown",
   "metadata": {
    "slideshow": {
     "slide_type": "slide"
    }
   },
   "source": [
    "`dir` の結果は文字列の配列です。\n",
    "それぞれの文字列は属性の名前です。\n",
    "この中に、`name` や `mode` も含まれています。\n",
    "\n",
    "属性には、そのオブジェクトを操作するために関数として呼び出すことのできるものがあり、**メソッド**と呼ばれます。"
   ]
  },
  {
   "cell_type": "markdown",
   "metadata": {
    "slideshow": {
     "slide_type": "slide"
    }
   },
   "source": [
    "たとえば、**`read`** という属性の値を `()` を付けないで表示させると以下のようです。"
   ]
  },
  {
   "cell_type": "code",
   "execution_count": 8,
   "metadata": {
    "slideshow": {
     "slide_type": "-"
    }
   },
   "outputs": [
    {
     "data": {
      "text/plain": [
       "<function TextIOWrapper.read(size=-1, /)>"
      ]
     },
     "execution_count": 8,
     "metadata": {},
     "output_type": "execute_result"
    }
   ],
   "source": [
    "f.read"
   ]
  },
  {
   "cell_type": "markdown",
   "metadata": {},
   "source": [
    "この関数が、`()` を付けることによって呼び出されます。このとき、`read()`は、そのファイルを全て読み込むという働きをします。"
   ]
  },
  {
   "cell_type": "code",
   "execution_count": 9,
   "metadata": {
    "scrolled": true
   },
   "outputs": [
    {
     "data": {
      "text/plain": [
       "'11,12,13,14,15\\n21,22,23,24,25\\n31,32,33,34,35\\n'"
      ]
     },
     "execution_count": 9,
     "metadata": {},
     "output_type": "execute_result"
    }
   ],
   "source": [
    "f.read()"
   ]
  },
  {
   "cell_type": "markdown",
   "metadata": {
    "slideshow": {
     "slide_type": "fragment"
    }
   },
   "source": [
    "ファイル全体の内容が一続きの文字列として返されました。<br>\n",
    "文字列が複数行にわたる場合は、それを一続きの文字列として表すために、改行する場所が`\\n` という記号（改行文字）で置き換えられます。<br>\n",
    "（同様に、ファイルに書き込みする際に、文字列中に改行を加えたい場合は、そこに`\\n`を挿入します。）"
   ]
  },
  {
   "cell_type": "markdown",
   "metadata": {
    "slideshow": {
     "slide_type": "slide"
    }
   },
   "source": [
    "これでファイルの読み込みが終わりましたので、**`close()`** というメソッドによってファイルを**クローズ**して（閉じて）おきましょう。"
   ]
  },
  {
   "cell_type": "code",
   "execution_count": 10,
   "metadata": {},
   "outputs": [],
   "source": [
    "f.close()"
   ]
  },
  {
   "cell_type": "markdown",
   "metadata": {
    "slideshow": {
     "slide_type": "slide"
    }
   },
   "source": [
    "繰り返しますが、属性のうち、そのオブジェクトを操作するための関数として呼び出すことのできる\n",
    "ものをメソッドと呼びます。<br>\n",
    "メソッドは、オブジェクト指向言語で一般的に使われる用語です。\n",
    "\n",
    "メソッドは、以下のようにして呼び出すことができます。\n",
    "\n",
    "---\n",
    "```Python\n",
    "オブジェクト.属性名(式, ...)\n",
    "```\n",
    "---\n",
    "\n",
    "この構文により、属性の値である関数が呼び出されます。\n",
    "その実行は、当然ながら、属性を持つオブジェクトに依存したものになります。"
   ]
  },
  {
   "cell_type": "markdown",
   "metadata": {},
   "source": [
    "## 練習\n",
    "\n",
    "文字列 `name` をファイル名とするファイルをオープンして、\n",
    "`read()` のメソッドによってファイル全体を文字列として読み込み、\n",
    "その文字数を返す関数 `number_of_characters(name)` を作成してください。\n",
    "\n",
    "注意：`return` する前にファイルをクローズすることを忘れないようにしてください。"
   ]
  },
  {
   "cell_type": "code",
   "execution_count": 15,
   "metadata": {},
   "outputs": [],
   "source": [
    "def  number_of_characters(name):\n",
    "    f = open(name, 'r')\n",
    "    s = f.read()\n",
    "    f.close()\n",
    "    return len(s)"
   ]
  },
  {
   "cell_type": "code",
   "execution_count": 16,
   "metadata": {},
   "outputs": [
    {
     "name": "stdout",
     "output_type": "stream",
     "text": [
      "True\n"
     ]
    }
   ],
   "source": [
    "print(number_of_characters('small.csv') == 45)"
   ]
  },
  {
   "cell_type": "markdown",
   "metadata": {
    "slideshow": {
     "slide_type": "slide"
    }
   },
   "source": [
    "## ファイルに対する for 文\n",
    "ファイルのオブジェクトは、**イテレータ**と呼ばれるオブジェクトの一種です。<br>\n",
    "iterateは繰り返すという意味ですよね。<br>\n",
    "iteratorは、その要素を一つずつ取り出す処理が可能なオブジェクトで、\n",
    "**`next`** という関数でその処理を1回分行うことができます。\n",
    "\n",
    "変数 `f` にファイルのオブジェクトが入っているとすると、\n",
    "`next(f)` は、ファイルから新たに一行を読んで文字列として返します。"
   ]
  },
  {
   "cell_type": "code",
   "execution_count": 17,
   "metadata": {},
   "outputs": [
    {
     "name": "stdout",
     "output_type": "stream",
     "text": [
      "11,12,13,14,15\n",
      "\n",
      "21,22,23,24,25\n",
      "\n"
     ]
    }
   ],
   "source": [
    "f = open('small.csv', 'r')\n",
    "print(next(f))\n",
    "print(next(f))\n",
    "f.close()"
   ]
  },
  {
   "cell_type": "markdown",
   "metadata": {},
   "source": [
    "さらに、イテレータは、for文の `in` の後に指定することができます。\n",
    "\n",
    "したがって、以下のように `f` をfor文の `in` の後に指定することができます。\n",
    "\n",
    "---\n",
    "```Python\n",
    "for line in f:\n",
    "    ...\n",
    "```\n",
    "---\n",
    "\n",
    "繰り返しの各ステップで、`next(f)` が呼び出されて、\n",
    "変数 `line` にその値が設定され、for文の中身が実行されます。\n",
    "\n",
    "以下の例を見てください。"
   ]
  },
  {
   "cell_type": "code",
   "execution_count": 18,
   "metadata": {
    "slideshow": {
     "slide_type": "slide"
    }
   },
   "outputs": [
    {
     "name": "stdout",
     "output_type": "stream",
     "text": [
      "11,12,13,14,15\n",
      "\n",
      "21,22,23,24,25\n",
      "\n",
      "31,32,33,34,35\n",
      "\n"
     ]
    }
   ],
   "source": [
    "f = open('small.csv', 'r')\n",
    "for line in f:\n",
    "    print(line)\n",
    "f.close()"
   ]
  },
  {
   "cell_type": "markdown",
   "metadata": {},
   "source": [
    "ファイルのオブジェクトに対して、一度for文で処理をすると、\n",
    "繰り返し処理がファイルの終わりまで達しているので、\n",
    "もう一度同じファイルオブジェクトをfor文に与えても何も実行されません。\n",
    "\n",
    "（リストに対するfor文とは状況が異なりますので注意してください。\n",
    "リストはイテラブルオブジェクトですがイテレータではないからです。\n",
    "ファイルのオブジェクトは既にイテレータになっています。）"
   ]
  },
  {
   "cell_type": "code",
   "execution_count": 19,
   "metadata": {},
   "outputs": [
    {
     "name": "stdout",
     "output_type": "stream",
     "text": [
      "最初\n",
      "11,12,13,14,15\n",
      "\n",
      "21,22,23,24,25\n",
      "\n",
      "31,32,33,34,35\n",
      "\n",
      "もう一度\n"
     ]
    }
   ],
   "source": [
    "f = open('small.csv', 'r')\n",
    "print('最初')\n",
    "for line in f:\n",
    "    print(line)\n",
    "print('もう一度')\n",
    "for line in f:\n",
    "    print(line)\n",
    "f.close()"
   ]
  },
  {
   "cell_type": "markdown",
   "metadata": {},
   "source": [
    "ファイルをfor文によって二度読みたい場合は、ファイルのオブジェクトをクローズしてから、\n",
    "もう一度ファイルをオープンして、ファイルのオブジェクトを新たに生成してください。"
   ]
  },
  {
   "cell_type": "markdown",
   "metadata": {},
   "source": [
    "## 練習\n",
    "文字列 `name` をファイル名とするファイルの最後の行を文字列として返す関数 `lastline(name)` を定義してください。"
   ]
  },
  {
   "cell_type": "code",
   "execution_count": 20,
   "metadata": {},
   "outputs": [],
   "source": [
    "def lastline(name):\n",
    "    f = open(name, 'r')\n",
    "    for line in f:\n",
    "        pass\n",
    "    f.close\n",
    "    return line"
   ]
  },
  {
   "cell_type": "markdown",
   "metadata": {},
   "source": [
    "以下のセルによってテストしてください。"
   ]
  },
  {
   "cell_type": "code",
   "execution_count": 21,
   "metadata": {
    "scrolled": true
   },
   "outputs": [
    {
     "name": "stdout",
     "output_type": "stream",
     "text": [
      "True\n"
     ]
    }
   ],
   "source": [
    "print(lastline(\"small.csv\") == '31,32,33,34,35\\n')"
   ]
  },
  {
   "cell_type": "markdown",
   "metadata": {
    "slideshow": {
     "slide_type": "slide"
    }
   },
   "source": [
    "## 行の読み込み\n",
    "ファイルのオブジェクトには、**`readline()`** というメソッドを適用することもできます。\n",
    "\n",
    "`f` をファイルのオブジェクトとしたとき、\n",
    "`f.readline()` と `next(f)` は、ほぼ同じで、\n",
    "ファイルから新たに一行を読んで文字列として返します。<br>\n",
    "文字列の最後に改行文字が含まれます。\n",
    "\n",
    "`f.readline()` と `next(f)` では、ファイルの終わりに来たときの挙動が異なります。<br>\n",
    "`f.readline()` は `''` という空文字列を返すのですが、\n",
    "`next(f)` は `StopIteration` というエラーを発します。<br>\n",
    "（for文はこのエラーを検知しています。つまり、`next(f)`が`StopIteration`を返したらforループから抜け出します。）"
   ]
  },
  {
   "cell_type": "markdown",
   "metadata": {
    "slideshow": {
     "slide_type": "slide"
    }
   },
   "source": [
    "以下のようにして `readline` を使ってファイルを読んでみましょう。\n",
    "\n",
    "ファイルを読み終わると空文字列が返ることを確認してください。"
   ]
  },
  {
   "cell_type": "code",
   "execution_count": 22,
   "metadata": {},
   "outputs": [],
   "source": [
    "f = open('small.csv', 'r')"
   ]
  },
  {
   "cell_type": "code",
   "execution_count": 23,
   "metadata": {},
   "outputs": [
    {
     "data": {
      "text/plain": [
       "'11,12,13,14,15\\n'"
      ]
     },
     "execution_count": 23,
     "metadata": {},
     "output_type": "execute_result"
    }
   ],
   "source": [
    "f.readline()"
   ]
  },
  {
   "cell_type": "code",
   "execution_count": 24,
   "metadata": {},
   "outputs": [
    {
     "data": {
      "text/plain": [
       "'21,22,23,24,25\\n'"
      ]
     },
     "execution_count": 24,
     "metadata": {},
     "output_type": "execute_result"
    }
   ],
   "source": [
    "f.readline()"
   ]
  },
  {
   "cell_type": "code",
   "execution_count": 25,
   "metadata": {},
   "outputs": [
    {
     "data": {
      "text/plain": [
       "'31,32,33,34,35\\n'"
      ]
     },
     "execution_count": 25,
     "metadata": {},
     "output_type": "execute_result"
    }
   ],
   "source": [
    "f.readline()"
   ]
  },
  {
   "cell_type": "code",
   "execution_count": 26,
   "metadata": {},
   "outputs": [
    {
     "data": {
      "text/plain": [
       "''"
      ]
     },
     "execution_count": 26,
     "metadata": {},
     "output_type": "execute_result"
    }
   ],
   "source": [
    "f.readline()"
   ]
  },
  {
   "cell_type": "code",
   "execution_count": 27,
   "metadata": {},
   "outputs": [],
   "source": [
    "f.close()"
   ]
  },
  {
   "cell_type": "markdown",
   "metadata": {
    "slideshow": {
     "slide_type": "slide"
    }
   },
   "source": [
    "## ファイルに対する with 文"
   ]
  },
  {
   "cell_type": "markdown",
   "metadata": {},
   "source": [
    "ファイルのオブジェクトは、with文に指定することができます。\n",
    "\n",
    "---\n",
    "```Python\n",
    "with ファイル as 変数:\n",
    "    ...\n",
    "\n",
    "```\n",
    "---\n",
    "\n",
    "**`with`** の次には、`open` によってファイルをオープンする式を書きます。\n",
    "\n",
    "また、**`as`** の次には、ファイルのオブジェクトが格納される変数を書きます。\n",
    "\n",
    "with文は処理後にファイルのクローズを自動的にやってくれますので、\n",
    "ファイルに対して `close()` を呼び出す必要がありません。"
   ]
  },
  {
   "cell_type": "code",
   "execution_count": 28,
   "metadata": {
    "slideshow": {
     "slide_type": "slide"
    }
   },
   "outputs": [
    {
     "name": "stdout",
     "output_type": "stream",
     "text": [
      "11,12,13,14,15\n",
      "\n",
      "21,22,23,24,25\n",
      "\n",
      "31,32,33,34,35\n",
      "\n"
     ]
    }
   ],
   "source": [
    "with open('small.csv', 'r') as f:\n",
    "    for line in f:\n",
    "        print(line)"
   ]
  },
  {
   "cell_type": "markdown",
   "metadata": {
    "slideshow": {
     "slide_type": "slide"
    }
   },
   "source": [
    "## ファイルへの書き込み\n",
    "ファイルへの書き込みは以下のように **`write`** というメソッドを用いて行います。"
   ]
  },
  {
   "cell_type": "code",
   "execution_count": 29,
   "metadata": {},
   "outputs": [],
   "source": [
    "with open(\"write-test.txt\", \"w\") as f:\n",
    "    f.write(\"hello\\nworld\\n\")"
   ]
  },
  {
   "cell_type": "markdown",
   "metadata": {
    "slideshow": {
     "slide_type": "-"
    }
   },
   "source": [
    "ファイルの読み書きのモードとしては、**書き込みモード**を意味する `'w'` を指定しています。既に同じ名前のファイルが存在する場合は上書きされます（以前の内容はなくなります）。ファイルがない場合は、新たに作成されます。\n",
    "\n",
    "`'a'` を指定すると、ファイルが存在する場合、既存の内容の後に追記されます。ファイルがない場合は、新たに作成されます。"
   ]
  },
  {
   "cell_type": "code",
   "execution_count": 30,
   "metadata": {
    "slideshow": {
     "slide_type": "skip"
    }
   },
   "outputs": [],
   "source": [
    "with open(\"write-test.txt\", \"w\") as f:\n",
    "    f.writelines([\"hello\\n\", \"world\\n\"])"
   ]
  },
  {
   "cell_type": "markdown",
   "metadata": {
    "slideshow": {
     "slide_type": "skip"
    }
   },
   "source": [
    "`write` には文字列を指定します。**`writelines`** には文字列のリストを指定します。\n",
    "\n",
    "どちらも、改行するためには、文字列の中に `\\n `を入れる必要があります。"
   ]
  },
  {
   "cell_type": "markdown",
   "metadata": {
    "slideshow": {
     "slide_type": "skip"
    }
   },
   "source": [
    "## 練習\n",
    "\n",
    "二つのファイル名 `infile`, `outfile` を引数として、`infile` の英文字をすべて大文字にした結果を `outfile` に書き込む `fileupper(infile,outfile)` という関数を作成してください。"
   ]
  },
  {
   "cell_type": "code",
   "execution_count": 33,
   "metadata": {},
   "outputs": [],
   "source": [
    "def fileupper(infile,outfile):\n",
    "    with open(infile,'r') as f:\n",
    "        with open(outfile, 'w') as g:\n",
    "            g.write(f.read().upper())"
   ]
  },
  {
   "cell_type": "markdown",
   "metadata": {},
   "source": [
    "以下のセルによってテストしてください。"
   ]
  },
  {
   "cell_type": "code",
   "execution_count": 34,
   "metadata": {},
   "outputs": [
    {
     "name": "stdout",
     "output_type": "stream",
     "text": [
      "True\n"
     ]
    }
   ],
   "source": [
    "with open(\"write-test.txt\", \"w\") as f:\n",
    "    f.writelines([\"hello\\n\", \"world\\n\"])\n",
    "fileupper(\"write-test.txt\", \"write-test-upper.txt\")\n",
    "with open(\"write-test-upper.txt\", \"r\") as f:\n",
    "    print(f.read() == \"HELLO\\nWORLD\\n\")"
   ]
  },
  {
   "cell_type": "markdown",
   "metadata": {},
   "source": [
    "## 練習の解答"
   ]
  },
  {
   "cell_type": "code",
   "execution_count": null,
   "metadata": {},
   "outputs": [],
   "source": [
    "def  number_of_characters(name):\n",
    "    f = open(name, \"r\")\n",
    "    s = f.read()\n",
    "    f.close()\n",
    "    return len(s)"
   ]
  },
  {
   "cell_type": "code",
   "execution_count": null,
   "metadata": {},
   "outputs": [],
   "source": [
    "def lastline(name):\n",
    "    f = open(name, \"r\")\n",
    "    for line in f:\n",
    "        pass\n",
    "    f.close()\n",
    "    return line"
   ]
  },
  {
   "cell_type": "code",
   "execution_count": null,
   "metadata": {},
   "outputs": [],
   "source": [
    "def fileupper(infile,outfile):\n",
    "    with open(infile, \"r\") as f:\n",
    "        with open(outfile, \"w\") as g:\n",
    "            g.write(f.read().upper())"
   ]
  },
  {
   "cell_type": "markdown",
   "metadata": {},
   "source": [
    "以下のように一つのwith文に複数の `open` を書くことができます。"
   ]
  },
  {
   "cell_type": "code",
   "execution_count": null,
   "metadata": {},
   "outputs": [],
   "source": [
    "def fileupper(infile,outfile):\n",
    "    with open(infile, \"r\") as f, open(outfile, \"w\") as g:\n",
    "        g.write(f.read().upper())"
   ]
  }
 ],
 "metadata": {
  "kernelspec": {
   "display_name": "Python 3",
   "language": "python",
   "name": "python3"
  },
  "language_info": {
   "codemirror_mode": {
    "name": "ipython",
    "version": 3
   },
   "file_extension": ".py",
   "mimetype": "text/x-python",
   "name": "python",
   "nbconvert_exporter": "python",
   "pygments_lexer": "ipython3",
   "version": "3.7.0"
  }
 },
 "nbformat": 4,
 "nbformat_minor": 2
}
