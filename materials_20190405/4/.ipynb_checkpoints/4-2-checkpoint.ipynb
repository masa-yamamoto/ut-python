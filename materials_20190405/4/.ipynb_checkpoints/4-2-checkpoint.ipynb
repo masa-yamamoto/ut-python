{
 "cells": [
  {
   "cell_type": "markdown",
   "metadata": {
    "slideshow": {
     "slide_type": "slide"
    }
   },
   "source": [
    "# Pythonプログラミング入門 第4回\n",
    "csv ファイルの入出力について説明します\n",
    "\n",
    "参考\n",
    "\n",
    "- https://docs.python.org/ja/3/library/csv.html"
   ]
  },
  {
   "cell_type": "markdown",
   "metadata": {},
   "source": [
    "# csv ファイルの入出力\n",
    "\n",
    "## csv形式とは\n",
    "\n",
    "csv ファイルとはcomma-separated values\"の略で、\n",
    "複数の値をコンマで区切って記録するファイル形式です。<br>\n",
    "みなさんExcelを使ったことがあると思いますが、Excelでは一つのセルに\n",
    "一つの値（数値や文字など）が入っていて、その他のセルの値とは独立に扱えますよね。<br>\n",
    "それと同じように、csv形式では、`,(コンマ）`で区切られた要素はそれぞれ独立の値として扱われます。\n",
    "\n",
    "たとえばサークルのメンバーデータを作ることを考えましょう。<br>\n",
    "メンバーは「鈴木一郎」と「山田花子」の2名で、それぞれ『氏名』『ニックネーム』『出身地』を記録しておきたいと思います。<br>\n",
    "表で表すとこんなデータです。\n",
    "\n",
    "|ID| 氏名 | ニックネーム | 出身地 | \n",
    "|---:|:--------|:---------------|:-------|\n",
    "|user1| 鈴木一郎 | イチロー | 広島 |\n",
    "|user2| 山田花子 | はなこ | 名古屋 |\n",
    "\n",
    "これをcsv形式で表すと次のようになります。"
   ]
  },
  {
   "cell_type": "raw",
   "metadata": {},
   "source": [
    "\"user1\",\" 鈴木一郎\",\"イチロー\",\"広島\"\n",
    "\"user2\",\"山田花子\",\"はなこ\",\"名古屋\""
   ]
  },
  {
   "cell_type": "markdown",
   "metadata": {
    "slideshow": {
     "slide_type": "slide"
    }
   },
   "source": [
    "## csv ファイルの読み込み\n",
    "**csvファイル**を読み書きするには、\n",
    "ファイルをオープンして、そのオブジェクトから、\n",
    "csvリーダーを作ります。<br>\n",
    "**csvリーダー**とは、csvファイルからデータを読み込むためのオブジェクトで、\n",
    "このオブジェクトのメソッドを呼び出すことにより、csvファイルからデータを読み込むことができます。\n",
    "\n",
    "csvリーダーを作るには、**`csv`** というモジュールの **`csv.reader`** という関数にファイルのオブジェクトを渡します。\n",
    "\n",
    "例えば、次のような表で表されるcsvファイル`small.csv`を読み込んでみましょう。\n",
    "\n",
    " 0列目 | 1列目 | 2列目 | 3列目 | 4列目 \n",
    "---|---|---|---|---\n",
    " 11 | 12 | 13 | 14 | 15 \n",
    " 21 | 22 | 23 | 24 | 25 \n",
    " 31 | 32 | 33 | 34 | 35 \n"
   ]
  },
  {
   "cell_type": "code",
   "execution_count": 1,
   "metadata": {},
   "outputs": [],
   "source": [
    "import csv\n",
    "f = open('small.csv', 'r')\n",
    "dataReader = csv.reader(f)"
   ]
  },
  {
   "cell_type": "code",
   "execution_count": 2,
   "metadata": {},
   "outputs": [
    {
     "data": {
      "text/plain": [
       "_csv.reader"
      ]
     },
     "execution_count": 2,
     "metadata": {},
     "output_type": "execute_result"
    }
   ],
   "source": [
    "type(dataReader)"
   ]
  },
  {
   "cell_type": "code",
   "execution_count": 3,
   "metadata": {
    "slideshow": {
     "slide_type": "slide"
    }
   },
   "outputs": [
    {
     "data": {
      "text/plain": [
       "['__class__',\n",
       " '__delattr__',\n",
       " '__dir__',\n",
       " '__doc__',\n",
       " '__eq__',\n",
       " '__format__',\n",
       " '__ge__',\n",
       " '__getattribute__',\n",
       " '__gt__',\n",
       " '__hash__',\n",
       " '__init__',\n",
       " '__init_subclass__',\n",
       " '__iter__',\n",
       " '__le__',\n",
       " '__lt__',\n",
       " '__ne__',\n",
       " '__new__',\n",
       " '__next__',\n",
       " '__reduce__',\n",
       " '__reduce_ex__',\n",
       " '__repr__',\n",
       " '__setattr__',\n",
       " '__sizeof__',\n",
       " '__str__',\n",
       " '__subclasshook__',\n",
       " 'dialect',\n",
       " 'line_num']"
      ]
     },
     "execution_count": 3,
     "metadata": {},
     "output_type": "execute_result"
    }
   ],
   "source": [
    "dir(dataReader)"
   ]
  },
  {
   "cell_type": "markdown",
   "metadata": {
    "slideshow": {
     "slide_type": "slide"
    }
   },
   "source": [
    "このオブジェクトも**イテレータ**で、**`next`** という関数を呼び出すことができます。"
   ]
  },
  {
   "cell_type": "code",
   "execution_count": 4,
   "metadata": {},
   "outputs": [
    {
     "data": {
      "text/plain": [
       "['11', '12', '13', '14', '15']"
      ]
     },
     "execution_count": 4,
     "metadata": {},
     "output_type": "execute_result"
    }
   ],
   "source": [
    "next(dataReader)"
   ]
  },
  {
   "cell_type": "markdown",
   "metadata": {},
   "source": [
    "このようにして csvファイルを読むと、\n",
    "csvファイルの各行のデータが文字列の配列となって返されます。"
   ]
  },
  {
   "cell_type": "code",
   "execution_count": 5,
   "metadata": {},
   "outputs": [
    {
     "data": {
      "text/plain": [
       "['21', '22', '23', '24', '25']"
      ]
     },
     "execution_count": 5,
     "metadata": {},
     "output_type": "execute_result"
    }
   ],
   "source": [
    "next(dataReader)"
   ]
  },
  {
   "cell_type": "code",
   "execution_count": 6,
   "metadata": {
    "slideshow": {
     "slide_type": "slide"
    }
   },
   "outputs": [],
   "source": [
    "row = next(dataReader)"
   ]
  },
  {
   "cell_type": "code",
   "execution_count": 7,
   "metadata": {},
   "outputs": [
    {
     "data": {
      "text/plain": [
       "['31', '32', '33', '34', '35']"
      ]
     },
     "execution_count": 7,
     "metadata": {},
     "output_type": "execute_result"
    }
   ],
   "source": [
    "row"
   ]
  },
  {
   "cell_type": "code",
   "execution_count": 8,
   "metadata": {},
   "outputs": [
    {
     "data": {
      "text/plain": [
       "'33'"
      ]
     },
     "execution_count": 8,
     "metadata": {},
     "output_type": "execute_result"
    }
   ],
   "source": [
    "row[2]"
   ]
  },
  {
   "cell_type": "markdown",
   "metadata": {},
   "source": [
    "数値が`''`で囲われている場合、数値ではなく文字列として扱われているので、そのまま計算に使用することができません。<br>\n",
    "文字列が整数を表す場合、int関数によって文字列を整数に変換することができます。<br>\n",
    "文字列が小数を含む場合はfloat関数で浮動小数点数型に変換、文字列が複素数を表す場合はcomplex関数で複素数に変換します。"
   ]
  },
  {
   "cell_type": "code",
   "execution_count": 9,
   "metadata": {},
   "outputs": [
    {
     "data": {
      "text/plain": [
       "33"
      ]
     },
     "execution_count": 9,
     "metadata": {},
     "output_type": "execute_result"
    }
   ],
   "source": [
    "int(row[2])"
   ]
  },
  {
   "cell_type": "markdown",
   "metadata": {
    "slideshow": {
     "slide_type": "fragment"
    }
   },
   "source": [
    "ファイルの終わりまで達したあとにnext関数を実行すると、下のようにエラーが返ってきます。"
   ]
  },
  {
   "cell_type": "code",
   "execution_count": 10,
   "metadata": {
    "slideshow": {
     "slide_type": "slide"
    }
   },
   "outputs": [
    {
     "ename": "StopIteration",
     "evalue": "",
     "output_type": "error",
     "traceback": [
      "\u001b[1;31m---------------------------------------------------------------------------\u001b[0m",
      "\u001b[1;31mStopIteration\u001b[0m                             Traceback (most recent call last)",
      "\u001b[1;32m<ipython-input-10-4f4f4fee7fd4>\u001b[0m in \u001b[0;36m<module>\u001b[1;34m()\u001b[0m\n\u001b[1;32m----> 1\u001b[1;33m \u001b[0mnext\u001b[0m\u001b[1;33m(\u001b[0m\u001b[0mdataReader\u001b[0m\u001b[1;33m)\u001b[0m\u001b[1;33m\u001b[0m\u001b[0m\n\u001b[0m",
      "\u001b[1;31mStopIteration\u001b[0m: "
     ]
    }
   ],
   "source": [
    "next(dataReader)"
   ]
  },
  {
   "cell_type": "markdown",
   "metadata": {},
   "source": [
    "ファイルを使い終わったらcloseすることを忘れないようにしましょう。"
   ]
  },
  {
   "cell_type": "code",
   "execution_count": 11,
   "metadata": {},
   "outputs": [],
   "source": [
    "f.close()"
   ]
  },
  {
   "cell_type": "markdown",
   "metadata": {
    "slideshow": {
     "slide_type": "slide"
    }
   },
   "source": [
    "## csv ファイルに対する for 文\n",
    "csvリーダーもイテレータですので、for文の `in` の後に書くことができます。\n",
    "\n",
    "---\n",
    "```Python\n",
    "for row in dataReader:\n",
    "    ...\n",
    "```\n",
    "---\n",
    "\n",
    "繰り返しの各ステップで、`next(dataReader)` が呼び出されて、\n",
    "`row` にその値が設定され、for文の中身が実行されます。"
   ]
  },
  {
   "cell_type": "code",
   "execution_count": 12,
   "metadata": {
    "slideshow": {
     "slide_type": "slide"
    }
   },
   "outputs": [
    {
     "name": "stdout",
     "output_type": "stream",
     "text": [
      "['11', '12', '13', '14', '15']\n",
      "['21', '22', '23', '24', '25']\n",
      "['31', '32', '33', '34', '35']\n"
     ]
    }
   ],
   "source": [
    "f = open('small.csv', 'r')\n",
    "dataReader = csv.reader(f)\n",
    "for row in dataReader:\n",
    "    print(row)\n",
    "f.close()"
   ]
  },
  {
   "cell_type": "markdown",
   "metadata": {
    "slideshow": {
     "slide_type": "slide"
    }
   },
   "source": [
    "## csv ファイルに対する with 文\n",
    "以下はwith文を使った例です。"
   ]
  },
  {
   "cell_type": "code",
   "execution_count": 13,
   "metadata": {},
   "outputs": [
    {
     "name": "stdout",
     "output_type": "stream",
     "text": [
      "['11', '12', '13', '14', '15']\n",
      "['21', '22', '23', '24', '25']\n",
      "['31', '32', '33', '34', '35']\n"
     ]
    }
   ],
   "source": [
    "with open('small.csv', 'r') as f:\n",
    "    dataReader = csv.reader(f)\n",
    "    for row in dataReader:\n",
    "        print(row)"
   ]
  },
  {
   "cell_type": "markdown",
   "metadata": {
    "slideshow": {
     "slide_type": "slide"
    }
   },
   "source": [
    "## csv ファイルの書き込み"
   ]
  },
  {
   "cell_type": "markdown",
   "metadata": {},
   "source": [
    "csv ファイルを作成して書き込むには、csvライターを作ります。<br>\n",
    "**csvライター**とは、csvファイルを作ってデータを書き込むためのオブジェクトで、\n",
    "このオブジェクトのメソッドを呼び出すことにより、データがcsv形式でファイルに書き込まれます。\n",
    "\n",
    "csvライターを作るには、**`csv`** というモジュールの **`csv.writer`** という関数にファイルのオブジェクトを渡します。"
   ]
  },
  {
   "cell_type": "code",
   "execution_count": 14,
   "metadata": {},
   "outputs": [],
   "source": [
    "f = open('out.csv', 'w')"
   ]
  },
  {
   "cell_type": "code",
   "execution_count": 15,
   "metadata": {},
   "outputs": [],
   "source": [
    "dataWriter = csv.writer(f)"
   ]
  },
  {
   "cell_type": "code",
   "execution_count": 16,
   "metadata": {
    "slideshow": {
     "slide_type": "slide"
    }
   },
   "outputs": [
    {
     "data": {
      "text/plain": [
       "['__class__',\n",
       " '__delattr__',\n",
       " '__dir__',\n",
       " '__doc__',\n",
       " '__eq__',\n",
       " '__format__',\n",
       " '__ge__',\n",
       " '__getattribute__',\n",
       " '__gt__',\n",
       " '__hash__',\n",
       " '__init__',\n",
       " '__init_subclass__',\n",
       " '__le__',\n",
       " '__lt__',\n",
       " '__ne__',\n",
       " '__new__',\n",
       " '__reduce__',\n",
       " '__reduce_ex__',\n",
       " '__repr__',\n",
       " '__setattr__',\n",
       " '__sizeof__',\n",
       " '__str__',\n",
       " '__subclasshook__',\n",
       " 'dialect',\n",
       " 'writerow',\n",
       " 'writerows']"
      ]
     },
     "execution_count": 16,
     "metadata": {},
     "output_type": "execute_result"
    }
   ],
   "source": [
    "dir(dataWriter)"
   ]
  },
  {
   "cell_type": "code",
   "execution_count": 17,
   "metadata": {
    "slideshow": {
     "slide_type": "slide"
    }
   },
   "outputs": [
    {
     "data": {
      "text/plain": [
       "7"
      ]
     },
     "execution_count": 17,
     "metadata": {},
     "output_type": "execute_result"
    }
   ],
   "source": [
    "dataWriter.writerow([1,2,3])"
   ]
  },
  {
   "cell_type": "code",
   "execution_count": 18,
   "metadata": {},
   "outputs": [
    {
     "data": {
      "text/plain": [
       "10"
      ]
     },
     "execution_count": 18,
     "metadata": {},
     "output_type": "execute_result"
    }
   ],
   "source": [
    "dataWriter.writerow([21,22,23])"
   ]
  },
  {
   "cell_type": "markdown",
   "metadata": {},
   "source": [
    "書き込みモードの場合も、ファイルを使い終わったらcloseを忘れないようにしましょう。"
   ]
  },
  {
   "cell_type": "code",
   "execution_count": 19,
   "metadata": {},
   "outputs": [],
   "source": [
    "f.close()"
   ]
  },
  {
   "cell_type": "markdown",
   "metadata": {
    "slideshow": {
     "slide_type": "slide"
    }
   },
   "source": [
    "読み込みのときと同様、with文を使うこともできます。"
   ]
  },
  {
   "cell_type": "code",
   "execution_count": 20,
   "metadata": {},
   "outputs": [],
   "source": [
    "with open('out.csv', 'w') as f:\n",
    "    dataWriter = csv.writer(f)\n",
    "    dataWriter.writerow([1,2,3])\n",
    "    dataWriter.writerow([21,22,23])"
   ]
  },
  {
   "cell_type": "markdown",
   "metadata": {
    "slideshow": {
     "slide_type": "slide"
    }
   },
   "source": [
    "### 東京の7月の気温\n",
    "tokyo-temps.csv には、気象庁のオープンデータからダウンロードした、\n",
    "東京の7月の平均気温のデータが入っています。\n",
    "\n",
    "http://www.data.jma.go.jp/gmd/risk/obsdl/\n",
    "\n",
    "48行目の第2列に1875年7月の平均気温が入っており、\n",
    "以下、2018年まで、12行ごとに7月の平均気温が入っています。"
   ]
  },
  {
   "cell_type": "markdown",
   "metadata": {
    "slideshow": {
     "slide_type": "slide"
    }
   },
   "source": [
    "以下は、これを取り出す Python の簡単なコードです。"
   ]
  },
  {
   "cell_type": "code",
   "execution_count": 21,
   "metadata": {
    "slideshow": {
     "slide_type": "-"
    }
   },
   "outputs": [],
   "source": [
    "import csv\n",
    "\n",
    "with open('tokyo-temps.csv', 'r', encoding='sjis') as f:\n",
    "    dataReader = csv.reader(f) # csvリーダを作成\n",
    "    n=0\n",
    "    year = 1875\n",
    "    years = []\n",
    "    july_temps = []\n",
    "    for row in dataReader: # csvファイルの中身を1行ずつ読み込み\n",
    "        n = n+1\n",
    "        if n>=48 and (n-48)%12 == 0: # 48行目からはじめて12か月ごとにif内を実行\n",
    "            years.append(year)\n",
    "            july_temps.append(float(row[1]))\n",
    "            year = year + 1"
   ]
  },
  {
   "cell_type": "markdown",
   "metadata": {},
   "source": [
    "ファイルをオープンするときに、キーワード引数の **`encoding`** が指定されています。<br>\n",
    "この引数で、ファイルの符号（**文字コード**）を指定します。\n",
    "`'sjis'` はシフトJISを意味します。この他に、`'utf-8'`（8ビットのUnicode）があります。"
   ]
  },
  {
   "cell_type": "markdown",
   "metadata": {
    "slideshow": {
     "slide_type": "slide"
    }
   },
   "source": [
    "変数 `years` に年の配列、変数 `july_temps` に対応する年の7月の平均気温の配列が設定されます。"
   ]
  },
  {
   "cell_type": "code",
   "execution_count": 22,
   "metadata": {
    "slideshow": {
     "slide_type": "-"
    }
   },
   "outputs": [
    {
     "data": {
      "text/plain": [
       "[1875,\n",
       " 1876,\n",
       " 1877,\n",
       " 1878,\n",
       " 1879,\n",
       " 1880,\n",
       " 1881,\n",
       " 1882,\n",
       " 1883,\n",
       " 1884,\n",
       " 1885,\n",
       " 1886,\n",
       " 1887,\n",
       " 1888,\n",
       " 1889,\n",
       " 1890,\n",
       " 1891,\n",
       " 1892,\n",
       " 1893,\n",
       " 1894,\n",
       " 1895,\n",
       " 1896,\n",
       " 1897,\n",
       " 1898,\n",
       " 1899,\n",
       " 1900,\n",
       " 1901,\n",
       " 1902,\n",
       " 1903,\n",
       " 1904,\n",
       " 1905,\n",
       " 1906,\n",
       " 1907,\n",
       " 1908,\n",
       " 1909,\n",
       " 1910,\n",
       " 1911,\n",
       " 1912,\n",
       " 1913,\n",
       " 1914,\n",
       " 1915,\n",
       " 1916,\n",
       " 1917,\n",
       " 1918,\n",
       " 1919,\n",
       " 1920,\n",
       " 1921,\n",
       " 1922,\n",
       " 1923,\n",
       " 1924,\n",
       " 1925,\n",
       " 1926,\n",
       " 1927,\n",
       " 1928,\n",
       " 1929,\n",
       " 1930,\n",
       " 1931,\n",
       " 1932,\n",
       " 1933,\n",
       " 1934,\n",
       " 1935,\n",
       " 1936,\n",
       " 1937,\n",
       " 1938,\n",
       " 1939,\n",
       " 1940,\n",
       " 1941,\n",
       " 1942,\n",
       " 1943,\n",
       " 1944,\n",
       " 1945,\n",
       " 1946,\n",
       " 1947,\n",
       " 1948,\n",
       " 1949,\n",
       " 1950,\n",
       " 1951,\n",
       " 1952,\n",
       " 1953,\n",
       " 1954,\n",
       " 1955,\n",
       " 1956,\n",
       " 1957,\n",
       " 1958,\n",
       " 1959,\n",
       " 1960,\n",
       " 1961,\n",
       " 1962,\n",
       " 1963,\n",
       " 1964,\n",
       " 1965,\n",
       " 1966,\n",
       " 1967,\n",
       " 1968,\n",
       " 1969,\n",
       " 1970,\n",
       " 1971,\n",
       " 1972,\n",
       " 1973,\n",
       " 1974,\n",
       " 1975,\n",
       " 1976,\n",
       " 1977,\n",
       " 1978,\n",
       " 1979,\n",
       " 1980,\n",
       " 1981,\n",
       " 1982,\n",
       " 1983,\n",
       " 1984,\n",
       " 1985,\n",
       " 1986,\n",
       " 1987,\n",
       " 1988,\n",
       " 1989,\n",
       " 1990,\n",
       " 1991,\n",
       " 1992,\n",
       " 1993,\n",
       " 1994,\n",
       " 1995,\n",
       " 1996,\n",
       " 1997,\n",
       " 1998,\n",
       " 1999,\n",
       " 2000,\n",
       " 2001,\n",
       " 2002,\n",
       " 2003,\n",
       " 2004,\n",
       " 2005,\n",
       " 2006,\n",
       " 2007,\n",
       " 2008,\n",
       " 2009,\n",
       " 2010,\n",
       " 2011,\n",
       " 2012,\n",
       " 2013,\n",
       " 2014,\n",
       " 2015,\n",
       " 2016,\n",
       " 2017,\n",
       " 2018]"
      ]
     },
     "execution_count": 22,
     "metadata": {},
     "output_type": "execute_result"
    }
   ],
   "source": [
    "years"
   ]
  },
  {
   "cell_type": "code",
   "execution_count": 23,
   "metadata": {
    "slideshow": {
     "slide_type": "slide"
    }
   },
   "outputs": [
    {
     "data": {
      "text/plain": [
       "[26.0,\n",
       " 24.3,\n",
       " 26.5,\n",
       " 26.0,\n",
       " 26.1,\n",
       " 24.2,\n",
       " 24.0,\n",
       " 24.2,\n",
       " 23.7,\n",
       " 23.4,\n",
       " 23.1,\n",
       " 25.0,\n",
       " 23.6,\n",
       " 24.5,\n",
       " 23.4,\n",
       " 23.5,\n",
       " 24.9,\n",
       " 25.7,\n",
       " 25.3,\n",
       " 26.8,\n",
       " 22.1,\n",
       " 24.1,\n",
       " 22.9,\n",
       " 25.9,\n",
       " 23.2,\n",
       " 22.8,\n",
       " 22.1,\n",
       " 21.8,\n",
       " 23.2,\n",
       " 24.8,\n",
       " 23.3,\n",
       " 23.5,\n",
       " 22.7,\n",
       " 22.1,\n",
       " 24.3,\n",
       " 23.0,\n",
       " 24.5,\n",
       " 24.3,\n",
       " 23.3,\n",
       " 25.5,\n",
       " 24.2,\n",
       " 23.9,\n",
       " 25.7,\n",
       " 26.0,\n",
       " 23.6,\n",
       " 26.1,\n",
       " 24.3,\n",
       " 25.0,\n",
       " 24.0,\n",
       " 26.1,\n",
       " 23.2,\n",
       " 24.6,\n",
       " 26.0,\n",
       " 23.4,\n",
       " 25.9,\n",
       " 26.3,\n",
       " 21.8,\n",
       " 25.7,\n",
       " 26.6,\n",
       " 23.9,\n",
       " 24.3,\n",
       " 24.9,\n",
       " 26.3,\n",
       " 25.0,\n",
       " 26.5,\n",
       " 26.9,\n",
       " 23.7,\n",
       " 27.5,\n",
       " 25.1,\n",
       " 25.6,\n",
       " 22.0,\n",
       " 26.2,\n",
       " 25.7,\n",
       " 26.0,\n",
       " 25.3,\n",
       " 26.5,\n",
       " 24.3,\n",
       " 24.3,\n",
       " 24.7,\n",
       " 22.3,\n",
       " 27.6,\n",
       " 24.2,\n",
       " 24.4,\n",
       " 24.9,\n",
       " 26.1,\n",
       " 25.8,\n",
       " 27.4,\n",
       " 25.1,\n",
       " 25.7,\n",
       " 25.5,\n",
       " 24.2,\n",
       " 24.4,\n",
       " 26.3,\n",
       " 24.7,\n",
       " 25.0,\n",
       " 25.4,\n",
       " 25.8,\n",
       " 25.2,\n",
       " 26.1,\n",
       " 23.4,\n",
       " 25.6,\n",
       " 23.9,\n",
       " 25.8,\n",
       " 27.8,\n",
       " 25.2,\n",
       " 23.8,\n",
       " 26.3,\n",
       " 23.1,\n",
       " 23.8,\n",
       " 26.2,\n",
       " 26.3,\n",
       " 23.9,\n",
       " 27.0,\n",
       " 22.4,\n",
       " 24.1,\n",
       " 25.7,\n",
       " 26.7,\n",
       " 25.5,\n",
       " 22.5,\n",
       " 28.3,\n",
       " 26.4,\n",
       " 26.2,\n",
       " 26.6,\n",
       " 25.3,\n",
       " 25.9,\n",
       " 27.7,\n",
       " 28.5,\n",
       " 28.0,\n",
       " 22.8,\n",
       " 28.5,\n",
       " 25.6,\n",
       " 25.6,\n",
       " 24.4,\n",
       " 27.0,\n",
       " 26.3,\n",
       " 28.0,\n",
       " 27.3,\n",
       " 26.4,\n",
       " 27.3,\n",
       " 26.8,\n",
       " 26.2,\n",
       " 25.4,\n",
       " 27.3,\n",
       " 28.3]"
      ]
     },
     "execution_count": 23,
     "metadata": {},
     "output_type": "execute_result"
    }
   ],
   "source": [
    "july_temps"
   ]
  },
  {
   "cell_type": "markdown",
   "metadata": {
    "slideshow": {
     "slide_type": "slide"
    }
   },
   "source": [
    "ここでは詳しく説明しませんが、**線形回帰**によるフィッティングを行ってみましょう。"
   ]
  },
  {
   "cell_type": "code",
   "execution_count": 24,
   "metadata": {},
   "outputs": [],
   "source": [
    "import numpy\n",
    "import matplotlib.pyplot as plt\n",
    "%matplotlib inline\n",
    "\n",
    "fitp = numpy.poly1d(numpy.polyfit(years, july_temps, 1))\n",
    "ma = max(years)\n",
    "mi = min(years)\n",
    "xp = numpy.linspace(mi, ma, (ma - mi))"
   ]
  },
  {
   "cell_type": "code",
   "execution_count": 25,
   "metadata": {
    "scrolled": true,
    "slideshow": {
     "slide_type": "slide"
    }
   },
   "outputs": [
    {
     "data": {
      "image/png": "[encoded data removed]",
      "text/plain": [
       "<Figure size 432x288 with 1 Axes>"
      ]
     },
     "metadata": {
      "needs_background": "light"
     },
     "output_type": "display_data"
    }
   ],
   "source": [
    "plt.plot(years, july_temps, '.', xp, fitp(xp), '-')\n",
    "plt.show()"
   ]
  },
  {
   "cell_type": "markdown",
   "metadata": {
    "slideshow": {
     "slide_type": "slide"
    }
   },
   "source": [
    "## 練習\n",
    "\n",
    "1. `tokyo-temps.csv` を読み込んで、各行が西暦年と7月の気温のみからなる `'tokyo-july-temps.csv'` という名前のcsvファイルを作成してください。<br>\n",
    "西暦年は1875から2018までとします。\n",
    "\n",
    "2. 作成したcsvファイルをExcelで読み込むとどうなるか確認してください。"
   ]
  },
  {
   "cell_type": "code",
   "execution_count": 36,
   "metadata": {},
   "outputs": [],
   "source": [
    "with open('tokyo-july-temps.csv', 'w') as f: #模範解答写してもダメなんだが？\n",
    "    i = 0\n",
    "    dataWriter = csv.writer(f)\n",
    "    for i in range(len(years)):\n",
    "        dataWriter.writerow([years[i], july_temps[i]])"
   ]
  },
  {
   "cell_type": "markdown",
   "metadata": {},
   "source": [
    "以下のセルによってテストしてください。（`years` と `july_temps` の値がそのままと仮定しています。）"
   ]
  },
  {
   "cell_type": "code",
   "execution_count": 37,
   "metadata": {},
   "outputs": [
    {
     "ename": "IndexError",
     "evalue": "list index out of range",
     "output_type": "error",
     "traceback": [
      "\u001b[1;31m---------------------------------------------------------------------------\u001b[0m",
      "\u001b[1;31mIndexError\u001b[0m                                Traceback (most recent call last)",
      "\u001b[1;32m<ipython-input-37-c279d7017598>\u001b[0m in \u001b[0;36m<module>\u001b[1;34m()\u001b[0m\n\u001b[0;32m      3\u001b[0m     \u001b[0mdataReader\u001b[0m \u001b[1;33m=\u001b[0m \u001b[0mcsv\u001b[0m\u001b[1;33m.\u001b[0m\u001b[0mreader\u001b[0m\u001b[1;33m(\u001b[0m\u001b[0mf\u001b[0m\u001b[1;33m)\u001b[0m\u001b[1;33m\u001b[0m\u001b[0m\n\u001b[0;32m      4\u001b[0m     \u001b[1;32mfor\u001b[0m \u001b[0mrow\u001b[0m \u001b[1;32min\u001b[0m \u001b[0mdataReader\u001b[0m\u001b[1;33m:\u001b[0m\u001b[1;33m\u001b[0m\u001b[0m\n\u001b[1;32m----> 5\u001b[1;33m         \u001b[1;32mif\u001b[0m \u001b[0mint\u001b[0m\u001b[1;33m(\u001b[0m\u001b[0mrow\u001b[0m\u001b[1;33m[\u001b[0m\u001b[1;36m0\u001b[0m\u001b[1;33m]\u001b[0m\u001b[1;33m)\u001b[0m \u001b[1;33m!=\u001b[0m \u001b[0myears\u001b[0m\u001b[1;33m[\u001b[0m\u001b[0mi\u001b[0m\u001b[1;33m]\u001b[0m \u001b[1;32mor\u001b[0m \u001b[0mabs\u001b[0m\u001b[1;33m(\u001b[0m\u001b[0mfloat\u001b[0m\u001b[1;33m(\u001b[0m\u001b[0mrow\u001b[0m\u001b[1;33m[\u001b[0m\u001b[1;36m1\u001b[0m\u001b[1;33m]\u001b[0m\u001b[1;33m)\u001b[0m\u001b[1;33m-\u001b[0m\u001b[0mjuly_temps\u001b[0m\u001b[1;33m[\u001b[0m\u001b[0mi\u001b[0m\u001b[1;33m]\u001b[0m\u001b[1;33m)\u001b[0m\u001b[1;33m>\u001b[0m\u001b[1;36m0.000001\u001b[0m\u001b[1;33m:\u001b[0m\u001b[1;33m\u001b[0m\u001b[0m\n\u001b[0m\u001b[0;32m      6\u001b[0m             \u001b[0mprint\u001b[0m\u001b[1;33m(\u001b[0m\u001b[1;34m\"error\"\u001b[0m\u001b[1;33m,\u001b[0m \u001b[0mint\u001b[0m\u001b[1;33m(\u001b[0m\u001b[0mrow\u001b[0m\u001b[1;33m[\u001b[0m\u001b[1;36m0\u001b[0m\u001b[1;33m]\u001b[0m\u001b[1;33m)\u001b[0m\u001b[1;33m,\u001b[0m \u001b[0mfloat\u001b[0m\u001b[1;33m(\u001b[0m\u001b[0mrow\u001b[0m\u001b[1;33m[\u001b[0m\u001b[1;36m1\u001b[0m\u001b[1;33m]\u001b[0m\u001b[1;33m)\u001b[0m\u001b[1;33m)\u001b[0m\u001b[1;33m\u001b[0m\u001b[0m\n\u001b[0;32m      7\u001b[0m         \u001b[0mi\u001b[0m \u001b[1;33m+=\u001b[0m \u001b[1;36m1\u001b[0m\u001b[1;33m\u001b[0m\u001b[0m\n",
      "\u001b[1;31mIndexError\u001b[0m: list index out of range"
     ]
    }
   ],
   "source": [
    "with open('tokyo-july-temps.csv', 'r') as f:\n",
    "    i = 0\n",
    "    dataReader = csv.reader(f)\n",
    "    for row in dataReader:\n",
    "        if int(row[0]) != years[i] or abs(float(row[1])-july_temps[i])>0.000001:\n",
    "            print(\"error\", int(row[0]), float(row[1]))\n",
    "        i += 1\n",
    "print(i== 144) # 1875年から2018年まで144年間分のデータがあるはずです"
   ]
  },
  {
   "cell_type": "markdown",
   "metadata": {
    "slideshow": {
     "slide_type": "slide"
    }
   },
   "source": [
    "## 練習\n",
    "\n",
    "整数データのみからなるcsvファイルの名前を受け取ると、そのcsvファイルの各行を読み込んで整数のリストを作り、\n",
    "ファイル全体の内容を、そのようなリストのリストとして返す関数 `csv_matrix(name)` を定義してください。\n",
    "\n",
    "例えば上で用いた `small.csv` には次のようなデータが入っています。\n",
    "\n",
    "\n",
    " 0列目 | 1列目 | 2列目 | 3列目 | 4列目 \n",
    "---|---|---|---|---\n",
    " 11 | 12 | 13 | 14 | 15 \n",
    " 21 | 22 | 23 | 24 | 25 \n",
    " 31 | 32 | 33 | 34 | 35 \n",
    "\n",
    "この`small.csv`の名前が引数として与えられた場合、\n",
    "\n",
    "```Python\n",
    "[[11, 12, 13, 14, 15], [21, 22, 23, 24, 25], [31, 32, 33, 34, 35]]\n",
    "```\n",
    "\n",
    "というリストを返します。"
   ]
  },
  {
   "cell_type": "code",
   "execution_count": 40,
   "metadata": {},
   "outputs": [],
   "source": [
    "def csv_matrix(name):\n",
    "    rows = []\n",
    "    with open(name, 'r') as f:\n",
    "        dataReader = csv.reader(f)\n",
    "        for row in dataReader:\n",
    "            rows.append([int(x) for x in row])\n",
    "    return rows"
   ]
  },
  {
   "cell_type": "markdown",
   "metadata": {},
   "source": [
    "以下のセルによってテストしてください。"
   ]
  },
  {
   "cell_type": "code",
   "execution_count": 41,
   "metadata": {},
   "outputs": [
    {
     "name": "stdout",
     "output_type": "stream",
     "text": [
      "True\n"
     ]
    }
   ],
   "source": [
    "print(csv_matrix(\"small.csv\") == [[11, 12, 13, 14, 15], [21, 22, 23, 24, 25], [31, 32, 33, 34, 35]])"
   ]
  },
  {
   "cell_type": "markdown",
   "metadata": {},
   "source": [
    "## 練習の解答"
   ]
  },
  {
   "cell_type": "code",
   "execution_count": null,
   "metadata": {},
   "outputs": [],
   "source": [
    "with open('tokyo-july-temps.csv', 'w') as f:\n",
    "    i = 0\n",
    "    dataWriter = csv.writer(f)\n",
    "    for i in range(len(years)):\n",
    "        dataWriter.writerow([years[i],july_temps[i]])"
   ]
  },
  {
   "cell_type": "code",
   "execution_count": null,
   "metadata": {},
   "outputs": [],
   "source": [
    "def csv_matrix(name):\n",
    "    rows = []\n",
    "    with open(name, 'r') as f:\n",
    "        dataReader = csv.reader(f)\n",
    "        for row in dataReader:\n",
    "            rows.append([int(x) for x in row])\n",
    "    return rows    "
   ]
  }
 ],
 "metadata": {
  "kernelspec": {
   "display_name": "Python 3",
   "language": "python",
   "name": "python3"
  },
  "language_info": {
   "codemirror_mode": {
    "name": "ipython",
    "version": 3
   },
   "file_extension": ".py",
   "mimetype": "text/x-python",
   "name": "python",
   "nbconvert_exporter": "python",
   "pygments_lexer": "ipython3",
   "version": "3.7.0"
  }
 },
 "nbformat": 4,
 "nbformat_minor": 2
}
