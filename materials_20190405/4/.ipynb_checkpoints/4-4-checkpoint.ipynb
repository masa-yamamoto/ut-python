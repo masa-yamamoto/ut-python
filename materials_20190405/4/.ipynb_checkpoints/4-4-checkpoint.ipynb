{
 "cells": [
  {
   "cell_type": "markdown",
   "metadata": {},
   "source": [
    "# Pythonプログラミング入門 第4回\n",
    "\n",
    "\n",
    "木構造のデータ形式について説明します"
   ]
  },
  {
   "cell_type": "markdown",
   "metadata": {},
   "source": [
    "# ▲木構造のデータ形式\n",
    "\n",
    "みなさん、Windowsではエクスプローラ、MacではFinderを使ってファイルを階層的に保存していますよね。<br>\n",
    "下の例では、Windowsで「ドキュメント（Documents)」という名前のフォルダの中に「Python入門」というフォルダを作り、\n",
    "その下にこの教材を置いた時の、エクスプローラの様子を表しています。\n",
    "\n",
    "![エクスプローラ](fig/4-4-Explore.png)\n"
   ]
  },
  {
   "cell_type": "markdown",
   "metadata": {},
   "source": [
    "これはJupyter Notebookでは以下のように見えます。\n",
    "\n",
    "![Jupyter Notebook](fig/4-4-jupyterTree.png)"
   ]
  },
  {
   "cell_type": "markdown",
   "metadata": {},
   "source": [
    "このようなデータ形式は以下のようにグラフであらわすこともできます。\n",
    "まるで木を逆さにしたような形に見えますね。<br>\n",
    "ですからこのようなデータの形式を「木構造」と呼びます。<br>\n",
    "また、一番根っこにあたるデータを「ルート（根）」、先端にあたるデータを「リーフ（葉）」、その間にあるデータを「ノード（節）」と呼びます。   \n",
    "\n",
    "![Jupyter Notebook tree](fig/4-4-jupyterTreeIllust.png)\n",
    "\n",
    "データの保存においては、ファイルはリーフ（葉）に相当し、フォルダはノード（節）に相当します。   \n",
    "ルートはハードディスクやUSBメモリなど記録媒体自体に対応することが多いです。  \n",
    "ハードディスクに入っているファイルと、USBメモリに入っているファイルは、それぞれ違う木に属するデータということです。"
   ]
  },
  {
   "cell_type": "markdown",
   "metadata": {},
   "source": [
    "## カレントディレクトリ\n",
    "\n",
    "4-1で`small.csv`という名前のファイルをオープンするときに、以下のように書きました。   \n",
    "\n",
    "``f = open('small.csv', 'r')``\n",
    "\n",
    "このとき、この`small.csv`というファイルはどこにあるのでしょうか？\n",
    "\n",
    "実は、プログラムを実行するときは、その実行環境はどこかのディレクトリを**カレントディレクトリ**としています。   \n",
    "Jupyter Notebookでは、そのnotebookが置かれでいるディレクトリをカレントディレクトリとします。  \n",
    "もし`sample.csv`がそのnotebookと同じフォルダではなく、そこに置かれた`tmp`という名前のフォルダの中に\n",
    "置かれているとすると、notebookとは同じ場所に`small.csv`が置かれていないので、   \n"
   ]
  },
  {
   "cell_type": "raw",
   "metadata": {},
   "source": [
    "---------------------------------------------------------------------------\n",
    "FileNotFoundError                         Traceback (most recent call last)\n",
    "<ipython-input-1-d72d4a8a8bc1> in <module>\n",
    "----> 1 f = open('small.csv', 'r')\n",
    "\n",
    "FileNotFoundError: [Errno 2] No such file or directory: 'small.csv'"
   ]
  },
  {
   "cell_type": "markdown",
   "metadata": {},
   "source": [
    "といったエラーが出て、ファイルのオープンに失敗するはずです。\n",
    "\n",
    "ではどうやったら「カレントディレクトリの下の`tmp`の下」にある「`small.csv`」を開けるのでしょうか？<br>\n",
    "これは次のように行います。<br>\n",
    "\n",
    "``f = open('tmp/small.csv', 'r')``\n",
    "\n",
    "このようにすることによって、ターミナルに「カレントディレクトリの下の`tmp`の下にある`small.csv`を開いてください」と指示することができます。  \n",
    "これは、カレントディレクトリから「`small.csv`」までの経路（行き方）を表したものなので**パス**とも呼びます。"
   ]
  },
  {
   "cell_type": "markdown",
   "metadata": {},
   "source": [
    "## 相対パスと絶対パス\n",
    "`tmp/small.csv`という表現では、カレントディレクトリから「`small.csv`」までのパスを表しています。<br>\n",
    "ここで、Jupyter Notebookでは、カレントディレクトリはnotebookの場所になるので、どの場所のnotebookを開いているかによってカレントディレクトリが変わり、それに応じて、同じファイルでもパスが変わります。<br>\n",
    "このようなパスの表現を**相対パス**と呼びます。<br>\n",
    "\n",
    "一方、`C:\\Users\\hagiya\\Douments\\Python入門\\small.csv`のように、ルートからパスを記した場合、\n",
    "カレントディレクトリの場所に関わらず、常に同じファイルを指すことができます。<br>\n",
    "このようなパスの表現を**絶対パス**と呼びます。\n",
    "\n",
    "ところで、カレントディレクトリより下にあるファイルは、そこまでに通るディレクトリ名をパスに書けばいいですが、\n",
    "その下にないファイルを指すにはどうしたらいいでしょうか？<br>\n",
    "たとえば下の図のようにカレントディレクトリが`C:\\Users\\hagiya\\Douments\\Python入門`のとき、\n",
    "`C:\\Users\\hagiya\\Douments\\メディアプログラミング入門\\imagelist.csv`を開きたい場合はどうしたらいいでしょう？\n",
    "\n",
    "![Jupyter Notebook tree](fig/4-4-jupyterTreeIllust2.png)\n",
    "\n",
    "実は、一つ上のディレクトリを`..（コンマ２つ）`で表現することができます。<br>\n",
    "上の例だと、<br>\n",
    "\n",
    "`f = open('..\\メディアプログラミング入門\\imagelist.csv', 'r')`  \n",
    "\n",
    "とすれば、`C:\\Users\\hagiya\\Douments\\メディアプログラミング入門\\imagelist.csv`を開くことができます。<br>\n",
    "`..`によって、「Python入門」から一段上の「Documents」に戻り、そこから「メディアプログラミング入門の下のimagelist.csv」と辿っているわけです。"
   ]
  },
  {
   "cell_type": "markdown",
   "metadata": {},
   "source": [
    "## 木構造によるデータ表現\n",
    "\n",
    "木構造はファイルやディレクトリの保存形式だけでなく、データの表現として幅広く利用されます。<br>\n",
    "たとえば家系図も木構造による表現です。「家系図」は英語で\"Family tree\"ですよね。\n",
    "\n",
    "![Family tree](fig/4-4-FamilyTree.png)\n",
    "\n",
    "このような構造を持つデータでは、まるで家系図のように、上位下位関係にあるデータ同士を「親子（parent/child)」と呼んだり、同位関係にあるものを「兄妹（siblings)」と呼んだりします。「祖先（ancestor)」や「子孫（desendant)」という表現も使われます。<br>\n",
    "データのグラフ構造におけるこのような表現は、実際に親子関係にあるかは関係ありません。<br>\n",
    "たとえば下の図は四肢動物の系統樹です。\n",
    "\n",
    "![tree](fig/4-4-PhylogeneticTree.png)\n",
    "\n",
    "データ構造的には、「有羊膜類」と「哺乳類」は親子関係にあるというわけです。"
   ]
  },
  {
   "cell_type": "markdown",
   "metadata": {},
   "source": [
    "## テキストによる木構造のデータ表現\n",
    "\n",
    "上のイラストのように毎回絵を描いて木構造を表せばわかりやすいですが面倒ですよね。<br>\n",
    "テキストでは以下のように表現することがあります。<br>\n",
    "今度は一番左にあるのがルートで、右に行くにしたがって分岐しています。"
   ]
  },
  {
   "cell_type": "raw",
   "metadata": {},
   "source": [
    "四肢動物\n",
    "　┃\n",
    "　┣両生類━カエル\n",
    "　┃\n",
    "　┃　　　　┏爬虫類┳ヘビ\n",
    "　┃　　　　┃　　　┗トリ\n",
    "　┗有羊膜類┫\n",
    "　　　　　　┃\n",
    "　　　　　　┗哺乳類┳ウサギ\n",
    "　　　　　　　　　　┣ネコ\n",
    "　　　　　　　　　　┗サル"
   ]
  },
  {
   "cell_type": "markdown",
   "metadata": {},
   "source": [
    "## 木構造のjson表現\n",
    "\n",
    "json形式のメリットの一つは、木構造のような入れ子（何かの中に何かが入っているという構造）を表現できることです。<br>\n",
    "上の例をjsonで表すと以下のようになります。"
   ]
  },
  {
   "cell_type": "raw",
   "metadata": {},
   "source": [
    "{\n",
    "\t\"四肢動物\": {\n",
    "\t\t\"両生類\": [\n",
    "\t\t\t\"カエル\"\n",
    "\t\t],\n",
    "\t\t\"有羊膜類\": {\n",
    "\t\t\t\"爬虫類\": [\n",
    "\t\t\t\t\"ヘビ\",\n",
    "\t\t\t\t\"トリ\"\n",
    "\t\t\t],\n",
    "\t\t\t\"哺乳類\": [\n",
    "\t\t\t\t\"ウサギ\",\n",
    "\t\t\t\t\"ネコ\",\n",
    "\t\t\t\t\"サル\"\n",
    "\t\t\t]\n",
    "\t\t}\n",
    "\t}\n",
    "}"
   ]
  }
 ],
 "metadata": {
  "kernelspec": {
   "display_name": "Python 3",
   "language": "python",
   "name": "python3"
  },
  "language_info": {
   "codemirror_mode": {
    "name": "ipython",
    "version": 3
   },
   "file_extension": ".py",
   "mimetype": "text/x-python",
   "name": "python",
   "nbconvert_exporter": "python",
   "pygments_lexer": "ipython3",
   "version": "3.7.0"
  }
 },
 "nbformat": 4,
 "nbformat_minor": 2
}
