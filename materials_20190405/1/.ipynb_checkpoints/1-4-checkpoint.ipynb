{
 "cells": [
  {
   "cell_type": "markdown",
   "metadata": {},
   "source": [
    "# Pythonプログラミング入門 第1回\n",
    "デバッグについて説明します\n",
    "\n",
    "参考\n",
    "\n",
    "- https://docs.python.org/ja/3/tutorial/errors.html"
   ]
  },
  {
   "cell_type": "markdown",
   "metadata": {},
   "source": [
    "# デバッグ\n",
    "\n",
    "プログラムに**バグ**（誤り）があって正しく実行できないときは、バグを取り除く**デバッグ**の作業が必要になります。\n",
    "\n",
    "そもそも、バグが出ないようにすることが大切です。\n",
    "例えば、以下に留意することでバグを防ぐことができます。\n",
    "\n",
    "- \"よい\"コードを書く\n",
    "    - コードに説明のコメントを入れる\n",
    "    - 1行の文字数、インデント、空白などのフォーマットに気をつける\n",
    "    - 変数や関数の名前を適当につけない\n",
    "    - グローバル変数に留意する\n",
    "    - コードに固有の\"マジックナンバー\"を使わず、変数を使う\n",
    "    - コード内でのコピーアンドペーストを避ける\n",
    "    - コード内の不要な処理は削除する\n",
    "    - コードの冗長性を減らすようにする    など\n",
    "    - 参考\n",
    "        - [Google Python Style Guide](http://works.surgo.jp/translation/pyguide.html)\n",
    "        - [Official Style Guide for Python Code](http://pep8-ja.readthedocs.io/ja/latest/)\n",
    "- 関数の単体テストを行う\n",
    "- 一つの関数には一つの機能・タスクを持たせるようにする\n",
    "\n",
    "など\n",
    "\n",
    "エラーには大きく分けて、**文法エラー**、**実行エラー**、**論理エラー**があります。以下、それぞれのエラーについて対処法を説明します。\n",
    "また `print` を用いたデバッグについても紹介します。"
   ]
  },
  {
   "cell_type": "markdown",
   "metadata": {},
   "source": [
    "## **文法エラー**：Syntax Errors\n",
    "1. まず、エラーメッセージを確認しましょう\n",
    "2. エラーメッセージの最終行を見て、それがSyntaxErrorであることを確認しましょう\n",
    "3. エラーとなっているコードの行数を確認しましょう\n",
    "4. そして、当該行付近のコードを注意深く確認しましょう\n",
    "\n",
    "よくある文法エラーの例：\n",
    "- クオーテーションや括弧の閉じ忘れ\n",
    "- コロンのつけ忘れ\n",
    "- `=` と `==` の混同\n",
    "- インデントの誤り\n",
    "- 全角の空白\n",
    "\n",
    "など"
   ]
  },
  {
   "cell_type": "code",
   "execution_count": 1,
   "metadata": {},
   "outputs": [
    {
     "ename": "SyntaxError",
     "evalue": "EOL while scanning string literal (<ipython-input-1-c1b5b7f1f4a3>, line 1)",
     "output_type": "error",
     "traceback": [
      "\u001b[1;36m  File \u001b[1;32m\"<ipython-input-1-c1b5b7f1f4a3>\"\u001b[1;36m, line \u001b[1;32m1\u001b[0m\n\u001b[1;33m    print(\"This is the error)\u001b[0m\n\u001b[1;37m                             ^\u001b[0m\n\u001b[1;31mSyntaxError\u001b[0m\u001b[1;31m:\u001b[0m EOL while scanning string literal\n"
     ]
    }
   ],
   "source": [
    "print(\"This is the error)"
   ]
  },
  {
   "cell_type": "code",
   "execution_count": 2,
   "metadata": {},
   "outputs": [
    {
     "ename": "SyntaxError",
     "evalue": "invalid character in identifier (<ipython-input-2-6a1d737d6e97>, line 1)",
     "output_type": "error",
     "traceback": [
      "\u001b[1;36m  File \u001b[1;32m\"<ipython-input-2-6a1d737d6e97>\"\u001b[1;36m, line \u001b[1;32m1\u001b[0m\n\u001b[1;33m    1 +　1\u001b[0m\n\u001b[1;37m       　^\u001b[0m\n\u001b[1;31mSyntaxError\u001b[0m\u001b[1;31m:\u001b[0m invalid character in identifier\n"
     ]
    }
   ],
   "source": [
    "1 +　1"
   ]
  },
  {
   "cell_type": "markdown",
   "metadata": {},
   "source": [
    "## **実行エラー**：Runtime Errors\n",
    "1. まず、エラーメッセージを確認しましょう\n",
    "2. エラーメッセージの最終行を見て、そのエラーのタイプを確認しましょう\n",
    "3. エラーとなっているコードの行数を確認しましょう\n",
    "4. そして、当該行付近のコードについて、どの部分が実行エラーのタイプに関係しているか確認しましょう。もし複数の原因がありそうであれば、行を分割、改行して再度実行し、エラーを確認しましょう\n",
    "5. 原因がわからない場合は、 `print` を挿入して処理の入出力の内容を確認しましょう\n",
    "\n",
    "よくある実行エラーの例：\n",
    "- 文字列やリストの要素エラー\n",
    "- 変数名・関数名の打ち間違え\n",
    "- 無限の繰り返し\n",
    "- 型と処理の不整合\n",
    "- ゼロ分割\n",
    "- ファイルの入出力誤り など"
   ]
  },
  {
   "cell_type": "code",
   "execution_count": 4,
   "metadata": {},
   "outputs": [
    {
     "ename": "ZeroDivisionError",
     "evalue": "division by zero",
     "output_type": "error",
     "traceback": [
      "\u001b[1;31m---------------------------------------------------------------------------\u001b[0m",
      "\u001b[1;31mZeroDivisionError\u001b[0m                         Traceback (most recent call last)",
      "\u001b[1;32m<ipython-input-4-2fc232d1511a>\u001b[0m in \u001b[0;36m<module>\u001b[1;34m()\u001b[0m\n\u001b[1;32m----> 1\u001b[1;33m \u001b[0mprint\u001b[0m\u001b[1;33m(\u001b[0m\u001b[1;36m1\u001b[0m\u001b[1;33m/\u001b[0m\u001b[1;36m0\u001b[0m\u001b[1;33m)\u001b[0m\u001b[1;33m\u001b[0m\u001b[0m\n\u001b[0m",
      "\u001b[1;31mZeroDivisionError\u001b[0m: division by zero"
     ]
    }
   ],
   "source": [
    "print(1/0)"
   ]
  },
  {
   "cell_type": "markdown",
   "metadata": {},
   "source": [
    "## **論理エラー**：Logical Errors\n",
    "プログラムを実行できるが、意図する結果と異なる動作をする際\n",
    "1. 入力に対する期待される出力と実際の出力を確認しましょう\n",
    "2. コードを読み進めながら、期待する処理と異なるところを見つけましょう。必要であれば、 `print` を挿入して処理の入出力の内容を確認しましょう"
   ]
  },
  {
   "cell_type": "markdown",
   "metadata": {},
   "source": [
    "## `print` によるデバッグ\n",
    "`print` を用いたデバッグについて紹介しましょう。\n",
    "以下の関数 `median(x,y,z)` は、`x` と `y` と `z` の中間値（真ん中の値）を求めようとするものです。\n",
    "`x` と `y` と `z` は相異なる数であると仮定します。"
   ]
  },
  {
   "cell_type": "code",
   "execution_count": 5,
   "metadata": {},
   "outputs": [],
   "source": [
    "def median(x,y,z):\n",
    "    if x>y:\n",
    "        x = y\n",
    "        y = x\n",
    "    if z<x:\n",
    "        return x\n",
    "    if z<y:\n",
    "        return z\n",
    "    return y"
   ]
  },
  {
   "cell_type": "code",
   "execution_count": 6,
   "metadata": {},
   "outputs": [
    {
     "data": {
      "text/plain": [
       "1"
      ]
     },
     "execution_count": 6,
     "metadata": {},
     "output_type": "execute_result"
    }
   ],
   "source": [
    "median(3,1,2)"
   ]
  },
  {
   "cell_type": "markdown",
   "metadata": {},
   "source": [
    "このようにこのプログラムは間違っています。最初のif文で `x>y` のときに `x` と `y` を交換しようとしているのですが、\n",
    "それがうまく行っていないようです。\n",
    "そこで、最初のif文の後に `print` を入れて、`x` と `y` の値を表示させましょう。"
   ]
  },
  {
   "cell_type": "code",
   "execution_count": 7,
   "metadata": {},
   "outputs": [],
   "source": [
    "def median(x,y,z):\n",
    "    if x>y:\n",
    "        x = y\n",
    "        y = x\n",
    "    print(x,y)\n",
    "    if z<x:\n",
    "        return x\n",
    "    if z<y:\n",
    "        return z\n",
    "    return y"
   ]
  },
  {
   "cell_type": "code",
   "execution_count": 8,
   "metadata": {},
   "outputs": [
    {
     "name": "stdout",
     "output_type": "stream",
     "text": [
      "1 1\n"
     ]
    },
    {
     "data": {
      "text/plain": [
       "1"
      ]
     },
     "execution_count": 8,
     "metadata": {},
     "output_type": "execute_result"
    }
   ],
   "source": [
    "median(3,1,2)"
   ]
  },
  {
   "cell_type": "markdown",
   "metadata": {},
   "source": [
    "`x` と `y` が同じ値になってしまっています。そこで、以下のように修正します。"
   ]
  },
  {
   "cell_type": "code",
   "execution_count": 9,
   "metadata": {},
   "outputs": [],
   "source": [
    "def median(x,y,z):\n",
    "    if x>y:\n",
    "        w = x\n",
    "        x = y\n",
    "        y = w\n",
    "    print(x,y)\n",
    "    if z<x:\n",
    "        return x\n",
    "    if z<y:\n",
    "        return z\n",
    "    return y"
   ]
  },
  {
   "cell_type": "code",
   "execution_count": 10,
   "metadata": {},
   "outputs": [
    {
     "name": "stdout",
     "output_type": "stream",
     "text": [
      "1 3\n"
     ]
    },
    {
     "data": {
      "text/plain": [
       "2"
      ]
     },
     "execution_count": 10,
     "metadata": {},
     "output_type": "execute_result"
    }
   ],
   "source": [
    "median(3,1,2)"
   ]
  },
  {
   "cell_type": "markdown",
   "metadata": {},
   "source": [
    "正しく動きました。 `print` は削除してもよいのですが、今後のために `#` を付けてコメントアウトして残しておきます。"
   ]
  },
  {
   "cell_type": "code",
   "execution_count": 11,
   "metadata": {},
   "outputs": [],
   "source": [
    "def median(x,y,z):\n",
    "    if x>y:\n",
    "        w = x\n",
    "        x = y\n",
    "        y = w\n",
    "    #print(x,y)\n",
    "    if z<x:\n",
    "        return x\n",
    "    if z<y:\n",
    "        return z\n",
    "    return y"
   ]
  },
  {
   "cell_type": "code",
   "execution_count": 12,
   "metadata": {},
   "outputs": [
    {
     "data": {
      "text/plain": [
       "2"
      ]
     },
     "execution_count": 12,
     "metadata": {},
     "output_type": "execute_result"
    }
   ],
   "source": [
    "median(3,1,2)"
   ]
  },
  {
   "cell_type": "markdown",
   "metadata": {},
   "source": [
    "## ▲assert文によるデバッグ\n",
    "\n",
    "論理エラーを見つける上で有用なのが、assert文です。\n",
    "これは引数となる条件式が偽であった時に、`AssertionError`が発生してプログラムが停止する仕組みです。\n",
    "次に例を示します。"
   ]
  },
  {
   "cell_type": "code",
   "execution_count": 13,
   "metadata": {},
   "outputs": [
    {
     "ename": "AssertionError",
     "evalue": "",
     "output_type": "error",
     "traceback": [
      "\u001b[1;31m---------------------------------------------------------------------------\u001b[0m",
      "\u001b[1;31mAssertionError\u001b[0m                            Traceback (most recent call last)",
      "\u001b[1;32m<ipython-input-13-c9e6b0bd682b>\u001b[0m in \u001b[0;36m<module>\u001b[1;34m()\u001b[0m\n\u001b[0;32m      5\u001b[0m \u001b[1;33m\u001b[0m\u001b[0m\n\u001b[0;32m      6\u001b[0m \u001b[0msqrt\u001b[0m\u001b[1;33m(\u001b[0m\u001b[1;36m2\u001b[0m\u001b[1;33m)\u001b[0m\u001b[1;33m\u001b[0m\u001b[0m\n\u001b[1;32m----> 7\u001b[1;33m \u001b[0msqrt\u001b[0m\u001b[1;33m(\u001b[0m\u001b[1;33m-\u001b[0m\u001b[1;36m2\u001b[0m\u001b[1;33m)\u001b[0m\u001b[1;33m\u001b[0m\u001b[0m\n\u001b[0m",
      "\u001b[1;32m<ipython-input-13-c9e6b0bd682b>\u001b[0m in \u001b[0;36msqrt\u001b[1;34m(x)\u001b[0m\n\u001b[0;32m      1\u001b[0m \u001b[1;32mimport\u001b[0m \u001b[0mmath\u001b[0m\u001b[1;33m\u001b[0m\u001b[0m\n\u001b[0;32m      2\u001b[0m \u001b[1;32mdef\u001b[0m \u001b[0msqrt\u001b[0m\u001b[1;33m(\u001b[0m\u001b[0mx\u001b[0m\u001b[1;33m)\u001b[0m\u001b[1;33m:\u001b[0m\u001b[1;33m\u001b[0m\u001b[0m\n\u001b[1;32m----> 3\u001b[1;33m     \u001b[1;32massert\u001b[0m \u001b[0mx\u001b[0m \u001b[1;33m>=\u001b[0m \u001b[1;36m0\u001b[0m\u001b[1;33m\u001b[0m\u001b[0m\n\u001b[0m\u001b[0;32m      4\u001b[0m     \u001b[1;32mreturn\u001b[0m \u001b[0mmath\u001b[0m\u001b[1;33m.\u001b[0m\u001b[0msqrt\u001b[0m\u001b[1;33m(\u001b[0m\u001b[0mx\u001b[0m\u001b[1;33m)\u001b[0m\u001b[1;33m\u001b[0m\u001b[0m\n\u001b[0;32m      5\u001b[0m \u001b[1;33m\u001b[0m\u001b[0m\n",
      "\u001b[1;31mAssertionError\u001b[0m: "
     ]
    }
   ],
   "source": [
    "import math\n",
    "def sqrt(x):\n",
    "    assert x >= 0\n",
    "    return math.sqrt(x)\n",
    "\n",
    "sqrt(2)\n",
    "sqrt(-2)"
   ]
  },
  {
   "cell_type": "markdown",
   "metadata": {},
   "source": [
    "ここで定義した`sqrt`関数は、平方根を取る関数です。\n",
    "非負の数しかとらないことを前提とした関数なので、`assert x >= 0`と前提をプログラムとして記述しています。\n",
    "`sqrt(2)`の呼出しでは、この前提を満たし、問題なく計算されます。\n",
    "しかし、`sqrt(-2)`の呼出しでは、この前提を満たさないため、assert文が`AssertionError`を出しています。\n",
    "このエラーメッセージによって、どの部分のどのような前提が満たされなかったかが簡単に分かります。\n",
    "これは、論理エラーの原因の絞り込みに役立ちます。"
   ]
  }
 ],
 "metadata": {
  "kernelspec": {
   "display_name": "Python 3",
   "language": "python",
   "name": "python3"
  },
  "language_info": {
   "codemirror_mode": {
    "name": "ipython",
    "version": 3
   },
   "file_extension": ".py",
   "mimetype": "text/x-python",
   "name": "python",
   "nbconvert_exporter": "python",
   "pygments_lexer": "ipython3",
   "version": "3.7.0"
  }
 },
 "nbformat": 4,
 "nbformat_minor": 2
}
