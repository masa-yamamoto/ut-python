{
 "cells": [
  {
   "cell_type": "markdown",
   "metadata": {
    "slideshow": {
     "slide_type": "slide"
    }
   },
   "source": [
    "# Pythonプログラミング入門 第1回\n",
    "論理・比較演算と条件分岐の基礎について説明します\n",
    "\n",
    "参考\n",
    "\n",
    "- https://docs.python.org/ja/3/tutorial/controlflow.html\n",
    "- https://docs.python.org/ja/3/reference/compound_stmts.html\n",
    "- https://docs.python.org/ja/3/library/stdtypes.html"
   ]
  },
  {
   "cell_type": "markdown",
   "metadata": {},
   "source": [
    "# 論理・比較演算と条件分岐の基礎"
   ]
  },
  {
   "cell_type": "markdown",
   "metadata": {
    "slideshow": {
     "slide_type": "slide"
    }
   },
   "source": [
    "## `if` による条件分岐\n",
    "制御構造については第3回で本格的に扱いますが、ここでは **`if`** による**条件分岐**（if文）の基本的な形だけ紹介します。"
   ]
  },
  {
   "cell_type": "code",
   "execution_count": 1,
   "metadata": {
    "slideshow": {
     "slide_type": "-"
    }
   },
   "outputs": [],
   "source": [
    "def bmax(a,b):\n",
    "    if a > b: \n",
    "        return a \n",
    "    else:\n",
    "        return b"
   ]
  },
  {
   "cell_type": "markdown",
   "metadata": {
    "slideshow": {
     "slide_type": "-"
    }
   },
   "source": [
    "上の関数 `bmax` は、二つの入力の大きい方\n",
    "（正確には小さくない方）を返します。"
   ]
  },
  {
   "cell_type": "markdown",
   "metadata": {
    "slideshow": {
     "slide_type": "skip"
    }
   },
   "source": [
    "ここで `if` による条件分岐が用いられています。\n",
    "\n",
    "----\n",
    "```Python\n",
    "    if a > b: \n",
    "        return a \n",
    "    else:\n",
    "        return b\n",
    "```\n",
    "----\n",
    "`a` が `b` より大きければ `a` が返され、そうでなければ、`b` が返されます。\n",
    "\n",
    "ここで、`return a` が、`if` より右にインデントされていることに注意してください。\n",
    "`return a` は、`a > b` が成り立つときのみ実行されます。\n",
    "\n",
    "**`else`** は `if` の右の条件が成り立たない場合を示しています。\n",
    "`else:` として、必ず `:` が付くことに注意してください。\n",
    "\n",
    "また、`return b` も、`else` より右にインデントされていることに注意してください。\n",
    "`if` と `else` は同じインデントになります。"
   ]
  },
  {
   "cell_type": "code",
   "execution_count": 2,
   "metadata": {
    "slideshow": {
     "slide_type": "slide"
    }
   },
   "outputs": [
    {
     "data": {
      "text/plain": [
       "5"
      ]
     },
     "execution_count": 2,
     "metadata": {},
     "output_type": "execute_result"
    }
   ],
   "source": [
    "bmax(3,5)"
   ]
  },
  {
   "cell_type": "markdown",
   "metadata": {},
   "source": [
    "関数の中で `return` と式が実行されますと、関数は即座に返りますので、\n",
    "関数定義の中のその後の部分は実行されません。\n",
    "\n",
    "たとえば、上の条件分岐は以下のように書くこともできます。\n",
    "\n",
    "----\n",
    "```Python\n",
    "    if a > b: \n",
    "        return a \n",
    "    return b\n",
    "```\n",
    "----\n",
    "\n",
    "ここでは、`if` から始まる条件分岐には `else:` の部分がありません。\n",
    "条件分岐の後に `return b` が続いています。\n",
    "（`if` と `return b` のインデントは同じです。）\n",
    "\n",
    "`a > b` が成り立っていれば、`return a` が実行されて a の値が返ります。\n",
    "したがって、その次の `return b` は実行されません。\n",
    "\n",
    "`a > b` が成り立っていなければ、`return a` は実行されません。\n",
    "これで条件分岐は終わりますので、その次にある `return b` が実行されます。"
   ]
  },
  {
   "cell_type": "markdown",
   "metadata": {
    "slideshow": {
     "slide_type": "skip"
    }
   },
   "source": [
    "なお、Python では、`max` という関数があらかじめ定義されています。"
   ]
  },
  {
   "cell_type": "code",
   "execution_count": 3,
   "metadata": {
    "slideshow": {
     "slide_type": "skip"
    }
   },
   "outputs": [
    {
     "data": {
      "text/plain": [
       "5"
      ]
     },
     "execution_count": 3,
     "metadata": {},
     "output_type": "execute_result"
    }
   ],
   "source": [
    "max(3,5)"
   ]
  },
  {
   "cell_type": "markdown",
   "metadata": {
    "slideshow": {
     "slide_type": "slide"
    }
   },
   "source": [
    "## 様々な条件\n",
    "`if` の右などに来る条件として様々なものを書くことができます。これらの条件には **`>`** や **`<`** などの**比較演算子**が含まれています。\n",
    "\n",
    "```Python\n",
    "    x < y         # x は y より小さい\n",
    "    x <= y        # x は y 以下\n",
    "    x > y         # x は y より大きい\n",
    "    x >= y        # x は y 以上\n",
    "    x == y        # x と y は等しい\n",
    "    x != y        # x と y は等しくない\n",
    "```\n",
    "\n",
    "特に等しいかどうかの比較には **`==`** という演算子が使われることに注意してください。\n",
    "`=` は代入の演算子です。\n",
    "\n",
    "**`<=`** は小さいか等しいか、**`>=`** は大きいか等しいかを表します。\n",
    "**`!=`** は等しくないことを表します。"
   ]
  },
  {
   "cell_type": "markdown",
   "metadata": {
    "slideshow": {
     "slide_type": "slide"
    }
   },
   "source": [
    "さらに、このような基本的な条件を、\n",
    "**`and`** と **`or`** を用いて組み合わせることができます。\n",
    "\n",
    "```Python\n",
    "    i >= 0 and j > 0   # i は 0 以上で、かつ、j は 0 より大きい\n",
    "    i < 0 or j > 0     # i は 0 より小さいか、または、j は 0 より大きい\n",
    "```\n",
    "\n",
    "i が 1 または 2 または 3 である、という条件は以下のようになります。\n",
    "\n",
    "```Python\n",
    "    i == 1 or i == 2 or i == 3\n",
    "```\n",
    "\n",
    "これを `i == 1 or 2 or 3` と書くことはできませんので、注意してください。\n",
    "\n",
    "また、**`not`** によって条件の否定をとることもできます。\n",
    "\n",
    "```Python\n",
    "    not x < y          # x は y より小さくない（x は y 以上）\n",
    "```"
   ]
  },
  {
   "cell_type": "markdown",
   "metadata": {
    "slideshow": {
     "slide_type": "skip"
    }
   },
   "source": [
    "比較演算子は、以下のように連続して用いることもできます。"
   ]
  },
  {
   "cell_type": "code",
   "execution_count": 4,
   "metadata": {
    "slideshow": {
     "slide_type": "skip"
    }
   },
   "outputs": [
    {
     "data": {
      "text/plain": [
       "True"
      ]
     },
     "execution_count": 4,
     "metadata": {},
     "output_type": "execute_result"
    }
   ],
   "source": [
    "1 < 2 < 3"
   ]
  },
  {
   "cell_type": "code",
   "execution_count": 5,
   "metadata": {
    "slideshow": {
     "slide_type": "skip"
    }
   },
   "outputs": [
    {
     "data": {
      "text/plain": [
       "True"
      ]
     },
     "execution_count": 5,
     "metadata": {},
     "output_type": "execute_result"
    }
   ],
   "source": [
    "3 >= 2 < 5"
   ]
  },
  {
   "cell_type": "markdown",
   "metadata": {
    "slideshow": {
     "slide_type": "slide"
    }
   },
   "source": [
    "## 練習\n",
    "1. 数値 `x` の絶対値を求める関数 `absolute(x)` を定義してください。<br>\n",
    "   （Pythonには `abs` という関数が用意されていますが。）\n",
    "2. `x` が正ならば 1、負ならば -1、ゼロならば 0 を返す `sign(x)` という関数を定義してください。\n",
    "\n",
    "定義ができたら、その次のセルを実行して、True のみが表示されることを確認してください。"
   ]
  },
  {
   "cell_type": "code",
   "execution_count": 6,
   "metadata": {},
   "outputs": [],
   "source": [
    "def absolute(x):\n",
    "    if x >= 0:\n",
    "        return x\n",
    "    else:\n",
    "        return -x"
   ]
  },
  {
   "cell_type": "code",
   "execution_count": 7,
   "metadata": {},
   "outputs": [],
   "source": [
    "def sign(x):\n",
    "    if x>0:\n",
    "        return 1\n",
    "    if x<0:\n",
    "        return -1\n",
    "    else:\n",
    "        return 0"
   ]
  },
  {
   "cell_type": "code",
   "execution_count": 8,
   "metadata": {},
   "outputs": [
    {
     "name": "stdout",
     "output_type": "stream",
     "text": [
      "True\n",
      "True\n",
      "True\n",
      "True\n",
      "True\n",
      "True\n"
     ]
    }
   ],
   "source": [
    "print(absolute(5) == 5)\n",
    "print(absolute(-5) == 5)\n",
    "print(absolute(0) == 0)\n",
    "print(sign(5) == 1)\n",
    "print(sign(-5) == -1)\n",
    "print(sign(0) == 0)"
   ]
  },
  {
   "cell_type": "markdown",
   "metadata": {
    "slideshow": {
     "slide_type": "slide"
    }
   },
   "source": [
    "## 真理値を返す関数\n",
    "ここで、真理値を返す関数について説明します。\n",
    "\n",
    "Python が扱うデータには様々な種類があります。\n",
    "数については既に見て来ました。\n",
    "\n",
    "**真理値**とは、 **`True`** または **`False`** のどちらかの値のことです。\n",
    "これらは変数ではなく、組み込み定数であることに注意してください。\n",
    "\n",
    "- `True` は、正しいこと（**真**）を表します。\n",
    "- `False` は、間違ったこと（**偽**）を表します。\n",
    "\n",
    "実は、`if` の後の条件の式は、`True` か `False` を値として持ちます。"
   ]
  },
  {
   "cell_type": "code",
   "execution_count": 9,
   "metadata": {
    "slideshow": {
     "slide_type": "slide"
    }
   },
   "outputs": [],
   "source": [
    "x = 3"
   ]
  },
  {
   "cell_type": "code",
   "execution_count": 10,
   "metadata": {
    "slideshow": {
     "slide_type": "-"
    }
   },
   "outputs": [
    {
     "data": {
      "text/plain": [
       "True"
      ]
     },
     "execution_count": 10,
     "metadata": {},
     "output_type": "execute_result"
    }
   ],
   "source": [
    "x > 1"
   ]
  },
  {
   "cell_type": "markdown",
   "metadata": {
    "slideshow": {
     "slide_type": "-"
    }
   },
   "source": [
    "上のように、`x` に 3 を代入しておくと、\n",
    "`x > 1` という条件は成り立ちますが、\n",
    "`x > 1` という式の値は `True` になるのです。"
   ]
  },
  {
   "cell_type": "code",
   "execution_count": 11,
   "metadata": {
    "slideshow": {
     "slide_type": "-"
    }
   },
   "outputs": [
    {
     "data": {
      "text/plain": [
       "False"
      ]
     },
     "execution_count": 11,
     "metadata": {},
     "output_type": "execute_result"
    }
   ],
   "source": [
    "x < 1"
   ]
  },
  {
   "cell_type": "code",
   "execution_count": 12,
   "metadata": {
    "slideshow": {
     "slide_type": "-"
    }
   },
   "outputs": [
    {
     "data": {
      "text/plain": [
       "False"
      ]
     },
     "execution_count": 12,
     "metadata": {},
     "output_type": "execute_result"
    }
   ],
   "source": [
    "x%2 == 0"
   ]
  },
  {
   "cell_type": "markdown",
   "metadata": {
    "slideshow": {
     "slide_type": "slide"
    }
   },
   "source": [
    "そして、真理値を返す関数を定義することができます。"
   ]
  },
  {
   "cell_type": "code",
   "execution_count": 13,
   "metadata": {
    "slideshow": {
     "slide_type": "-"
    }
   },
   "outputs": [],
   "source": [
    "def is_even(x):\n",
    "    return x%2 == 0"
   ]
  },
  {
   "cell_type": "markdown",
   "metadata": {
    "slideshow": {
     "slide_type": "skip"
    }
   },
   "source": [
    "この関数は、`x` を 2 で割った余りが 0 に等しいかどうかという\n",
    "条件の結果である真理値を返します。\n",
    "\n",
    "`x == y` は、`x` と `y` が等しいかどうかという条件です。\n",
    "この関数は、この条件の結果である真理値を `return` によって返しています。"
   ]
  },
  {
   "cell_type": "code",
   "execution_count": 14,
   "metadata": {
    "slideshow": {
     "slide_type": "-"
    }
   },
   "outputs": [
    {
     "data": {
      "text/plain": [
       "True"
      ]
     },
     "execution_count": 14,
     "metadata": {},
     "output_type": "execute_result"
    }
   ],
   "source": [
    "is_even(2)"
   ]
  },
  {
   "cell_type": "code",
   "execution_count": 15,
   "metadata": {
    "slideshow": {
     "slide_type": "-"
    }
   },
   "outputs": [
    {
     "data": {
      "text/plain": [
       "False"
      ]
     },
     "execution_count": 15,
     "metadata": {},
     "output_type": "execute_result"
    }
   ],
   "source": [
    "is_even(3)"
   ]
  },
  {
   "cell_type": "markdown",
   "metadata": {
    "slideshow": {
     "slide_type": "slide"
    }
   },
   "source": [
    "このような関数は、`if` の後に使うことができます。"
   ]
  },
  {
   "cell_type": "code",
   "execution_count": 16,
   "metadata": {
    "slideshow": {
     "slide_type": "-"
    }
   },
   "outputs": [],
   "source": [
    "def is_odd(x):\n",
    "    if is_even(x):\n",
    "        return False\n",
    "    else:\n",
    "        return True"
   ]
  },
  {
   "cell_type": "markdown",
   "metadata": {
    "slideshow": {
     "slide_type": "skip"
    }
   },
   "source": [
    "このように、直接に `True` や `False` を返すこともできます。"
   ]
  },
  {
   "cell_type": "code",
   "execution_count": 17,
   "metadata": {
    "slideshow": {
     "slide_type": "-"
    }
   },
   "outputs": [
    {
     "data": {
      "text/plain": [
       "False"
      ]
     },
     "execution_count": 17,
     "metadata": {},
     "output_type": "execute_result"
    }
   ],
   "source": [
    "is_odd(2)"
   ]
  },
  {
   "cell_type": "code",
   "execution_count": 18,
   "metadata": {
    "slideshow": {
     "slide_type": "-"
    }
   },
   "outputs": [
    {
     "data": {
      "text/plain": [
       "True"
      ]
     },
     "execution_count": 18,
     "metadata": {},
     "output_type": "execute_result"
    }
   ],
   "source": [
    "is_odd(3)"
   ]
  },
  {
   "cell_type": "markdown",
   "metadata": {
    "slideshow": {
     "slide_type": "slide"
    }
   },
   "source": [
    "次の関数 `tnpo(x)` は、`x` が偶数ならば `x` を 2 で割った商を返し、\n",
    "奇数ならば `3*x+1` を返します。"
   ]
  },
  {
   "cell_type": "code",
   "execution_count": 24,
   "metadata": {
    "slideshow": {
     "slide_type": "-"
    }
   },
   "outputs": [],
   "source": [
    "def tnpo(x):\n",
    "    if is_even(x):\n",
    "        return x//2\n",
    "    else:\n",
    "        return 3*x+1"
   ]
  },
  {
   "cell_type": "markdown",
   "metadata": {
    "slideshow": {
     "slide_type": "-"
    }
   },
   "source": [
    "n に 10 を入れておいて、"
   ]
  },
  {
   "cell_type": "code",
   "execution_count": 25,
   "metadata": {
    "slideshow": {
     "slide_type": "-"
    }
   },
   "outputs": [],
   "source": [
    "n = 10"
   ]
  },
  {
   "cell_type": "markdown",
   "metadata": {
    "slideshow": {
     "slide_type": "-"
    }
   },
   "source": [
    "次のセルを繰り返し実行してみましょう。"
   ]
  },
  {
   "cell_type": "code",
   "execution_count": 34,
   "metadata": {
    "slideshow": {
     "slide_type": "-"
    }
   },
   "outputs": [
    {
     "data": {
      "text/plain": [
       "1"
      ]
     },
     "execution_count": 34,
     "metadata": {},
     "output_type": "execute_result"
    }
   ],
   "source": [
    "n = tnpo(n)\n",
    "n"
   ]
  },
  {
   "cell_type": "markdown",
   "metadata": {
    "slideshow": {
     "slide_type": "skip"
    }
   },
   "source": [
    "## ▲再帰\n",
    "関数 `tnpo(n)` は `n` が偶数なら 1/2 倍、奇数なら 3 倍して 1 加えた数を返します。\n",
    "\n",
    "数学者Collatzはどんな整数 `n` が与えられたときでも、\n",
    "この関数を使って数を変化させてゆくと、いずれ 1 になると予想しました。\n",
    "\n",
    "たとえば 3 から始めた場合は 3 ⇒ 10 ⇒ 5 ⇒ 16 ⇒ 8 ⇒ 4 ⇒ 2 ⇒ 1 となります。\n",
    "\n",
    "そこで `n` から上の手順で数を変化させて1 になるまでの回数を `collatz(n)` とします。\n",
    "たとえば `collatz(3)`=7、`collatz(5)`=5、`collatz(16)`=4 です。\n",
    "\n",
    "`collatz` は以下のように定義することができます。\n",
    "この関数は、自分自身を参照する再帰的な関数です。\n",
    "\n",
    "一般に**再帰**とは、定義しようとする概念自体を参照する定義のことです。"
   ]
  },
  {
   "cell_type": "code",
   "execution_count": 35,
   "metadata": {
    "slideshow": {
     "slide_type": "skip"
    }
   },
   "outputs": [],
   "source": [
    "def collatz(n):\n",
    "    if n==1:\n",
    "        return 0\n",
    "    else:\n",
    "        return collatz(tnpo(n)) + 1"
   ]
  },
  {
   "cell_type": "code",
   "execution_count": 36,
   "metadata": {
    "slideshow": {
     "slide_type": "skip"
    }
   },
   "outputs": [
    {
     "data": {
      "text/plain": [
       "7"
      ]
     },
     "execution_count": 36,
     "metadata": {},
     "output_type": "execute_result"
    }
   ],
   "source": [
    "collatz(3)"
   ]
  },
  {
   "cell_type": "markdown",
   "metadata": {
    "slideshow": {
     "slide_type": "skip"
    }
   },
   "source": [
    "## ▲条件として使われる他の値\n",
    "`True` と `False` の他に、他の種類のデータも、条件としても用いることができます。\n",
    "\n",
    "たとえば:\n",
    "- 数のうち、0 や 0.0 は偽、その他は真とみなされます\n",
    "- 文字列では、空文字列 `''` のみ偽、その他は真とみなされます\n",
    "- 組み込み定数 `None` は偽とみなされます。"
   ]
  },
  {
   "cell_type": "code",
   "execution_count": 37,
   "metadata": {
    "slideshow": {
     "slide_type": "skip"
    }
   },
   "outputs": [
    {
     "name": "stdout",
     "output_type": "stream",
     "text": [
      "NG\n"
     ]
    }
   ],
   "source": [
    "if 0:\n",
    "    print('OK')\n",
    "else:\n",
    "    print('NG')"
   ]
  },
  {
   "cell_type": "code",
   "execution_count": 38,
   "metadata": {
    "slideshow": {
     "slide_type": "skip"
    }
   },
   "outputs": [
    {
     "name": "stdout",
     "output_type": "stream",
     "text": [
      "OK\n"
     ]
    }
   ],
   "source": [
    "if -1.1:\n",
    "    print('OK')\n",
    "else:\n",
    "    print('NG')"
   ]
  },
  {
   "cell_type": "markdown",
   "metadata": {
    "slideshow": {
     "slide_type": "skip"
    }
   },
   "source": [
    "## ▲None\n",
    "**`None`** というデータがあります。\n",
    "\n",
    "セルの中の式を評価した結果が `None` になると、\n",
    "何も表示されません。"
   ]
  },
  {
   "cell_type": "code",
   "execution_count": 39,
   "metadata": {
    "slideshow": {
     "slide_type": "skip"
    }
   },
   "outputs": [],
   "source": [
    "None"
   ]
  },
  {
   "cell_type": "markdown",
   "metadata": {
    "slideshow": {
     "slide_type": "skip"
    }
   },
   "source": [
    "print で無理やり表示させると以下のようになります。"
   ]
  },
  {
   "cell_type": "code",
   "execution_count": 40,
   "metadata": {
    "scrolled": true,
    "slideshow": {
     "slide_type": "skip"
    }
   },
   "outputs": [
    {
     "name": "stdout",
     "output_type": "stream",
     "text": [
      "None\n"
     ]
    }
   ],
   "source": [
    "print(None)"
   ]
  },
  {
   "cell_type": "markdown",
   "metadata": {
    "slideshow": {
     "slide_type": "skip"
    }
   },
   "source": [
    "`None` という値は、特段の値が何もない、\n",
    "ということを表すために使われることがあります。"
   ]
  },
  {
   "cell_type": "markdown",
   "metadata": {
    "slideshow": {
     "slide_type": "skip"
    }
   },
   "source": [
    "条件としては、`None` は偽と同様に扱われます。"
   ]
  },
  {
   "cell_type": "code",
   "execution_count": 41,
   "metadata": {
    "slideshow": {
     "slide_type": "skip"
    }
   },
   "outputs": [
    {
     "name": "stdout",
     "output_type": "stream",
     "text": [
      "NG\n"
     ]
    }
   ],
   "source": [
    "if None:\n",
    "    print('OK')\n",
    "else:\n",
    "    print('NG')"
   ]
  },
  {
   "cell_type": "markdown",
   "metadata": {
    "slideshow": {
     "slide_type": "skip"
    }
   },
   "source": [
    "## ▲オブジェクトと属性・メソッド\n",
    "Pythonプログラムでは、全ての種類のデータ（数値、文字列、関数など）は、オブジェクト指向言語における**オブジェクト**として実現されます。\n",
    "個々のオブジェクトは、それぞれの**参照値**によって一意に識別されます。\n",
    "\n",
    "また、個々のオブジェクトはそれぞれに不変な**型**を持ちます。\n",
    "\n",
    "- オブジェクト型\n",
    "    - 数値型\n",
    "        - 整数\n",
    "        - 浮動小数点 など\n",
    "    - コンテナ型\n",
    "        - シーケンス型\n",
    "            - リスト\n",
    "            - タプル\n",
    "            - 文字列 など\n",
    "        - 集合型\n",
    "            - セット など\n",
    "        - マップ型\n",
    "            - 辞書 など\n",
    "\n",
    "Pythonにおいて、変数は、オブジェクトへの参照値を持っています。そのため、異なる変数が、同一のオブジェクトへの参照値を持つこともあります。また、変数に変数を代入しても、それは参照値のコピーとなり、オブジェクトそのものはコピーされません。\n",
    "\n",
    "オブジェクトは、変更可能なものと不可能なものがあります。数値、文字列などは変更不可能なオブジェクトで、それらを更新すると、変数は異なるオブジェクトを参照することになります。一方、リスト、セットや辞書は、変更可能なオブジェクトで、それらを更新しても、変数は同一のオブジェクトを参照することになります。\n",
    "\n",
    "個々のオブジェクトは、さまざまな属性を持ちます。これらの属性は、以下のように確認できます。\n",
    "\n",
    "---\n",
    "```Python\n",
    "オブジェクト.属性名\n",
    "```\n",
    "---"
   ]
  },
  {
   "cell_type": "markdown",
   "metadata": {
    "slideshow": {
     "slide_type": "skip"
    }
   },
   "source": [
    "以下の例では、**`__class__`** という属性でオブジェクトの型を確認しています。"
   ]
  },
  {
   "cell_type": "code",
   "execution_count": 42,
   "metadata": {
    "slideshow": {
     "slide_type": "skip"
    }
   },
   "outputs": [
    {
     "data": {
      "text/plain": [
       "str"
      ]
     },
     "execution_count": 42,
     "metadata": {},
     "output_type": "execute_result"
    }
   ],
   "source": [
    "'hello'.__class__"
   ]
  },
  {
   "cell_type": "markdown",
   "metadata": {
    "slideshow": {
     "slide_type": "skip"
    }
   },
   "source": [
    "この属性は **`type`** という関数を用いても取り出すことができます。"
   ]
  },
  {
   "cell_type": "code",
   "execution_count": 43,
   "metadata": {
    "slideshow": {
     "slide_type": "skip"
    }
   },
   "outputs": [
    {
     "data": {
      "text/plain": [
       "str"
      ]
     },
     "execution_count": 43,
     "metadata": {},
     "output_type": "execute_result"
    }
   ],
   "source": [
    "type('hello')"
   ]
  },
  {
   "cell_type": "markdown",
   "metadata": {
    "slideshow": {
     "slide_type": "skip"
    }
   },
   "source": [
    "属性には、そのオブジェクトを操作するために関数として呼び出すことの可能なものがあり、**メソッド**と呼ばれます。"
   ]
  },
  {
   "cell_type": "code",
   "execution_count": 44,
   "metadata": {
    "slideshow": {
     "slide_type": "skip"
    }
   },
   "outputs": [
    {
     "data": {
      "text/plain": [
       "'HELLO'"
      ]
     },
     "execution_count": 44,
     "metadata": {},
     "output_type": "execute_result"
    }
   ],
   "source": [
    "'hello'.upper()"
   ]
  },
  {
   "cell_type": "markdown",
   "metadata": {},
   "source": [
    "## 練習の解答"
   ]
  },
  {
   "cell_type": "code",
   "execution_count": 45,
   "metadata": {},
   "outputs": [],
   "source": [
    "def absolute(x):\n",
    "    if x<0:\n",
    "        return -x\n",
    "    else:\n",
    "        return x"
   ]
  },
  {
   "cell_type": "code",
   "execution_count": 46,
   "metadata": {},
   "outputs": [],
   "source": [
    "def sign(x):\n",
    "    if x<0:\n",
    "        return -1\n",
    "    if x>0:\n",
    "        return 1\n",
    "    return 0"
   ]
  }
 ],
 "metadata": {
  "kernelspec": {
   "display_name": "Python 3",
   "language": "python",
   "name": "python3"
  },
  "language_info": {
   "codemirror_mode": {
    "name": "ipython",
    "version": 3
   },
   "file_extension": ".py",
   "mimetype": "text/x-python",
   "name": "python",
   "nbconvert_exporter": "python",
   "pygments_lexer": "ipython3",
   "version": "3.7.0"
  }
 },
 "nbformat": 4,
 "nbformat_minor": 2
}
