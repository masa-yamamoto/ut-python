{
 "cells": [
  {
   "cell_type": "markdown",
   "metadata": {},
   "source": [
    "# Pythonプログラミング入門 第5回\n",
    "`NumPy`ライブラリについて説明します\n",
    "\n",
    "参考\n",
    "\n",
    "- https://docs.scipy.org/doc/numpy/contents.html\n"
   ]
  },
  {
   "cell_type": "markdown",
   "metadata": {},
   "source": [
    "# NumPyライブラリ\n",
    "**NumPy**ライブラリを用いることにより、Python標準のリストよりも効率的に多次元の配列（行列）を扱うことができます。これにより高速な行列演算が可能になるため、行列演算を行う科学技術計算などでよく活用されています。以下では、NumPyライブラリの配列の基本的な操作や機能を説明します。"
   ]
  },
  {
   "cell_type": "markdown",
   "metadata": {},
   "source": [
    "## 配列の作成\n",
    "NumPyライブラリを使用するには、まず`numpy`モジュールをインポートします。慣例として、同モジュールを`np`と別名をつけてコードの中で使用します。"
   ]
  },
  {
   "cell_type": "code",
   "execution_count": 2,
   "metadata": {},
   "outputs": [],
   "source": [
    "import numpy as np"
   ]
  },
  {
   "cell_type": "markdown",
   "metadata": {},
   "source": [
    "NumPyの**配列**は`numpy`モジュールの**`array`**`()`関数で作ります。配列の要素はPython標準のリストやタプルで指定します。どちらを用いて作成しても全く同じ配列を作成できます。"
   ]
  },
  {
   "cell_type": "code",
   "execution_count": 2,
   "metadata": {},
   "outputs": [
    {
     "name": "stdout",
     "output_type": "stream",
     "text": [
      "リスト [1, 2, 3, 4, 5] から作成した配列:  [1 2 3 4 5]\n",
      "タプル (1, 2, 3, 4, 5) から作成した配列:  [1 2 3 4 5]\n"
     ]
    }
   ],
   "source": [
    "# リストから配列作成\n",
    "list1 = [1,2,3,4,5]\n",
    "list_to_array = np.array(list1)\n",
    "print(\"リスト\", list1, \"から作成した配列: \", list_to_array)\n",
    "# タプルからの配列作成\n",
    "tuple1 = (1,2,3,4,5)\n",
    "tuple_to_array = np.array(tuple1)\n",
    "print(\"タプル\", tuple1, \"から作成した配列: \", tuple_to_array)"
   ]
  },
  {
   "cell_type": "markdown",
   "metadata": {},
   "source": [
    "リストとは異なり、要素が `,` ではなく空白で区切られて表示されます。\n",
    "\n",
    "NumPyの配列は`ndarray`オブジェクトと呼ばれるデータ型によって実現されています。データ型を調べるには type関数を使います。上で作成した配列で確かめてみましょう。"
   ]
  },
  {
   "cell_type": "code",
   "execution_count": 3,
   "metadata": {},
   "outputs": [
    {
     "name": "stdout",
     "output_type": "stream",
     "text": [
      "<class 'numpy.ndarray'>\n",
      "<class 'numpy.ndarray'>\n"
     ]
    }
   ],
   "source": [
    "# 配列の型 \n",
    "print(type(list_to_array))\n",
    "print(type(tuple_to_array))"
   ]
  },
  {
   "cell_type": "markdown",
   "metadata": {},
   "source": [
    "`<class 'numpy.ndarray'>` と表示されたはずです。これは `ndarray`オブジェクトを意味しています。（`class`の意味は第6回で学習します。）"
   ]
  },
  {
   "cell_type": "markdown",
   "metadata": {},
   "source": [
    "配列を構成する値には幾つかの型がありますが、次の4つの型を知っていればとりあえずは十分です。\n",
    "\n",
    "型名| 説明\n",
    "-   | -\n",
    "int32 | 整数を表す型\n",
    "float64 | 実数を表す型\n",
    "complex128 | 複素数を表す型\n",
    "bool | 真理値（ `True` 、もしくは `False`）を表す型\n",
    "\n",
    "\n",
    "NumPyの配列はリストと異なり、要素の型を混在させることはできません。\n",
    "\n",
    "配列の要素の型は\n",
    "\n",
    "---\n",
    "```Python\n",
    "（配列）.dtype\n",
    "```\n",
    "---\n",
    "\n",
    "という値に格納されています。調べてみましょう。"
   ]
  },
  {
   "cell_type": "code",
   "execution_count": 4,
   "metadata": {},
   "outputs": [
    {
     "name": "stdout",
     "output_type": "stream",
     "text": [
      "int32\n"
     ]
    }
   ],
   "source": [
    "print(list_to_array.dtype)"
   ]
  },
  {
   "cell_type": "markdown",
   "metadata": {},
   "source": [
    "`int32` と表示されたと思います。 `list_to_array` と `dtype` の間にある `.` については、第6回で勉強しますが、一般に `.` の後に続く値のことを、前の値の属性と呼びます。ここでは、 「`list_to_array` の `dtype`属性」と呼びます。\n",
    "\n",
    "`array()`関数では、配列の作成時に第2引数 `dtype` の値を指定することで、配列の要素の型を指定することができます。"
   ]
  },
  {
   "cell_type": "code",
   "execution_count": 5,
   "metadata": {},
   "outputs": [
    {
     "name": "stdout",
     "output_type": "stream",
     "text": [
      "int32 [-1  0  1  2  3]\n",
      "float64 [-1.  0.  1.  2.  3.]\n",
      "complex128 [-1.+0.j  0.+0.j  1.+0.j  2.+0.j  3.+0.j]\n",
      "bool [ True False  True  True  True]\n"
     ]
    }
   ],
   "source": [
    "list_to_array = np.array([-1,0,1,2,3], dtype=\"int32\") # 配列要素の型の指定\n",
    "#list_to_array = np.array([-1,0,1,2,3], dtype=\"int\")#としても同じ\n",
    "print(list_to_array.dtype, list_to_array)# 配列要素の型の確認\n",
    "list_to_array = np.array([-1,0,1,2,3], dtype=\"float64\") \n",
    "#list_to_array = np.array([-1,0,1,2,3], dtype=\"float\")#としても同じ\n",
    "print(list_to_array.dtype, list_to_array)\n",
    "list_to_array = np.array([-1,0,1,2,3], dtype=\"complex128\") \n",
    "#list_to_array = np.array([-1,0,1,2,3], dtype=\"complex\")#としても同じ\n",
    "print(list_to_array.dtype, list_to_array)\n",
    "list_to_array = np.array([-1,0,1,2,3], dtype=\"bool\") \n",
    "print(list_to_array.dtype, list_to_array)"
   ]
  },
  {
   "cell_type": "markdown",
   "metadata": {},
   "source": [
    "## 練習\n",
    "\n",
    "2つの正の整数 `int1` と `int2` を引数として取り、NumPyの配列 `arr1` を返す関数 `construct_array` を作成して下さい。\n",
    "ただし、 `arr1` の大きさ4の要素を `int32` とする配列であり、次の様なリスト `list1` から作成される。また、 `list1` の一番目の要素は `int1 + int2` を、二番目の要素は `int1 - int2` を、三番目の要素は `int1 * int2` を、四番目の要素は `int1 / int2` を格納しているとします。\n",
    "\n",
    "以下のセルの `...` のところを書き換えて解答して下さい。"
   ]
  },
  {
   "cell_type": "code",
   "execution_count": 8,
   "metadata": {},
   "outputs": [],
   "source": [
    "import numpy as np\n",
    "def construct_array(int1, int2):\n",
    "    list1 = [int1+int2, int1-int2, int1*int2, int1/int2]\n",
    "    arr1 = np.array(list1, dtype=\"int32\")\n",
    "    return arr1"
   ]
  },
  {
   "cell_type": "markdown",
   "metadata": {},
   "source": [
    "上のセルで解答を作成した後、以下のセルを実行し、実行結果が全て `True` になることを確認して下さい。"
   ]
  },
  {
   "cell_type": "code",
   "execution_count": 9,
   "metadata": {
    "scrolled": true
   },
   "outputs": [
    {
     "name": "stdout",
     "output_type": "stream",
     "text": [
      "[ True  True  True  True]\n"
     ]
    }
   ],
   "source": [
    "print(construct_array(9, 2) == np.array([11, 7, 18, 4]))"
   ]
  },
  {
   "cell_type": "markdown",
   "metadata": {},
   "source": [
    "## 多次元配列の作成\n",
    "\n",
    "**多次元配列**は、配列の中に配列がある入れ子の配列です。NumPyは多次元配列を効率的に扱うことができます。NumPyでは、`array()`関数の引数にリストが入れ子になった多重リストを与えると多次元配列が作成できます。"
   ]
  },
  {
   "cell_type": "code",
   "execution_count": 10,
   "metadata": {},
   "outputs": [
    {
     "name": "stdout",
     "output_type": "stream",
     "text": [
      "[[1 2 3]\n",
      " [4 5 6]]\n"
     ]
    }
   ],
   "source": [
    "# 多次元配列の作成\n",
    "mul_array = np.array([[1,2,3],[4,5,6]])\n",
    "print(mul_array)"
   ]
  },
  {
   "cell_type": "markdown",
   "metadata": {},
   "source": [
    "NumPyにおいて扱う多次元配列は一般に行列を扱うことを想定しています。すなわち、多重リストの各リストの大きさは同じであることを想定しています。\n",
    "\n",
    "行列では、\n",
    "- 値の横の並びを**行**\n",
    "- 値の縦の並びを**列**\n",
    "\n",
    "と呼びます。\n",
    "\n",
    "例えば、先の多重配列 `mul_array ` は2行3列の行列となっています（2×3行列とも言います）。\n",
    "\n",
    "**`shape`**属性で、配列（行列）が何行何列かを調べることができます。また、**`ndim`**属性で、何次元の配列か（ `shape`属性の大きさ ）を調べることができます。**`size`**属性では、配列の要素の個数を調べることができます。"
   ]
  },
  {
   "cell_type": "code",
   "execution_count": 11,
   "metadata": {},
   "outputs": [
    {
     "name": "stdout",
     "output_type": "stream",
     "text": [
      "(2, 3)\n",
      "2\n",
      "6\n"
     ]
    }
   ],
   "source": [
    "# 多次元配列の行数と列数\n",
    "print(mul_array.shape)\n",
    "\n",
    "# 多次元配列の次元数\n",
    "print(mul_array.ndim) # 一般にlen(mul_array.shape)に等しい\n",
    "\n",
    "# 多次元配列の要素数\n",
    "print(mul_array.size)"
   ]
  },
  {
   "cell_type": "markdown",
   "metadata": {},
   "source": [
    "**`reshape`**`()`メソッドを使うと、`reshape`(行数、列数）と指定して、1次元配列を多次元配列に変換することができます。`reshape()`で変換した多次元配列の操作の結果は元の配列にも反映されることに注意してください。\n",
    "\n",
    "**`ravel`**`()`メソッドまたは**`flatten`**`()`メソッドを使うと、多次元配列を1次元配列に戻すことができます。"
   ]
  },
  {
   "cell_type": "code",
   "execution_count": 12,
   "metadata": {},
   "outputs": [
    {
     "name": "stdout",
     "output_type": "stream",
     "text": [
      "[1 2 3 4 5 6]\n",
      "[[1 2 3]\n",
      " [4 5 6]]\n",
      "[0 2 3 4 5 6]\n",
      "[[0 2 3]\n",
      " [4 5 6]]\n",
      "[0 2 3 4 5 6]\n"
     ]
    }
   ],
   "source": [
    "mydata = [1,2,3,4,5,6]\n",
    "a1 = np.array(mydata)\n",
    "\n",
    "# 2行3列の多次元配列に変換\n",
    "a2 = a1.reshape(2,3) \n",
    "print(a1)\n",
    "print(a2)\n",
    "\n",
    "# 1行1列の要素に代入（後述）\n",
    "a2[0,0]=0\n",
    "print(a1)\n",
    "print(a2)\n",
    "\n",
    "# 多次元配列を1次元配列に戻す\n",
    "print(a2.ravel())"
   ]
  },
  {
   "cell_type": "markdown",
   "metadata": {},
   "source": [
    "## 練習\n",
    "\n",
    "空でないリスト `list1` と正の整数 `int1` を引数として取り、NumPyの配列 `ary1` を返す関数 `construct_copymatrix` を作成して下さい。\n",
    "ただし、 `ary1` は、 `int1` × `len(list1)` の大きさ多重配列です。なお、各列に対して、その列の `j`番目の要素の値は `list1` の `j`番目の要素の値に等しいものとします。 \n",
    "\n",
    "\n",
    "以下のセルの `...` のところを書き換えて解答して下さい。"
   ]
  },
  {
   "cell_type": "code",
   "execution_count": 14,
   "metadata": {},
   "outputs": [],
   "source": [
    "import numpy as np\n",
    "def construct_copymatrix(list1, int1):\n",
    "    list2 = []\n",
    "    for i in list1:\n",
    "        list3 = [i] * int1\n",
    "        list2.append(list3)\n",
    "    ary1 = np.array(list2)\n",
    "    return ary1"
   ]
  },
  {
   "cell_type": "markdown",
   "metadata": {},
   "source": [
    "上のセルで解答を作成した後、以下のセルを実行し、実行結果が全て `True` になることを確認して下さい。"
   ]
  },
  {
   "cell_type": "code",
   "execution_count": 15,
   "metadata": {
    "scrolled": false
   },
   "outputs": [
    {
     "name": "stdout",
     "output_type": "stream",
     "text": [
      "[[ True  True  True]\n",
      " [ True  True  True]\n",
      " [ True  True  True]\n",
      " [ True  True  True]]\n"
     ]
    }
   ],
   "source": [
    "print(construct_copymatrix([2,4,6,8], 3) == np.array([[2, 2, 2],[4, 4, 4],[6, 6, 6],[8, 8, 8]]))"
   ]
  },
  {
   "cell_type": "markdown",
   "metadata": {},
   "source": [
    "## 様々な配列の作り方\n",
    "### arange()関数\n",
    "**`arange`**`()`関数を用いると、開始値から一定の刻み幅で生成した値の要素からなる配列を作成できます。具体的には、`arange()`関数の第1引数には開始値 `val1` 、第2引数には終了値 `val2` 、第3引数には刻み幅 `val3` を指定します。その返り値は、 `val1, val1+val3, val1+2*val3, val1+3*val3, ...` という値を格納した配列となり、配列の最後の値は `val1+x*val3` となる値です。ただし、 `x` は `val2 > val1+x*val3` を満たす最大の整数です。つまり、終了値は生成される値に含まれないことに注意してください。 `arange()`関数では`dtype`で数値の型も指定できますが、省略すると開始値、終了値、刻み幅に合わせて型が選ばれます。\n",
    "\n",
    "```Python\n",
    "numpy.arange(開始値、終了値、刻み幅、dtype=型）\n",
    "```\n",
    "開始値を省略すると `0` 、刻み幅を省略すると `1` がそれぞれ初期値となります。"
   ]
  },
  {
   "cell_type": "code",
   "execution_count": 16,
   "metadata": {},
   "outputs": [
    {
     "name": "stdout",
     "output_type": "stream",
     "text": [
      "[0 1 2 3 4]\n",
      "[0.  0.1 0.2 0.3 0.4 0.5 0.6 0.7 0.8 0.9]\n",
      "[[0 1]\n",
      " [2 3]]\n"
     ]
    }
   ],
   "source": [
    "# 0から1刻みで5つの要素を持つ配列\n",
    "ary1 = np.arange(5)\n",
    "print(ary1)\n",
    "\n",
    "# 0から0.1刻みで1未満の値の要素を持つ配列\n",
    "ary2 = np.arange(0, 1, 0.1)\n",
    "print(ary2)\n",
    "\n",
    "# 0から1刻みで4つの要素を持つ配列を2行2列の多次元配列に変換\n",
    "ary3 = np.arange(4)\n",
    "ary3 = ary3.reshape(2, 2)\n",
    "#ary3=np.arange(4).reshape(2,2) #の様に一行で記述しても同じ\n",
    "print(ary3)"
   ]
  },
  {
   "cell_type": "markdown",
   "metadata": {},
   "source": [
    "### linspace()関数\n",
    "**`linspace`**`()`関数を用いると、分割数を指定することで値の範囲を等間隔で分割した値の要素からなる配列を作成できます。`linspace()`関数の第1引数には開始値、第2引数には終了値、第3引数には分割数を指定します。"
   ]
  },
  {
   "cell_type": "code",
   "execution_count": 17,
   "metadata": {},
   "outputs": [
    {
     "name": "stdout",
     "output_type": "stream",
     "text": [
      "[  0.  10.  20.  30.  40.  50.  60.  70.  80.  90. 100.]\n"
     ]
    }
   ],
   "source": [
    "# 0から100の値を11分割した値を要素に持つ配列\n",
    "ary1 = np.linspace(0, 100, 11)\n",
    "print(ary1)"
   ]
  },
  {
   "cell_type": "markdown",
   "metadata": {},
   "source": [
    "### zeros()関数\n",
    "**`zeros`**`()`関数を用いると、すべての要素が0の配列を作成することができます。`zero()`関数の第1引数には0の個数を（多次元配列の場合は行数と列数をタプルで）指定し、第2引数の`dtype`に数値の型を指定します。"
   ]
  },
  {
   "cell_type": "code",
   "execution_count": 18,
   "metadata": {},
   "outputs": [
    {
     "name": "stdout",
     "output_type": "stream",
     "text": [
      "[0 0 0 0 0]\n",
      "[[0 0 0 0]\n",
      " [0 0 0 0]\n",
      " [0 0 0 0]]\n"
     ]
    }
   ],
   "source": [
    "# 5つの0要素からなる配列\n",
    "zero_array1 = np.zeros(5, dtype=int)\n",
    "print(zero_array1)\n",
    "\n",
    "# 3行4列の0要素からなる多次元配列\n",
    "zero_array2 = np.zeros((3, 4), dtype=int)\n",
    "print(zero_array2)"
   ]
  },
  {
   "cell_type": "markdown",
   "metadata": {},
   "source": [
    "### ones()関数\n",
    "**`ones`**`()`関数を用いると、すべての要素が1の配列を作成することができます。`ones()`関数の第1引数には1の個数を（多次元配列の場合は行数と列数をタプルで）指定し、第2引数の`dtype`に数値の型を指定します。"
   ]
  },
  {
   "cell_type": "code",
   "execution_count": 19,
   "metadata": {},
   "outputs": [
    {
     "name": "stdout",
     "output_type": "stream",
     "text": [
      "[[1 1 1]\n",
      " [1 1 1]\n",
      " [1 1 1]\n",
      " [1 1 1]]\n"
     ]
    }
   ],
   "source": [
    "# 4行3列の1要素からなる多次元配列\n",
    "one_array = np.ones((4, 3), dtype=int)\n",
    "print(one_array)"
   ]
  },
  {
   "cell_type": "markdown",
   "metadata": {},
   "source": [
    "### random.rand()関数\n",
    "**`random.rand`**`()`関数を用いると、乱数の配列を作成することができます。`random.rand()`関数では、引数で与えた個数の乱数が0から1の間の値で生成されます。この他にも、`random.randn()`関数、`random.binomial()`関数、`random.poisson()`関数を用いると、それぞれ正規分布、二項分布、ポアソン分布から乱数の配列を作成することができます。"
   ]
  },
  {
   "cell_type": "code",
   "execution_count": 20,
   "metadata": {},
   "outputs": [
    {
     "name": "stdout",
     "output_type": "stream",
     "text": [
      "[0.33652236 0.04439977 0.40425062 0.55261863 0.31164413]\n"
     ]
    }
   ],
   "source": [
    "# 5つのランダムな値の要素からなる多次元配列\n",
    "rand_array = np.random.rand(5)\n",
    "print(rand_array)"
   ]
  },
  {
   "cell_type": "markdown",
   "metadata": {},
   "source": [
    "## 練習\n",
    "\n",
    "開始値 `val1` 、終了値 `val2` 、刻み幅 `val3` を引数として取り、次の様な返り値を返す関数 `arange_plus` を作成して下さい。 その返り値は、 `val1, val1+val3, val1+2*val3, val1+3*val3, ...` という値を格納した配列となり、配列の最後の値は `val1+x*val3` となる値です。ただし、 `x` は `val2 >= val1+x*val3` を満たす最大の整数です。\n",
    "\n",
    "以下のセルの `...` のところを書き換えて解答して下さい。"
   ]
  },
  {
   "cell_type": "code",
   "execution_count": 23,
   "metadata": {},
   "outputs": [],
   "source": [
    "import numpy as np\n",
    "def arange_plus(val1, val2, val3):\n",
    "    ary1 = np.arange(val1, val2+val3, val3)\n",
    "    return ary1"
   ]
  },
  {
   "cell_type": "markdown",
   "metadata": {},
   "source": [
    "上のセルで解答を作成した後、以下のセルを実行し、実行結果が全て `True` になることを確認して下さい。"
   ]
  },
  {
   "cell_type": "code",
   "execution_count": 24,
   "metadata": {
    "scrolled": false
   },
   "outputs": [
    {
     "name": "stdout",
     "output_type": "stream",
     "text": [
      "[ True  True  True  True  True  True  True  True  True  True  True]\n"
     ]
    }
   ],
   "source": [
    "print(arange_plus(10, 30, 2) == np.array([10, 12, 14, 16, 18, 20, 22, 24, 26, 28, 30]))"
   ]
  },
  {
   "cell_type": "markdown",
   "metadata": {},
   "source": [
    "## 配列要素の操作\n",
    "\n",
    "### インデックス\n",
    "\n",
    "NumPyの配列の要素を利用するには、リストの場合と同様に0から始まる**インデックス**を使います。リストと同じく、配列の先頭要素のインデックスは0、最後の要素のインデックスは-1となります。"
   ]
  },
  {
   "cell_type": "code",
   "execution_count": 25,
   "metadata": {},
   "outputs": [
    {
     "name": "stdout",
     "output_type": "stream",
     "text": [
      "[1 3 5 7 9]\n",
      "1\n",
      "9\n",
      "[1 3 5 7 0]\n"
     ]
    }
   ],
   "source": [
    "ary1 = np.array([1,3,5,7,9])\n",
    "print(ary1)\n",
    "\n",
    "# 配列ary1のインデックス0の要素\n",
    "print(ary1[0])\n",
    "\n",
    "# 配列ary1のインデックス-1(終端）の要素\n",
    "print(ary1[-1])\n",
    "\n",
    "# 配列ary1のインデックス-1の要素に代入\n",
    "ary1[-1]=0\n",
    "print(ary1)"
   ]
  },
  {
   "cell_type": "markdown",
   "metadata": {},
   "source": [
    "多次元配列では、`配列名[行,列]` のように行と列のインデックスをそれぞれ指定します。この時、通常の配列のインデックスと同じくそれぞれ0から始まります。例えば、下記の2×3の多重配列の場合、行については0行と1行を、列については0列から2列までを指定可能です。また、多重リストと同様に、`配列名[行][列]` のようにしても同じです。"
   ]
  },
  {
   "cell_type": "code",
   "execution_count": 26,
   "metadata": {},
   "outputs": [
    {
     "name": "stdout",
     "output_type": "stream",
     "text": [
      "[[1 2 3]\n",
      " [4 5 6]]\n",
      "6\n",
      "6\n",
      "0\n"
     ]
    }
   ],
   "source": [
    "ary1 = np.array([[1,2,3],[4,5,6]])\n",
    "print(ary1)\n",
    "\n",
    "# 1行2列の要素\n",
    "print(ary1[1, 2])\n",
    "# 1行2列の要素\n",
    "print(ary1[1][2])\n",
    "\n",
    "# 1行2列の要素に代入\n",
    "ary1[1,2] = 0\n",
    "print(ary1[1][2])"
   ]
  },
  {
   "cell_type": "markdown",
   "metadata": {},
   "source": [
    "### スライス\n",
    "リストと同様に、NumPyの配列でも、`array[開始位置:終了位置:ステップ]`のように**スライス**を用いて配列の要素を抜き出すことができます。リストと同じく、スライスの開始位置や終了位置は省略が可能です。"
   ]
  },
  {
   "cell_type": "code",
   "execution_count": 27,
   "metadata": {},
   "outputs": [
    {
     "name": "stdout",
     "output_type": "stream",
     "text": [
      "[10 20 30]\n",
      "[10 20 30 40]\n",
      "[ 0 10 20]\n",
      "[ 0 20 40]\n",
      "[40 30 20 10  0]\n"
     ]
    }
   ],
   "source": [
    "ary1 = np.array([0, 10, 20, 30, 40])\n",
    "\n",
    "# 配列ary1のインデックス1からインデックス3までの要素をスライス\n",
    "print(ary1[1:4])\n",
    "\n",
    "# 配列ary1のインデックス1から終端までの要素をスライス\n",
    "print(ary1[1:])\n",
    "\n",
    "# 配列ary1の先頭から終端から3番目までの要素をスライス\n",
    "print(ary1[:-2])\n",
    "\n",
    "# 配列ary1の先頭から1つ飛ばしで要素をスライス\n",
    "print(ary1[::2])\n",
    "\n",
    "# 配列ary1の終端から先頭までの要素をスライス\n",
    "print(ary1[::-1])"
   ]
  },
  {
   "cell_type": "markdown",
   "metadata": {},
   "source": [
    "NumPyの配列では、配列からスライスで抜き出した要素に値をまとめて代入することができます。配列においてスライスに対する変更は元の配列にも反映されることに注意してください。"
   ]
  },
  {
   "cell_type": "code",
   "execution_count": 28,
   "metadata": {},
   "outputs": [
    {
     "name": "stdout",
     "output_type": "stream",
     "text": [
      "[  0 -10 -10 -10  40]\n"
     ]
    }
   ],
   "source": [
    "ary1 = np.array([0, 10, 20, 30, 40])\n",
    "\n",
    "# 配列ary1のインデックス1からインデックス3までの要素に0を代入\n",
    "ary1[1:4] = -10\n",
    "print(ary1)"
   ]
  },
  {
   "cell_type": "markdown",
   "metadata": {},
   "source": [
    "多次元配列のスライスでは、`array[行のスライス, 列のスライス]`のように行と列のスライスのそれぞれの指定をコンマで区切って指定します。"
   ]
  },
  {
   "cell_type": "code",
   "execution_count": 29,
   "metadata": {},
   "outputs": [
    {
     "name": "stdout",
     "output_type": "stream",
     "text": [
      "[[1 2 3]\n",
      " [4 5 6]\n",
      " [7 8 9]]\n",
      "[[1 2]\n",
      " [4 5]]\n",
      "[[5 6]\n",
      " [8 9]]\n"
     ]
    }
   ],
   "source": [
    "ary1 = np.array( [1,2,3,4,5,6,7,8,9])\n",
    "ary1 = ary1.reshape(3,3)\n",
    "print(ary1)\n",
    "\n",
    "# 多次元配列aの先頭行から2行目、先頭列から2列目までの要素をスライス\n",
    "print(ary1[:2,:2])\n",
    "\n",
    "# 多次元配列aの2行目から終端行、2列目から終端列までの要素をスライス\n",
    "print(ary1[1:,1:])"
   ]
  },
  {
   "cell_type": "markdown",
   "metadata": {},
   "source": [
    "### 要素の順序取り出し\n",
    "リストと同様に、`for...in`文を用いて、配列の要素を順番に取り出すことができます。"
   ]
  },
  {
   "cell_type": "code",
   "execution_count": 30,
   "metadata": {},
   "outputs": [
    {
     "name": "stdout",
     "output_type": "stream",
     "text": [
      "1\n",
      "2\n",
      "3\n",
      "4\n",
      "5\n",
      "6\n"
     ]
    }
   ],
   "source": [
    "ary1 = np.array([1,2,3,4,5,6])\n",
    "# 配列ary1から要素の取り出し\n",
    "for num in ary1:\n",
    "    print(num)"
   ]
  },
  {
   "cell_type": "markdown",
   "metadata": {},
   "source": [
    "多次元配列になっている場合も同様です。"
   ]
  },
  {
   "cell_type": "code",
   "execution_count": 31,
   "metadata": {},
   "outputs": [
    {
     "name": "stdout",
     "output_type": "stream",
     "text": [
      "多重配列 ary2 の 1 番目の要素（配列）: [1 2 3]\n",
      "多重配列 ary2 の 2 番目の要素（配列）の 1 番目の要素: 1\n",
      "多重配列 ary2 の 2 番目の要素（配列）の 2 番目の要素: 2\n",
      "多重配列 ary2 の 2 番目の要素（配列）の 3 番目の要素: 3\n",
      "多重配列 ary2 の 2 番目の要素（配列）: [4 5 6]\n",
      "多重配列 ary2 の 3 番目の要素（配列）の 1 番目の要素: 4\n",
      "多重配列 ary2 の 3 番目の要素（配列）の 2 番目の要素: 5\n",
      "多重配列 ary2 の 3 番目の要素（配列）の 3 番目の要素: 6\n"
     ]
    }
   ],
   "source": [
    "ary2 = np.array([1,2,3,4,5,6])\n",
    "ary2 = ary2.reshape(2,3)\n",
    "i = 1\n",
    "# 多次元配列ary2から行の取り出し\n",
    "for row in ary2:\n",
    "    print(\"多重配列 ary2 の\", i, \"番目の要素（配列）:\", row)\n",
    "    i += 1\n",
    "    j = 1\n",
    "    # 多次元配列ary2の行の要素の取り出し\n",
    "    for num in row:\n",
    "        print (\"多重配列 ary2 の\", i, \"番目の要素（配列）の\", j, \"番目の要素:\", num)\n",
    "        j += 1"
   ]
  },
  {
   "cell_type": "markdown",
   "metadata": {},
   "source": [
    "**`enumerate`**`()`関数を使うと、リストと同じく、取り出しの繰り返し回数も併せて数えることができます。\n"
   ]
  },
  {
   "cell_type": "code",
   "execution_count": 32,
   "metadata": {},
   "outputs": [
    {
     "name": "stdout",
     "output_type": "stream",
     "text": [
      "ary1: \n",
      "1 番目の要素:  1\n",
      "2 番目の要素:  2\n",
      "3 番目の要素:  3\n",
      "4 番目の要素:  4\n",
      "5 番目の要素:  5\n",
      "6 番目の要素:  6\n",
      "ary2: \n",
      "1 番目の要素:  [1 2 3]\n",
      "2 番目の要素:  [4 5 6]\n"
     ]
    }
   ],
   "source": [
    "ary1 = np.array([1,2,3,4,5,6])\n",
    "# 配列ary1から繰り返し回数と要素の取り出し\n",
    "print(\"ary1: \")\n",
    "for i, num in enumerate(ary1):\n",
    "    print(i+1, \"番目の要素: \", num)\n",
    "\n",
    "ary2 = np.array([1,2,3,4,5,6])\n",
    "ary2 = ary2.reshape(2,3)\n",
    "print(\"ary2: \")\n",
    "# 多次元配列ary2から繰り返し回数と要素（行）の取り出し\n",
    "for i, num in enumerate(ary2):\n",
    "    print(i+1, \"番目の要素: \", num)"
   ]
  },
  {
   "cell_type": "markdown",
   "metadata": {},
   "source": [
    "多次元配列の要素の取り出しでは`enumerate()`関数の代わりに`ndenumerate()`関数を用います。`ndenumerate()`関数は取り出した要素とともに、その要素の位置を行と列のタプルで返します。"
   ]
  },
  {
   "cell_type": "code",
   "execution_count": 33,
   "metadata": {},
   "outputs": [
    {
     "name": "stdout",
     "output_type": "stream",
     "text": [
      "(0, 0) 1\n",
      "(0, 1) 2\n",
      "(0, 2) 3\n",
      "(1, 0) 4\n",
      "(1, 1) 5\n",
      "(1, 2) 6\n"
     ]
    }
   ],
   "source": [
    "ary2 = np.array([1,2,3,4,5,6])\n",
    "ary2 = ary2.reshape(2,3)\n",
    "# 多次元配列ary2から要素の位置（行と列をタプルで表現する）と対応する要素の取り出し\n",
    "for i, num in np.ndenumerate(ary2):\n",
    "    print(i, num)"
   ]
  },
  {
   "cell_type": "markdown",
   "metadata": {},
   "source": [
    "### 要素の並び替え\n",
    "\n",
    "配列の要素の並び替えには、`ndarray`オブジェクトの**`sort`**`()`メソッド、またはNumPyライブラリの`sort()`関数を使います。`sort()`メソッドは、メソッドを呼び出した自身の配列の要素を並び替えるので破壊的です。"
   ]
  },
  {
   "cell_type": "code",
   "execution_count": 4,
   "metadata": {},
   "outputs": [
    {
     "name": "stdout",
     "output_type": "stream",
     "text": [
      "ary1: [1 2 3 4 5]\n"
     ]
    }
   ],
   "source": [
    "ary1 = np.array([5,3,1,4,2])\n",
    "# 配列ary1の要素を並び替え\n",
    "ary1.sort() # ndarrayオブジェクトのsort()メソッドで並べ替え\n",
    "print(\"ary1:\", ary1)"
   ]
  },
  {
   "cell_type": "markdown",
   "metadata": {},
   "source": [
    "一方、`sort()`関数は引数で与えた配列の要素を並び替えた新しい配列を返しますので非破壊的です。`sort()`関数の引数にリストやタプルを指定し、それらの並び替えを行った結果を配列として取得することもできます。"
   ]
  },
  {
   "cell_type": "code",
   "execution_count": 5,
   "metadata": {},
   "outputs": [
    {
     "name": "stdout",
     "output_type": "stream",
     "text": [
      "ary2: [5 3 1 4 2]\n",
      "ary3: [1 2 3 4 5]\n"
     ]
    }
   ],
   "source": [
    "ary2 = np.array([5,3,1,4,2])\n",
    "# 配列ary2の要素を並び替えた結果から新たな配列ary3を作成\n",
    "ary3 = np.sort(ary2) # NumPyライブラリのsort()関数で並べ替え\n",
    "\n",
    "print(\"ary2:\", ary2)\n",
    "print(\"ary3:\", ary3)"
   ]
  },
  {
   "cell_type": "markdown",
   "metadata": {},
   "source": [
    "## 配列の演算\n",
    "NumPyの配列では、配列のすべての要素に数値演算を適用する**ブロードキャスト**という機能により、要素が数値である配列の演算を簡単に行うことができます。"
   ]
  },
  {
   "cell_type": "code",
   "execution_count": 6,
   "metadata": {},
   "outputs": [
    {
     "name": "stdout",
     "output_type": "stream",
     "text": [
      "[1 2 3 4]\n",
      "[2 3 4 5]\n",
      "[ 2  4  6  8 10]\n",
      "[1. 2. 3. 4. 5.]\n",
      "[ 1.  4.  9. 16. 25.]\n"
     ]
    }
   ],
   "source": [
    "ary1 = np.array([1,2,3,4])\n",
    "print(ary1)\n",
    "\n",
    "# 配列ary1のすべての要素に1を加算\n",
    "ary2 = ary1 + 1\n",
    "print(ary2)\n",
    "\n",
    "# 配列ary2のすべての要素に2を乗算\n",
    "ary3 = ary3 * 2\n",
    "print(ary3)\n",
    "\n",
    "# 配列ary3のすべての要素に2を除算\n",
    "ary4 = ary3 / 2\n",
    "print(ary4)\n",
    "\n",
    "# 配列ary5のすべての要素を二乗\n",
    "ary5 = ary4 ** 2\n",
    "print(ary5)"
   ]
  },
  {
   "cell_type": "markdown",
   "metadata": {},
   "source": [
    "この他に、NumPyには**ユニバーサル関数**と呼ばれる、配列を入力として、そのすべての要素を操作した結果を配列として返す関数が複数あります。ユニバーサル関数については以下を参照してください。\n",
    "\n",
    "- [ユニバーサル関数の一覧](https://docs.scipy.org/doc/numpy-1.14.0/reference/ufuncs.html#available-ufuncs)"
   ]
  },
  {
   "cell_type": "markdown",
   "metadata": {},
   "source": [
    "`ndarray`オブジェクトのメソッドを用いて、要素の合計、平均値、最大値、最小値を、それぞれ`sum()`、`mean()`、`max()`、`min()`で求めることができます。各メソッドは引数を指定しなければ配列のすべての要素に適用されます。多次元配列の場合、引数に0を指定すると、各列にメソッドを適用した結果の配列、引数に1を指定すると各行にメソッドを適用した結果の配列が返ります。"
   ]
  },
  {
   "cell_type": "code",
   "execution_count": 7,
   "metadata": {},
   "outputs": [
    {
     "name": "stdout",
     "output_type": "stream",
     "text": [
      "[[1 2 3]\n",
      " [4 5 6]]\n",
      "3.5\n",
      "[2.5 3.5 4.5]\n",
      "[2. 5.]\n"
     ]
    }
   ],
   "source": [
    "ary1 = np.array([1,2,3,4,5,6])\n",
    "ary1 = ary1.reshape(2,3)\n",
    "print(ary1)\n",
    "\n",
    "# 多次元配列ary1のすべての要素の平均\n",
    "print(ary1.mean())\n",
    "\n",
    "# 多次元配列ary1の各列の要素の平均\n",
    "print(ary1.mean(0))\n",
    "\n",
    "# 多次元配列ary1の各行の要素の平均\n",
    "print(ary1.mean(1))"
   ]
  },
  {
   "cell_type": "markdown",
   "metadata": {},
   "source": [
    "この他のNumPyの数学・統計関連のメソッド・関数については以下を参照してください。\n",
    "\n",
    "- [数学関数](https://docs.scipy.org/doc/numpy/reference/routines.math.html)\n",
    "- [統計関数](https://docs.scipy.org/doc/numpy/reference/routines.statistics.html)"
   ]
  },
  {
   "cell_type": "markdown",
   "metadata": {},
   "source": [
    "## 配列同士の演算\n",
    "行数と列数が同じ配列同士の四則演算は、各要素同士の演算となります。"
   ]
  },
  {
   "cell_type": "code",
   "execution_count": 8,
   "metadata": {},
   "outputs": [
    {
     "name": "stdout",
     "output_type": "stream",
     "text": [
      "[[ 3  6]\n",
      " [ 9 12]]\n",
      "[[1 2]\n",
      " [3 4]]\n",
      "[[ 2  8]\n",
      " [18 32]]\n",
      "[[2 2]\n",
      " [2 2]]\n"
     ]
    }
   ],
   "source": [
    "A1 = np.array([1,2,3,4]).reshape(2,2)\n",
    "B1 = np.array([2,4,6,8]).reshape(2,2)\n",
    "\n",
    "# 配列の要素同士の足し算\n",
    "C1 = A1 + B1\n",
    "print(C1)\n",
    "\n",
    "# 配列の要素同士の引き算\n",
    "D1 = B1 - A1\n",
    "print(D1)\n",
    "\n",
    "# 配列の要素同士の掛け算\n",
    "E1 = A1 * B1\n",
    "print(E1)\n",
    "\n",
    "# 配列の要素同士の割り算\n",
    "F1 = B1 // A1\n",
    "print(F1)"
   ]
  },
  {
   "cell_type": "markdown",
   "metadata": {},
   "source": [
    "## 練習\n",
    "\n",
    "NumPyの2次元の多重配列 `ary1` を引数として取り、次の様な整数 `int1` を返り値を返す関数 `get_minmax` を作成して下さい。 ただし、`int1` は次の様に求めます。\n",
    "\n",
    "1. `ary1` の各行を構成する配列に対して、それぞれ最小値を求めます。\n",
    "2. 1で求めた値の中で最大の値が `int1` です。\n",
    "\n",
    "以下のセルの `...` のところを書き換えて解答して下さい。"
   ]
  },
  {
   "cell_type": "code",
   "execution_count": 9,
   "metadata": {},
   "outputs": [],
   "source": [
    "import numpy as np\n",
    "def get_minmax(ary1):\n",
    "    ary2 = ary1.min(1) #各行の最小値\n",
    "    ary3 = ary2.max()\n",
    "    return ary3"
   ]
  },
  {
   "cell_type": "markdown",
   "metadata": {},
   "source": [
    "上のセルで解答を作成した後、以下のセルを実行し、実行結果が全て `True` になることを確認して下さい。"
   ]
  },
  {
   "cell_type": "code",
   "execution_count": 10,
   "metadata": {
    "scrolled": false
   },
   "outputs": [
    {
     "name": "stdout",
     "output_type": "stream",
     "text": [
      "True\n"
     ]
    }
   ],
   "source": [
    "print(get_minmax(np.array([[10, 30, 55], [0, 40, 15], [35, 50, 75], [15, 66, 20]])) == 35)"
   ]
  },
  {
   "cell_type": "markdown",
   "metadata": {},
   "source": [
    "## NumPyの関数\n",
    "\n",
    "### dot() 関数\n",
    "\n",
    "**`dot`**`()` 関数は、2つの配列を引数に取り、その内積を返します。\n",
    "\n",
    "具体的には次の様に用います。\n",
    "\n",
    "---\n",
    "```Python\n",
    "numpy.dot(配列A, 配列B)\n",
    "```\n",
    "---\n"
   ]
  },
  {
   "cell_type": "code",
   "execution_count": 11,
   "metadata": {},
   "outputs": [
    {
     "data": {
      "text/plain": [
       "9"
      ]
     },
     "execution_count": 11,
     "metadata": {},
     "output_type": "execute_result"
    }
   ],
   "source": [
    "ary1 = np.array([2, 3, 1])\n",
    "ary2 = np.array([1, 2, 1])\n",
    "np.dot(ary1, ary2)"
   ]
  },
  {
   "cell_type": "markdown",
   "metadata": {},
   "source": [
    "### linalg.norm() 関数\n",
    "\n",
    "\n",
    "**`linalg.norm`**`()` 関数は、配列を引数に取り、原点からその配列の値によって表される点までの距離（ノルム）を返します。\n",
    "\n",
    "具体的には次の様に用います。\n",
    "\n",
    "---\n",
    "```Python\n",
    "numpy.linalg.norm(配列A)\n",
    "```\n",
    "---"
   ]
  },
  {
   "cell_type": "code",
   "execution_count": 12,
   "metadata": {},
   "outputs": [
    {
     "data": {
      "text/plain": [
       "3.0"
      ]
     },
     "execution_count": 12,
     "metadata": {},
     "output_type": "execute_result"
    }
   ],
   "source": [
    "ary1 = np.array([2, 2, 1])\n",
    "np.linalg.norm(ary1)"
   ]
  },
  {
   "cell_type": "markdown",
   "metadata": {},
   "source": [
    "### sqrt() 関数\n",
    "\n",
    "\n",
    "**`sqrt`**`()` 関数は、0以上の数を引数に取り、その平方根を返します。\n",
    "\n",
    "具体的には次の様に用います。\n",
    "\n",
    "---\n",
    "```Python\n",
    "numpy.sqrt(数)\n",
    "```\n",
    "---"
   ]
  },
  {
   "cell_type": "code",
   "execution_count": 13,
   "metadata": {},
   "outputs": [
    {
     "name": "stdout",
     "output_type": "stream",
     "text": [
      "1.4142135623730951\n",
      "1.4142135623730951\n"
     ]
    }
   ],
   "source": [
    "print(np.sqrt(2))\n",
    "import math # mathを使った場合と同じ結果が得られます\n",
    "print(math.sqrt(2))"
   ]
  },
  {
   "cell_type": "markdown",
   "metadata": {},
   "source": [
    "配列を引数に取ることも出来ます。"
   ]
  },
  {
   "cell_type": "code",
   "execution_count": 14,
   "metadata": {},
   "outputs": [
    {
     "data": {
      "text/plain": [
       "array([1.41421356, 1.41421356, 1.        ])"
      ]
     },
     "execution_count": 14,
     "metadata": {},
     "output_type": "execute_result"
    }
   ],
   "source": [
    "ary1 = np.array([2, 2, 1])\n",
    "np.sqrt(ary1)"
   ]
  },
  {
   "cell_type": "markdown",
   "metadata": {},
   "source": [
    "## 文字列型の配列\n",
    "配列の要素が文字列の時は、第2引数`dtype`に\"<U\"を指定すると、要素の文字列の最長値に合わせて、文字列の長さが決まります。また、`dtype`に\"<U\"と数値を続けて指定（例えば、\"<U5\")すると、文字列の長さはその数値の固定長となります。"
   ]
  },
  {
   "cell_type": "code",
   "execution_count": 15,
   "metadata": {},
   "outputs": [
    {
     "data": {
      "text/plain": [
       "array(['a', 'bb', 'ccc'], dtype='<U3')"
      ]
     },
     "execution_count": 15,
     "metadata": {},
     "output_type": "execute_result"
    }
   ],
   "source": [
    "# 配列要素の文字列の長さを最長値の文字列要素に合わせる\n",
    "str_array = np.array(['a','bb','ccc'], dtype=\"<U\")\n",
    "str_array"
   ]
  },
  {
   "cell_type": "code",
   "execution_count": 16,
   "metadata": {},
   "outputs": [
    {
     "data": {
      "text/plain": [
       "array(['a', 'bb', 'cc'], dtype='<U2')"
      ]
     },
     "execution_count": 16,
     "metadata": {},
     "output_type": "execute_result"
    }
   ],
   "source": [
    "# 配列要素の文字列の長さ2に合わせる\n",
    "str_array = np.array(['a','bb','ccc'], dtype=\"<U2\")\n",
    "str_array"
   ]
  },
  {
   "cell_type": "markdown",
   "metadata": {},
   "source": [
    "## ▲配列要素の追加、挿入、削除\n",
    "### append()関数\n",
    "NumPyの配列の要素の追加には**`append`**`()`関数を使います。`append()`関数の第1引数には配列を指定し、第2引数にはその配列に追加する値を指定します。リストやタプルで複数の値を同時に指定することもできます。NumPyの`append()`関数は、要素を追加した新しい配列が返り、元の配列は変化しないことに注意してください。"
   ]
  },
  {
   "cell_type": "code",
   "execution_count": 17,
   "metadata": {},
   "outputs": [
    {
     "name": "stdout",
     "output_type": "stream",
     "text": [
      "[1 2]\n",
      "[1 2 3]\n",
      "[1 2 3 4 5]\n"
     ]
    }
   ],
   "source": [
    "a1 = np.array([1,2])\n",
    "\n",
    "# 配列a1に値3を要素として追加\n",
    "a2 = np.append(a1, 3)\n",
    "\n",
    "# 配列a2に値4,5を要素として追加\n",
    "a3 = np.append(a2,[4,5])\n",
    "\n",
    "print(a1)\n",
    "print(a2)\n",
    "print(a3)"
   ]
  },
  {
   "cell_type": "markdown",
   "metadata": {},
   "source": [
    "多次元配列に要素を追加する場合は、`append`関数の`axis`引数に対して、行追加であれば0、列追加であれば1を渡します。追加する要素は、追加先の配列の行または列と同じ次元の配列である必要があります。"
   ]
  },
  {
   "cell_type": "code",
   "execution_count": 18,
   "metadata": {},
   "outputs": [
    {
     "name": "stdout",
     "output_type": "stream",
     "text": [
      "[[1 2 3]\n",
      " [4 5 6]]\n",
      "[[1 2 3]\n",
      " [4 5 6]\n",
      " [7 8 9]]\n",
      "[[1 2 3 0]\n",
      " [4 5 6 0]\n",
      " [7 8 9 0]]\n"
     ]
    }
   ],
   "source": [
    "mul_array1 = np.array([[1,2,3],[4,5,6]])\n",
    "\n",
    "#  多次元配列mul_array1に行[7,8,9]を追加\n",
    "mul_array2 = np.append(mul_array1, [[7,8,9]], axis =0)\n",
    "\n",
    "#  多次元配列mul_array2に列[0,0,0]を追加\n",
    "mul_array3 = np.append(mul_array2, np.array([[0,0,0]]).T, axis =1)\n",
    "\n",
    "print(mul_array1)\n",
    "print(mul_array2)\n",
    "print(mul_array3)"
   ]
  },
  {
   "cell_type": "markdown",
   "metadata": {},
   "source": [
    "### insert()関数\n",
    "NumPyの配列の要素の挿入には**`insert`**`()`関数を使います。`insert()`関数の第1引数には配列、第2引数には要素を挿入する位置、第3引数にはその配列に追加する値を指定します。値は、リストやタプルで複数を同時に指定することもできます。NumPyの`insert()`関数は、要素を追加した新しい配列が返り、元の配列は変化しないことに注意してください。"
   ]
  },
  {
   "cell_type": "code",
   "execution_count": 19,
   "metadata": {},
   "outputs": [
    {
     "name": "stdout",
     "output_type": "stream",
     "text": [
      "[1 3]\n",
      "[1 2 3]\n",
      "[1 2 3 4 5]\n"
     ]
    }
   ],
   "source": [
    "a1 = np.array([1,3])\n",
    "\n",
    "# 配列a1のインデックス1に値2を要素として追加\n",
    "a2 = np.insert(a1, 1, 2)\n",
    "\n",
    "# 配列a2のインデックス3に値4,5を要素として追加\n",
    "a3 = np.insert(a2, 3, [4,5])\n",
    "\n",
    "print(a1)\n",
    "print(a2)\n",
    "print(a3)"
   ]
  },
  {
   "cell_type": "markdown",
   "metadata": {},
   "source": [
    "多次元配列に要素を挿入する場合は、axis引数に対して、行追加であれば0、列追加であれば1を渡します。挿入する要素は、挿入先の配列の行または列と同じ次元の配列である必要があります。"
   ]
  },
  {
   "cell_type": "code",
   "execution_count": 20,
   "metadata": {},
   "outputs": [
    {
     "name": "stdout",
     "output_type": "stream",
     "text": [
      "[[1 2 3]\n",
      " [7 8 9]]\n",
      "[[1 2 3]\n",
      " [4 5 6]\n",
      " [7 8 9]]\n"
     ]
    }
   ],
   "source": [
    "mul_array1 = np.array([[1,2,3],[7,8,9]])\n",
    "\n",
    "#  多次元配列mul_array1に行[4,5,6]を追加\n",
    "mul_array2 = np.insert(mul_array1, 1, [[4,5,6]], axis =0)\n",
    "\n",
    "print(mul_array1)\n",
    "print(mul_array2)"
   ]
  },
  {
   "cell_type": "markdown",
   "metadata": {},
   "source": [
    "### delete()関数\n",
    "NumPyの配列の要素の削除には**`delete`**`()`関数を使います。`delete()`関数の第1引数には配列、第2引数には削除する要素の位置を指定します。`delete`関数でも`append()`関数、`insert()`関数と同様に、元の配列は変化しないことに注意してください。"
   ]
  },
  {
   "cell_type": "code",
   "execution_count": 21,
   "metadata": {},
   "outputs": [
    {
     "name": "stdout",
     "output_type": "stream",
     "text": [
      "[0 1 2]\n",
      "[0 1]\n"
     ]
    }
   ],
   "source": [
    "a1 = np.array([0,1,2])\n",
    "\n",
    "# 配列a1のインデックス2の要素を削除\n",
    "a2 = np.delete(a1,2) \n",
    "\n",
    "print(a1)\n",
    "print(a2)"
   ]
  },
  {
   "cell_type": "markdown",
   "metadata": {},
   "source": [
    "## ▲要素の条件取り出し\n",
    "条件式を用いて、配列の要素の中から条件に合う要素のみを抽出し、要素の値を変更したり、新たな配列を作成することができます。配列と比較演算を組み合わせることで、比較演算が配列の個々の要素に適用されます。\n",
    "\n",
    "条件式のブール演算では、`and`、`or`、`not`の代わりに`&`、`|`、`~`を用います。"
   ]
  },
  {
   "cell_type": "code",
   "execution_count": 22,
   "metadata": {},
   "outputs": [
    {
     "name": "stdout",
     "output_type": "stream",
     "text": [
      "[ 1  2 -3  0  5  0 -7]\n"
     ]
    }
   ],
   "source": [
    "a1 = np.array([1,2,-3,-4,5,-6,-7])\n",
    "\n",
    "# 0未満で2で割り切れる値を持つ要素に0を代入\n",
    "a1[(a1<0) & (a1%2==0)]=0\n",
    "print(a1)"
   ]
  },
  {
   "cell_type": "markdown",
   "metadata": {},
   "source": [
    "以下の例において、`print(a1>0)`とすると`[ True  True False False  True False False]`というブール値の配列が返ってきていることがわかります。`True`は条件（この場合は要素が正）に対して真な要素（この場合は1,2,5）に対応しています。配列要素の条件取り出しでは、このブール値の配列を元の配列に渡して、条件に対して真な要素のインデックスを参照していることになります。これを**ブールインデックス参照**と呼びます。"
   ]
  },
  {
   "cell_type": "code",
   "execution_count": 23,
   "metadata": {},
   "outputs": [
    {
     "name": "stdout",
     "output_type": "stream",
     "text": [
      "[ True  True False False  True False False]\n",
      "[1 2 5]\n"
     ]
    }
   ],
   "source": [
    "a1 = np.array([1,2,-3,-4,5,-6,-7])\n",
    "\n",
    "# 0より大きい値を持つ要素はTrue, それ以外はFalseのブール値配列\n",
    "print(a1>0)\n",
    "\n",
    "# 配列a1の0より大きい値を持つ要素から新たな配列a2の作成\n",
    "a2 = a1[a1>0]\n",
    "print(a2)"
   ]
  },
  {
   "cell_type": "markdown",
   "metadata": {},
   "source": [
    "## ▲ブロードキャスト\n",
    "行数と列数が異なる配列や行列同士の四則演算では、足りない行や列の値を補うブロードキャストが行われます。以下の例では、配列Aと演算に対して、配列`B`の2行目が足りないため、`B`の1行目と同じ値で2行目を補い演算を行なっています。このようなブロードキャストが機能するのは、`B`の行数または列数が`A`のそれらと同じ場合、または配列`B`が1行・1列の場合です。"
   ]
  },
  {
   "cell_type": "code",
   "execution_count": 24,
   "metadata": {},
   "outputs": [
    {
     "name": "stdout",
     "output_type": "stream",
     "text": [
      "[[3 6]\n",
      " [5 8]]\n"
     ]
    }
   ],
   "source": [
    "A = np.array([1,2,3,4]).reshape(2,2)\n",
    "B = np.array([2,4])\n",
    "\n",
    "# 行列Bをブロードキャストして行列Aと足し算\n",
    "C = A+B\n",
    "print(C)"
   ]
  },
  {
   "cell_type": "markdown",
   "metadata": {},
   "source": [
    "## ▲行列の演算"
   ]
  },
  {
   "cell_type": "markdown",
   "metadata": {},
   "source": [
    "`dot()`関数を使うとベクトルの**内積**や**行列積**を計算することができます。この時、それぞれの配列の行数と列数、または列数と行数が同じである必要があります。"
   ]
  },
  {
   "cell_type": "code",
   "execution_count": 25,
   "metadata": {},
   "outputs": [
    {
     "name": "stdout",
     "output_type": "stream",
     "text": [
      "[[14 20]\n",
      " [30 44]]\n"
     ]
    }
   ],
   "source": [
    "A = np.array([1,2,3,4]).reshape(2,2)\n",
    "B = np.array([2,4,6,8]).reshape(2,2)\n",
    "\n",
    "# 行列積\n",
    "C = np.dot(A,B)\n",
    "print(C)"
   ]
  },
  {
   "cell_type": "markdown",
   "metadata": {},
   "source": [
    "単位行列はidentity()関数またはeye()関数で作成することができます。引数に行列のサイズを指定します。"
   ]
  },
  {
   "cell_type": "code",
   "execution_count": 26,
   "metadata": {},
   "outputs": [
    {
     "name": "stdout",
     "output_type": "stream",
     "text": [
      "[[1 0 0]\n",
      " [0 1 0]\n",
      " [0 0 1]]\n"
     ]
    }
   ],
   "source": [
    "# 3行3列の単位行列\n",
    "E = np.identity(3, dtype=int)\n",
    "print(E)"
   ]
  },
  {
   "cell_type": "markdown",
   "metadata": {},
   "source": [
    "`transpose()`関数または配列の`T`属性で、配列の行と列の要素を入れ替えた配列を得ることができます。この時、元の配列の形状を変えているだけで元の配列を直接変更していないことに注意してください。"
   ]
  },
  {
   "cell_type": "code",
   "execution_count": 27,
   "metadata": {},
   "outputs": [
    {
     "name": "stdout",
     "output_type": "stream",
     "text": [
      "[[1 4]\n",
      " [2 5]\n",
      " [3 6]]\n",
      "[[1 4]\n",
      " [2 5]\n",
      " [3 6]]\n",
      "[[1 2 3]\n",
      " [4 5 6]]\n"
     ]
    }
   ],
   "source": [
    "A = np.array([1,2,3,4,5,6]).reshape(2,3)\n",
    "\n",
    "# 配列の行と列の入れ替え\n",
    "print(np.transpose(A))\n",
    "print(A.T)\n",
    "print(A)"
   ]
  },
  {
   "cell_type": "markdown",
   "metadata": {},
   "source": [
    "NumPyでは、行列の分解、転置、行列式などの計算を含む線形代数の機能は、`numpy.linalg`モジュールで提供されています。同モジュールについては以下を参照してください。\n",
    "- [線形代数関連関数](https://docs.scipy.org/doc/numpy/reference/routines.linalg.html)"
   ]
  },
  {
   "cell_type": "markdown",
   "metadata": {},
   "source": [
    "## 練習の解答"
   ]
  },
  {
   "cell_type": "code",
   "execution_count": null,
   "metadata": {},
   "outputs": [],
   "source": [
    "import numpy as np\n",
    "def construct_array(int1, int2):\n",
    "    list1 = [int1 + int2, int1 - int2, int1 * int2, int1 / int2]\n",
    "    arr1 = np.array(list1, dtype=\"int32\")\n",
    "    return arr1"
   ]
  },
  {
   "cell_type": "code",
   "execution_count": null,
   "metadata": {},
   "outputs": [],
   "source": [
    "import numpy as np\n",
    "def construct_identitymatrix(int1):\n",
    "    list1 = []\n",
    "    list2 = [0] * int1\n",
    "    #print(list2)\n",
    "    for i1 in range(int1):\n",
    "        list2[i1] = [0] * int1\n",
    "        list2[i1][i1] = 1\n",
    "        list1.append(list2[i1])\n",
    "        #print(list1)\n",
    "    idmtrx = np.array(list2)\n",
    "    return idmtrx\n",
    "#別解\n",
    "#def construct_identitymatrix(int1):\n",
    "#    idmtrx = np.identity(int1, dtype=int)\n",
    "#    return idmtrx\n",
    "construct_identitymatrix(4)"
   ]
  },
  {
   "cell_type": "code",
   "execution_count": null,
   "metadata": {},
   "outputs": [],
   "source": [
    "import numpy as np\n",
    "def construct_copymatrix(list1, int1):\n",
    "    list2 = []\n",
    "    for i in list1:\n",
    "        list3 = [i] * int1\n",
    "        list2.append(list3)\n",
    "    ary1 = np.array(list2)\n",
    "    return ary1\n",
    "#別解\n",
    "#def construct_copymatrix(list1, int1):\n",
    "#    list2 = []\n",
    "#    for i in range(int1):\n",
    "#        list2.append(list1)\n",
    "#    print(list2)\n",
    "#    ary1 = np.array(list2)\n",
    "#    return ary1.T # Tという属性を使うと、ary1の行と列を入れ替えた行列を取得できます\n",
    "#\n",
    "#別解2\n",
    "#def construct_copymatrix(list1, int1):\n",
    "#    list2 = list1*int1\n",
    "#    print(list2)\n",
    "#    ary1 = np.array(list2)\n",
    "#    ary1 = ary1.reshape(int1, len(list1))\n",
    "#    return ary1.T # Tという属性を使うと、ary1の行と列を入れ替えた行列を取得できます"
   ]
  },
  {
   "cell_type": "code",
   "execution_count": null,
   "metadata": {},
   "outputs": [],
   "source": [
    "import numpy as np\n",
    "def arange_plus(val1, val2, val3):\n",
    "    ary1 = np.arange(val1, val2+val3, val3)\n",
    "    return ary1"
   ]
  },
  {
   "cell_type": "code",
   "execution_count": null,
   "metadata": {},
   "outputs": [],
   "source": [
    "import numpy as np\n",
    "def get_minmax(ary1):\n",
    "    ary2 = ary1.min(1) \n",
    "    #print(ary2)\n",
    "    ary3 = ary2.max() \n",
    "    #print(ary3, type(ary3))\n",
    "    return ary3\n",
    "#get_minmax(np.array([[10, 30, 55], [0, 40, 15], [35, 50, 75], [15, 66, 20]]))"
   ]
  }
 ],
 "metadata": {
  "kernelspec": {
   "display_name": "Python 3",
   "language": "python",
   "name": "python3"
  },
  "language_info": {
   "codemirror_mode": {
    "name": "ipython",
    "version": 3
   },
   "file_extension": ".py",
   "mimetype": "text/x-python",
   "name": "python",
   "nbconvert_exporter": "python",
   "pygments_lexer": "ipython3",
   "version": "3.7.3"
  }
 },
 "nbformat": 4,
 "nbformat_minor": 2
}
