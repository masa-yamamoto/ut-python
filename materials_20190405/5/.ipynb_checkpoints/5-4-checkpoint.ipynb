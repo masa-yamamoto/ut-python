{
 "cells": [
  {
   "cell_type": "markdown",
   "metadata": {
    "slideshow": {
     "slide_type": "slide"
    }
   },
   "source": [
    "# Pythonプログラミング入門 第5回\n",
    "Python 実行ファイルとモジュールについて説明します。\n",
    "この回の Notebook だけで理解が困難な場合、ビデオの視聴を推奨します。\n",
    "\n",
    "参考\n",
    "\n",
    "- https://docs.python.org/ja/3/tutorial/interpreter.html\n",
    "- https://docs.python.org/ja/3/tutorial/modules.html\n",
    "- https://docs.python.org/ja/3/reference/import.html"
   ]
  },
  {
   "cell_type": "markdown",
   "metadata": {
    "slideshow": {
     "slide_type": "slide"
    }
   },
   "source": [
    "# Python 実行ファイルとモジュール\n",
    "\n",
    "## Python プログラムファイル\n",
    "\n",
    "この授業ではこれまで、プログラムを Jupyterノートブック（拡張子 `.ipynb`）のコードセル (Code) に書き込むスタイルを採ってきました。Jupyterノートブックでは、コードセルに加え、文書セル (Markdown) および出力結果をjson形式で保存しています。この形式は学習には適していますが、Python で標準的に使われるプログラムファイル形式ではありません。\n",
    "\n",
    "Python の標準のプログラムファイル形式（拡張子 `.py`）では Python プログラム、すなわち、 Jupyterノートブックにおけるコードセルの内容をファイルに記述します。\n",
    "\n",
    "例えば、次のコードセルを実行してみて下さい。"
   ]
  },
  {
   "cell_type": "code",
   "execution_count": 1,
   "metadata": {},
   "outputs": [
    {
     "name": "stdout",
     "output_type": "stream",
     "text": [
      "a1 contains the value of 10\n"
     ]
    }
   ],
   "source": [
    "a1 = 10\n",
    "print(\"a1 contains the value of\", a1)"
   ]
  },
  {
   "cell_type": "markdown",
   "metadata": {},
   "source": [
    "この内容と全く同じコードを記述したPython プログラムファイル `sample.py` を教材として用意しました。 \n",
    "\n",
    "オペレーティングシステム（実際にはシェル）から `sample.py` を実行するには、以下のようにします。\n",
    "\n",
    "\n",
    "---\n",
    "```console\n",
    " python sample.py\n",
    "```\n",
    "\n",
    "あるいは\n",
    "\n",
    "```console\n",
    " python3 sample.py\n",
    "```\n",
    "\n",
    "---\n",
    "\n",
    "\n",
    "では、以下の説明を参考に各自の環境で `sample.py` を実行してみて下さい。"
   ]
  },
  {
   "cell_type": "markdown",
   "metadata": {},
   "source": [
    "### Windows での実行方法（自身で Anaconda3 をインストールした場合）\n",
    "\n",
    "以下をクリックすれば、ターミナルが開いて python をコマンドとして実行できます。<br>\n",
    "    Start メニュー ⇒ Anaonda3(64-bit) ⇒ Anaconda Prompt \n",
    "\n",
    "<img src=\"fig/5-4_sample_py_win_1.png\" width=\"250\">\n",
    "\n",
    "下記の様なウインドウが表示されます。\n",
    "\n",
    "<img src=\"fig/5-4_sample_py_win_2.png\">\n",
    "\n",
    "Windowsのユーザーアカウント名のついたフォルダ（画像では、KMK）の中に pythontest というフォルダを作成し、その中に `sample.py` を格納した場合の実行例を示します。\n",
    "\n",
    "例では、cd というコマンドで `sample.py` を格納したフォルダ pythontest に移動し、その上で `sample.py` を実行しています。\n",
    "\n",
    "<img src=\"fig/5-4_sample_py_win_3.png\">\n"
   ]
  },
  {
   "cell_type": "markdown",
   "metadata": {},
   "source": [
    "### Windows での実行方法（ECCS の Windows 環境）\n",
    "\n",
    "以下をクリックしてターミナルを開きます。<br>\n",
    "    Start メニュー ⇒ Cygwin64 Terminal<br>\n",
    "（デスクトップにショートカットアイコンがある場合があります）\n",
    "下記の様なウインドウが表示されます。\n",
    "\n",
    "<img src=\"fig/5-4_sample_py_win2_1.png\">\n",
    "\n",
    "cygwin64 というフォルダの中に homeフォルダがあります。更に、そのフォルダの中に、ユーザーIDのフォルダ（例の画像では 0488115111 というフォルダ）があります。その中に、 pythontest というフォルダを作成し、その中に `sample.py` を格納した場合の実行例を示します。\n",
    "\n",
    "<img src=\"fig/5-4_sample_py_win2_2.png\">\n",
    "\n",
    "この場合、python ではなく、 /cygdrive/c/Anaconda3/python を実行します。\n",
    "\n",
    "<img src=\"fig/5-4_sample_py_win2_3.png\">\n",
    "\n"
   ]
  },
  {
   "cell_type": "markdown",
   "metadata": {},
   "source": [
    "### MacOS での実行方法\n",
    "\n",
    "Application ⇒ Utilities ⇒ Terminal.app を起動します。<br>\n",
    "    アプリケーション ⇒ ユーティリティ ⇒ ターミナル.app を起動します。（日本語の場合）\n",
    "        \n",
    "<img src=\"fig/5-4_sample_py_mac_1.png\" width=\"450\">\n",
    "\n",
    "下記の様なウインドウが表示されます。\n",
    "\n",
    "<img src=\"fig/5-4_sample_py_mac_2.png\">\n",
    "\n",
    "ダウンロードフォルダ (Downloads) に `sample.py` を格納した場合の実行例を示します。\n",
    "\n",
    "例では、cd というコマンドで `sample.py` を格納した Downloadsフォルダに移動し、その上で `sample.py` を実行しています。\n",
    "\n",
    "<img src=\"fig/5-4_sample_py_mac_3.png\">"
   ]
  },
  {
   "cell_type": "markdown",
   "metadata": {
    "slideshow": {
     "slide_type": "slide"
    }
   },
   "source": [
    "## プログラムファイルの文字コード\n",
    "\n",
    "Python の標準プログラムファイル形式では、ヘッダ行が定義されており、プログラムで使用する文字コードや、Unix 環境では Python インタープリタのコマンドなどを記述します。Python の標準の文字コードは utf-8（8ビットのUnicode）ですが、これに代えて Windows などで使われてきたシフトJIS (shift_jis) を利用する場合は、先頭行に以下を記述します。\n",
    "\n",
    "---\n",
    "```Python\n",
    "# -*- coding: shift_jis -*-\n",
    "```\n",
    "---\n",
    "\n",
    "例えば、次の画像の a.py というコードを実行するとエラーが出ます。\n",
    "\n",
    "<img src=\"fig/5-4_sjis_1.png\">\n",
    "\n",
    "そこで、上記の1文を先頭行に追加するとエラーが起こらなくなります。\n",
    "\n",
    "<img src=\"fig/5-4_sjis_2.png\">\n",
    "\n",
    "\n",
    "Unix ではプログラムスクリプトの先頭行（**shebang行**）には、そのスクリプトを読み込み実行するコマンドを指定します。\n",
    "このケースでは先頭行は例えば、以下のようになります。\n",
    "\n",
    "---\n",
    "```Python\n",
    "#!/usr/bin/env python3\n",
    "# -*- coding: shift_jis -*-\n",
    "```\n",
    "\n",
    "---\n",
    "\n",
    "**shebang行**では、コマンドを絶対パスで指定します。\n",
    "`/usr/bin/env python3` と指定すると、\n",
    "env というコマンドは python3インタープリタを環境変数から探して実行しますので、\n",
    "python3 自身の絶対パスを指定する必要はありません。"
   ]
  },
  {
   "cell_type": "markdown",
   "metadata": {
    "slideshow": {
     "slide_type": "slide"
    }
   },
   "source": [
    "## Jupyter Notebook で Python プログラムファイル (`.py`) を扱う\n",
    "\n",
    "Jupyter Notebook で Python プログラムファイル を扱うには大きく二種類の方法があります。\n",
    "\n",
    "1. Jupyter Notebook で直接 Python プログラムファイル (`.py`)を開く\n",
    "2. Jupyterノートブックを Python プログラムファイル (`.py`)に変換する"
   ]
  },
  {
   "cell_type": "markdown",
   "metadata": {
    "slideshow": {
     "slide_type": "subslide"
    }
   },
   "source": [
    "### Jupyter Notebook で Python プログラムファイルを開く\n",
    "Jupyter Notebook で直接に Python の標準のプログラムファイルを作成するには、（Jupyter Notebook 起動時に表示される）ファイルマネージャ画面で、\n",
    "\n",
    "    New ⇒ Text File\n",
    "\n",
    "を選択して、エディタ画面を表示させます。\n",
    "\n",
    "<img src=\"fig/5-4_py_open_1.png\" width=\"400\">\n",
    "\n",
    "その後、\n",
    "\n",
    "    File ⇒ Rename\n",
    "\n",
    "<img src=\"fig/5-4_py_open_2.png\" width=\"400\">\n",
    "\n",
    "を選択するか、ファイル名を直接クリックして `.py` 拡張子をもつファイル名として保存します。\n",
    "実際には、コードセルの上で動作を確認したプログラムをクリップボードにコピーして、このエディタにペーストするという方法が現実的と思われます。"
   ]
  },
  {
   "cell_type": "markdown",
   "metadata": {
    "slideshow": {
     "slide_type": "subslide"
    }
   },
   "source": [
    "### Jupyterノートブックを Python プログラムファイル (`.py`) に変換する\n",
    "講義で利用している Jupyterノートブックを `.py` としてセーブするには、\n",
    "\n",
    "    File ⇒ Download as ⇒ Python(.py)\n",
    "\n",
    "を選択します。\n",
    "\n",
    "<img src=\"fig/5-4_py_conv_1.png\" width=\"400\">\n",
    "\n",
    "<img src=\"fig/5-4_py_conv_2.png\" width=\"400\">\n",
    "\n",
    "そうすると、コードセルだけがプログラム行として有効になり、\n",
    "その他の行は `#` でコメントアウトされた Python プログラムファイルがダウンロードファイルとして生成されます。\n",
    "\n",
    "環境によっては、`.py` ではなく `.html` ファイルとして保存されるかもしれませんが、\n",
    "ファイル名を変更すれば Python プログラムファイルとして利用できます。\n",
    "\n",
    "後者の方法は、全てのコードセルの内容を一度に実行するプログラムとして保存されます。\n",
    "Jupyter Notebook のようにセル単位の実行とはならないことに注意する必要があります。"
   ]
  },
  {
   "cell_type": "markdown",
   "metadata": {
    "slideshow": {
     "slide_type": "subslide"
    }
   },
   "source": [
    "ここでは Jupyter Notebook で Python プログラムファイルを作成する方法を紹介しましたが、\n",
    "使い慣れているエディタがあればそちらを使ってもかまいません。"
   ]
  },
  {
   "cell_type": "markdown",
   "metadata": {
    "slideshow": {
     "slide_type": "slide"
    }
   },
   "source": [
    "## プログラムへの引数の渡し方\n",
    "\n",
    "Python プログラムファイル (`.py`) の実行時には、実行するプログラム名の後に文字列を書き込むことにより、実行するプログラムに引数を与えることができます。 \n",
    "\n",
    "例えば、通常 `argsprint.py` というファイルを実行する場合、上で見た様に以下の様に実行します。\n",
    "\n",
    "---\n",
    "```console\n",
    " python argsprint.py\n",
    "```\n",
    "---\n",
    "\n",
    "ここで、 `argsprint.py` の後ろに、適当な文字列を付け加えます。例えば、以下の様に3つの文字列 `firstvalue` `secondvalue` `thirdvalue` をスペースで区切って付け加えてみます。 \n",
    "\n",
    "---\n",
    "```console\n",
    " python argsprint.py firstvalue secondvalue thirdvalue\n",
    "```\n",
    "---\n",
    "\n",
    "このとき、この3つの文字列が `argsprint.py` に引数として与えられることになります。\n",
    "\n",
    "この引数は、**`sys`** というモジュールの `argv` という変数 (**`sys.argv`**) にリストとして格納されます。\n",
    "\n",
    " `argsprint.py` を次の様なコードからなるファイルとしましょう。\n",
    "\n",
    "---\n",
    "```Python:argsprint.py\n",
    "import sys\n",
    "print(sys.argv) # リスト sys.argv の中身を表示\n",
    "```\n",
    "---\n",
    "\n",
    "この様な `argsprint.py` を先の例の様に実行すると、以下の画像の様な結果が得られます。リスト `sys.argv` に2番目の要素として文字列 `firstvalue` が、3番目の要素として文字列 `secondvalue` が、4番目の要素として文字列 `thirdvalue` が格納されていることを確認して下さい。また、リストの最初の要素には、実行したプログラム名（ここでは  `argsprint.py` ）が格納されることに注意してください。\n",
    "\n",
    "\n",
    "<img src=\"fig/5-4_argsprint.png\">\n",
    "\n",
    "引数を変更したり、引数の数を増やしたり減らしたりして、表示がどう変わるか調べてみて下さい。\n",
    "\n",
    "なお、 `sys.argv` は、下記の様に `from sys import argv` として、 `argv` として利用することも多い様です。\n",
    "\n",
    "---\n",
    "```Python:argsprint.py\n",
    "from sys import argv\n",
    "print(argv)\n",
    "```\n",
    "---\n"
   ]
  },
  {
   "cell_type": "markdown",
   "metadata": {},
   "source": [
    "## 練習\n",
    "\n",
    "上記のように `argsprint.py` というプログラムファイルを作成して、実行して下さい。"
   ]
  },
  {
   "cell_type": "markdown",
   "metadata": {},
   "source": [
    "## 練習\n",
    "\n",
    "`sample2.py` というプログラムファイルを作成して下さい。このプログラムは実行すると、実行した際に与えた1番目の引数の値（仮に `value` と呼びます）を、\n",
    "\n",
    "---\n",
    "```console\n",
    "a1 contains the value of value\n",
    "```\n",
    "---\n",
    "\n",
    "と表示 (print) します。"
   ]
  },
  {
   "cell_type": "markdown",
   "metadata": {},
   "source": [
    "## 練習\n",
    "\n",
    "`showname.py` というプログラムファイルを作成して下さい。このプログラムは実行すると、実行するファイル名を表示します。"
   ]
  },
  {
   "cell_type": "markdown",
   "metadata": {},
   "source": [
    "## 練習\n",
    "\n",
    "`argsnum.py` というプログラムファイルを作成して下さい。このプログラムは実行すると、引数の数が3個以下の場合には引数の数を表示し、引数の数が4個以上の場合は、 `too many` と表示します。"
   ]
  },
  {
   "cell_type": "markdown",
   "metadata": {},
   "source": [
    "## 練習\n",
    "\n",
    "`argssum.py` というプログラムファイルを作成して下さい。このプログラムは引数に整数を（文字列として）与えて実行すると、引数の数を全て足した数を表示します。例えば、\n",
    "\n",
    "---\n",
    "```console\n",
    "python argssum.py 1 2 3\n",
    "```\n",
    "---\n",
    "\n",
    "と実行すると、 `6` と表示します。（文字列を整数に変換するには、 `int` という関数を使って下さい。）"
   ]
  },
  {
   "cell_type": "code",
   "execution_count": 2,
   "metadata": {},
   "outputs": [
    {
     "name": "stdout",
     "output_type": "stream",
     "text": [
      "100200\n",
      "300\n"
     ]
    }
   ],
   "source": [
    "str1 = \"100\"\n",
    "str2 = \"200\"\n",
    "print(str1+str2) # 文字列の結合\n",
    "print(int(str1)+int(str2)) # intを使って文字列を整数に変換する"
   ]
  },
  {
   "cell_type": "markdown",
   "metadata": {
    "slideshow": {
     "slide_type": "slide"
    }
   },
   "source": [
    "## モジュール\n",
    "\n",
    "プログラムが大きくなるとそれを複数のファイルに分割した方がプログラム開発・維持が簡単になります。\n",
    "また一度定義した便利な関数・クラスを別のプログラムで再利用するにもファイル分割が必要となります。\n",
    "Python ではプログラムを**モジュール**の単位で複数のファイルに分割することができます。\n",
    "\n",
    "以下が記述された `fibonacci.py` というモジュールを読み込む場合を説明します。\n",
    "\n",
    "---\n",
    "```Python\n",
    "def fib(n):\n",
    "    if (n == 0):\n",
    "        return 0\n",
    "    elif (n == 1):\n",
    "        return 1\n",
    "    else:\n",
    "        return fib(n-1)+fib(n-2)\n",
    "```\n",
    "\n",
    "---\n",
    "\n",
    "ここで定義されている関数を利用するには、**`import`** を用いて `import モジュール名` と書きます。\n",
    "**モジュール名**は、Python プログラムファイルの名前から拡張子 `.py` を除いたものです。\n",
    "すると、モジュールで定義されている関数は `モジュール名.関数名` によって参照できます。"
   ]
  },
  {
   "cell_type": "code",
   "execution_count": 3,
   "metadata": {
    "slideshow": {
     "slide_type": "-"
    }
   },
   "outputs": [
    {
     "name": "stdout",
     "output_type": "stream",
     "text": [
      "55\n"
     ]
    }
   ],
   "source": [
    "import fibonacci\n",
    "\n",
    "print(fibonacci.fib(10))"
   ]
  },
  {
   "cell_type": "markdown",
   "metadata": {
    "slideshow": {
     "slide_type": "subslide"
    }
   },
   "source": [
    "`from` や `as` の使い方も既存のモジュールと全く同じです。\n",
    "\n",
    "モジュール内で定義されている名前を読み込み元のプログラムでそのまま使いたい場合は、**`from`** を用いて以下のように書くことができます。"
   ]
  },
  {
   "cell_type": "code",
   "execution_count": 4,
   "metadata": {},
   "outputs": [
    {
     "name": "stdout",
     "output_type": "stream",
     "text": [
      "55\n"
     ]
    }
   ],
   "source": [
    "from fibonacci import fib\n",
    "\n",
    "print(fib(10))"
   ]
  },
  {
   "cell_type": "markdown",
   "metadata": {
    "slideshow": {
     "slide_type": "subslide"
    }
   },
   "source": [
    "ワイルドカード **`*`** を利用する方法もありますが、推奨されていません。読み込んだモジュール内の未知の名前とプログラム内の名前が衝突する可能性があるためです。"
   ]
  },
  {
   "cell_type": "code",
   "execution_count": 5,
   "metadata": {},
   "outputs": [],
   "source": [
    "from fibonacci import *"
   ]
  },
  {
   "cell_type": "markdown",
   "metadata": {
    "slideshow": {
     "slide_type": "subslide"
    }
   },
   "source": [
    "モジュール名が長すぎるなどの理由から別の名前としたい場合は、**`as`** を利用する方法もあります。"
   ]
  },
  {
   "cell_type": "code",
   "execution_count": 6,
   "metadata": {},
   "outputs": [
    {
     "name": "stdout",
     "output_type": "stream",
     "text": [
      "55\n"
     ]
    }
   ],
   "source": [
    "import fibonacci as f\n",
    "\n",
    "print(f.fib(10))"
   ]
  },
  {
   "cell_type": "markdown",
   "metadata": {
    "slideshow": {
     "slide_type": "slide"
    }
   },
   "source": [
    "## モジュールの検索パス\n",
    "\n",
    "自身でつくるモジュールはプログラムファイルと同じディレクトリに置けば（当面は）問題ありません。\n",
    "\n",
    "実際には、インポートされるモジュールは Pythonを実行するために事前に指定されたフォルダの場所（検索パスと言います）に置く必要があります。検索パスの情報は **`sys.path`** という変数から取得できます。"
   ]
  },
  {
   "cell_type": "code",
   "execution_count": 7,
   "metadata": {},
   "outputs": [
    {
     "data": {
      "text/plain": [
       "['C:\\\\Users\\\\Masahiro Yamamoto\\\\Desktop\\\\ut-python\\\\materials_20190405\\\\5',\n",
       " 'C:\\\\Users\\\\Masahiro Yamamoto\\\\Anaconda3\\\\python37.zip',\n",
       " 'C:\\\\Users\\\\Masahiro Yamamoto\\\\Anaconda3\\\\DLLs',\n",
       " 'C:\\\\Users\\\\Masahiro Yamamoto\\\\Anaconda3\\\\lib',\n",
       " 'C:\\\\Users\\\\Masahiro Yamamoto\\\\Anaconda3',\n",
       " '',\n",
       " 'C:\\\\Users\\\\Masahiro Yamamoto\\\\Anaconda3\\\\lib\\\\site-packages',\n",
       " 'C:\\\\Users\\\\Masahiro Yamamoto\\\\Anaconda3\\\\lib\\\\site-packages\\\\win32',\n",
       " 'C:\\\\Users\\\\Masahiro Yamamoto\\\\Anaconda3\\\\lib\\\\site-packages\\\\win32\\\\lib',\n",
       " 'C:\\\\Users\\\\Masahiro Yamamoto\\\\Anaconda3\\\\lib\\\\site-packages\\\\Pythonwin',\n",
       " 'C:\\\\Users\\\\Masahiro Yamamoto\\\\Anaconda3\\\\lib\\\\site-packages\\\\IPython\\\\extensions',\n",
       " 'C:\\\\Users\\\\Masahiro Yamamoto\\\\.ipython']"
      ]
     },
     "execution_count": 7,
     "metadata": {},
     "output_type": "execute_result"
    }
   ],
   "source": [
    "import sys\n",
    "sys.path"
   ]
  },
  {
   "cell_type": "markdown",
   "metadata": {
    "slideshow": {
     "slide_type": "skip"
    }
   },
   "source": [
    "## ▲モジュールファイルの実行\n",
    "\n",
    "モジュールファイルは、他のプログラムで利用する関数・クラスを定義するだけではなく、それ自身を Pythohプログラムとして実行したい場合もあります。\n",
    "\n",
    "例えば、上で扱った `fibonacci.py` をPythohプログラムで実行する場合、引数に整数（ `int1` としましょう）を指定すると、 `fib(int1)` という値を表示する様に変更しましょう。\n",
    "\n",
    "そのためにはどうすれば良いか考えてみて下さい。例えば、次の様なコードを考える人がいるかも知れません。\n",
    "\n",
    "---\n",
    "```Python\n",
    "import sys\n",
    "def fib(n):\n",
    "    if (n == 0):\n",
    "        return 0\n",
    "    elif (n == 1):\n",
    "        return 1\n",
    "    else:\n",
    "        return fib(n-1)+fib(n-2)\n",
    "\n",
    "int1 = int(sys.argv[1]) # 引数で与えられた整数の形をした文字列を整数に変換する\n",
    "print(fib(int1))\n",
    "```\n",
    "---\n",
    "\n",
    "では、このコードを保存したファイルの名前を `fibonacci2.py` として用意しましたので、まずPythohプログラムとして実行してみて下さい。例えば、下記の様な結果が得られるはずです。\n",
    "\n",
    "<img src=\"fig/5-4_fib2.png\">\n",
    "\n",
    "では、次にモジュールファイルとして実行してみましょう。"
   ]
  },
  {
   "cell_type": "code",
   "execution_count": 9,
   "metadata": {},
   "outputs": [
    {
     "ename": "ValueError",
     "evalue": "invalid literal for int() with base 10: '-f'",
     "output_type": "error",
     "traceback": [
      "\u001b[1;31m---------------------------------------------------------------------------\u001b[0m",
      "\u001b[1;31mValueError\u001b[0m                                Traceback (most recent call last)",
      "\u001b[1;32m<ipython-input-9-3e126fd96b83>\u001b[0m in \u001b[0;36m<module>\u001b[1;34m\u001b[0m\n\u001b[1;32m----> 1\u001b[1;33m \u001b[1;32mimport\u001b[0m \u001b[0mfibonacci2\u001b[0m\u001b[1;33m\u001b[0m\u001b[1;33m\u001b[0m\u001b[0m\n\u001b[0m\u001b[0;32m      2\u001b[0m \u001b[0mprint\u001b[0m\u001b[1;33m(\u001b[0m\u001b[0mfibonacci2\u001b[0m\u001b[1;33m.\u001b[0m\u001b[0mfib\u001b[0m\u001b[1;33m(\u001b[0m\u001b[1;36m10\u001b[0m\u001b[1;33m)\u001b[0m\u001b[1;33m)\u001b[0m\u001b[1;33m\u001b[0m\u001b[1;33m\u001b[0m\u001b[0m\n",
      "\u001b[1;32m~\\Desktop\\ut-python\\materials_20190405\\5\\fibonacci2.py\u001b[0m in \u001b[0;36m<module>\u001b[1;34m\u001b[0m\n\u001b[0;32m      8\u001b[0m         \u001b[1;32mreturn\u001b[0m \u001b[0mfib\u001b[0m\u001b[1;33m(\u001b[0m\u001b[0mn\u001b[0m\u001b[1;33m-\u001b[0m\u001b[1;36m1\u001b[0m\u001b[1;33m)\u001b[0m\u001b[1;33m+\u001b[0m\u001b[0mfib\u001b[0m\u001b[1;33m(\u001b[0m\u001b[0mn\u001b[0m\u001b[1;33m-\u001b[0m\u001b[1;36m2\u001b[0m\u001b[1;33m)\u001b[0m\u001b[1;33m\u001b[0m\u001b[1;33m\u001b[0m\u001b[0m\n\u001b[0;32m      9\u001b[0m \u001b[1;33m\u001b[0m\u001b[0m\n\u001b[1;32m---> 10\u001b[1;33m \u001b[0mint1\u001b[0m \u001b[1;33m=\u001b[0m \u001b[0mint\u001b[0m\u001b[1;33m(\u001b[0m\u001b[0msys\u001b[0m\u001b[1;33m.\u001b[0m\u001b[0margv\u001b[0m\u001b[1;33m[\u001b[0m\u001b[1;36m1\u001b[0m\u001b[1;33m]\u001b[0m\u001b[1;33m)\u001b[0m\u001b[1;33m\u001b[0m\u001b[1;33m\u001b[0m\u001b[0m\n\u001b[0m\u001b[0;32m     11\u001b[0m \u001b[0mprint\u001b[0m\u001b[1;33m(\u001b[0m\u001b[0mfib\u001b[0m\u001b[1;33m(\u001b[0m\u001b[0mint1\u001b[0m\u001b[1;33m)\u001b[0m\u001b[1;33m)\u001b[0m\u001b[1;33m\u001b[0m\u001b[1;33m\u001b[0m\u001b[0m\n",
      "\u001b[1;31mValueError\u001b[0m: invalid literal for int() with base 10: '-f'"
     ]
    }
   ],
   "source": [
    "import fibonacci2\n",
    "print(fibonacci2.fib(10))"
   ]
  },
  {
   "cell_type": "markdown",
   "metadata": {},
   "source": [
    "今度はエラーが出たはずです。では、これをどう修正すれば良いのかというと、次の様に修正します。\n",
    "\n",
    "---\n",
    "```Python\n",
    "import sys\n",
    "def fib(n):\n",
    "    if (n == 0):\n",
    "        return 0\n",
    "    elif (n == 1):\n",
    "        return 1\n",
    "    else:\n",
    "        return fib(n-1)+fib(n-2)\n",
    "\n",
    "if __name__ == \"__main__\":\n",
    "    int1 = int(sys.argv[1]) \n",
    "    print(fib(int1))\n",
    "```\n",
    "---\n",
    "\n",
    "このコードを保存したファイルの名前を `fibonacci3.py` として用意しましたので、再びPythohプログラムとして実行してみて下さい。\n",
    "\n",
    "<img src=\"fig/5-4_fib3.png\">\n",
    "\n",
    "画像の様に、`fibonacci2.py` のときと同じ結果が得られます。では、次にモジュールファイルとして実行してみましょう。"
   ]
  },
  {
   "cell_type": "code",
   "execution_count": 10,
   "metadata": {},
   "outputs": [
    {
     "name": "stdout",
     "output_type": "stream",
     "text": [
      "55\n"
     ]
    }
   ],
   "source": [
    "import fibonacci3\n",
    "print(fibonacci3.fib(10))"
   ]
  },
  {
   "cell_type": "markdown",
   "metadata": {},
   "source": [
    "今度は上手く行ったはずです。\n",
    "\n",
    "つまり、Pythohプログラムとして実行する場合にのみ実行するコードを、以下の様に `if __name__ == \"__main__\":` の中に記述する様にすれば良いということです。\n",
    "\n",
    "---\n",
    "```Python\n",
    "関数・クラスの定義\n",
    "if __name__ == \"__main__\":\n",
    "    プログラムの実行文\n",
    "```\n",
    "---\n",
    "\n",
    "Python では、コマンドによって直接実行されたファイルは `\"__main__\"` という名前のモジュールとして扱われます。プログラムの中でモジュールの名前は `__name__` という変数に入っていますので、`__name__ == \"__main__\"` という条件により、直接実行されたファイルかどうかが判定できます。\n",
    "\n",
    "例えば、用意した `maintest.py` というファイルは次の様なソースコードになっています。\n",
    "\n",
    "---\n",
    "```Python\n",
    "print(\"maintest: \", __name__)\n",
    "```\n",
    "---\n",
    "\n",
    "これをPythohプログラムとして実行すると、次の様な結果になります。\n",
    "\n",
    "<img src=\"fig/5-4_maintest.png\">\n",
    "\n",
    "この場合、変数 `__name__` には `__main__` という値が格納されていることが分かります。\n",
    "\n",
    "一方、モジュールファイルとして次のセルを実行してみて下さい。すると、 `__main__` ではなく、 `maintest` とモジュール名が表示されることを確認することが出来ます。（上手く表示されない場合は、カーネルのリスタートボタンを押してから実行してみて下さい。）"
   ]
  },
  {
   "cell_type": "code",
   "execution_count": 11,
   "metadata": {},
   "outputs": [
    {
     "name": "stdout",
     "output_type": "stream",
     "text": [
      "maintest:  maintest\n"
     ]
    }
   ],
   "source": [
    "import maintest"
   ]
  },
  {
   "cell_type": "markdown",
   "metadata": {
    "slideshow": {
     "slide_type": "skip"
    }
   },
   "source": [
    "## ▲パッケージ\n",
    "**パッケージ**は Python のモジュール名を、区切り文字 `.` を利用して構造化する方法です。\n",
    "多くの関数・クラスを提供する巨大なモジュールで利用されています。\n",
    "\n",
    "以下は、`foo` パッケージのサブモジュール `bar.baz` をインポートする例です。\n",
    "\n",
    "---\n",
    "```Python\n",
    "import foo.bar.baz\n",
    "```\n",
    "\n",
    "あるいは\n",
    "\n",
    "```Python\n",
    "from foo import bar.baz\n",
    "```\n",
    "\n",
    "---\n",
    "\n",
    "パッケージはファイルシステムのディレクトリによって構造化されています。\n",
    "Python はディレクトリに `__init__.py` という名前のファイルがあればディレクトリパッケージとして取り扱います。\n",
    "最も簡単なケースでは `__init__.py` はただの空ファイルで構いませんが、 `__init__.py` にパッケージのための初期化コードを入れることもできます。\n",
    "\n",
    "上の例 `foo.bar.baz` は、以下のディレクトリ構造となります。\n",
    "\n",
    "---\n",
    "```console\n",
    "foo/\n",
    "    __init__.py\n",
    "    bar/\n",
    "        __init__.py\n",
    "        baz.py\n",
    "```\n",
    "\n",
    "---"
   ]
  },
  {
   "cell_type": "markdown",
   "metadata": {},
   "source": [
    "## 練習の解答\n",
    "\n",
    "各セルのコードを保存した `.py` のファイルを作成して下さい。"
   ]
  },
  {
   "cell_type": "code",
   "execution_count": null,
   "metadata": {},
   "outputs": [],
   "source": [
    "#sample2.py\n",
    "import sys\n",
    "a1 = sys.argv[1]\n",
    "print(\"a1 contains the value of\", a1)"
   ]
  },
  {
   "cell_type": "code",
   "execution_count": null,
   "metadata": {},
   "outputs": [],
   "source": [
    "#showname.py\n",
    "import sys\n",
    "print(sys.argv[0])"
   ]
  },
  {
   "cell_type": "code",
   "execution_count": null,
   "metadata": {},
   "outputs": [],
   "source": [
    "#argsnum.py\n",
    "import sys\n",
    "num = len(sys.argv) - 1 # sys.argvの先頭は実行するファイルの名前であって引数ではないので、1減らす\n",
    "if num <= 3:\n",
    "    print(num)\n",
    "else:\n",
    "    print(\"too many\")"
   ]
  },
  {
   "cell_type": "code",
   "execution_count": null,
   "metadata": {},
   "outputs": [],
   "source": [
    "#argssum.py\n",
    "import sys\n",
    "sum1 = 0\n",
    "for i in range(1, len(sys.argv)):\n",
    "    sum1 += int(sys.argv[i])\n",
    "print(sum1)"
   ]
  }
 ],
 "metadata": {
  "kernelspec": {
   "display_name": "Python 3",
   "language": "python",
   "name": "python3"
  },
  "language_info": {
   "codemirror_mode": {
    "name": "ipython",
    "version": 3
   },
   "file_extension": ".py",
   "mimetype": "text/x-python",
   "name": "python",
   "nbconvert_exporter": "python",
   "pygments_lexer": "ipython3",
   "version": "3.7.3"
  }
 },
 "nbformat": 4,
 "nbformat_minor": 2
}
