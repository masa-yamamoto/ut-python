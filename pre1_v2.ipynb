{
 "cells": [
  {
   "cell_type": "markdown",
   "metadata": {},
   "source": [
    "# 第1回予習課題\n",
    "\n",
    "## フェルマー数\n",
    "フェルマー数は、$2^{2^{n}}+1$（$n$は非負の整数）で表される自然数です。$n$番目のフェルマー数を$F_n$とすると、フェルマー数は以下のように計算できます。\n",
    "\n",
    "$F_0=2^1+1=3$\n",
    "\n",
    "$F_1=2^2+1=5$\n",
    "\n",
    "$...$\n",
    "\n",
    "$n$を引数で受け取り、 $F_n$の値を返す`fermat_number(n)`という関数を定義してください。以下のセルの `...` のところを書き換えてください。"
   ]
  },
  {
   "cell_type": "markdown",
   "metadata": {},
   "source": [
    "## Fermat number\n",
    "A Fermat number is a positive integer of the form\n",
    "\n",
    "$F_{n}=2^{2^{n}}+1$,\n",
    "\n",
    "where $n$ is a nonnegative integer.\n",
    "\n",
    "Define a function `fermat_number(n)` which takes $n$ as an argument and returns the value of $F_n$."
   ]
  },
  {
   "cell_type": "code",
   "execution_count": 5,
   "metadata": {
    "scrolled": true
   },
   "outputs": [],
   "source": [
    "def fermat_number(n):\n",
    "    return (2 ** 2**n) +1"
   ]
  },
  {
   "cell_type": "markdown",
   "metadata": {},
   "source": [
    "以下のセルによってテストしてください。\n",
    "\n",
    "Test your function by executing the following cell. "
   ]
  },
  {
   "cell_type": "code",
   "execution_count": 6,
   "metadata": {},
   "outputs": [
    {
     "name": "stdout",
     "output_type": "stream",
     "text": [
      "True\n",
      "True\n",
      "True\n",
      "True\n",
      "True\n"
     ]
    }
   ],
   "source": [
    "print(fermat_number(1) == 5)\n",
    "print(fermat_number(2) == 17)\n",
    "print(fermat_number(3) == 257)\n",
    "print(fermat_number(4) == 65537)\n",
    "print(fermat_number(5) == 4294967297)"
   ]
  },
  {
   "cell_type": "markdown",
   "metadata": {},
   "source": [
    "## 三角形の成立条件\n",
    "3つの正数$a$, $b$, $c$を3辺の長さとする三角形が存在するための必要十分条件は以下の不等式で表されます。\n",
    "\n",
    "$a<b+c$かつ$b<c+a$かつ$c<a+b$\n",
    "\n",
    "3辺の長さ `a`, `b`, `c` をもらって、3辺が三角形を構成するならば `True`、そうでなければ `False` を返す `istriangle(a,b,c)` という関数を定義してください。\n",
    "\n",
    "以下のセルの `...` のところを書き換えてください。"
   ]
  },
  {
   "cell_type": "markdown",
   "metadata": {},
   "source": [
    "## Triangle inequality\n",
    "The triangle inequality states that the sum of the lengths of any two sides of a triangle with three positive side lengths must be greater than the length of the third side. \n",
    "\n",
    "$a<b+c$, $b<c+a$, $c<a+b$.\n",
    "\n",
    "A triangle with three given positive side lengths exists if and only if those side lengths satisfy the triangle inequality.\n",
    "\n",
    "Define a function `istriangle(a,b,c)`,  which returns `True` if three positive side lengths $a$, $b$, $c$ satisfy the triangle inequality. Otherwise the function should return `False`. "
   ]
  },
  {
   "cell_type": "code",
   "execution_count": 7,
   "metadata": {},
   "outputs": [],
   "source": [
    "def istriangle(a,b,c):\n",
    "    if a < b+c and b<c+a and c<a+b:\n",
    "        return True\n",
    "    else:\n",
    "        return False"
   ]
  },
  {
   "cell_type": "markdown",
   "metadata": {},
   "source": [
    "以下のセルによってテストしてください。\n",
    "\n",
    "Test your function by executing the following cell."
   ]
  },
  {
   "cell_type": "code",
   "execution_count": 8,
   "metadata": {},
   "outputs": [
    {
     "name": "stdout",
     "output_type": "stream",
     "text": [
      "True\n",
      "True\n",
      "True\n",
      "True\n"
     ]
    }
   ],
   "source": [
    "print(istriangle(3,3,3) == True)\n",
    "print(istriangle(3,4,5) == True)\n",
    "print(istriangle(1,2,3) == False)\n",
    "print(istriangle(1,1,2) == False)"
   ]
  }
 ],
 "metadata": {
  "kernelspec": {
   "display_name": "Python 3",
   "language": "python",
   "name": "python3"
  },
  "language_info": {
   "codemirror_mode": {
    "name": "ipython",
    "version": 3
   },
   "file_extension": ".py",
   "mimetype": "text/x-python",
   "name": "python",
   "nbconvert_exporter": "python",
   "pygments_lexer": "ipython3",
   "version": "3.7.0"
  }
 },
 "nbformat": 4,
 "nbformat_minor": 2
}
