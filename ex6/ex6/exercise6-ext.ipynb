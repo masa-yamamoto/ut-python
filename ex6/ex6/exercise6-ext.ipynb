{
 "cells": [
  {
   "cell_type": "markdown",
   "metadata": {},
   "source": [
    "# 第6回本課題（＋挑戦課題）\n",
    "\n",
    "▲は挑戦課題を意味する。\n",
    "本課題を解いた後に、任意で挑戦することを意図している。\n",
    "\n",
    "▲ indicates advanced exercises.\n",
    "They are designed to tackle optionally with after solving exercises.\n",
    "\n",
    "第3回本課題では$n$-gramの計算を扱ったが、本課題ではイテレータに基づく$n$-gramの計算を扱う。\n",
    "\n",
    "While the third exercise dealt with $n$-gram calculation, this exercise deals with iterator-based $n$-gram calculation and processing."
   ]
  },
  {
   "cell_type": "markdown",
   "metadata": {},
   "source": [
    "## 1. イテレータに基づく$n$-gramの生成 (Iterator-based generation of $n$-grams)\n",
    "まず準備として、6-1の練習で述べた`take()`と同じ引数を取り、`take()`の結果のイテレータが走査しない残りの部分をイテレータで返す`drop()`を定義せよ。\n",
    "\n",
    "As preliminaries, define a function `drop()` that takes the same parameters as `take()` described in 6-1 and returns an iterator that yields the remaining part of the traversal of a resultant iterator of `take()`."
   ]
  },
  {
   "cell_type": "code",
   "execution_count": null,
   "metadata": {},
   "outputs": [],
   "source": [
    "## 解答用セル（A cell for answering) ##\n",
    "##===================================##\n",
    "## 次の関数を完成させよ。            ##\n",
    "## Complete the following function.  ##\n",
    "def drop(n, xs):\n",
    "    ..."
   ]
  },
  {
   "cell_type": "markdown",
   "metadata": {},
   "source": [
    "次の4つのセルを実行して、コメントにある通りに印字されることを確認せよ。\n",
    "尚，最後のテストケースで `False` が印字されることは、`drop()` の返値がイテレータでないことを意味する。\n",
    "\n",
    "Running the following four cells, confirm that each cell prints a string conforming to its comment.\n",
    "Note that it means that the results of `drop()` are not iterators if the last test case prints `False`."
   ]
  },
  {
   "cell_type": "code",
   "execution_count": null,
   "metadata": {},
   "outputs": [],
   "source": [
    "print(*drop(0, 'abcd')) # a b c d"
   ]
  },
  {
   "cell_type": "code",
   "execution_count": null,
   "metadata": {},
   "outputs": [],
   "source": [
    "print(*drop(1, 'abcd')) # b c d"
   ]
  },
  {
   "cell_type": "code",
   "execution_count": null,
   "metadata": {},
   "outputs": [],
   "source": [
    "print(*drop(2, 'abcd')) # c d"
   ]
  },
  {
   "cell_type": "code",
   "execution_count": null,
   "metadata": {},
   "outputs": [],
   "source": [
    "it =  drop(0, '')\n",
    "print(iter(it) == it) # True"
   ]
  },
  {
   "cell_type": "markdown",
   "metadata": {},
   "source": [
    "ではここで、第1引数に正の整数$n$、第2引数に文字列`s`を取り、`s`の$n$-gramを生成するイテレータを返す関数`ngrams()`を、***スライスを使わずに***、`map()`と`drop()`を用いて実装せよ。\n",
    "このとき、6-1の練習で述べた`adjpairs()`を参考にしつつ、$k$-gramのイテレータから$(k+1)$-gramのイテレータを構成することを考えてみよ。\n",
    "\n",
    "Then, define a function `ngrams()` that takes a positive integer $n$ as the first parameter and a string `s` as the second parameter, and returns an iterator yielding the $n$-grams of `s`,  ***without slicing*** and with `map()` and `drop()`.\n",
    "Here, consider constructing a $(k+1)$-gram iterator from a $k$-gram iterator by referring to `adjpairs()` described in 6-1."
   ]
  },
  {
   "cell_type": "code",
   "execution_count": null,
   "metadata": {},
   "outputs": [],
   "source": [
    "## 解答用セル（A cell for answering) ##\n",
    "##===================================##\n",
    "## 次の関数を完成させよ。            ##\n",
    "## Complete the following function.  ##\n",
    "def ngrams(n, s):\n",
    "    ..."
   ]
  },
  {
   "cell_type": "markdown",
   "metadata": {},
   "source": [
    "次の4つのセルを実行して、コメントにある通りに印字されることを確認せよ。\n",
    "尚，最後のテストケースで `False` が印字されることは、`ngrams()` の返値がイテレータでないことを意味する。\n",
    "\n",
    "Running the following four cells, confirm that each cell prints a string conforming to its comment.\n",
    "Note that it means that the results of `ngrams()` are not iterators if the last test case prints `False`."
   ]
  },
  {
   "cell_type": "code",
   "execution_count": null,
   "metadata": {},
   "outputs": [],
   "source": [
    "print(*ngrams(1, 'abcd')) # a b c d"
   ]
  },
  {
   "cell_type": "code",
   "execution_count": null,
   "metadata": {},
   "outputs": [],
   "source": [
    "print(*ngrams(2, 'abcd')) # ab bc cd"
   ]
  },
  {
   "cell_type": "code",
   "execution_count": null,
   "metadata": {},
   "outputs": [],
   "source": [
    "print(*ngrams(3, 'abcd')) # abc bcd"
   ]
  },
  {
   "cell_type": "code",
   "execution_count": null,
   "metadata": {},
   "outputs": [],
   "source": [
    "it =  ngrams(1, '')\n",
    "print(iter(it) == it) # True"
   ]
  },
  {
   "cell_type": "markdown",
   "metadata": {},
   "source": [
    "### ▲イテレータに基づく計算の合成（Composition of iterator-based computation）\n",
    "\n",
    "さて、少し現実的な状況を考える。\n",
    "そもそも$n$-gramの統計データは、文章の特徴量の1つである。\n",
    "$n$-gramの出現頻度分布が近いことは、その文章が似ていることを示唆する。\n",
    "\n",
    "しかし、例えば電子メールなどでは、一定の長さで強制的に改行が入れられることがある。\n",
    "また、Markdownなどのマークアップ言語では、段落を明示するために空行を要求することもある。\n",
    "これらは、文章の中身とは関係がないことなので、それが$n$-gramに影響することは、特徴量抽出の観点で望ましくない。\n",
    "\n",
    "そこで、`ngrams()`を元にして、改行を無視した$n$-gramsを生成するイテレータを返す`linear_ngrams()`を定義せよ。\n",
    "実装方法には、`ngrams()`と同様の制約が入るものとする。\n",
    "\n",
    "Let's consider a rather realistic situation.\n",
    "Statistics on $n$-grams of a document is one of its feature values.\n",
    "If the frequency distribution of $n$-gram occurrences of one document is close to that of another, it indicates a certain similarity between them.\n",
    "\n",
    "However, as in emails, long lines are often mechanically broken at some length.\n",
    "Markup languages such as Markdown sometimes require blank lines to specify paragraphs.\n",
    "These are generally irrelevant to the contents of documents.\n",
    "$n$-grams affected by these line breaks are therefore (sometimes) inappropriate as a feature value.\n",
    "\n",
    "Then, define, by referring to `ngrams()`, a function `linear_ngrams()` that returns an iterator yielding $n$-grams ignoring line breaks with the same proviso as that of `ngrams()` regarding implementation. "
   ]
  },
  {
   "cell_type": "code",
   "execution_count": null,
   "metadata": {},
   "outputs": [],
   "source": [
    "## 解答用セル（A cell for answering) ##\n",
    "##===================================##\n",
    "## 次のクラスを完成させよ。          ##\n",
    "## Complete the following class.     ##\n",
    "def linear_ngrams(n, s):\n",
    "    ..."
   ]
  },
  {
   "cell_type": "markdown",
   "metadata": {},
   "source": [
    "次の3つのセルを実行して、コメントにある通りに印字されることを確認せよ。\n",
    "\n",
    "Running the following three cells, confirm that each cell prints a string conforming to its comment."
   ]
  },
  {
   "cell_type": "code",
   "execution_count": null,
   "metadata": {},
   "outputs": [],
   "source": [
    "s = \"\"\"\n",
    "ab\n",
    "c\n",
    "\n",
    "d\n",
    "\n",
    "\"\"\"\n",
    "print(*linear_ngrams(1, s)) # a b c d"
   ]
  },
  {
   "cell_type": "code",
   "execution_count": null,
   "metadata": {},
   "outputs": [],
   "source": [
    "print(*linear_ngrams(2, s)) # ab bc cd"
   ]
  },
  {
   "cell_type": "code",
   "execution_count": null,
   "metadata": {},
   "outputs": [],
   "source": [
    "print(*linear_ngrams(3, s)) # abc bcd"
   ]
  },
  {
   "cell_type": "markdown",
   "metadata": {},
   "source": [
    "もし、入力文字列に対するスライスで$n$-gramを作ろうとすると、もっと煩雑な処理が必要になる。\n",
    "改行を削除した文字列を一旦構築すればスライスを使えるが、その分中間データを多く利用することになる。\n",
    "\n",
    "イテレータに基く計算は一般性があり、追加の処理（例えば改行除去）を加えやすく、プログラムの拡張性が高い。\n",
    "\n",
    "In this case, if we try to construct $n$-grams with string slicing, we would need to write more complicated code.\n",
    "If we preprocess a given string so as to remove all the line breaks, we will be able to write simple code based on string slicing for $n$-gram construction but need to use more space for the intermediate data.\n",
    "\n",
    "Iterator-based code is more general and so extensible that it is composable with additional tasks such as line-break removal."
   ]
  },
  {
   "cell_type": "markdown",
   "metadata": {},
   "source": [
    "## 2. $n$-gramのヒストグラムと統計処理 ($n$-gram histograms and statistics)\n",
    "`ngrams()`の結果を受け取って、$n$-gramのヒストグラムを返す関数`histogram()`を定義せよ。\n",
    "ただし、6-2で定義した`Counter`クラスを使ってヒストグラムを表現することとする。\n",
    "\n",
    "Define a function `histogram()` that takes a result of `ngrams()` and returns the histogram of the $n$-grams, where resultant histograms are represented by `Counter` class defined in 6-1."
   ]
  },
  {
   "cell_type": "code",
   "execution_count": null,
   "metadata": {},
   "outputs": [],
   "source": [
    "## 解答用セル（A cell for answering) ##\n",
    "##===================================##\n",
    "\n",
    "# ヒストグラムを表現するCounterクラス\n",
    "# Counter class for representing histograms\n",
    "class Counter(dict):\n",
    "    def __missing__(self, k):\n",
    "        return 0\n",
    "\n",
    "## 次の関数を完成させよ。            ##\n",
    "## Complete the following function.  ##\n",
    "def histogram(ngs):\n",
    "    ..."
   ]
  },
  {
   "cell_type": "markdown",
   "metadata": {},
   "source": [
    "定義できたら、次のセルを実行したときに、Trueのみが印字されることを確認せよ。\n",
    "\n",
    "After defined, confirm that the following cell run prints only True."
   ]
  },
  {
   "cell_type": "code",
   "execution_count": null,
   "metadata": {},
   "outputs": [],
   "source": [
    "text = 'bananabannerbandana'\n",
    "print(isinstance(histogram(ngrams(1, '')), Counter))\n",
    "print(histogram(ngrams(1, text)) == {'b': 3, 'a': 7, 'n': 6, 'e': 1, 'r': 1, 'd': 1})\n",
    "print(histogram(ngrams(2, text)) == {'ba': 3, 'an': 5, 'na': 3, 'ab': 1, 'nn': 1, 'ne': 1, 'er': 1, 'rb': 1, 'nd': 1, 'da': 1})\n",
    "print(histogram(ngrams(3, text)) == {\n",
    "    'ban': 3, 'ana': 3, 'nan': 1, 'nab': 1, 'aba': 1,  'ann': 1, 'nne': 1, 'ner': 1, 'erb': 1, 'rba': 1, 'and': 1, 'nda': 1, 'dan': 1}) "
   ]
  },
  {
   "cell_type": "markdown",
   "metadata": {},
   "source": [
    "この`Counter`クラスは辞書でもあるので、`items()`メソッドによって項目（キーと値のペア）のコレクションを取得できる。\n",
    "そして、ここでの項目とは、$n$-gramとその出現数のペアとなる。\n",
    "\n",
    "ヒストグラム（`Counter`型）を第1引数、正の整数$k$を第2引数にとって、出現数上位$k$位までの項目を走査するイテレータを返す関数`topk_items()`を定義せよ。\n",
    "ただし、6-1の練習で述べた`topk()`に倣って、同率順位を考慮した上で、for文などを使わずに高階関数を使って定義せよ。\n",
    "\n",
    "Since this `Counter` class is a dictionary class, we can get a collection of items (key-value pairs) through the `items()` method, where an item is a pair of an $n$-gram and the number of its occurrences.\n",
    "\n",
    "Define a function `topk_items()` that takes a histogram (of type `Counter`) as the first parameter and a positive integer $k$ as the second parameter and returns an iterator traversing top-$k$ items regarding the number of occurrences.\n",
    "The `topk_items()` method must take account of the same-rank items and be defined without use of iteration like the `for` statement and with use of high-order functions by referring to the function `topk()` described in 6-1."
   ]
  },
  {
   "cell_type": "code",
   "execution_count": null,
   "metadata": {},
   "outputs": [],
   "source": [
    "## 解答用セル（A cell for answering) ##\n",
    "##===================================##\n",
    "## 次の関数を完成させよ。            ##\n",
    "## Complete the following function.  ##\n",
    "def topk_items(hist, k):\n",
    "    ..."
   ]
  },
  {
   "cell_type": "markdown",
   "metadata": {},
   "source": [
    "次の3つのセルを実行して、コメントにある通りに印字されることを確認せよ。\n",
    "\n",
    "Running the following three cells, confirm that each cell prints a string conforming to its comment."
   ]
  },
  {
   "cell_type": "code",
   "execution_count": null,
   "metadata": {},
   "outputs": [],
   "source": [
    "print(*topk_items(histogram(ngrams(1, text)), 3)) # ('a', 7) ('n', 6) ('b', 3)"
   ]
  },
  {
   "cell_type": "code",
   "execution_count": null,
   "metadata": {},
   "outputs": [],
   "source": [
    "print(*topk_items(histogram(ngrams(2, text)), 3)) # ('an', 5) ('ba', 3) ('na', 3)"
   ]
  },
  {
   "cell_type": "code",
   "execution_count": null,
   "metadata": {},
   "outputs": [],
   "source": [
    "print(*topk_items(histogram(ngrams(3, text)), 3)) # ('ban', 3) ('ana', 3) ('nan', 1) ('nab', 1) ('aba', 1) ('ann', 1) ('nne', 1) ('ner', 1) ('erb', 1) ('rba', 1) ('and', 1) ('nda', 1) ('dan', 1)"
   ]
  },
  {
   "cell_type": "markdown",
   "metadata": {},
   "source": [
    "### ▲Counterクラスの拡張\n",
    "さて、上で定義した`topk_items()`は、第1引数に`Counter`クラスのヒストグラムを取る関数であり、その定義も`Counter`クラスに依存している。\n",
    "つまり、`topk_items()`は、実質的に`Counter`クラスのメソッドの様な働きをする関数である。\n",
    "\n",
    "そこで、`topk_items()`を、`Counter`クラスに、メソッド`topk()`として追加せよ。\n",
    "ただし、既存の`Counter`や`topk_items()`の定義を利用すること。\n",
    "具体的には、***既存定義のコードをコピーせずに***、メソッドを追加せよ。\n",
    "\n",
    "Then, `topk_items()` defined above is a function that takes a histogram of the `Counter` class and whose definition depends on the `Counter` class.\n",
    "This means that `topk_items()` substantially works as a method of the `Counter` class.\n",
    "\n",
    "Now, add `topk_items()` to the `Counter` class as a method `topk()` by using the existing definitions of `Counter` and `topk_items()`.\n",
    "Specifically, you must add the method ***without the code clone of the existing definitions***."
   ]
  },
  {
   "cell_type": "code",
   "execution_count": null,
   "metadata": {},
   "outputs": [],
   "source": [
    "## 解答用セル（A cell for answering) ##\n",
    "##===================================##\n"
   ]
  },
  {
   "cell_type": "markdown",
   "metadata": {},
   "source": [
    "次の3つのセルを実行して、コメントにある通りに印字されることを確認せよ。\n",
    "\n",
    "Running the following three cells, confirm that each cell prints a string conforming to its comment."
   ]
  },
  {
   "cell_type": "code",
   "execution_count": null,
   "metadata": {
    "scrolled": true
   },
   "outputs": [],
   "source": [
    "print(*histogram(ngrams(1, text)).topk(3)) # ('a', 7) ('n', 6) ('b', 3)"
   ]
  },
  {
   "cell_type": "code",
   "execution_count": null,
   "metadata": {},
   "outputs": [],
   "source": [
    "print(*histogram(ngrams(2, text)).topk(3)) # ('an', 5) ('ba', 3) ('na', 3)"
   ]
  },
  {
   "cell_type": "code",
   "execution_count": null,
   "metadata": {},
   "outputs": [],
   "source": [
    "print(*histogram(ngrams(3, text)).topk(3)) # ('ban', 3) ('ana', 3) ('nan', 1) ('nab', 1) ('aba', 1) ('ann', 1) ('nne', 1) ('ner', 1) ('erb', 1) ('rba', 1) ('and', 1) ('nda', 1) ('dan', 1)"
   ]
  },
  {
   "cell_type": "code",
   "execution_count": null,
   "metadata": {},
   "outputs": [],
   "source": []
  }
 ],
 "metadata": {
  "kernelspec": {
   "display_name": "Python 3",
   "language": "python",
   "name": "python3"
  },
  "language_info": {
   "codemirror_mode": {
    "name": "ipython",
    "version": 3
   },
   "file_extension": ".py",
   "mimetype": "text/x-python",
   "name": "python",
   "nbconvert_exporter": "python",
   "pygments_lexer": "ipython3",
   "version": "3.7.1"
  }
 },
 "nbformat": 4,
 "nbformat_minor": 2
}
