{
 "cells": [
  {
   "cell_type": "markdown",
   "metadata": {},
   "source": [
    "# 第6回本課題\n",
    "\n",
    "第3回本課題では$n$-gramの計算を扱ったが、本課題ではイテレータに基づく$n$-gramの計算を扱う。\n",
    "\n",
    "While the third exercise dealt with $n$-gram calculation, this exercise deals with iterator-based $n$-gram calculation and processing."
   ]
  },
  {
   "cell_type": "markdown",
   "metadata": {},
   "source": [
    "## 1. イテレータに基づく$n$-gramの生成 (Iterator-based generation of $n$-grams)\n",
    "まず準備として、6-1の練習で述べた`take()`と同じ引数を取り、`take()`の結果のイテレータが走査しない残りの部分をイテレータで返す`drop()`を定義せよ。\n",
    "\n",
    "As preliminaries, define a function `drop()` that takes the same parameters as `take()` described in 6-1 and returns an iterator that yields the remaining part of the traversal of a resultant iterator of `take()`."
   ]
  },
  {
   "cell_type": "code",
   "execution_count": 1,
   "metadata": {},
   "outputs": [],
   "source": [
    "## 解答用セル（A cell for answering) ##\n",
    "##===================================##\n",
    "## 次の関数を完成させよ。            ##\n",
    "## Complete the following function.  ##\n",
    "def drop(n, xs):\n",
    "    it = map(lambda x, i: x, xs, range(len(xs)))\n",
    "    for i in range(n):\n",
    "        next(it)\n",
    "    return it"
   ]
  },
  {
   "cell_type": "markdown",
   "metadata": {},
   "source": [
    "次の4つのセルを実行して、コメントにある通りに印字されることを確認せよ。\n",
    "尚，最後のテストケースで `False` が印字されることは、`drop()` の返値がイテレータでないことを意味する。\n",
    "\n",
    "Running the following four cells, confirm that each cell prints a string conforming to its comment.\n",
    "Note that it means that the results of `drop()` are not iterators if the last test case prints `False`."
   ]
  },
  {
   "cell_type": "code",
   "execution_count": 2,
   "metadata": {},
   "outputs": [
    {
     "name": "stdout",
     "output_type": "stream",
     "text": [
      "a b c d\n"
     ]
    }
   ],
   "source": [
    "print(*drop(0, 'abcd')) # a b c d"
   ]
  },
  {
   "cell_type": "code",
   "execution_count": 3,
   "metadata": {},
   "outputs": [
    {
     "name": "stdout",
     "output_type": "stream",
     "text": [
      "b c d\n"
     ]
    }
   ],
   "source": [
    "print(*drop(1, 'abcd')) # b c d"
   ]
  },
  {
   "cell_type": "code",
   "execution_count": 4,
   "metadata": {},
   "outputs": [
    {
     "name": "stdout",
     "output_type": "stream",
     "text": [
      "c d\n"
     ]
    }
   ],
   "source": [
    "print(*drop(2, 'abcd')) # c d"
   ]
  },
  {
   "cell_type": "code",
   "execution_count": 5,
   "metadata": {},
   "outputs": [
    {
     "name": "stdout",
     "output_type": "stream",
     "text": [
      "True\n"
     ]
    }
   ],
   "source": [
    "it =  drop(0, '')\n",
    "print(iter(it) == it) # True"
   ]
  },
  {
   "cell_type": "markdown",
   "metadata": {},
   "source": [
    "ではここで、第1引数に正の整数$n$、第2引数に文字列`s`を取り、`s`の$n$-gramを生成するイテレータを返す関数`ngrams()`を、***スライスを使わずに***、`map()`と`drop()`を用いて実装せよ。\n",
    "このとき、6-1の練習で述べた`adjpairs()`を参考にしつつ、$k$-gramのイテレータから$(k+1)$-gramのイテレータを構成することを考えてみよ。\n",
    "\n",
    "Then, define a function `ngrams()` that takes a positive integer $n$ as the first parameter and a string `s` as the second parameter, and returns an iterator yielding the $n$-grams of `s`,  ***without slicing*** and with `map()` and `drop()`.\n",
    "Here, consider constructing a $(k+1)$-gram iterator from a $k$-gram iterator by referring to `adjpairs()` described in 6-1."
   ]
  },
  {
   "cell_type": "code",
   "execution_count": 6,
   "metadata": {},
   "outputs": [],
   "source": [
    "## 解答用セル（A cell for answering) ##\n",
    "##===================================##\n",
    "## 次の関数を完成させよ。            ##\n",
    "## Complete the following function.  ##\n",
    "\n",
    "def ngrams(n, s):\n",
    "    return map(''.join, zip(*(drop(i, s) for i in range(n))))"
   ]
  },
  {
   "cell_type": "markdown",
   "metadata": {},
   "source": [
    "次の4つのセルを実行して、コメントにある通りに印字されることを確認せよ。\n",
    "尚，最後のテストケースで `False` が印字されることは、`ngrams()` の返値がイテレータでないことを意味する。\n",
    "\n",
    "Running the following four cells, confirm that each cell prints a string conforming to its comment.\n",
    "Note that it means that the results of `ngrams()` are not iterators if the last test case prints `False`."
   ]
  },
  {
   "cell_type": "code",
   "execution_count": 7,
   "metadata": {},
   "outputs": [
    {
     "name": "stdout",
     "output_type": "stream",
     "text": [
      "a b c d\n"
     ]
    }
   ],
   "source": [
    "print(*ngrams(1, 'abcd')) # a b c d"
   ]
  },
  {
   "cell_type": "code",
   "execution_count": 8,
   "metadata": {},
   "outputs": [
    {
     "name": "stdout",
     "output_type": "stream",
     "text": [
      "ab bc cd\n"
     ]
    }
   ],
   "source": [
    "print(*ngrams(2, 'abcd')) # ab bc cd"
   ]
  },
  {
   "cell_type": "code",
   "execution_count": 9,
   "metadata": {},
   "outputs": [
    {
     "name": "stdout",
     "output_type": "stream",
     "text": [
      "abc bcd\n"
     ]
    }
   ],
   "source": [
    "print(*ngrams(3, 'abcd')) # abc bcd"
   ]
  },
  {
   "cell_type": "code",
   "execution_count": 10,
   "metadata": {},
   "outputs": [
    {
     "name": "stdout",
     "output_type": "stream",
     "text": [
      "True\n"
     ]
    }
   ],
   "source": [
    "it =  ngrams(1, '')\n",
    "print(iter(it) == it) # True"
   ]
  },
  {
   "cell_type": "markdown",
   "metadata": {},
   "source": [
    "## 2. $n$-gramのヒストグラムと統計処理 ($n$-gram histograms and statistics)\n",
    "`ngrams()`の結果を受け取って、$n$-gramのヒストグラムを返す関数`histogram()`を定義せよ。\n",
    "ただし、6-2で定義した`Counter`クラスを使ってヒストグラムを表現することとする。\n",
    "\n",
    "Define a function `histogram()` that takes a result of `ngrams()` and returns the histogram of the $n$-grams, where resultant histograms are represented by `Counter` class defined in 6-1."
   ]
  },
  {
   "cell_type": "code",
   "execution_count": 11,
   "metadata": {},
   "outputs": [],
   "source": [
    "## 解答用セル（A cell for answering) ##\n",
    "##===================================##\n",
    "\n",
    "# ヒストグラムを表現するCounterクラス\n",
    "# Counter class for representing histograms\n",
    "class Counter(dict):\n",
    "    def __missing__(self, k):\n",
    "        return 0\n",
    "\n",
    "## 次の関数を完成させよ。            ##\n",
    "## Complete the following function.  ##\n",
    "def histogram(ngs):\n",
    "    dic1 = Counter()\n",
    "    lst1 = list(ngs)\n",
    "    for ng in lst1:\n",
    "        dic1[ng] = lst1.count(ng)\n",
    "    return dic1"
   ]
  },
  {
   "cell_type": "markdown",
   "metadata": {},
   "source": [
    "定義できたら、次のセルを実行したときに、Trueのみが印字されることを確認せよ。\n",
    "\n",
    "After defined, confirm that the following cell run prints only True."
   ]
  },
  {
   "cell_type": "code",
   "execution_count": 12,
   "metadata": {},
   "outputs": [
    {
     "name": "stdout",
     "output_type": "stream",
     "text": [
      "True\n",
      "True\n",
      "True\n",
      "True\n"
     ]
    }
   ],
   "source": [
    "text = 'bananabannerbandana'\n",
    "print(isinstance(histogram(ngrams(1, '')), Counter))\n",
    "print(histogram(ngrams(1, text)) == {'b': 3, 'a': 7, 'n': 6, 'e': 1, 'r': 1, 'd': 1})\n",
    "print(histogram(ngrams(2, text)) == {'ba': 3, 'an': 5, 'na': 3, 'ab': 1, 'nn': 1, 'ne': 1, 'er': 1, 'rb': 1, 'nd': 1, 'da': 1})\n",
    "print(histogram(ngrams(3, text)) == {\n",
    "    'ban': 3, 'ana': 3, 'nan': 1, 'nab': 1, 'aba': 1,  'ann': 1, 'nne': 1, 'ner': 1, 'erb': 1, 'rba': 1, 'and': 1, 'nda': 1, 'dan': 1}) "
   ]
  },
  {
   "cell_type": "code",
   "execution_count": 14,
   "metadata": {},
   "outputs": [
    {
     "name": "stdout",
     "output_type": "stream",
     "text": [
      "{}\n",
      "ba an na an na ab ba an nn ne er rb ba an nd da an na\n",
      "{'ba': 3, 'an': 5, 'na': 3, 'ab': 1, 'nn': 1, 'ne': 1, 'er': 1, 'rb': 1, 'nd': 1, 'da': 1}\n"
     ]
    }
   ],
   "source": [
    "print(histogram(ngrams(1, '')))\n",
    "print(*ngrams(2, text))\n",
    "print(histogram(ngrams(2, text)))"
   ]
  },
  {
   "cell_type": "markdown",
   "metadata": {},
   "source": [
    "この`Counter`クラスは辞書でもあるので、`items()`メソッドによって項目（キーと値のペア）のコレクションを取得できる。\n",
    "そして、ここでの項目とは、$n$-gramとその出現数のペアとなる。\n",
    "\n",
    "ヒストグラム（`Counter`型）を第1引数、正の整数$k$を第2引数にとって、出現数上位$k$位までの項目を走査するイテレータを返す関数`topk_items()`を定義せよ。\n",
    "ただし、6-1の練習で述べた`topk()`に倣って、同率順位を考慮した上で、for文などを使わずに高階関数を使って定義せよ。\n",
    "\n",
    "Since this `Counter` class is a dictionary class, we can get a collection of items (key-value pairs) through the `items()` method, where an item is a pair of an $n$-gram and the number of its occurrences.\n",
    "\n",
    "Define a function `topk_items()` that takes a histogram (of type `Counter`) as the first parameter and a positive integer $k$ as the second parameter and returns an iterator traversing top-$k$ items regarding the number of occurrences.\n",
    "The `topk_items()` method must take account of the same-rank items and be defined without use of iteration like the `for` statement and with use of high-order functions by referring to the function `topk()` described in 6-1."
   ]
  },
  {
   "cell_type": "code",
   "execution_count": 15,
   "metadata": {},
   "outputs": [],
   "source": [
    "## 解答用セル（A cell for answering) ##\n",
    "##===================================##\n",
    "## 次の関数を完成させよ。            ##\n",
    "## Complete the following function.  ##\n",
    "def topk_items(hist, k):\n",
    "    import itertools\n",
    "    hist_sorted = sorted(hist.items(), key=lambda x:x[1], reverse=True)\n",
    "    return itertools.takewhile(lambda x: x[1] >= hist_sorted[k-1][1], hist_sorted)"
   ]
  },
  {
   "cell_type": "markdown",
   "metadata": {},
   "source": [
    "次の3つのセルを実行して、コメントにある通りに印字されることを確認せよ。\n",
    "\n",
    "Running the following three cells, confirm that each cell prints a string conforming to its comment."
   ]
  },
  {
   "cell_type": "code",
   "execution_count": 16,
   "metadata": {},
   "outputs": [
    {
     "name": "stdout",
     "output_type": "stream",
     "text": [
      "('a', 7) ('n', 6) ('b', 3)\n"
     ]
    }
   ],
   "source": [
    "print(*topk_items(histogram(ngrams(1, text)), 3)) # ('a', 7) ('n', 6) ('b', 3)"
   ]
  },
  {
   "cell_type": "code",
   "execution_count": 17,
   "metadata": {},
   "outputs": [
    {
     "name": "stdout",
     "output_type": "stream",
     "text": [
      "('an', 5) ('ba', 3) ('na', 3)\n"
     ]
    }
   ],
   "source": [
    "print(*topk_items(histogram(ngrams(2, text)), 3)) # ('an', 5) ('ba', 3) ('na', 3)"
   ]
  },
  {
   "cell_type": "code",
   "execution_count": 18,
   "metadata": {},
   "outputs": [
    {
     "name": "stdout",
     "output_type": "stream",
     "text": [
      "('ban', 3) ('ana', 3) ('nan', 1) ('nab', 1) ('aba', 1) ('ann', 1) ('nne', 1) ('ner', 1) ('erb', 1) ('rba', 1) ('and', 1) ('nda', 1) ('dan', 1)\n"
     ]
    }
   ],
   "source": [
    "print(*topk_items(histogram(ngrams(3, text)), 3)) # ('ban', 3) ('ana', 3) ('nan', 1) ('nab', 1) ('aba', 1) ('ann', 1) ('nne', 1) ('ner', 1) ('erb', 1) ('rba', 1) ('and', 1) ('nda', 1) ('dan', 1)"
   ]
  }
 ],
 "metadata": {
  "kernelspec": {
   "display_name": "Python 3",
   "language": "python",
   "name": "python3"
  },
  "language_info": {
   "codemirror_mode": {
    "name": "ipython",
    "version": 3
   },
   "file_extension": ".py",
   "mimetype": "text/x-python",
   "name": "python",
   "nbconvert_exporter": "python",
   "pygments_lexer": "ipython3",
   "version": "3.7.3"
  }
 },
 "nbformat": 4,
 "nbformat_minor": 2
}
